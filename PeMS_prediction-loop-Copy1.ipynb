{
 "cells": [
  {
   "cell_type": "code",
   "execution_count": 1,
   "metadata": {},
   "outputs": [],
   "source": [
    "import os\n",
    "#os.environ[\"CUDA_VISIBLE_DEVICES\"] = \"-1\"\n",
    "import datetime\n",
    "import time\n",
    "\n",
    "import IPython\n",
    "import IPython.display\n",
    "import matplotlib as mpl\n",
    "import matplotlib.pyplot as plt\n",
    "import numpy as np\n",
    "import pandas as pd\n",
    "import seaborn as sns\n",
    "import tensorflow as tf\n",
    "\n",
    "import sys\n",
    "\n",
    "import csv\n",
    "\n",
    "mpl.rcParams['figure.figsize'] = (8, 6)\n",
    "mpl.rcParams['axes.grid'] = False"
   ]
  },
  {
   "cell_type": "code",
   "execution_count": 2,
   "metadata": {},
   "outputs": [],
   "source": [
    "#csvのパスを設定\n",
    "csv_path = \"C:\\\\Users\\\\meida\\\\lab_materials\\\\M1\\\\pems\\\\data\\\\integrated_route.csv\"\n",
    "#corr_path = \"C:\\\\Users\\\\meida\\\\lab_materials\\\\M1\\\\pems\\\\data\\\\corr.csv\""
   ]
  },
  {
   "cell_type": "code",
   "execution_count": 3,
   "metadata": {},
   "outputs": [],
   "source": [
    "df = pd.read_csv(csv_path,index_col=0)\n",
    "# Slice [start:stop:step], starting from index 5 take every 6th record.\n",
    "#df = df[5::6]\n",
    "df = df.dropna(axis=1)\n",
    "date_time = pd.to_datetime(df.pop('5 Minutes'), format='%Y.%m.%d %H:%M:%S')"
   ]
  },
  {
   "cell_type": "code",
   "execution_count": 4,
   "metadata": {},
   "outputs": [],
   "source": [
    "#相関係数0.8以上（11個）\n",
    "#df = df.loc[:,['11750', '18828', '18830', '275', '4649', '4651', '6224', '6225', '78','79', '81']]\n",
    "\n",
    "#近くの経路（96個）\n",
    "#df = df.loc[:,['11750', \"4649\",\"79\",\"6225\",\"18830\",\"81\",\"275\",\"78\",\"18828\",\"6224\",\"19835\",\"2132\",\"14467\",\"4648\",\"77\",\"82\",\"80\",\"372\",\"19837\",\"6670\",\"86\",\"6218\",\"6221\",\"271\",\"6679\",\"18862\",\"18846\",\"85\",\"6680\",\"18860\",\"6215\",\"274\",\"13867\",\"18852\",\"276\",\"2135\",\"6220\",\"6202\",\"365\",\"6678\",\"366\",\"413\",\"359\",\"18820\",\"88\",\"379\",\"16207\",\"360\",\"6701\",\"6669\",\"6203\",\"19979\",\"367\",\"6216\",\"6616\",\"6700\",\"6662\",\"6214\",\"272\",\"361\",\"6606\",\"2131\",\"2134\",\"363\",\"18822\",\"87\",\"6665\",\"22622\",\"6200\",\"6666\",\"18850\",\"6217\",\"18832\",\"6671\",\"6604\",\"6605\",\"6219\",\"6663\",\"3394\",\"19981\",\"6201\",\"6601\",\"6675\",\"362\",\"18854\",\"18856\",\"18834\",\"6600\",\"6603\",\"6602\",\"6705\",\"6664\",\"6615\",\"6674\",\"6673\",\"18858\"]]\n",
    "\n",
    "#相関係数0.7以上（77個）\n",
    "#df = df.loc[:,['11750', '13147', '13867', '14467', '16507', '16509', '16510', '16511','18174', '18824', '18828', '18830', '18836', '18838', '18840', '18846','18852', '18860', '18862', '18868', '18872', '19835', '19837', '19839','19955', '20274', '2132', '2133', '2135', '271', '274', '275', '276','358', '365', '366', '369', '372', '373', '412', '425', '434', '4647','4648', '4649', '4650', '4651', '471', '571', '6202', '6210', '6212', '6215', '6218', '6220', '6221', '6222', '6224', '6225', '6226', '6227','6641', '6670', '6677', '6678', '6679', '6680', '6723', '77', '78','79', '80', '81', '82', '83', '85', '86']]\n",
    "\n",
    "#ＤＴＷで11個選ぶ\n",
    "#df = df.loc[:,['11750','4649','79','6225','18830','6224','18828','81','18174','4651','16507']]"
   ]
  },
  {
   "cell_type": "code",
   "execution_count": 5,
   "metadata": {},
   "outputs": [],
   "source": [
    "shift = 6\n",
    "n_input = 30\n",
    "input_width = 24\n",
    "ran = 200"
   ]
  },
  {
   "cell_type": "code",
   "execution_count": 6,
   "metadata": {},
   "outputs": [],
   "source": [
    "def split_window(self, features):\n",
    "  inputs = features[:, self.input_slice, :]\n",
    "  labels = features[:, self.labels_slice, :]\n",
    "  if self.label_columns is not None:\n",
    "    labels = tf.stack(\n",
    "        [labels[:, :, self.column_indices[name]] for name in self.label_columns],\n",
    "        axis=-1)\n",
    "\n",
    "  # Slicing doesn't preserve static shape information, so set the shapes\n",
    "  # manually. This way the `tf.data.Datasets` are easier to inspect.\n",
    "  inputs.set_shape([None, self.input_width, None])\n",
    "  labels.set_shape([None, self.label_width, None])\n",
    "\n",
    "  return inputs, labels\n",
    "\n"
   ]
  },
  {
   "cell_type": "code",
   "execution_count": 7,
   "metadata": {},
   "outputs": [],
   "source": [
    "def make_dataset(self, data):\n",
    "  data = np.array(data, dtype=np.float32)\n",
    "  ds = tf.keras.preprocessing.timeseries_dataset_from_array(\n",
    "      data=data,\n",
    "      targets=None,\n",
    "      sequence_length=self.total_window_size,\n",
    "      sequence_stride=1,\n",
    "      shuffle=True,\n",
    "      batch_size=32,)\n",
    "\n",
    "  ds = ds.map(self.split_window)\n",
    "\n",
    "  return ds"
   ]
  },
  {
   "cell_type": "code",
   "execution_count": 8,
   "metadata": {},
   "outputs": [],
   "source": [
    "def make_test_dataset(self, data):\n",
    "  data = np.array(data, dtype=np.float32)\n",
    "  ds = tf.keras.preprocessing.timeseries_dataset_from_array(\n",
    "      data=data,\n",
    "      targets=None,\n",
    "      sequence_length=self.total_window_size,\n",
    "      sequence_stride=1,\n",
    "      shuffle=False,\n",
    "      batch_size=32,)\n",
    "\n",
    "  ds = ds.map(self.split_window)\n",
    "\n",
    "  return ds\n",
    "\n"
   ]
  },
  {
   "cell_type": "code",
   "execution_count": 9,
   "metadata": {},
   "outputs": [],
   "source": [
    "@property\n",
    "def train(self):\n",
    "  return self.make_dataset(self.train_df)\n",
    "\n",
    "@property\n",
    "def val(self):\n",
    "  return self.make_dataset(self.val_df)\n",
    "\n",
    "@property\n",
    "def test(self):\n",
    "  return self.make_test_dataset(self.test_df)\n",
    "\n",
    "@property\n",
    "def example(self):\n",
    "  \"\"\"Get and cache an example batch of `inputs, labels` for plotting.\"\"\"\n",
    "  result = getattr(self, '_example', None)\n",
    "  if result is None:\n",
    "    # No example batch was found, so get one from the `.train` dataset\n",
    "    result = next(iter(self.train))\n",
    "    # And cache it for next time\n",
    "    self._example = result\n",
    "  return result\n",
    "\n"
   ]
  },
  {
   "cell_type": "code",
   "execution_count": 10,
   "metadata": {},
   "outputs": [],
   "source": [
    "class Baseline(tf.keras.Model):\n",
    "  def __init__(self, label_index=None):\n",
    "    super().__init__()\n",
    "    self.label_index = label_index\n",
    "\n",
    "  def call(self, inputs):\n",
    "    if self.label_index is None:\n",
    "      return inputs\n",
    "    result = inputs[:, :, self.label_index]\n",
    "    return result[:, :, tf.newaxis]"
   ]
  },
  {
   "cell_type": "code",
   "execution_count": 11,
   "metadata": {},
   "outputs": [],
   "source": [
    "MAX_EPOCHS = 20\n",
    "\n",
    "def compile_and_fit(model, window, patience=2):\n",
    "  early_stopping = tf.keras.callbacks.EarlyStopping(monitor='val_loss',\n",
    "                                                    patience=patience,\n",
    "                                                    mode='min')\n",
    "  model.compile(loss=tf.losses.MeanSquaredError(),\n",
    "                optimizer=tf.optimizers.Adam(),\n",
    "                metrics=[tf.keras.metrics.RootMeanSquaredError()])\n",
    "                #metrics=[tf.metrics.MeanAbsoluteError()])\n",
    "\n",
    "  start = time.time()\n",
    "  history = model.fit(window.train, epochs=MAX_EPOCHS,\n",
    "                      validation_data=window.val\n",
    "                      #callbacks=[early_stopping]\n",
    "                     )\n",
    "  run_time = time.time() - start\n",
    "  return history,run_time"
   ]
  },
  {
   "cell_type": "code",
   "execution_count": 12,
   "metadata": {},
   "outputs": [],
   "source": [
    "def process1(df, target):\n",
    "    column_indices = {name: i for i, name in enumerate(df.columns)}\n",
    "\n",
    "    n = len(df)\n",
    "    train_df = df[0:int(n*0.7)]\n",
    "    val_df = df[int(n*0.7):int(n*0.9)]\n",
    "    test_df = df[int(n*0.9):]\n",
    "\n",
    "    num_features = df.shape[1]\n",
    "    \n",
    "    train_mean = train_df.mean()\n",
    "    train_std = train_df.std()\n",
    "\n",
    "    train_df = (train_df - train_mean) / train_std\n",
    "    val_df = (val_df - train_mean) / train_std\n",
    "    test_df = (test_df - train_mean) / train_std\n",
    "    \n",
    "    df_std = (df - train_mean) / train_std\n",
    "    df_std = df_std.melt(var_name='Column', value_name='Normalized')\n",
    "    \n",
    "    class WindowGenerator():\n",
    "      def __init__(self, input_width, label_width, shift,\n",
    "                   train_df=train_df, val_df=val_df, test_df=test_df,\n",
    "                   label_columns=None):\n",
    "        # Store the raw data.\n",
    "        self.train_df = train_df\n",
    "        self.val_df = val_df\n",
    "        self.test_df = test_df\n",
    "\n",
    "        # Work out the label column indices.\n",
    "        self.label_columns = label_columns\n",
    "        if label_columns is not None:\n",
    "          self.label_columns_indices = {name: i for i, name in\n",
    "                                        enumerate(label_columns)}\n",
    "        self.column_indices = {name: i for i, name in\n",
    "                               enumerate(train_df.columns)}\n",
    "\n",
    "        # Work out the window parameters.\n",
    "        self.input_width = input_width\n",
    "        self.label_width = label_width\n",
    "        self.shift = shift\n",
    "\n",
    "        self.total_window_size = input_width + shift\n",
    "\n",
    "        self.input_slice = slice(0, input_width)\n",
    "        self.input_indices = np.arange(self.total_window_size)[self.input_slice]\n",
    "\n",
    "        self.label_start = self.total_window_size - self.label_width\n",
    "        self.labels_slice = slice(self.label_start, None)\n",
    "        self.label_indices = np.arange(self.total_window_size)[self.labels_slice]\n",
    "\n",
    "      def __repr__(self):\n",
    "        return '\\n'.join([\n",
    "            f'Total window size: {self.total_window_size}',\n",
    "            f'Input indices: {self.input_indices}',\n",
    "            f'Label indices: {self.label_indices}',\n",
    "            f'Label column name(s): {self.label_columns}'])\n",
    "    w2 = WindowGenerator(input_width=6, label_width=1, shift=1,\n",
    "                     label_columns=[target])\n",
    "    \n",
    "    WindowGenerator.split_window = split_window\n",
    "    \n",
    "    # Stack three slices, the length of the total window.\n",
    "    example_window = tf.stack([np.array(train_df[:w2.total_window_size]),\n",
    "                               np.array(train_df[100:100+w2.total_window_size]),\n",
    "                               np.array(train_df[200:200+w2.total_window_size])])\n",
    "\n",
    "    example_inputs, example_labels = w2.split_window(example_window)\n",
    "\n",
    "    w2.example = example_inputs, example_labels\n",
    "    \n",
    "    WindowGenerator.make_dataset = make_dataset\n",
    "    WindowGenerator.make_test_dataset = make_test_dataset\n",
    "    \n",
    "    WindowGenerator.train = train\n",
    "    WindowGenerator.val = val\n",
    "    WindowGenerator.test = test\n",
    "    WindowGenerator.example = example\n",
    "    \n",
    "    single_step_window = WindowGenerator(\n",
    "    input_width=1, label_width=1, shift=1,\n",
    "    label_columns=[target])\n",
    "\n",
    "\n",
    "    val_performance = {}\n",
    "    performance = {}\n",
    "    \n",
    "    \n",
    "    wide_window = WindowGenerator(\n",
    "        input_width=input_width, label_width=1, shift=shift,\n",
    "        label_columns=[target])\n",
    "\n",
    "    #wide_window = WindowGenerator(\n",
    "    #input_width=24, label_width=24, shift=1,\n",
    "    #label_columns=[target])\n",
    "    \n",
    "    lstm_model = tf.keras.models.Sequential([\n",
    "    # Shape [batch, time, features] => [batch, time, lstm_units]\n",
    "    #tf.keras.layers.LSTM(300, return_sequences=True),\n",
    "    #tf.keras.layers.LSTM(32, return_sequences=True),\n",
    "    #tf.keras.layers.LSTM(32, return_sequences=True),\n",
    "    #tf.keras.layers.LSTM(32, return_sequences=True),\n",
    "    #tf.keras.layers.LSTM(32, return_sequences=True),\n",
    "    tf.keras.layers.LSTM(128, return_sequences=False),\n",
    "    # Shape => [batch, time, features]\n",
    "    tf.keras.layers.Dense(units=1)\n",
    "    ])\n",
    "    \n",
    "    history,run_time = compile_and_fit(lstm_model, wide_window)\n",
    "    IPython.display.clear_output()\n",
    "    val_performance['LSTM'] = lstm_model.evaluate(wide_window.val)\n",
    "    performance['LSTM'] = lstm_model.evaluate(wide_window.test, verbose=0)\n",
    "    lstm_predict = lstm_model.predict(wide_window.test, verbose=0)\n",
    "    \n",
    "    plt.plot([i for i in range(ran)],test_df[target][input_width+shift-1:ran+input_width+shift-1],color=\"red\")\n",
    "    plt.plot([i for i in range(ran)],np.ravel(lstm_predict[0:ran]),color=\"blue\")\n",
    "    plt.show()\n",
    "    \n",
    "    del df,df_std,test_df,train_df,train_mean,train_std,val_df\n",
    "    \n",
    "    return run_time,val_performance['LSTM'][1],performance['LSTM'][1]"
   ]
  },
  {
   "cell_type": "code",
   "execution_count": 13,
   "metadata": {},
   "outputs": [],
   "source": [
    "output_path = \"C:\\\\Users\\\\meida\\\\lab_materials\\\\M1\\\\pems\\\\output\\\\xcorr_top_30.csv\""
   ]
  },
  {
   "cell_type": "code",
   "execution_count": 14,
   "metadata": {},
   "outputs": [],
   "source": [
    "with open(output_path,\"w\") as f:\n",
    "    writer = csv.writer(f)\n",
    "    writer.writerow([\"route\",\"runtime\",\"val_performance\",\"performance\",\"input\",\"input_num\"])"
   ]
  },
  {
   "cell_type": "markdown",
   "metadata": {},
   "source": [
    "## 相関係数で特徴選択"
   ]
  },
  {
   "cell_type": "markdown",
   "metadata": {},
   "source": [
    "def select_index(target):\n",
    "\n",
    "    #相関係数\n",
    "    corrs = []\n",
    "    for c in df.columns:\n",
    "        corr = np.corrcoef(df[c],df[target])[0,1]\n",
    "        corrs.append(corr)\n",
    "    corrs = np.array(corrs)\n",
    "\n",
    "    #重要度の上位を出力\n",
    "    idx_corrs = np.argsort(np.abs(corrs))[::-1]\n",
    "    top_cols_corrs,top_importances_corrs = df.columns.values[idx_corrs][:n_input],corrs[idx_corrs][:n_input]\n",
    "    print(top_cols_corrs,top_importances_corrs)\n",
    "\n",
    "    top_cols_select = top_cols_corrs\n",
    "    \n",
    "    return top_cols_select\n",
    "    #return [str(target)]"
   ]
  },
  {
   "cell_type": "markdown",
   "metadata": {},
   "source": [
    "## 相互相関係数で特徴選択"
   ]
  },
  {
   "cell_type": "code",
   "execution_count": 15,
   "metadata": {},
   "outputs": [],
   "source": [
    "def select_index(target):\n",
    "\n",
    "    #相互相関関数\n",
    "    corrs = []\n",
    "    lags = []\n",
    "    for c in df.columns:\n",
    "        xcorr_list = xcorr(df[target],df[c])\n",
    "        lag = np.argmax(np.abs(xcorr_list))\n",
    "        lags.append(lag)\n",
    "        corr = corr_lag(df[target],df[c],lag)\n",
    "        corrs.append(corr)\n",
    "    corrs = np.array(corrs)\n",
    "    lags = np.array(lags) #targetと各routeでのラグを格納\n",
    "    \n",
    "    #重要度の上位を出力\n",
    "    idx_corrs = np.argsort(np.abs(corrs))[::-1]\n",
    "    top_cols_corrs,top_importances_corrs,lags = df.columns.values[idx_corrs][:n_input],corrs[idx_corrs][:n_input],lags[idx_corrs][:n_input]\n",
    "    print(top_cols_corrs,top_importances_corrs,lags)\n",
    "    \n",
    "    #targetのインデックスを追加\n",
    "    if not target in top_cols_corrs:\n",
    "        top_cols_corrs = np.append(top_cols_corrs,target)\n",
    "    \n",
    "    top_cols_select = top_cols_corrs\n",
    "    \n",
    "    return top_cols_select\n",
    "    #return [str(target)]\n",
    "    \n",
    "def xcorr(target,c):\n",
    "    xcorr_list = []\n",
    "    #margin = np.zeros(24)\n",
    "    #target = np.block([target,margin])\n",
    "    #c = np.block([margin,c])\n",
    "    \n",
    "    for t in range(24):\n",
    "        score = np.dot(target[t:],c[:len(c)-t])/(len(target)-t)\n",
    "        xcorr_list.append(score)\n",
    "        \n",
    "    return xcorr_list\n",
    "\n",
    "def corr_lag(target,c,lag):\n",
    "    return np.corrcoef(target[lag:],c[:len(c)-lag])[0,1]"
   ]
  },
  {
   "cell_type": "markdown",
   "metadata": {},
   "source": [
    "## 相関○○以上"
   ]
  },
  {
   "cell_type": "markdown",
   "metadata": {},
   "source": [
    "for target in df.columns:\n",
    "    #corr_index = df.index.values\n",
    "    corr_index = []\n",
    "    index_list = df_corr[df_corr[target]>thre].index.values\n",
    "    for i in index_list:\n",
    "        corr_index.append(str(i))\n",
    "    df_input = df.loc[:,corr_index]\n",
    "    \n",
    "    print(target)\n",
    "    print(df_input.columns)\n",
    "    run_time, val_performance, performance = process1(df_input,target)\n",
    "    print(run_time)\n",
    "    #print(val_performance)\n",
    "    print(performance)\n",
    "    \n",
    "    output = []\n",
    "    output.append(target)\n",
    "    output.append(run_time)\n",
    "    output.append(val_performance)\n",
    "    output.append(performance)\n",
    "    output.append(corr_index)\n",
    "    output.append(len(corr_index))\n",
    "    \n",
    "    with open(output_path,\"a\") as f:\n",
    "        writer = csv.writer(f)\n",
    "        writer.writerow(output)"
   ]
  },
  {
   "cell_type": "markdown",
   "metadata": {},
   "source": [
    "## 相関上位○○個"
   ]
  },
  {
   "cell_type": "code",
   "execution_count": null,
   "metadata": {},
   "outputs": [
    {
     "name": "stdout",
     "output_type": "stream",
     "text": [
      "500/500 [==============================] - 2s 3ms/step - loss: 0.0189 - root_mean_squared_error: 0.1374\n"
     ]
    },
    {
     "data": {
      "image/png": "[encoded data removed]",
      "text/plain": [
       "<Figure size 576x432 with 1 Axes>"
      ]
     },
     "metadata": {
      "needs_background": "light"
     },
     "output_type": "display_data"
    },
    {
     "name": "stdout",
     "output_type": "stream",
     "text": [
      "247.5281059741974\n",
      "0.1447020173072815\n",
      "['14467' '372' '19835' '19837' '18828' '6224' '6225' '18830' '78' '77'\n",
      " '271' '16509' '6215' '18846' '83' '13867' '18860' '6221' '6679' '18862'\n",
      " '6680' '6677' '6212' '2133' '6650' '6220' '4651' '6723' '16507' '275'] [1.         0.97521698 0.96807688 0.90893136 0.9043274  0.9033354\n",
      " 0.89834062 0.89653398 0.89613815 0.88720818 0.88655182 0.8848853\n",
      " 0.88373009 0.88194992 0.87785224 0.87347286 0.87177847 0.87158165\n",
      " 0.8714746  0.87137382 0.8699773  0.86983293 0.86915785 0.86663958\n",
      " 0.86655479 0.86575266 0.86429483 0.86338238 0.8627926  0.86214208] [0 0 2 0 6 6 4 4 5 0 0 1 0 0 0 0 0 0 0 0 0 0 0 4 0 0 1 0 2 0]\n",
      "14467\n",
      "Index(['14467', '372', '19835', '19837', '18828', '6224', '6225', '18830',\n",
      "       '78', '77', '271', '16509', '6215', '18846', '83', '13867', '18860',\n",
      "       '6221', '6679', '18862', '6680', '6677', '6212', '2133', '6650', '6220',\n",
      "       '4651', '6723', '16507', '275'],\n",
      "      dtype='object')\n",
      "Epoch 1/20\n",
      "1752/1752 [==============================] - 15s 7ms/step - loss: 0.0667 - root_mean_squared_error: 0.2583 - val_loss: 0.0567 - val_root_mean_squared_error: 0.2382\n",
      "Epoch 2/20\n",
      "1752/1752 [==============================] - 12s 7ms/step - loss: 0.0465 - root_mean_squared_error: 0.2156 - val_loss: 0.0620 - val_root_mean_squared_error: 0.2489\n",
      "Epoch 3/20\n",
      "1752/1752 [==============================] - 12s 7ms/step - loss: 0.0426 - root_mean_squared_error: 0.2063 - val_loss: 0.0576 - val_root_mean_squared_error: 0.2400\n",
      "Epoch 4/20\n",
      "1438/1752 [=======================>......] - ETA: 2s - loss: 0.0389 - root_mean_squared_error: 0.1972"
     ]
    }
   ],
   "source": [
    "for target in df.columns:\n",
    "    top_cols_select = select_index(target)\n",
    "    df_input = df[top_cols_select]\n",
    "    \n",
    "    print(target)\n",
    "    print(df_input.columns)\n",
    "    run_time, val_performance, performance = process1(df_input,target)\n",
    "    print(run_time)\n",
    "    #print(val_performance)\n",
    "    print(performance)\n",
    "    \n",
    "    output = []\n",
    "    output.append(target)\n",
    "    output.append(run_time)\n",
    "    output.append(val_performance)\n",
    "    output.append(performance)\n",
    "    output.append(top_cols_select)\n",
    "    output.append(len(top_cols_select))\n",
    "    \n",
    "    with open(output_path,\"a\") as f:\n",
    "        writer = csv.writer(f)\n",
    "        writer.writerow(output)"
   ]
  },
  {
   "cell_type": "code",
   "execution_count": null,
   "metadata": {},
   "outputs": [],
   "source": []
  },
  {
   "cell_type": "code",
   "execution_count": null,
   "metadata": {},
   "outputs": [],
   "source": []
  },
  {
   "cell_type": "raw",
   "metadata": {},
   "source": []
  },
  {
   "cell_type": "markdown",
   "metadata": {},
   "source": []
  }
 ],
 "metadata": {
  "kernelspec": {
   "display_name": "Python 3",
   "language": "python",
   "name": "python3"
  },
  "language_info": {
   "codemirror_mode": {
    "name": "ipython",
    "version": 3
   },
   "file_extension": ".py",
   "mimetype": "text/x-python",
   "name": "python",
   "nbconvert_exporter": "python",
   "pygments_lexer": "ipython3",
   "version": "3.8.3"
  }
 },
 "nbformat": 4,
 "nbformat_minor": 5
}
