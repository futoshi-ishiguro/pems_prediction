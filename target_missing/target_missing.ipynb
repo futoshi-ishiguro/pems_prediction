{
 "cells": [
  {
   "cell_type": "code",
   "execution_count": 1,
   "id": "4ffb587d-70cf-4f08-99c8-770875d46a33",
   "metadata": {},
   "outputs": [],
   "source": [
    "import tensorflow as tf\n",
    "from tensorflow.keras.models import Sequential\n",
    "from tensorflow.keras.layers import Dense, Activation\n",
    "from tensorflow.keras.layers import LSTM\n",
    "from tensorflow.keras.optimizers import Adam\n",
    "from tensorflow.keras.callbacks import EarlyStopping\n",
    "import numpy as np\n",
    "import pandas as pd\n",
    "import matplotlib.pyplot as plt"
   ]
  },
  {
   "cell_type": "code",
   "execution_count": 2,
   "id": "0e6076ac-e9d2-4cec-812b-9ffbfc272d86",
   "metadata": {},
   "outputs": [],
   "source": [
    "#csvのパスを設定\n",
    "csv_path = \"/Users/ishigurofutoshi/lab_materials/data/integrated_route.csv\""
   ]
  },
  {
   "cell_type": "code",
   "execution_count": 3,
   "id": "bcab7dc2",
   "metadata": {},
   "outputs": [],
   "source": [
    "df = pd.read_csv(csv_path,index_col=0)\n",
    "# Slice [start:stop:step], starting from index 5 take every 6th record.\n",
    "#df = df[5::6]\n",
    "df = df.dropna(axis=1)\n",
    "date_time = pd.to_datetime(df.pop('5 Minutes'), format='%Y.%m.%d %H:%M:%S')"
   ]
  },
  {
   "cell_type": "code",
   "execution_count": 4,
   "id": "33010c9c",
   "metadata": {},
   "outputs": [],
   "source": [
    "target = \"79\"\n",
    "n_input = 10\n",
    "index_target = df.columns.get_loc(target)\n",
    "n_min_ahead = 3\n",
    "window_len = 24"
   ]
  },
  {
   "cell_type": "code",
   "execution_count": 5,
   "id": "51601f93",
   "metadata": {},
   "outputs": [
    {
     "data": {
      "text/html": [
       "<div>\n",
       "<style scoped>\n",
       "    .dataframe tbody tr th:only-of-type {\n",
       "        vertical-align: middle;\n",
       "    }\n",
       "\n",
       "    .dataframe tbody tr th {\n",
       "        vertical-align: top;\n",
       "    }\n",
       "\n",
       "    .dataframe thead th {\n",
       "        text-align: right;\n",
       "    }\n",
       "</style>\n",
       "<table border=\"1\" class=\"dataframe\">\n",
       "  <thead>\n",
       "    <tr style=\"text-align: right;\">\n",
       "      <th></th>\n",
       "      <th>11750</th>\n",
       "      <th>13147</th>\n",
       "      <th>13867</th>\n",
       "      <th>14467</th>\n",
       "      <th>14987</th>\n",
       "      <th>16207</th>\n",
       "      <th>16507</th>\n",
       "      <th>16509</th>\n",
       "      <th>16510</th>\n",
       "      <th>16511</th>\n",
       "      <th>...</th>\n",
       "      <th>79</th>\n",
       "      <th>80</th>\n",
       "      <th>81</th>\n",
       "      <th>82</th>\n",
       "      <th>83</th>\n",
       "      <th>84</th>\n",
       "      <th>85</th>\n",
       "      <th>86</th>\n",
       "      <th>87</th>\n",
       "      <th>88</th>\n",
       "    </tr>\n",
       "  </thead>\n",
       "  <tbody>\n",
       "    <tr>\n",
       "      <th>0</th>\n",
       "      <td>16.88</td>\n",
       "      <td>34.90</td>\n",
       "      <td>8.62</td>\n",
       "      <td>19.35</td>\n",
       "      <td>7.00</td>\n",
       "      <td>21.43</td>\n",
       "      <td>30.88</td>\n",
       "      <td>30.22</td>\n",
       "      <td>35.87</td>\n",
       "      <td>40.30</td>\n",
       "      <td>...</td>\n",
       "      <td>30.15</td>\n",
       "      <td>29.38</td>\n",
       "      <td>36.30</td>\n",
       "      <td>35.93</td>\n",
       "      <td>11.78</td>\n",
       "      <td>11.87</td>\n",
       "      <td>16.80</td>\n",
       "      <td>16.73</td>\n",
       "      <td>15.92</td>\n",
       "      <td>12.12</td>\n",
       "    </tr>\n",
       "    <tr>\n",
       "      <th>1</th>\n",
       "      <td>16.97</td>\n",
       "      <td>34.87</td>\n",
       "      <td>8.65</td>\n",
       "      <td>19.35</td>\n",
       "      <td>7.00</td>\n",
       "      <td>21.42</td>\n",
       "      <td>30.87</td>\n",
       "      <td>29.98</td>\n",
       "      <td>35.92</td>\n",
       "      <td>40.37</td>\n",
       "      <td>...</td>\n",
       "      <td>30.15</td>\n",
       "      <td>29.37</td>\n",
       "      <td>36.37</td>\n",
       "      <td>35.88</td>\n",
       "      <td>11.82</td>\n",
       "      <td>11.88</td>\n",
       "      <td>16.80</td>\n",
       "      <td>16.78</td>\n",
       "      <td>15.87</td>\n",
       "      <td>12.12</td>\n",
       "    </tr>\n",
       "    <tr>\n",
       "      <th>2</th>\n",
       "      <td>16.98</td>\n",
       "      <td>34.95</td>\n",
       "      <td>8.67</td>\n",
       "      <td>19.38</td>\n",
       "      <td>7.00</td>\n",
       "      <td>21.43</td>\n",
       "      <td>30.82</td>\n",
       "      <td>30.07</td>\n",
       "      <td>36.02</td>\n",
       "      <td>40.43</td>\n",
       "      <td>...</td>\n",
       "      <td>30.17</td>\n",
       "      <td>29.27</td>\n",
       "      <td>36.23</td>\n",
       "      <td>35.88</td>\n",
       "      <td>11.82</td>\n",
       "      <td>12.07</td>\n",
       "      <td>16.83</td>\n",
       "      <td>16.77</td>\n",
       "      <td>15.85</td>\n",
       "      <td>12.15</td>\n",
       "    </tr>\n",
       "    <tr>\n",
       "      <th>3</th>\n",
       "      <td>16.98</td>\n",
       "      <td>35.05</td>\n",
       "      <td>8.67</td>\n",
       "      <td>19.43</td>\n",
       "      <td>7.02</td>\n",
       "      <td>21.37</td>\n",
       "      <td>30.85</td>\n",
       "      <td>30.15</td>\n",
       "      <td>36.13</td>\n",
       "      <td>40.55</td>\n",
       "      <td>...</td>\n",
       "      <td>30.15</td>\n",
       "      <td>29.13</td>\n",
       "      <td>36.27</td>\n",
       "      <td>35.98</td>\n",
       "      <td>11.82</td>\n",
       "      <td>11.92</td>\n",
       "      <td>16.82</td>\n",
       "      <td>16.70</td>\n",
       "      <td>15.83</td>\n",
       "      <td>12.18</td>\n",
       "    </tr>\n",
       "    <tr>\n",
       "      <th>4</th>\n",
       "      <td>16.90</td>\n",
       "      <td>35.03</td>\n",
       "      <td>8.68</td>\n",
       "      <td>19.53</td>\n",
       "      <td>7.03</td>\n",
       "      <td>21.40</td>\n",
       "      <td>30.88</td>\n",
       "      <td>30.28</td>\n",
       "      <td>36.27</td>\n",
       "      <td>40.68</td>\n",
       "      <td>...</td>\n",
       "      <td>29.97</td>\n",
       "      <td>29.02</td>\n",
       "      <td>36.37</td>\n",
       "      <td>36.08</td>\n",
       "      <td>11.85</td>\n",
       "      <td>11.92</td>\n",
       "      <td>16.83</td>\n",
       "      <td>16.73</td>\n",
       "      <td>15.88</td>\n",
       "      <td>12.17</td>\n",
       "    </tr>\n",
       "    <tr>\n",
       "      <th>...</th>\n",
       "      <td>...</td>\n",
       "      <td>...</td>\n",
       "      <td>...</td>\n",
       "      <td>...</td>\n",
       "      <td>...</td>\n",
       "      <td>...</td>\n",
       "      <td>...</td>\n",
       "      <td>...</td>\n",
       "      <td>...</td>\n",
       "      <td>...</td>\n",
       "      <td>...</td>\n",
       "      <td>...</td>\n",
       "      <td>...</td>\n",
       "      <td>...</td>\n",
       "      <td>...</td>\n",
       "      <td>...</td>\n",
       "      <td>...</td>\n",
       "      <td>...</td>\n",
       "      <td>...</td>\n",
       "      <td>...</td>\n",
       "      <td>...</td>\n",
       "    </tr>\n",
       "    <tr>\n",
       "      <th>25567</th>\n",
       "      <td>17.15</td>\n",
       "      <td>35.30</td>\n",
       "      <td>8.60</td>\n",
       "      <td>19.42</td>\n",
       "      <td>7.22</td>\n",
       "      <td>21.57</td>\n",
       "      <td>30.62</td>\n",
       "      <td>30.30</td>\n",
       "      <td>36.15</td>\n",
       "      <td>40.72</td>\n",
       "      <td>...</td>\n",
       "      <td>30.65</td>\n",
       "      <td>30.08</td>\n",
       "      <td>36.03</td>\n",
       "      <td>36.00</td>\n",
       "      <td>11.78</td>\n",
       "      <td>12.03</td>\n",
       "      <td>16.82</td>\n",
       "      <td>17.02</td>\n",
       "      <td>15.52</td>\n",
       "      <td>12.78</td>\n",
       "    </tr>\n",
       "    <tr>\n",
       "      <th>25568</th>\n",
       "      <td>17.10</td>\n",
       "      <td>35.30</td>\n",
       "      <td>8.58</td>\n",
       "      <td>19.47</td>\n",
       "      <td>7.23</td>\n",
       "      <td>21.57</td>\n",
       "      <td>30.87</td>\n",
       "      <td>30.37</td>\n",
       "      <td>36.02</td>\n",
       "      <td>40.62</td>\n",
       "      <td>...</td>\n",
       "      <td>30.68</td>\n",
       "      <td>30.13</td>\n",
       "      <td>35.95</td>\n",
       "      <td>36.07</td>\n",
       "      <td>11.78</td>\n",
       "      <td>12.05</td>\n",
       "      <td>16.90</td>\n",
       "      <td>17.10</td>\n",
       "      <td>15.73</td>\n",
       "      <td>12.87</td>\n",
       "    </tr>\n",
       "    <tr>\n",
       "      <th>25569</th>\n",
       "      <td>17.32</td>\n",
       "      <td>35.28</td>\n",
       "      <td>8.60</td>\n",
       "      <td>19.43</td>\n",
       "      <td>7.22</td>\n",
       "      <td>21.82</td>\n",
       "      <td>31.45</td>\n",
       "      <td>31.00</td>\n",
       "      <td>36.17</td>\n",
       "      <td>40.82</td>\n",
       "      <td>...</td>\n",
       "      <td>30.52</td>\n",
       "      <td>30.03</td>\n",
       "      <td>36.02</td>\n",
       "      <td>35.98</td>\n",
       "      <td>11.82</td>\n",
       "      <td>12.00</td>\n",
       "      <td>16.87</td>\n",
       "      <td>17.17</td>\n",
       "      <td>15.63</td>\n",
       "      <td>12.78</td>\n",
       "    </tr>\n",
       "    <tr>\n",
       "      <th>25570</th>\n",
       "      <td>17.25</td>\n",
       "      <td>35.32</td>\n",
       "      <td>8.65</td>\n",
       "      <td>19.48</td>\n",
       "      <td>7.23</td>\n",
       "      <td>21.73</td>\n",
       "      <td>31.73</td>\n",
       "      <td>31.43</td>\n",
       "      <td>36.13</td>\n",
       "      <td>40.70</td>\n",
       "      <td>...</td>\n",
       "      <td>30.67</td>\n",
       "      <td>29.90</td>\n",
       "      <td>35.97</td>\n",
       "      <td>36.03</td>\n",
       "      <td>11.82</td>\n",
       "      <td>12.07</td>\n",
       "      <td>16.90</td>\n",
       "      <td>17.65</td>\n",
       "      <td>15.82</td>\n",
       "      <td>12.83</td>\n",
       "    </tr>\n",
       "    <tr>\n",
       "      <th>25571</th>\n",
       "      <td>17.20</td>\n",
       "      <td>35.32</td>\n",
       "      <td>8.63</td>\n",
       "      <td>19.50</td>\n",
       "      <td>7.23</td>\n",
       "      <td>21.83</td>\n",
       "      <td>31.63</td>\n",
       "      <td>31.40</td>\n",
       "      <td>36.15</td>\n",
       "      <td>40.75</td>\n",
       "      <td>...</td>\n",
       "      <td>30.95</td>\n",
       "      <td>29.83</td>\n",
       "      <td>36.05</td>\n",
       "      <td>36.10</td>\n",
       "      <td>11.82</td>\n",
       "      <td>12.07</td>\n",
       "      <td>17.18</td>\n",
       "      <td>17.30</td>\n",
       "      <td>15.80</td>\n",
       "      <td>12.85</td>\n",
       "    </tr>\n",
       "  </tbody>\n",
       "</table>\n",
       "<p>80100 rows × 272 columns</p>\n",
       "</div>"
      ],
      "text/plain": [
       "       11750  13147  13867  14467  14987  16207  16507  16509  16510  16511  \\\n",
       "0      16.88  34.90   8.62  19.35   7.00  21.43  30.88  30.22  35.87  40.30   \n",
       "1      16.97  34.87   8.65  19.35   7.00  21.42  30.87  29.98  35.92  40.37   \n",
       "2      16.98  34.95   8.67  19.38   7.00  21.43  30.82  30.07  36.02  40.43   \n",
       "3      16.98  35.05   8.67  19.43   7.02  21.37  30.85  30.15  36.13  40.55   \n",
       "4      16.90  35.03   8.68  19.53   7.03  21.40  30.88  30.28  36.27  40.68   \n",
       "...      ...    ...    ...    ...    ...    ...    ...    ...    ...    ...   \n",
       "25567  17.15  35.30   8.60  19.42   7.22  21.57  30.62  30.30  36.15  40.72   \n",
       "25568  17.10  35.30   8.58  19.47   7.23  21.57  30.87  30.37  36.02  40.62   \n",
       "25569  17.32  35.28   8.60  19.43   7.22  21.82  31.45  31.00  36.17  40.82   \n",
       "25570  17.25  35.32   8.65  19.48   7.23  21.73  31.73  31.43  36.13  40.70   \n",
       "25571  17.20  35.32   8.63  19.50   7.23  21.83  31.63  31.40  36.15  40.75   \n",
       "\n",
       "       ...     79     80     81     82     83     84     85     86     87  \\\n",
       "0      ...  30.15  29.38  36.30  35.93  11.78  11.87  16.80  16.73  15.92   \n",
       "1      ...  30.15  29.37  36.37  35.88  11.82  11.88  16.80  16.78  15.87   \n",
       "2      ...  30.17  29.27  36.23  35.88  11.82  12.07  16.83  16.77  15.85   \n",
       "3      ...  30.15  29.13  36.27  35.98  11.82  11.92  16.82  16.70  15.83   \n",
       "4      ...  29.97  29.02  36.37  36.08  11.85  11.92  16.83  16.73  15.88   \n",
       "...    ...    ...    ...    ...    ...    ...    ...    ...    ...    ...   \n",
       "25567  ...  30.65  30.08  36.03  36.00  11.78  12.03  16.82  17.02  15.52   \n",
       "25568  ...  30.68  30.13  35.95  36.07  11.78  12.05  16.90  17.10  15.73   \n",
       "25569  ...  30.52  30.03  36.02  35.98  11.82  12.00  16.87  17.17  15.63   \n",
       "25570  ...  30.67  29.90  35.97  36.03  11.82  12.07  16.90  17.65  15.82   \n",
       "25571  ...  30.95  29.83  36.05  36.10  11.82  12.07  17.18  17.30  15.80   \n",
       "\n",
       "          88  \n",
       "0      12.12  \n",
       "1      12.12  \n",
       "2      12.15  \n",
       "3      12.18  \n",
       "4      12.17  \n",
       "...      ...  \n",
       "25567  12.78  \n",
       "25568  12.87  \n",
       "25569  12.78  \n",
       "25570  12.83  \n",
       "25571  12.85  \n",
       "\n",
       "[80100 rows x 272 columns]"
      ]
     },
     "execution_count": 5,
     "metadata": {},
     "output_type": "execute_result"
    }
   ],
   "source": [
    "df"
   ]
  },
  {
   "cell_type": "markdown",
   "id": "bbc17f1c-171a-49ac-9646-b9032dd59f4a",
   "metadata": {
    "tags": []
   },
   "source": [
    "### 標準化"
   ]
  },
  {
   "cell_type": "code",
   "execution_count": 6,
   "id": "63b8a459-70a5-408a-80a4-fe69e9b8a459",
   "metadata": {},
   "outputs": [],
   "source": [
    "column_indices = {name: i for i, name in enumerate(df.columns)}\n",
    "\n",
    "n = len(df)\n",
    "#train_df = df[0:int(n*0.9)]\n",
    "#val_df = df[int(n*0.7):int(n*0.9)]\n",
    "#test_df = df[int(n*0.9):]\n",
    "\n",
    "num_features = df.shape[1]"
   ]
  },
  {
   "cell_type": "code",
   "execution_count": 7,
   "id": "8cb02e04-8d61-4131-a633-7f454c8cc0db",
   "metadata": {},
   "outputs": [],
   "source": [
    "df_mean = df.mean()\n",
    "df_std = df.std()\n",
    "\n",
    "df = (df - df_mean) / df_std\n",
    "#val_df = (val_df - train_mean) / train_std\n",
    "#test_df = (test_df - train_mean) / train_std"
   ]
  },
  {
   "cell_type": "markdown",
   "id": "c1dd4356-4cbb-482e-8179-7204b06457ed",
   "metadata": {},
   "source": [
    "## target missing"
   ]
  },
  {
   "cell_type": "code",
   "execution_count": 8,
   "id": "6b87a450-d663-4d16-a696-245720c157e8",
   "metadata": {},
   "outputs": [],
   "source": [
    "def select_index(df,target):\n",
    "\n",
    "    #相互相関関数\n",
    "    corrs = []\n",
    "    lags = []\n",
    "    for c in df.columns:\n",
    "        xcorr_list = xcorr(df[target],df[c])\n",
    "        lag = np.argmax(np.abs(xcorr_list))\n",
    "        lags.append(lag)\n",
    "        corr = corr_lag(df[target],df[c],lag)\n",
    "        corrs.append(corr)\n",
    "    corrs = np.array(corrs)\n",
    "    lags = np.array(lags) #targetと各routeでのラグを格納\n",
    "    \n",
    "    #重要度の上位を出力\n",
    "    idx_corrs = np.argsort(np.abs(corrs))[::-1]\n",
    "    top_cols_corrs,top_importances_corrs,lags = df.columns.values[idx_corrs][1:n_input+1],corrs[idx_corrs][1:n_input+1],lags[idx_corrs][1:n_input+1]\n",
    "    print(top_cols_corrs,top_importances_corrs,lags)\n",
    "    \n",
    "    #targetのインデックスを追加\n",
    "    if target in top_cols_corrs:\n",
    "        top_cols_corrs = np.delete(top_cols_corrs,[target])\n",
    "    \n",
    "    top_cols_select = top_cols_corrs\n",
    "    \n",
    "    return top_cols_select\n",
    "    #return [str(target)]\n",
    "    \n",
    "def xcorr(target,c):\n",
    "    xcorr_list = []\n",
    "    #margin = np.zeros(24)\n",
    "    #target = np.block([target,margin])\n",
    "    #c = np.block([margin,c])\n",
    "    \n",
    "    for t in range(24):\n",
    "        score = np.dot(target[t:],c[:len(c)-t])/(len(target)-t)\n",
    "        xcorr_list.append(score)\n",
    "        \n",
    "    return xcorr_list\n",
    "\n",
    "def corr_lag(target,c,lag):\n",
    "    return np.corrcoef(target[lag:],c[:len(c)-lag])[0,1]"
   ]
  },
  {
   "cell_type": "markdown",
   "id": "27b895da-247e-452a-b08d-3fc40939016c",
   "metadata": {},
   "source": [
    "## target not missing"
   ]
  },
  {
   "cell_type": "markdown",
   "id": "506b475f-ba51-428b-ac8d-27abba6ede37",
   "metadata": {},
   "source": [
    "def select_index(df,target):\n",
    "\n",
    "    #相互相関関数\n",
    "    corrs = []\n",
    "    lags = []\n",
    "    for c in df.columns:\n",
    "        xcorr_list = xcorr(df[target],df[c])\n",
    "        lag = np.argmax(np.abs(xcorr_list))\n",
    "        lags.append(lag)\n",
    "        corr = corr_lag(df[target],df[c],lag)\n",
    "        corrs.append(corr)\n",
    "    corrs = np.array(corrs)\n",
    "    lags = np.array(lags) #targetと各routeでのラグを格納\n",
    "    \n",
    "    #重要度の上位を出力\n",
    "    idx_corrs = np.argsort(np.abs(corrs))[::-1]\n",
    "    top_cols_corrs,top_importances_corrs,lags = df.columns.values[idx_corrs][:n_input],corrs[idx_corrs][:n_input],lags[idx_corrs][:n_input]\n",
    "    print(top_cols_corrs,top_importances_corrs,lags)\n",
    "    \n",
    "    #targetのインデックスを追加\n",
    "    if not target in top_cols_corrs:\n",
    "        top_cols_corrs = np.append(top_cols_corrs,[target])\n",
    "    \n",
    "    top_cols_select = top_cols_corrs\n",
    "    \n",
    "    return top_cols_select\n",
    "    #return [str(target)]\n",
    "    \n",
    "def xcorr(target,c):\n",
    "    xcorr_list = []\n",
    "    #margin = np.zeros(24)\n",
    "    #target = np.block([target,margin])\n",
    "    #c = np.block([margin,c])\n",
    "    \n",
    "    for t in range(24):\n",
    "        score = np.dot(target[t:],c[:len(c)-t])/(len(target)-t)\n",
    "        xcorr_list.append(score)\n",
    "        \n",
    "    return xcorr_list\n",
    "\n",
    "def corr_lag(target,c,lag):\n",
    "    return np.corrcoef(target[lag:],c[:len(c)-lag])[0,1]"
   ]
  },
  {
   "cell_type": "code",
   "execution_count": 9,
   "id": "e59b8a94-48e5-4d18-bd0e-424d97e6ab6e",
   "metadata": {},
   "outputs": [
    {
     "name": "stdout",
     "output_type": "stream",
     "text": [
      "['11750' '4649' '78' '6225' '6224' '18830' '18828' '81' '275' '19835'] [0.94140911 0.93505142 0.86696112 0.86594309 0.86402483 0.86368566\n",
      " 0.86204772 0.85535659 0.84134298 0.83999331] [0 0 1 0 2 0 2 0 0 0]\n"
     ]
    }
   ],
   "source": [
    "select_features = select_index(df,target)\n",
    "labels_df = df.loc[:,target]\n",
    "inputs_df = df.loc[:,select_features]"
   ]
  },
  {
   "cell_type": "code",
   "execution_count": 10,
   "id": "885524e5-0f2a-44c6-8051-51cb546b94d9",
   "metadata": {},
   "outputs": [],
   "source": [
    "def make_dataset(labels_df,inputs_df,window_len):\n",
    "    labels, inputs = [], []\n",
    "    for i in range(len(labels_df)-(window_len+n_min_ahead-1)):\n",
    "        labels.append(labels_df.iloc[i+window_len+n_min_ahead-1])\n",
    "        inputs.append(inputs_df.iloc[i:i+window_len])\n",
    "    re_labels = np.array(labels).reshape(len(labels),1)\n",
    "    re_inputs = np.array(inputs).reshape(len(inputs),window_len,n_input)\n",
    "    \n",
    "    return re_labels,re_inputs"
   ]
  },
  {
   "cell_type": "code",
   "execution_count": 11,
   "id": "f170bf93-7dee-47b7-9afb-3db788806248",
   "metadata": {},
   "outputs": [],
   "source": [
    "labels_ds, inputs_ds = make_dataset(labels_df,inputs_df,window_len)"
   ]
  },
  {
   "cell_type": "code",
   "execution_count": 12,
   "id": "f56c6bab-7277-45aa-a771-e1f49045a8f4",
   "metadata": {},
   "outputs": [
    {
     "data": {
      "text/plain": [
       "(80074, 1)"
      ]
     },
     "execution_count": 12,
     "metadata": {},
     "output_type": "execute_result"
    }
   ],
   "source": [
    "labels_ds.shape"
   ]
  },
  {
   "cell_type": "code",
   "execution_count": 13,
   "id": "3962be41-a83c-4521-be46-ee91c315dc46",
   "metadata": {},
   "outputs": [
    {
     "data": {
      "text/plain": [
       "(80074, 24, 10)"
      ]
     },
     "execution_count": 13,
     "metadata": {},
     "output_type": "execute_result"
    }
   ],
   "source": [
    "inputs_ds.shape"
   ]
  },
  {
   "cell_type": "code",
   "execution_count": 14,
   "id": "7c2e975a-30c7-4a68-afc3-389752bec43e",
   "metadata": {},
   "outputs": [],
   "source": [
    "n = len(inputs_ds)\n",
    "train_x, test_x = inputs_ds[:int(n*0.9)],inputs_ds[int(n*0.9):] \n",
    "train_y, test_y = labels_ds[:int(n*0.9)],labels_ds[int(n*0.9):]"
   ]
  },
  {
   "cell_type": "code",
   "execution_count": 15,
   "id": "8c67c03e-c1b5-4446-8099-a10bb5815400",
   "metadata": {},
   "outputs": [
    {
     "data": {
      "text/plain": [
       "array([[[-0.75355553, -0.76014973, -0.80610253, ..., -0.76263162,\n",
       "         -0.76524017, -0.8218413 ],\n",
       "        [-0.72395147, -0.71840224, -0.80610253, ..., -0.7554303 ,\n",
       "         -0.76026685, -0.80356877],\n",
       "        [-0.72066213, -0.72675174, -0.81225283, ..., -0.76983294,\n",
       "         -0.75197799, -0.76093285],\n",
       "        ...,\n",
       "        [-0.80618496, -0.77684872, -0.82824361, ..., -0.77497674,\n",
       "         -0.77352904, -0.73656947],\n",
       "        [-0.81934231, -0.79633088, -0.83685403, ..., -0.78012054,\n",
       "         -0.76855572, -0.67160045],\n",
       "        [-0.83907835, -0.81024671, -0.84300433, ..., -0.79040814,\n",
       "         -0.76855572, -0.6553582 ]],\n",
       "\n",
       "       [[-0.72395147, -0.71840224, -0.80610253, ..., -0.7554303 ,\n",
       "         -0.76026685, -0.80356877],\n",
       "        [-0.72066213, -0.72675174, -0.81225283, ..., -0.76983294,\n",
       "         -0.75197799, -0.76093285],\n",
       "        [-0.72066213, -0.71283591, -0.81471295, ..., -0.7657179 ,\n",
       "         -0.75695131, -0.71017581],\n",
       "        ...,\n",
       "        [-0.81934231, -0.79633088, -0.83685403, ..., -0.78012054,\n",
       "         -0.76855572, -0.67160045],\n",
       "        [-0.83907835, -0.81024671, -0.84300433, ..., -0.79040814,\n",
       "         -0.76855572, -0.6553582 ],\n",
       "        [-0.82921033, -0.81859621, -0.84915463, ..., -0.7708617 ,\n",
       "         -0.76026685, -0.68581242]],\n",
       "\n",
       "       [[-0.72066213, -0.72675174, -0.81225283, ..., -0.76983294,\n",
       "         -0.75197799, -0.76093285],\n",
       "        [-0.72066213, -0.71283591, -0.81471295, ..., -0.7657179 ,\n",
       "         -0.75695131, -0.71017581],\n",
       "        [-0.74697685, -0.73510123, -0.80610253, ..., -0.7554303 ,\n",
       "         -0.74368912, -0.75281172],\n",
       "        ...,\n",
       "        [-0.83907835, -0.81024671, -0.84300433, ..., -0.79040814,\n",
       "         -0.76855572, -0.6553582 ],\n",
       "        [-0.82921033, -0.81859621, -0.84915463, ..., -0.7708617 ,\n",
       "         -0.76026685, -0.68581242],\n",
       "        [-0.81276364, -0.79076455, -0.85776505, ..., -0.7811493 ,\n",
       "         -0.75695131, -0.72641806]],\n",
       "\n",
       "       ...,\n",
       "\n",
       "       [[-0.57264186, -0.58202712, -0.70400755, ..., -0.6628419 ,\n",
       "         -0.63261831, -0.8218413 ],\n",
       "        [-0.56606319, -0.59315978, -0.72614863, ..., -0.73176882,\n",
       "         -0.62432944, -0.80153849],\n",
       "        [-0.5167231 , -0.50966481, -0.72368851, ..., -0.73176882,\n",
       "         -0.60775171, -0.80356877],\n",
       "        ...,\n",
       "        [-0.53316979, -0.53749647, -0.56255065, ..., -0.59494373,\n",
       "         -0.61106725, -0.67566102],\n",
       "        [-0.54303781, -0.54027963, -0.49489734, ..., -0.45708988,\n",
       "         -0.60775171, -0.7000244 ],\n",
       "        [-0.54303781, -0.56532812, -0.37189134, ..., -0.42519832,\n",
       "         -0.60775171, -0.67972158]],\n",
       "\n",
       "       [[-0.56606319, -0.59315978, -0.72614863, ..., -0.73176882,\n",
       "         -0.62432944, -0.80153849],\n",
       "        [-0.5167231 , -0.50966481, -0.72368851, ..., -0.73176882,\n",
       "         -0.60775171, -0.80356877],\n",
       "        [-0.51014442, -0.49853215, -0.71630815, ..., -0.67004322,\n",
       "         -0.64588049, -0.80153849],\n",
       "        ...,\n",
       "        [-0.54303781, -0.54027963, -0.49489734, ..., -0.45708988,\n",
       "         -0.60775171, -0.7000244 ],\n",
       "        [-0.54303781, -0.56532812, -0.37189134, ..., -0.42519832,\n",
       "         -0.60775171, -0.67972158],\n",
       "        [-0.49369772, -0.5263638 , -0.30423804, ..., -0.37684659,\n",
       "         -0.60775171, -0.64926735]],\n",
       "\n",
       "       [[-0.5167231 , -0.50966481, -0.72368851, ..., -0.73176882,\n",
       "         -0.60775171, -0.80356877],\n",
       "        [-0.51014442, -0.49853215, -0.71630815, ..., -0.67004322,\n",
       "         -0.64588049, -0.80153849],\n",
       "        [-0.54961649, -0.55419546, -0.70523761, ..., -0.69576222,\n",
       "         -0.65251159, -0.82387158],\n",
       "        ...,\n",
       "        [-0.54303781, -0.56532812, -0.37189134, ..., -0.42519832,\n",
       "         -0.60775171, -0.67972158],\n",
       "        [-0.49369772, -0.5263638 , -0.30423804, ..., -0.37684659,\n",
       "         -0.60775171, -0.64926735],\n",
       "        [-0.50685508, -0.49853215, -0.2439651 , ..., -0.32026479,\n",
       "         -0.58288511, -0.64520679]]])"
      ]
     },
     "execution_count": 15,
     "metadata": {},
     "output_type": "execute_result"
    }
   ],
   "source": [
    "train_x"
   ]
  },
  {
   "cell_type": "code",
   "execution_count": 16,
   "id": "33338548-2728-4eee-9e67-1a914e2bc56a",
   "metadata": {},
   "outputs": [
    {
     "data": {
      "text/plain": [
       "array([[[-0.51014442, -0.49853215, -0.71630815, ..., -0.67004322,\n",
       "         -0.64588049, -0.80153849],\n",
       "        [-0.54961649, -0.55419546, -0.70523761, ..., -0.69576222,\n",
       "         -0.65251159, -0.82387158],\n",
       "        [-0.54303781, -0.56811129, -0.67325605, ..., -0.6885609 ,\n",
       "         -0.68732483, -0.81778074],\n",
       "        ...,\n",
       "        [-0.49369772, -0.5263638 , -0.30423804, ..., -0.37684659,\n",
       "         -0.60775171, -0.64926735],\n",
       "        [-0.50685508, -0.49853215, -0.2439651 , ..., -0.32026479,\n",
       "         -0.58288511, -0.64520679],\n",
       "        [-0.52659111, -0.51244798, -0.17262162, ..., -0.24619406,\n",
       "         -0.42042332, -0.610692  ]],\n",
       "\n",
       "       [[-0.54961649, -0.55419546, -0.70523761, ..., -0.69576222,\n",
       "         -0.65251159, -0.82387158],\n",
       "        [-0.54303781, -0.56811129, -0.67325605, ..., -0.6885609 ,\n",
       "         -0.68732483, -0.81778074],\n",
       "        [-0.52659111, -0.54027963, -0.67448611, ..., -0.6988485 ,\n",
       "         -0.67903596, -0.7771751 ],\n",
       "        ...,\n",
       "        [-0.50685508, -0.49853215, -0.2439651 , ..., -0.32026479,\n",
       "         -0.58288511, -0.64520679],\n",
       "        [-0.52659111, -0.51244798, -0.17262162, ..., -0.24619406,\n",
       "         -0.42042332, -0.610692  ],\n",
       "        [-0.51014442, -0.51801431, -0.1086585 , ..., -0.24619406,\n",
       "         -0.23143716, -0.54978355]],\n",
       "\n",
       "       [[-0.54303781, -0.56811129, -0.67325605, ..., -0.6885609 ,\n",
       "         -0.68732483, -0.81778074],\n",
       "        [-0.52659111, -0.54027963, -0.67448611, ..., -0.6988485 ,\n",
       "         -0.67903596, -0.7771751 ],\n",
       "        [-0.54961649, -0.54027963, -0.69785725, ..., -0.69061842,\n",
       "         -0.66577377, -0.79747792],\n",
       "        ...,\n",
       "        [-0.52659111, -0.51244798, -0.17262162, ..., -0.24619406,\n",
       "         -0.42042332, -0.610692  ],\n",
       "        [-0.51014442, -0.51801431, -0.1086585 , ..., -0.24619406,\n",
       "         -0.23143716, -0.54978355],\n",
       "        [-0.5002764 , -0.50409848, -0.11726892, ..., -0.18652598,\n",
       "         -0.09052643, -0.51932932]],\n",
       "\n",
       "       ...,\n",
       "\n",
       "       [[-0.65816469, -0.63769043, -0.80856265, ..., -0.79349442,\n",
       "         -0.74534689, -0.86853778],\n",
       "        [-0.62527129, -0.62934094, -0.80241235, ..., -0.77291922,\n",
       "         -0.73540025, -0.86853778],\n",
       "        [-0.68119006, -0.67108842, -0.80364241, ..., -0.7914369 ,\n",
       "         -0.73705803, -0.85838637],\n",
       "        ...,\n",
       "        [-0.74697685, -0.7462339 , -0.80979271, ..., -0.7811493 ,\n",
       "         -0.74866244, -0.82793215],\n",
       "        [-0.69763676, -0.72118541, -0.81225283, ..., -0.7914369 ,\n",
       "         -0.74368912, -0.87462863],\n",
       "        [-0.63184997, -0.64325676, -0.80856265, ..., -0.79349442,\n",
       "         -0.75197799, -0.88478004]],\n",
       "\n",
       "       [[-0.62527129, -0.62934094, -0.80241235, ..., -0.77291922,\n",
       "         -0.73540025, -0.86853778],\n",
       "        [-0.68119006, -0.67108842, -0.80364241, ..., -0.7914369 ,\n",
       "         -0.73705803, -0.85838637],\n",
       "        [-0.63842865, -0.59594295, -0.82086325, ..., -0.79040814,\n",
       "         -0.73208471, -0.88274976],\n",
       "        ...,\n",
       "        [-0.69763676, -0.72118541, -0.81225283, ..., -0.7914369 ,\n",
       "         -0.74368912, -0.87462863],\n",
       "        [-0.63184997, -0.64325676, -0.80856265, ..., -0.79349442,\n",
       "         -0.75197799, -0.88478004],\n",
       "        [-0.66474337, -0.6237746 , -0.81225283, ..., -0.79040814,\n",
       "         -0.75363576, -0.88478004]],\n",
       "\n",
       "       [[-0.68119006, -0.67108842, -0.80364241, ..., -0.7914369 ,\n",
       "         -0.73705803, -0.85838637],\n",
       "        [-0.63842865, -0.59594295, -0.82086325, ..., -0.79040814,\n",
       "         -0.73208471, -0.88274976],\n",
       "        [-0.62198195, -0.56811129, -0.80610253, ..., -0.74411394,\n",
       "         -0.74534689, -0.88478004],\n",
       "        ...,\n",
       "        [-0.63184997, -0.64325676, -0.80856265, ..., -0.79349442,\n",
       "         -0.75197799, -0.88478004],\n",
       "        [-0.66474337, -0.6237746 , -0.81225283, ..., -0.79040814,\n",
       "         -0.75363576, -0.88478004],\n",
       "        [-0.68119006, -0.64325676, -0.79626205, ..., -0.79863823,\n",
       "         -0.73705803, -0.86447722]]])"
      ]
     },
     "execution_count": 16,
     "metadata": {},
     "output_type": "execute_result"
    }
   ],
   "source": [
    "test_x"
   ]
  },
  {
   "cell_type": "code",
   "execution_count": 17,
   "id": "ac8200e0-0de9-4c8b-8762-12d28e69f24e",
   "metadata": {},
   "outputs": [
    {
     "name": "stderr",
     "output_type": "stream",
     "text": [
      "2022-04-26 19:03:12.274682: I tensorflow/core/platform/cpu_feature_guard.cc:151] This TensorFlow binary is optimized with oneAPI Deep Neural Network Library (oneDNN) to use the following CPU instructions in performance-critical operations:  AVX2 FMA\n",
      "To enable them in other operations, rebuild TensorFlow with the appropriate compiler flags.\n"
     ]
    }
   ],
   "source": [
    "# モデル構築\n",
    "\n",
    "# 1つの学習データのwindowサイズ\n",
    "length_of_sequence = inputs_ds.shape[1] \n",
    "in_out_neurons = 1\n",
    "n_hidden = 300\n",
    "\n",
    "model = Sequential()\n",
    "model.add(LSTM(n_hidden, batch_input_shape=(None, length_of_sequence, n_input), return_sequences=False))\n",
    "model.add(Dense(in_out_neurons))\n",
    "#model.add(Activation(\"linear\"))\n",
    "optimizer = Adam(learning_rate=0.001)\n",
    "model.compile(loss=\"mean_squared_error\", optimizer=optimizer)"
   ]
  },
  {
   "cell_type": "code",
   "execution_count": 18,
   "id": "7dc255df-98c2-4f14-bbc1-e5b42eaaeeaf",
   "metadata": {},
   "outputs": [
    {
     "name": "stdout",
     "output_type": "stream",
     "text": [
      "Epoch 1/100\n",
      "WARNING:tensorflow:AutoGraph could not transform <function Model.make_train_function.<locals>.train_function at 0x7ff93e7d4ef0> and will run it as-is.\n",
      "Please report this to the TensorFlow team. When filing the bug, set the verbosity to 10 (on Linux, `export AUTOGRAPH_VERBOSITY=10`) and attach the full output.\n",
      "Cause: 'arguments' object has no attribute 'posonlyargs'\n",
      "To silence this warning, decorate the function with @tf.autograph.experimental.do_not_convert\n",
      "WARNING: AutoGraph could not transform <function Model.make_train_function.<locals>.train_function at 0x7ff93e7d4ef0> and will run it as-is.\n",
      "Please report this to the TensorFlow team. When filing the bug, set the verbosity to 10 (on Linux, `export AUTOGRAPH_VERBOSITY=10`) and attach the full output.\n",
      "Cause: 'arguments' object has no attribute 'posonlyargs'\n",
      "To silence this warning, decorate the function with @tf.autograph.experimental.do_not_convert\n",
      "217/217 [==============================] - ETA: 0s - loss: 0.1200WARNING:tensorflow:AutoGraph could not transform <function Model.make_test_function.<locals>.test_function at 0x7ff923580a70> and will run it as-is.\n",
      "Please report this to the TensorFlow team. When filing the bug, set the verbosity to 10 (on Linux, `export AUTOGRAPH_VERBOSITY=10`) and attach the full output.\n",
      "Cause: 'arguments' object has no attribute 'posonlyargs'\n",
      "To silence this warning, decorate the function with @tf.autograph.experimental.do_not_convert\n",
      "WARNING: AutoGraph could not transform <function Model.make_test_function.<locals>.test_function at 0x7ff923580a70> and will run it as-is.\n",
      "Please report this to the TensorFlow team. When filing the bug, set the verbosity to 10 (on Linux, `export AUTOGRAPH_VERBOSITY=10`) and attach the full output.\n",
      "Cause: 'arguments' object has no attribute 'posonlyargs'\n",
      "To silence this warning, decorate the function with @tf.autograph.experimental.do_not_convert\n",
      "217/217 [==============================] - 43s 192ms/step - loss: 0.1200 - val_loss: 0.2181\n",
      "Epoch 2/100\n",
      "217/217 [==============================] - 43s 198ms/step - loss: 0.0980 - val_loss: 0.1867\n",
      "Epoch 3/100\n",
      "217/217 [==============================] - 42s 195ms/step - loss: 0.0922 - val_loss: 0.2125\n",
      "Epoch 4/100\n",
      "217/217 [==============================] - 41s 189ms/step - loss: 0.0847 - val_loss: 0.2031\n",
      "Epoch 5/100\n",
      "217/217 [==============================] - 41s 188ms/step - loss: 0.0798 - val_loss: 0.1933\n",
      "Epoch 6/100\n",
      "217/217 [==============================] - 41s 191ms/step - loss: 0.0784 - val_loss: 0.1822\n",
      "Epoch 7/100\n",
      "217/217 [==============================] - 41s 188ms/step - loss: 0.0753 - val_loss: 0.2110\n",
      "Epoch 8/100\n",
      "217/217 [==============================] - 41s 191ms/step - loss: 0.0677 - val_loss: 0.2040\n",
      "Epoch 9/100\n",
      "217/217 [==============================] - 41s 190ms/step - loss: 0.0630 - val_loss: 0.1959\n",
      "Epoch 10/100\n",
      "217/217 [==============================] - 41s 190ms/step - loss: 0.0567 - val_loss: 0.1943\n",
      "Epoch 11/100\n",
      "217/217 [==============================] - 41s 189ms/step - loss: 0.0499 - val_loss: 0.2340\n"
     ]
    },
    {
     "data": {
      "text/plain": [
       "<keras.callbacks.History at 0x7ff8fe7f2510>"
      ]
     },
     "execution_count": 18,
     "metadata": {},
     "output_type": "execute_result"
    }
   ],
   "source": [
    "early_stopping = EarlyStopping(monitor='val_loss', mode='auto', patience=5)\n",
    "model.fit(train_x, train_y,\n",
    "          batch_size=300,\n",
    "          epochs=100,\n",
    "          validation_split=0.1,\n",
    "          callbacks=[early_stopping]\n",
    "          )"
   ]
  },
  {
   "cell_type": "code",
   "execution_count": 19,
   "id": "5b236826-4c5f-4729-97cb-c9152fbaa81e",
   "metadata": {},
   "outputs": [
    {
     "name": "stdout",
     "output_type": "stream",
     "text": [
      "WARNING:tensorflow:AutoGraph could not transform <function Model.make_predict_function.<locals>.predict_function at 0x7ff9218458c0> and will run it as-is.\n",
      "Please report this to the TensorFlow team. When filing the bug, set the verbosity to 10 (on Linux, `export AUTOGRAPH_VERBOSITY=10`) and attach the full output.\n",
      "Cause: 'arguments' object has no attribute 'posonlyargs'\n",
      "To silence this warning, decorate the function with @tf.autograph.experimental.do_not_convert\n",
      "WARNING: AutoGraph could not transform <function Model.make_predict_function.<locals>.predict_function at 0x7ff9218458c0> and will run it as-is.\n",
      "Please report this to the TensorFlow team. When filing the bug, set the verbosity to 10 (on Linux, `export AUTOGRAPH_VERBOSITY=10`) and attach the full output.\n",
      "Cause: 'arguments' object has no attribute 'posonlyargs'\n",
      "To silence this warning, decorate the function with @tf.autograph.experimental.do_not_convert\n"
     ]
    }
   ],
   "source": [
    "predicted = model.predict(test_x)"
   ]
  },
  {
   "cell_type": "code",
   "execution_count": 24,
   "id": "b81ff466-069c-42d2-908b-5efefea9389b",
   "metadata": {},
   "outputs": [
    {
     "data": {
      "text/plain": [
       "8008"
      ]
     },
     "execution_count": 24,
     "metadata": {},
     "output_type": "execute_result"
    }
   ],
   "source": [
    "len(predicted)"
   ]
  },
  {
   "cell_type": "code",
   "execution_count": 25,
   "id": "d1357666-8fa7-4913-b529-ee6e34ee3871",
   "metadata": {},
   "outputs": [
    {
     "data": {
      "text/plain": [
       "8008"
      ]
     },
     "execution_count": 25,
     "metadata": {},
     "output_type": "execute_result"
    }
   ],
   "source": [
    "len(test_y)"
   ]
  },
  {
   "cell_type": "code",
   "execution_count": 21,
   "id": "0103828a-1167-4a70-bf85-f9d9d781529a",
   "metadata": {},
   "outputs": [
    {
     "data": {
      "text/plain": [
       "[<matplotlib.lines.Line2D at 0x7ff8ed822110>]"
      ]
     },
     "execution_count": 21,
     "metadata": {},
     "output_type": "execute_result"
    },
    {
     "data": {
      "image/png": "[encoded data removed]",
      "text/plain": [
       "<Figure size 432x288 with 1 Axes>"
      ]
     },
     "metadata": {
      "needs_background": "light"
     },
     "output_type": "display_data"
    }
   ],
   "source": [
    "plt.plot(test_y[:100])\n",
    "plt.plot(predicted[:100])"
   ]
  },
  {
   "cell_type": "code",
   "execution_count": 22,
   "id": "e22dacbe-c4b6-4568-993b-dfae311586d2",
   "metadata": {},
   "outputs": [],
   "source": [
    "performance = model.evaluate(test_x,test_y, verbose=0)"
   ]
  },
  {
   "cell_type": "code",
   "execution_count": 23,
   "id": "dab14341-4709-44f7-92de-056ae5970b8f",
   "metadata": {},
   "outputs": [
    {
     "data": {
      "text/plain": [
       "0.19755840301513672"
      ]
     },
     "execution_count": 23,
     "metadata": {},
     "output_type": "execute_result"
    }
   ],
   "source": [
    "performance"
   ]
  },
  {
   "cell_type": "code",
   "execution_count": null,
   "id": "b71a02c3-8dad-47a4-949c-60a6df757a9d",
   "metadata": {},
   "outputs": [],
   "source": []
  }
 ],
 "metadata": {
  "kernelspec": {
   "display_name": "Python 3 (ipykernel)",
   "language": "python",
   "name": "python3"
  },
  "language_info": {
   "codemirror_mode": {
    "name": "ipython",
    "version": 3
   },
   "file_extension": ".py",
   "mimetype": "text/x-python",
   "name": "python",
   "nbconvert_exporter": "python",
   "pygments_lexer": "ipython3",
   "version": "3.7.13"
  }
 },
 "nbformat": 4,
 "nbformat_minor": 5
}
