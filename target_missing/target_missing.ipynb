{
 "cells": [
  {
   "cell_type": "code",
   "execution_count": 33,
   "id": "b034e650-cb8c-462d-b78c-1fafd013bc0d",
   "metadata": {},
   "outputs": [],
   "source": [
    "import tensorflow as tf\n",
    "from tensorflow.keras.models import Sequential\n",
    "from tensorflow.keras.layers import Dense, Activation\n",
    "from tensorflow.keras.layers import LSTM\n",
    "from tensorflow.keras.optimizers import Adam\n",
    "from tensorflow.keras.callbacks import EarlyStopping\n",
    "import numpy as np\n",
    "import pandas as pd\n",
    "import matplotlib.pyplot as plt"
   ]
  },
  {
   "cell_type": "code",
   "execution_count": 43,
   "id": "0e6076ac-e9d2-4cec-812b-9ffbfc272d86",
   "metadata": {},
   "outputs": [],
   "source": [
    "#csvのパスを設定\n",
    "csv_path = \"/Users/ishigurofutoshi/lab_materials/data/integrated_route.csv\"\n",
    "\n",
    "missing_rate_path = \"/Users/ishigurofutoshi/lab_materials/data/missing_rate.xlsx\""
   ]
  },
  {
   "cell_type": "code",
   "execution_count": 49,
   "id": "bcab7dc2",
   "metadata": {},
   "outputs": [
    {
     "data": {
      "text/plain": [
       "0        2021-01-01 00:00:00\n",
       "1        2021-01-01 00:05:00\n",
       "2        2021-01-01 00:10:00\n",
       "3        2021-01-01 00:15:00\n",
       "4        2021-01-01 00:20:00\n",
       "                ...         \n",
       "25567    2021-07-31 03:35:00\n",
       "25568    2021-07-31 03:40:00\n",
       "25569    2021-07-31 03:45:00\n",
       "25570    2021-07-31 03:50:00\n",
       "25571    2021-07-31 03:55:00\n",
       "Name: 5 Minutes, Length: 80100, dtype: object"
      ]
     },
     "execution_count": 49,
     "metadata": {},
     "output_type": "execute_result"
    }
   ],
   "source": [
    "df = pd.read_csv(csv_path,index_col=0)\n",
    "# Slice [start:stop:step], starting from index 5 take every 6th record.\n",
    "#df = df[5::6]\n",
    "df = df.dropna(axis=1)\n",
    "df.pop(\"5 Minutes\")"
   ]
  },
  {
   "cell_type": "code",
   "execution_count": 50,
   "id": "33010c9c",
   "metadata": {},
   "outputs": [],
   "source": [
    "target = \"78\"\n",
    "n_input = 10\n",
    "index_target = df.columns.get_loc(target)\n",
    "n_min_ahead = 6\n",
    "window_len = 24"
   ]
  },
  {
   "cell_type": "code",
   "execution_count": 51,
   "id": "51601f93",
   "metadata": {
    "tags": []
   },
   "outputs": [],
   "source": [
    "df = df.reset_index(drop=True)"
   ]
  },
  {
   "cell_type": "code",
   "execution_count": 52,
   "id": "456e09d4-df9e-4608-a492-f12d210a77e4",
   "metadata": {},
   "outputs": [
    {
     "data": {
      "text/html": [
       "<div>\n",
       "<style scoped>\n",
       "    .dataframe tbody tr th:only-of-type {\n",
       "        vertical-align: middle;\n",
       "    }\n",
       "\n",
       "    .dataframe tbody tr th {\n",
       "        vertical-align: top;\n",
       "    }\n",
       "\n",
       "    .dataframe thead th {\n",
       "        text-align: right;\n",
       "    }\n",
       "</style>\n",
       "<table border=\"1\" class=\"dataframe\">\n",
       "  <thead>\n",
       "    <tr style=\"text-align: right;\">\n",
       "      <th></th>\n",
       "      <th>11750</th>\n",
       "      <th>13147</th>\n",
       "      <th>13867</th>\n",
       "      <th>14467</th>\n",
       "      <th>14987</th>\n",
       "      <th>16207</th>\n",
       "      <th>16507</th>\n",
       "      <th>16509</th>\n",
       "      <th>16510</th>\n",
       "      <th>16511</th>\n",
       "      <th>...</th>\n",
       "      <th>79</th>\n",
       "      <th>80</th>\n",
       "      <th>81</th>\n",
       "      <th>82</th>\n",
       "      <th>83</th>\n",
       "      <th>84</th>\n",
       "      <th>85</th>\n",
       "      <th>86</th>\n",
       "      <th>87</th>\n",
       "      <th>88</th>\n",
       "    </tr>\n",
       "  </thead>\n",
       "  <tbody>\n",
       "    <tr>\n",
       "      <th>0</th>\n",
       "      <td>16.88</td>\n",
       "      <td>34.90</td>\n",
       "      <td>8.62</td>\n",
       "      <td>19.35</td>\n",
       "      <td>7.00</td>\n",
       "      <td>21.43</td>\n",
       "      <td>30.88</td>\n",
       "      <td>30.22</td>\n",
       "      <td>35.87</td>\n",
       "      <td>40.30</td>\n",
       "      <td>...</td>\n",
       "      <td>30.15</td>\n",
       "      <td>29.38</td>\n",
       "      <td>36.30</td>\n",
       "      <td>35.93</td>\n",
       "      <td>11.78</td>\n",
       "      <td>11.87</td>\n",
       "      <td>16.80</td>\n",
       "      <td>16.73</td>\n",
       "      <td>15.92</td>\n",
       "      <td>12.12</td>\n",
       "    </tr>\n",
       "    <tr>\n",
       "      <th>1</th>\n",
       "      <td>16.97</td>\n",
       "      <td>34.87</td>\n",
       "      <td>8.65</td>\n",
       "      <td>19.35</td>\n",
       "      <td>7.00</td>\n",
       "      <td>21.42</td>\n",
       "      <td>30.87</td>\n",
       "      <td>29.98</td>\n",
       "      <td>35.92</td>\n",
       "      <td>40.37</td>\n",
       "      <td>...</td>\n",
       "      <td>30.15</td>\n",
       "      <td>29.37</td>\n",
       "      <td>36.37</td>\n",
       "      <td>35.88</td>\n",
       "      <td>11.82</td>\n",
       "      <td>11.88</td>\n",
       "      <td>16.80</td>\n",
       "      <td>16.78</td>\n",
       "      <td>15.87</td>\n",
       "      <td>12.12</td>\n",
       "    </tr>\n",
       "    <tr>\n",
       "      <th>2</th>\n",
       "      <td>16.98</td>\n",
       "      <td>34.95</td>\n",
       "      <td>8.67</td>\n",
       "      <td>19.38</td>\n",
       "      <td>7.00</td>\n",
       "      <td>21.43</td>\n",
       "      <td>30.82</td>\n",
       "      <td>30.07</td>\n",
       "      <td>36.02</td>\n",
       "      <td>40.43</td>\n",
       "      <td>...</td>\n",
       "      <td>30.17</td>\n",
       "      <td>29.27</td>\n",
       "      <td>36.23</td>\n",
       "      <td>35.88</td>\n",
       "      <td>11.82</td>\n",
       "      <td>12.07</td>\n",
       "      <td>16.83</td>\n",
       "      <td>16.77</td>\n",
       "      <td>15.85</td>\n",
       "      <td>12.15</td>\n",
       "    </tr>\n",
       "    <tr>\n",
       "      <th>3</th>\n",
       "      <td>16.98</td>\n",
       "      <td>35.05</td>\n",
       "      <td>8.67</td>\n",
       "      <td>19.43</td>\n",
       "      <td>7.02</td>\n",
       "      <td>21.37</td>\n",
       "      <td>30.85</td>\n",
       "      <td>30.15</td>\n",
       "      <td>36.13</td>\n",
       "      <td>40.55</td>\n",
       "      <td>...</td>\n",
       "      <td>30.15</td>\n",
       "      <td>29.13</td>\n",
       "      <td>36.27</td>\n",
       "      <td>35.98</td>\n",
       "      <td>11.82</td>\n",
       "      <td>11.92</td>\n",
       "      <td>16.82</td>\n",
       "      <td>16.70</td>\n",
       "      <td>15.83</td>\n",
       "      <td>12.18</td>\n",
       "    </tr>\n",
       "    <tr>\n",
       "      <th>4</th>\n",
       "      <td>16.90</td>\n",
       "      <td>35.03</td>\n",
       "      <td>8.68</td>\n",
       "      <td>19.53</td>\n",
       "      <td>7.03</td>\n",
       "      <td>21.40</td>\n",
       "      <td>30.88</td>\n",
       "      <td>30.28</td>\n",
       "      <td>36.27</td>\n",
       "      <td>40.68</td>\n",
       "      <td>...</td>\n",
       "      <td>29.97</td>\n",
       "      <td>29.02</td>\n",
       "      <td>36.37</td>\n",
       "      <td>36.08</td>\n",
       "      <td>11.85</td>\n",
       "      <td>11.92</td>\n",
       "      <td>16.83</td>\n",
       "      <td>16.73</td>\n",
       "      <td>15.88</td>\n",
       "      <td>12.17</td>\n",
       "    </tr>\n",
       "    <tr>\n",
       "      <th>...</th>\n",
       "      <td>...</td>\n",
       "      <td>...</td>\n",
       "      <td>...</td>\n",
       "      <td>...</td>\n",
       "      <td>...</td>\n",
       "      <td>...</td>\n",
       "      <td>...</td>\n",
       "      <td>...</td>\n",
       "      <td>...</td>\n",
       "      <td>...</td>\n",
       "      <td>...</td>\n",
       "      <td>...</td>\n",
       "      <td>...</td>\n",
       "      <td>...</td>\n",
       "      <td>...</td>\n",
       "      <td>...</td>\n",
       "      <td>...</td>\n",
       "      <td>...</td>\n",
       "      <td>...</td>\n",
       "      <td>...</td>\n",
       "      <td>...</td>\n",
       "    </tr>\n",
       "    <tr>\n",
       "      <th>80095</th>\n",
       "      <td>17.15</td>\n",
       "      <td>35.30</td>\n",
       "      <td>8.60</td>\n",
       "      <td>19.42</td>\n",
       "      <td>7.22</td>\n",
       "      <td>21.57</td>\n",
       "      <td>30.62</td>\n",
       "      <td>30.30</td>\n",
       "      <td>36.15</td>\n",
       "      <td>40.72</td>\n",
       "      <td>...</td>\n",
       "      <td>30.65</td>\n",
       "      <td>30.08</td>\n",
       "      <td>36.03</td>\n",
       "      <td>36.00</td>\n",
       "      <td>11.78</td>\n",
       "      <td>12.03</td>\n",
       "      <td>16.82</td>\n",
       "      <td>17.02</td>\n",
       "      <td>15.52</td>\n",
       "      <td>12.78</td>\n",
       "    </tr>\n",
       "    <tr>\n",
       "      <th>80096</th>\n",
       "      <td>17.10</td>\n",
       "      <td>35.30</td>\n",
       "      <td>8.58</td>\n",
       "      <td>19.47</td>\n",
       "      <td>7.23</td>\n",
       "      <td>21.57</td>\n",
       "      <td>30.87</td>\n",
       "      <td>30.37</td>\n",
       "      <td>36.02</td>\n",
       "      <td>40.62</td>\n",
       "      <td>...</td>\n",
       "      <td>30.68</td>\n",
       "      <td>30.13</td>\n",
       "      <td>35.95</td>\n",
       "      <td>36.07</td>\n",
       "      <td>11.78</td>\n",
       "      <td>12.05</td>\n",
       "      <td>16.90</td>\n",
       "      <td>17.10</td>\n",
       "      <td>15.73</td>\n",
       "      <td>12.87</td>\n",
       "    </tr>\n",
       "    <tr>\n",
       "      <th>80097</th>\n",
       "      <td>17.32</td>\n",
       "      <td>35.28</td>\n",
       "      <td>8.60</td>\n",
       "      <td>19.43</td>\n",
       "      <td>7.22</td>\n",
       "      <td>21.82</td>\n",
       "      <td>31.45</td>\n",
       "      <td>31.00</td>\n",
       "      <td>36.17</td>\n",
       "      <td>40.82</td>\n",
       "      <td>...</td>\n",
       "      <td>30.52</td>\n",
       "      <td>30.03</td>\n",
       "      <td>36.02</td>\n",
       "      <td>35.98</td>\n",
       "      <td>11.82</td>\n",
       "      <td>12.00</td>\n",
       "      <td>16.87</td>\n",
       "      <td>17.17</td>\n",
       "      <td>15.63</td>\n",
       "      <td>12.78</td>\n",
       "    </tr>\n",
       "    <tr>\n",
       "      <th>80098</th>\n",
       "      <td>17.25</td>\n",
       "      <td>35.32</td>\n",
       "      <td>8.65</td>\n",
       "      <td>19.48</td>\n",
       "      <td>7.23</td>\n",
       "      <td>21.73</td>\n",
       "      <td>31.73</td>\n",
       "      <td>31.43</td>\n",
       "      <td>36.13</td>\n",
       "      <td>40.70</td>\n",
       "      <td>...</td>\n",
       "      <td>30.67</td>\n",
       "      <td>29.90</td>\n",
       "      <td>35.97</td>\n",
       "      <td>36.03</td>\n",
       "      <td>11.82</td>\n",
       "      <td>12.07</td>\n",
       "      <td>16.90</td>\n",
       "      <td>17.65</td>\n",
       "      <td>15.82</td>\n",
       "      <td>12.83</td>\n",
       "    </tr>\n",
       "    <tr>\n",
       "      <th>80099</th>\n",
       "      <td>17.20</td>\n",
       "      <td>35.32</td>\n",
       "      <td>8.63</td>\n",
       "      <td>19.50</td>\n",
       "      <td>7.23</td>\n",
       "      <td>21.83</td>\n",
       "      <td>31.63</td>\n",
       "      <td>31.40</td>\n",
       "      <td>36.15</td>\n",
       "      <td>40.75</td>\n",
       "      <td>...</td>\n",
       "      <td>30.95</td>\n",
       "      <td>29.83</td>\n",
       "      <td>36.05</td>\n",
       "      <td>36.10</td>\n",
       "      <td>11.82</td>\n",
       "      <td>12.07</td>\n",
       "      <td>17.18</td>\n",
       "      <td>17.30</td>\n",
       "      <td>15.80</td>\n",
       "      <td>12.85</td>\n",
       "    </tr>\n",
       "  </tbody>\n",
       "</table>\n",
       "<p>80100 rows × 272 columns</p>\n",
       "</div>"
      ],
      "text/plain": [
       "       11750  13147  13867  14467  14987  16207  16507  16509  16510  16511  \\\n",
       "0      16.88  34.90   8.62  19.35   7.00  21.43  30.88  30.22  35.87  40.30   \n",
       "1      16.97  34.87   8.65  19.35   7.00  21.42  30.87  29.98  35.92  40.37   \n",
       "2      16.98  34.95   8.67  19.38   7.00  21.43  30.82  30.07  36.02  40.43   \n",
       "3      16.98  35.05   8.67  19.43   7.02  21.37  30.85  30.15  36.13  40.55   \n",
       "4      16.90  35.03   8.68  19.53   7.03  21.40  30.88  30.28  36.27  40.68   \n",
       "...      ...    ...    ...    ...    ...    ...    ...    ...    ...    ...   \n",
       "80095  17.15  35.30   8.60  19.42   7.22  21.57  30.62  30.30  36.15  40.72   \n",
       "80096  17.10  35.30   8.58  19.47   7.23  21.57  30.87  30.37  36.02  40.62   \n",
       "80097  17.32  35.28   8.60  19.43   7.22  21.82  31.45  31.00  36.17  40.82   \n",
       "80098  17.25  35.32   8.65  19.48   7.23  21.73  31.73  31.43  36.13  40.70   \n",
       "80099  17.20  35.32   8.63  19.50   7.23  21.83  31.63  31.40  36.15  40.75   \n",
       "\n",
       "       ...     79     80     81     82     83     84     85     86     87  \\\n",
       "0      ...  30.15  29.38  36.30  35.93  11.78  11.87  16.80  16.73  15.92   \n",
       "1      ...  30.15  29.37  36.37  35.88  11.82  11.88  16.80  16.78  15.87   \n",
       "2      ...  30.17  29.27  36.23  35.88  11.82  12.07  16.83  16.77  15.85   \n",
       "3      ...  30.15  29.13  36.27  35.98  11.82  11.92  16.82  16.70  15.83   \n",
       "4      ...  29.97  29.02  36.37  36.08  11.85  11.92  16.83  16.73  15.88   \n",
       "...    ...    ...    ...    ...    ...    ...    ...    ...    ...    ...   \n",
       "80095  ...  30.65  30.08  36.03  36.00  11.78  12.03  16.82  17.02  15.52   \n",
       "80096  ...  30.68  30.13  35.95  36.07  11.78  12.05  16.90  17.10  15.73   \n",
       "80097  ...  30.52  30.03  36.02  35.98  11.82  12.00  16.87  17.17  15.63   \n",
       "80098  ...  30.67  29.90  35.97  36.03  11.82  12.07  16.90  17.65  15.82   \n",
       "80099  ...  30.95  29.83  36.05  36.10  11.82  12.07  17.18  17.30  15.80   \n",
       "\n",
       "          88  \n",
       "0      12.12  \n",
       "1      12.12  \n",
       "2      12.15  \n",
       "3      12.18  \n",
       "4      12.17  \n",
       "...      ...  \n",
       "80095  12.78  \n",
       "80096  12.87  \n",
       "80097  12.78  \n",
       "80098  12.83  \n",
       "80099  12.85  \n",
       "\n",
       "[80100 rows x 272 columns]"
      ]
     },
     "execution_count": 52,
     "metadata": {},
     "output_type": "execute_result"
    }
   ],
   "source": [
    "df"
   ]
  },
  {
   "cell_type": "markdown",
   "id": "bbc17f1c-171a-49ac-9646-b9032dd59f4a",
   "metadata": {
    "tags": []
   },
   "source": [
    "### 標準化"
   ]
  },
  {
   "cell_type": "code",
   "execution_count": 6,
   "id": "63b8a459-70a5-408a-80a4-fe69e9b8a459",
   "metadata": {},
   "outputs": [],
   "source": [
    "column_indices = {name: i for i, name in enumerate(df.columns)}\n",
    "\n",
    "n = len(df)\n",
    "#train_df = df[0:int(n*0.9)]\n",
    "#val_df = df[int(n*0.7):int(n*0.9)]\n",
    "#test_df = df[int(n*0.9):]\n",
    "\n",
    "num_features = df.shape[1]"
   ]
  },
  {
   "cell_type": "code",
   "execution_count": 7,
   "id": "8cb02e04-8d61-4131-a633-7f454c8cc0db",
   "metadata": {},
   "outputs": [],
   "source": [
    "df_mean = df.mean()\n",
    "df_std = df.std()\n",
    "\n",
    "df = (df - df_mean) / df_std\n",
    "#val_df = (val_df - train_mean) / train_std\n",
    "#test_df = (test_df - train_mean) / train_std"
   ]
  },
  {
   "cell_type": "markdown",
   "id": "c1dd4356-4cbb-482e-8179-7204b06457ed",
   "metadata": {},
   "source": [
    "## target missing"
   ]
  },
  {
   "cell_type": "code",
   "execution_count": 8,
   "id": "fc1e166e-5fbe-4681-aeb1-679ada330f34",
   "metadata": {},
   "outputs": [],
   "source": [
    "def select_index(df,target):\n",
    "\n",
    "    #相互相関関数\n",
    "    corrs = []\n",
    "    lags = []\n",
    "    for c in df.columns:\n",
    "        xcorr_list = xcorr(df[target],df[c])\n",
    "        lag = np.argmax(np.abs(xcorr_list))\n",
    "        lags.append(lag)\n",
    "        corr = corr_lag(df[target],df[c],lag)\n",
    "        corrs.append(corr)\n",
    "    corrs = np.array(corrs)\n",
    "    lags = np.array(lags) #targetと各routeでのラグを格納\n",
    "    \n",
    "    #重要度の上位を出力\n",
    "    idx_corrs = np.argsort(np.abs(corrs))[::-1]\n",
    "    top_cols_corrs,top_importances_corrs,lags = df.columns.values[idx_corrs][1:n_input+1],corrs[idx_corrs][1:n_input+1],lags[idx_corrs][1:n_input+1]\n",
    "    print(top_cols_corrs,top_importances_corrs,lags)\n",
    "    \n",
    "    #targetのインデックスを追加\n",
    "    if target in top_cols_corrs:\n",
    "        top_cols_corrs = np.delete(top_cols_corrs,[target])\n",
    "    \n",
    "    top_cols_select = top_cols_corrs\n",
    "    \n",
    "    return top_cols_select\n",
    "    #return [str(target)]\n",
    "    \n",
    "def xcorr(target,c):\n",
    "    xcorr_list = []\n",
    "    #margin = np.zeros(24)\n",
    "    #target = np.block([target,margin])\n",
    "    #c = np.block([margin,c])\n",
    "    \n",
    "    for t in range(24):\n",
    "        score = np.dot(target[t:],c[:len(c)-t])/(len(target)-t)\n",
    "        xcorr_list.append(score)\n",
    "        \n",
    "    return xcorr_list\n",
    "\n",
    "def corr_lag(target,c,lag):\n",
    "    return np.corrcoef(target[lag:],c[:len(c)-lag])[0,1]"
   ]
  },
  {
   "cell_type": "markdown",
   "id": "27b895da-247e-452a-b08d-3fc40939016c",
   "metadata": {},
   "source": [
    "## target not missing"
   ]
  },
  {
   "cell_type": "markdown",
   "id": "b8ff74f8-953b-40a3-8b8a-3b44fe9f40b0",
   "metadata": {},
   "source": [
    "def select_index(df,target):\n",
    "\n",
    "    #相互相関関数\n",
    "    corrs = []\n",
    "    lags = []\n",
    "    for c in df.columns:\n",
    "        xcorr_list = xcorr(df[target],df[c])\n",
    "        lag = np.argmax(np.abs(xcorr_list))\n",
    "        lags.append(lag)\n",
    "        corr = corr_lag(df[target],df[c],lag)\n",
    "        corrs.append(corr)\n",
    "    corrs = np.array(corrs)\n",
    "    lags = np.array(lags) #targetと各routeでのラグを格納\n",
    "    \n",
    "    #重要度の上位を出力\n",
    "    idx_corrs = np.argsort(np.abs(corrs))[::-1]\n",
    "    top_cols_corrs,top_importances_corrs,lags = df.columns.values[idx_corrs][:n_input],corrs[idx_corrs][:n_input],lags[idx_corrs][:n_input]\n",
    "    print(top_cols_corrs,top_importances_corrs,lags)\n",
    "    \n",
    "    #targetのインデックスを追加\n",
    "    if not target in top_cols_corrs:\n",
    "        top_cols_corrs = np.append(top_cols_corrs,[target])\n",
    "    \n",
    "    top_cols_select = top_cols_corrs\n",
    "    \n",
    "    return top_cols_select\n",
    "    #return [str(target)]\n",
    "    \n",
    "def xcorr(target,c):\n",
    "    xcorr_list = []\n",
    "    #margin = np.zeros(24)\n",
    "    #target = np.block([target,margin])\n",
    "    #c = np.block([margin,c])\n",
    "    \n",
    "    for t in range(24):\n",
    "        score = np.dot(target[t:],c[:len(c)-t])/(len(target)-t)\n",
    "        xcorr_list.append(score)\n",
    "        \n",
    "    return xcorr_list\n",
    "\n",
    "def corr_lag(target,c,lag):\n",
    "    return np.corrcoef(target[lag:],c[:len(c)-lag])[0,1]"
   ]
  },
  {
   "cell_type": "markdown",
   "id": "df621944-0ec6-41ad-9869-ceadbee7d72c",
   "metadata": {},
   "source": [
    "### 欠損生成&補完"
   ]
  },
  {
   "cell_type": "code",
   "execution_count": 9,
   "id": "e59b8a94-48e5-4d18-bd0e-424d97e6ab6e",
   "metadata": {},
   "outputs": [
    {
     "name": "stdout",
     "output_type": "stream",
     "text": [
      "['81' '275' '6225' '18830' '6224' '18828' '19835' '14467' '372' '2133'] [0.93080856 0.9187865  0.91254206 0.91001707 0.9052869  0.90467683\n",
      " 0.89662424 0.88076174 0.87273251 0.87006175] [0 0 0 0 1 0 0 0 0 0]\n"
     ]
    }
   ],
   "source": [
    "select_features = select_index(df,target)"
   ]
  },
  {
   "cell_type": "markdown",
   "id": "aa0c46f7-b542-4fba-bc22-a5b09a546899",
   "metadata": {},
   "source": [
    "#target not missing\n",
    "df = df.loc[:,select_features]"
   ]
  },
  {
   "cell_type": "code",
   "execution_count": 10,
   "id": "2f0f0295-1319-4135-8372-5487c833cce5",
   "metadata": {},
   "outputs": [],
   "source": [
    "#target missing\n",
    "df = df.loc[:,np.append(select_features,target)] "
   ]
  },
  {
   "cell_type": "code",
   "execution_count": 11,
   "id": "48882673-4780-43dc-a244-288bbae681ab",
   "metadata": {},
   "outputs": [],
   "source": [
    "labels_df = df.loc[:,target]\n",
    "inputs_df = df.loc[:,select_features]"
   ]
  },
  {
   "cell_type": "markdown",
   "id": "7c7a25b2-be69-44d0-88cd-d4dd17b85a83",
   "metadata": {},
   "source": [
    "#target not missing\n",
    "import random\n",
    "c = inputs_df.columns.get_loc(target)\n",
    "median = inputs_df.iloc[:,c].median()\n",
    "mean = inputs_df.iloc[:,c].mean()\n",
    "min = inputs_df.iloc[:,c].min()\n",
    "rep = min\n",
    "\n",
    "for i in [random.randint(0,int(80100*0.9)) for i in range(int(80100*0.9*0.3))]:\n",
    "    #if inputs_df.iloc[i,c] < median*10:\n",
    "    labels_df.iloc[i] = rep\n",
    "    inputs_df.iloc[i,c] = rep\n",
    "for i in [random.randint(int(80100*0.9),80099) for i in range(int(80100*0.1*0.3))]:\n",
    "    inputs_df.iloc[i,c] = rep"
   ]
  },
  {
   "cell_type": "markdown",
   "id": "acc02901-580d-4a49-a8ea-2af8f50c2b36",
   "metadata": {},
   "source": [
    "## データセット生成"
   ]
  },
  {
   "cell_type": "code",
   "execution_count": 12,
   "id": "885524e5-0f2a-44c6-8051-51cb546b94d9",
   "metadata": {},
   "outputs": [],
   "source": [
    "def make_dataset(labels_df,inputs_df,window_len):\n",
    "    labels, inputs = [], []\n",
    "    for i in range(len(labels_df)-(window_len+n_min_ahead-1)):\n",
    "        labels.append(labels_df.iloc[i+window_len+n_min_ahead-1])\n",
    "        inputs.append(inputs_df.iloc[i:i+window_len])\n",
    "    re_labels = np.array(labels).reshape(len(labels),1)\n",
    "    re_inputs = np.array(inputs).reshape(len(inputs),window_len,n_input)\n",
    "    \n",
    "    return re_labels,re_inputs"
   ]
  },
  {
   "cell_type": "code",
   "execution_count": 13,
   "id": "f170bf93-7dee-47b7-9afb-3db788806248",
   "metadata": {},
   "outputs": [],
   "source": [
    "labels_ds, inputs_ds = make_dataset(labels_df,inputs_df,window_len)"
   ]
  },
  {
   "cell_type": "code",
   "execution_count": 14,
   "id": "f56c6bab-7277-45aa-a771-e1f49045a8f4",
   "metadata": {},
   "outputs": [
    {
     "data": {
      "text/plain": [
       "(80071, 1)"
      ]
     },
     "execution_count": 14,
     "metadata": {},
     "output_type": "execute_result"
    }
   ],
   "source": [
    "labels_ds.shape"
   ]
  },
  {
   "cell_type": "code",
   "execution_count": 15,
   "id": "3962be41-a83c-4521-be46-ee91c315dc46",
   "metadata": {},
   "outputs": [
    {
     "data": {
      "text/plain": [
       "(80071, 24, 10)"
      ]
     },
     "execution_count": 15,
     "metadata": {},
     "output_type": "execute_result"
    }
   ],
   "source": [
    "inputs_ds.shape"
   ]
  },
  {
   "cell_type": "code",
   "execution_count": 16,
   "id": "7c2e975a-30c7-4a68-afc3-389752bec43e",
   "metadata": {},
   "outputs": [],
   "source": [
    "n = len(inputs_ds)\n",
    "train_x, test_x = inputs_ds[:int(n*0.9)],inputs_ds[int(n*0.9):] \n",
    "train_y, test_y = labels_ds[:int(n*0.9)],labels_ds[int(n*0.9):]"
   ]
  },
  {
   "cell_type": "code",
   "execution_count": 17,
   "id": "8c67c03e-c1b5-4446-8099-a10bb5815400",
   "metadata": {},
   "outputs": [
    {
     "data": {
      "text/plain": [
       "array([[[-0.76263162, -0.76524017, -0.69745898, ..., -0.87047217,\n",
       "         -0.82754916, -0.70362662],\n",
       "        [-0.7554303 , -0.76026685, -0.67821042, ..., -0.87047217,\n",
       "         -0.82754916, -0.73627298],\n",
       "        [-0.76983294, -0.75197799, -0.66127169, ..., -0.86420818,\n",
       "         -0.82504483, -0.7199498 ],\n",
       "        ...,\n",
       "        [-0.77497674, -0.77352904, -0.74904512, ..., -0.86629618,\n",
       "         -0.82003615, -0.7743604 ],\n",
       "        [-0.78012054, -0.76855572, -0.74750523, ..., -0.8558562 ,\n",
       "         -0.82504483, -0.79068358],\n",
       "        [-0.79040814, -0.76855572, -0.73364627, ..., -0.86420818,\n",
       "         -0.82504483, -0.8015657 ]],\n",
       "\n",
       "       [[-0.7554303 , -0.76026685, -0.67821042, ..., -0.87047217,\n",
       "         -0.82754916, -0.73627298],\n",
       "        [-0.76983294, -0.75197799, -0.66127169, ..., -0.86420818,\n",
       "         -0.82504483, -0.7199498 ],\n",
       "        [-0.7657179 , -0.75695131, -0.67436071, ..., -0.8537682 ,\n",
       "         -0.82003615, -0.65465708],\n",
       "        ...,\n",
       "        [-0.78012054, -0.76855572, -0.74750523, ..., -0.8558562 ,\n",
       "         -0.82504483, -0.79068358],\n",
       "        [-0.79040814, -0.76855572, -0.73364627, ..., -0.86420818,\n",
       "         -0.82504483, -0.8015657 ],\n",
       "        [-0.7708617 , -0.76026685, -0.72825667, ..., -0.8537682 ,\n",
       "         -0.83255784, -0.80428623]],\n",
       "\n",
       "       [[-0.76983294, -0.75197799, -0.66127169, ..., -0.86420818,\n",
       "         -0.82504483, -0.7199498 ],\n",
       "        [-0.7657179 , -0.75695131, -0.67436071, ..., -0.8537682 ,\n",
       "         -0.82003615, -0.65465708],\n",
       "        [-0.7554303 , -0.74368912, -0.68052025, ..., -0.83288823,\n",
       "         -0.81252314, -0.65601734],\n",
       "        ...,\n",
       "        [-0.79040814, -0.76855572, -0.73364627, ..., -0.86420818,\n",
       "         -0.82504483, -0.8015657 ],\n",
       "        [-0.7708617 , -0.76026685, -0.72825667, ..., -0.8537682 ,\n",
       "         -0.83255784, -0.80428623],\n",
       "        [-0.7811493 , -0.75695131, -0.70746823, ..., -0.86003219,\n",
       "         -0.82504483, -0.80564649]],\n",
       "\n",
       "       ...,\n",
       "\n",
       "       [[-0.64432421, -0.73208471, -0.63047399, ..., -0.86003219,\n",
       "         -0.81502747, -0.68186238],\n",
       "        [-0.65666933, -0.70224479, -0.61276532, ..., -0.8537682 ,\n",
       "         -0.81502747, -0.64921602],\n",
       "        [-0.64638173, -0.67737819, -0.58966705, ..., -0.82871224,\n",
       "         -0.80250578, -0.66825973],\n",
       "        ...,\n",
       "        [-0.67004322, -0.62101389, -0.5088231 , ..., -0.67211248,\n",
       "         -0.69481925, -0.58120277],\n",
       "        [-0.62580653, -0.61604057, -0.50728322, ..., -0.68255246,\n",
       "         -0.68981057, -0.64785575],\n",
       "        [-0.59082869, -0.62764499, -0.49958379, ..., -0.68255246,\n",
       "         -0.68981057, -0.65873787]],\n",
       "\n",
       "       [[-0.65666933, -0.70224479, -0.61276532, ..., -0.8537682 ,\n",
       "         -0.81502747, -0.64921602],\n",
       "        [-0.64638173, -0.67737819, -0.58966705, ..., -0.82871224,\n",
       "         -0.80250578, -0.66825973],\n",
       "        [-0.6628419 , -0.63261831, -0.61276532, ..., -0.80783227,\n",
       "         -0.78998409, -0.6614584 ],\n",
       "        ...,\n",
       "        [-0.62580653, -0.61604057, -0.50728322, ..., -0.68255246,\n",
       "         -0.68981057, -0.64785575],\n",
       "        [-0.59082869, -0.62764499, -0.49958379, ..., -0.68255246,\n",
       "         -0.68981057, -0.65873787],\n",
       "        [-0.59494373, -0.61106725, -0.52191212, ..., -0.69299245,\n",
       "         -0.68730623, -0.62745178]],\n",
       "\n",
       "       [[-0.64638173, -0.67737819, -0.58966705, ..., -0.82871224,\n",
       "         -0.80250578, -0.66825973],\n",
       "        [-0.6628419 , -0.63261831, -0.61276532, ..., -0.80783227,\n",
       "         -0.78998409, -0.6614584 ],\n",
       "        [-0.73176882, -0.62432944, -0.59736647, ..., -0.80783227,\n",
       "         -0.78247108, -0.66825973],\n",
       "        ...,\n",
       "        [-0.59082869, -0.62764499, -0.49958379, ..., -0.68255246,\n",
       "         -0.68981057, -0.65873787],\n",
       "        [-0.59494373, -0.61106725, -0.52191212, ..., -0.69299245,\n",
       "         -0.68730623, -0.62745178],\n",
       "        [-0.45708988, -0.60775171, -0.51036299, ..., -0.68255246,\n",
       "         -0.69982792, -0.57440145]]])"
      ]
     },
     "execution_count": 17,
     "metadata": {},
     "output_type": "execute_result"
    }
   ],
   "source": [
    "train_x"
   ]
  },
  {
   "cell_type": "code",
   "execution_count": 18,
   "id": "33338548-2728-4eee-9e67-1a914e2bc56a",
   "metadata": {},
   "outputs": [
    {
     "data": {
      "text/plain": [
       "array([[[-0.6628419 , -0.63261831, -0.61276532, ..., -0.80783227,\n",
       "         -0.78998409, -0.6614584 ],\n",
       "        [-0.73176882, -0.62432944, -0.59736647, ..., -0.80783227,\n",
       "         -0.78247108, -0.66825973],\n",
       "        [-0.73176882, -0.60775171, -0.58350751, ..., -0.81200826,\n",
       "         -0.77495806, -0.6927445 ],\n",
       "        ...,\n",
       "        [-0.59494373, -0.61106725, -0.52191212, ..., -0.69299245,\n",
       "         -0.68730623, -0.62745178],\n",
       "        [-0.45708988, -0.60775171, -0.51036299, ..., -0.68255246,\n",
       "         -0.69982792, -0.57440145],\n",
       "        [-0.42519832, -0.60775171, -0.48957454, ..., -0.6574965 ,\n",
       "         -0.68730623, -0.57984251]],\n",
       "\n",
       "       [[-0.73176882, -0.62432944, -0.59736647, ..., -0.80783227,\n",
       "         -0.78247108, -0.66825973],\n",
       "        [-0.73176882, -0.60775171, -0.58350751, ..., -0.81200826,\n",
       "         -0.77495806, -0.6927445 ],\n",
       "        [-0.67004322, -0.64588049, -0.59120693, ..., -0.80156828,\n",
       "         -0.76994939, -0.67642132],\n",
       "        ...,\n",
       "        [-0.45708988, -0.60775171, -0.51036299, ..., -0.68255246,\n",
       "         -0.69982792, -0.57440145],\n",
       "        [-0.42519832, -0.60775171, -0.48957454, ..., -0.6574965 ,\n",
       "         -0.68730623, -0.57984251],\n",
       "        [-0.37684659, -0.60775171, -0.46493639, ..., -0.64079253,\n",
       "         -0.68229756, -0.56623986]],\n",
       "\n",
       "       [[-0.73176882, -0.60775171, -0.58350751, ..., -0.81200826,\n",
       "         -0.77495806, -0.6927445 ],\n",
       "        [-0.67004322, -0.64588049, -0.59120693, ..., -0.80156828,\n",
       "         -0.76994939, -0.67642132],\n",
       "        [-0.69576222, -0.65251159, -0.57272832, ..., -0.78277631,\n",
       "         -0.76994939, -0.63561337],\n",
       "        ...,\n",
       "        [-0.42519832, -0.60775171, -0.48957454, ..., -0.6574965 ,\n",
       "         -0.68730623, -0.57984251],\n",
       "        [-0.37684659, -0.60775171, -0.46493639, ..., -0.64079253,\n",
       "         -0.68229756, -0.56623986],\n",
       "        [-0.32026479, -0.58288511, -0.42951904, ..., -0.60529658,\n",
       "         -0.67478454, -0.55943853]],\n",
       "\n",
       "       ...,\n",
       "\n",
       "       [[-0.79555194, -0.74866244, -0.68590984, ..., -0.86629618,\n",
       "         -0.84507953, -0.68322264],\n",
       "        [-0.7914369 , -0.73705803, -0.68590984, ..., -0.8537682 ,\n",
       "         -0.85008821, -0.69682529],\n",
       "        [-0.79040814, -0.74866244, -0.66127169, ..., -0.84959221,\n",
       "         -0.85008821, -0.74035377],\n",
       "        ...,\n",
       "        [-0.78320682, -0.72876916, -0.68360002, ..., -0.87673616,\n",
       "         -0.85259254, -0.715869  ],\n",
       "        [-0.7811493 , -0.74534689, -0.68206013, ..., -0.87464817,\n",
       "         -0.85259254, -0.67234052],\n",
       "        [-0.7862931 , -0.75695131, -0.69899886, ..., -0.87047217,\n",
       "         -0.85008821, -0.68594317]],\n",
       "\n",
       "       [[-0.7914369 , -0.73705803, -0.68590984, ..., -0.8537682 ,\n",
       "         -0.85008821, -0.69682529],\n",
       "        [-0.79040814, -0.74866244, -0.66127169, ..., -0.84959221,\n",
       "         -0.85008821, -0.74035377],\n",
       "        [-0.79349442, -0.74534689, -0.62816417, ..., -0.84541621,\n",
       "         -0.84507953, -0.75395642],\n",
       "        ...,\n",
       "        [-0.7811493 , -0.74534689, -0.68206013, ..., -0.87464817,\n",
       "         -0.85259254, -0.67234052],\n",
       "        [-0.7862931 , -0.75695131, -0.69899886, ..., -0.87047217,\n",
       "         -0.85008821, -0.68594317],\n",
       "        [-0.7811493 , -0.74866244, -0.70746823, ..., -0.86420818,\n",
       "         -0.85008821, -0.715869  ]],\n",
       "\n",
       "       [[-0.79040814, -0.74866244, -0.66127169, ..., -0.84959221,\n",
       "         -0.85008821, -0.74035377],\n",
       "        [-0.79349442, -0.74534689, -0.62816417, ..., -0.84541621,\n",
       "         -0.84507953, -0.75395642],\n",
       "        [-0.77291922, -0.73540025, -0.65665203, ..., -0.86003219,\n",
       "         -0.84507953, -0.74443457],\n",
       "        ...,\n",
       "        [-0.7862931 , -0.75695131, -0.69899886, ..., -0.87047217,\n",
       "         -0.85008821, -0.68594317],\n",
       "        [-0.7811493 , -0.74866244, -0.70746823, ..., -0.86420818,\n",
       "         -0.85008821, -0.715869  ],\n",
       "        [-0.7914369 , -0.74368912, -0.71516765, ..., -0.86003219,\n",
       "         -0.84507953, -0.70226635]]])"
      ]
     },
     "execution_count": 18,
     "metadata": {},
     "output_type": "execute_result"
    }
   ],
   "source": [
    "test_x"
   ]
  },
  {
   "cell_type": "code",
   "execution_count": 19,
   "id": "ac8200e0-0de9-4c8b-8762-12d28e69f24e",
   "metadata": {},
   "outputs": [
    {
     "name": "stderr",
     "output_type": "stream",
     "text": [
      "2022-05-13 16:17:55.433535: I tensorflow/core/platform/cpu_feature_guard.cc:151] This TensorFlow binary is optimized with oneAPI Deep Neural Network Library (oneDNN) to use the following CPU instructions in performance-critical operations:  AVX2 FMA\n",
      "To enable them in other operations, rebuild TensorFlow with the appropriate compiler flags.\n"
     ]
    }
   ],
   "source": [
    "# モデル構築\n",
    "\n",
    "# 1つの学習データのwindowサイズ\n",
    "length_of_sequence = inputs_ds.shape[1] \n",
    "in_out_neurons = 1\n",
    "n_hidden = 300\n",
    "\n",
    "model = Sequential()\n",
    "model.add(LSTM(n_hidden, batch_input_shape=(None, length_of_sequence, n_input), return_sequences=False))\n",
    "model.add(Dense(in_out_neurons))\n",
    "#model.add(Activation(\"linear\"))\n",
    "optimizer = Adam(learning_rate=0.001)\n",
    "model.compile(loss=\"mean_squared_error\", optimizer=optimizer)"
   ]
  },
  {
   "cell_type": "code",
   "execution_count": 20,
   "id": "7dc255df-98c2-4f14-bbc1-e5b42eaaeeaf",
   "metadata": {},
   "outputs": [
    {
     "name": "stdout",
     "output_type": "stream",
     "text": [
      "Epoch 1/100\n",
      "WARNING:tensorflow:AutoGraph could not transform <function Model.make_train_function.<locals>.train_function at 0x7fd94fdb1e60> and will run it as-is.\n",
      "Please report this to the TensorFlow team. When filing the bug, set the verbosity to 10 (on Linux, `export AUTOGRAPH_VERBOSITY=10`) and attach the full output.\n",
      "Cause: 'arguments' object has no attribute 'posonlyargs'\n",
      "To silence this warning, decorate the function with @tf.autograph.experimental.do_not_convert\n",
      "WARNING: AutoGraph could not transform <function Model.make_train_function.<locals>.train_function at 0x7fd94fdb1e60> and will run it as-is.\n",
      "Please report this to the TensorFlow team. When filing the bug, set the verbosity to 10 (on Linux, `export AUTOGRAPH_VERBOSITY=10`) and attach the full output.\n",
      "Cause: 'arguments' object has no attribute 'posonlyargs'\n",
      "To silence this warning, decorate the function with @tf.autograph.experimental.do_not_convert\n",
      "217/217 [==============================] - ETA: 0s - loss: 0.1197WARNING:tensorflow:AutoGraph could not transform <function Model.make_test_function.<locals>.test_function at 0x7fd9887a45f0> and will run it as-is.\n",
      "Please report this to the TensorFlow team. When filing the bug, set the verbosity to 10 (on Linux, `export AUTOGRAPH_VERBOSITY=10`) and attach the full output.\n",
      "Cause: 'arguments' object has no attribute 'posonlyargs'\n",
      "To silence this warning, decorate the function with @tf.autograph.experimental.do_not_convert\n",
      "WARNING: AutoGraph could not transform <function Model.make_test_function.<locals>.test_function at 0x7fd9887a45f0> and will run it as-is.\n",
      "Please report this to the TensorFlow team. When filing the bug, set the verbosity to 10 (on Linux, `export AUTOGRAPH_VERBOSITY=10`) and attach the full output.\n",
      "Cause: 'arguments' object has no attribute 'posonlyargs'\n",
      "To silence this warning, decorate the function with @tf.autograph.experimental.do_not_convert\n",
      "217/217 [==============================] - 41s 182ms/step - loss: 0.1197 - val_loss: 0.1346\n",
      "Epoch 2/100\n",
      "217/217 [==============================] - 40s 186ms/step - loss: 0.0813 - val_loss: 0.1078\n",
      "Epoch 3/100\n",
      "217/217 [==============================] - 39s 180ms/step - loss: 0.0713 - val_loss: 0.1232\n",
      "Epoch 4/100\n",
      "217/217 [==============================] - 38s 176ms/step - loss: 0.0651 - val_loss: 0.1088\n",
      "Epoch 5/100\n",
      "217/217 [==============================] - 39s 178ms/step - loss: 0.0603 - val_loss: 0.1030\n",
      "Epoch 6/100\n",
      "217/217 [==============================] - 41s 187ms/step - loss: 0.0560 - val_loss: 0.1096\n",
      "Epoch 7/100\n",
      "217/217 [==============================] - 41s 190ms/step - loss: 0.0506 - val_loss: 0.1057\n",
      "Epoch 8/100\n",
      "217/217 [==============================] - 39s 180ms/step - loss: 0.0460 - val_loss: 0.0981\n",
      "Epoch 9/100\n",
      "217/217 [==============================] - 39s 181ms/step - loss: 0.0438 - val_loss: 0.0910\n",
      "Epoch 10/100\n",
      "217/217 [==============================] - 38s 177ms/step - loss: 0.0394 - val_loss: 0.1099\n",
      "Epoch 11/100\n",
      "217/217 [==============================] - 39s 180ms/step - loss: 0.0346 - val_loss: 0.1128\n",
      "Epoch 12/100\n",
      "217/217 [==============================] - 38s 177ms/step - loss: 0.0332 - val_loss: 0.1015\n",
      "Epoch 13/100\n",
      "217/217 [==============================] - 38s 177ms/step - loss: 0.0284 - val_loss: 0.1131\n",
      "Epoch 14/100\n",
      "217/217 [==============================] - 39s 178ms/step - loss: 0.0284 - val_loss: 0.1120\n"
     ]
    },
    {
     "data": {
      "text/plain": [
       "<keras.callbacks.History at 0x7fd94fe6a0d0>"
      ]
     },
     "execution_count": 20,
     "metadata": {},
     "output_type": "execute_result"
    }
   ],
   "source": [
    "early_stopping = EarlyStopping(monitor='val_loss', mode='auto', patience=5)\n",
    "model.fit(train_x, train_y,\n",
    "          batch_size=300,\n",
    "          epochs=100,\n",
    "          validation_split=0.1,\n",
    "          callbacks=[early_stopping]\n",
    "          )"
   ]
  },
  {
   "cell_type": "code",
   "execution_count": 21,
   "id": "5b236826-4c5f-4729-97cb-c9152fbaa81e",
   "metadata": {},
   "outputs": [
    {
     "name": "stdout",
     "output_type": "stream",
     "text": [
      "WARNING:tensorflow:AutoGraph could not transform <function Model.make_predict_function.<locals>.predict_function at 0x7fd94fdb1710> and will run it as-is.\n",
      "Please report this to the TensorFlow team. When filing the bug, set the verbosity to 10 (on Linux, `export AUTOGRAPH_VERBOSITY=10`) and attach the full output.\n",
      "Cause: 'arguments' object has no attribute 'posonlyargs'\n",
      "To silence this warning, decorate the function with @tf.autograph.experimental.do_not_convert\n",
      "WARNING: AutoGraph could not transform <function Model.make_predict_function.<locals>.predict_function at 0x7fd94fdb1710> and will run it as-is.\n",
      "Please report this to the TensorFlow team. When filing the bug, set the verbosity to 10 (on Linux, `export AUTOGRAPH_VERBOSITY=10`) and attach the full output.\n",
      "Cause: 'arguments' object has no attribute 'posonlyargs'\n",
      "To silence this warning, decorate the function with @tf.autograph.experimental.do_not_convert\n"
     ]
    }
   ],
   "source": [
    "predicted = model.predict(test_x)"
   ]
  },
  {
   "cell_type": "code",
   "execution_count": 22,
   "id": "b81ff466-069c-42d2-908b-5efefea9389b",
   "metadata": {},
   "outputs": [
    {
     "data": {
      "text/plain": [
       "8008"
      ]
     },
     "execution_count": 22,
     "metadata": {},
     "output_type": "execute_result"
    }
   ],
   "source": [
    "len(predicted)"
   ]
  },
  {
   "cell_type": "code",
   "execution_count": 23,
   "id": "d1357666-8fa7-4913-b529-ee6e34ee3871",
   "metadata": {},
   "outputs": [
    {
     "data": {
      "text/plain": [
       "8008"
      ]
     },
     "execution_count": 23,
     "metadata": {},
     "output_type": "execute_result"
    }
   ],
   "source": [
    "len(test_y)"
   ]
  },
  {
   "cell_type": "code",
   "execution_count": 24,
   "id": "0103828a-1167-4a70-bf85-f9d9d781529a",
   "metadata": {},
   "outputs": [
    {
     "data": {
      "text/plain": [
       "[<matplotlib.lines.Line2D at 0x7fd94bdcba90>]"
      ]
     },
     "execution_count": 24,
     "metadata": {},
     "output_type": "execute_result"
    },
    {
     "data": {
      "image/png": "[encoded data removed]",
      "text/plain": [
       "<Figure size 432x288 with 1 Axes>"
      ]
     },
     "metadata": {
      "needs_background": "light"
     },
     "output_type": "display_data"
    }
   ],
   "source": [
    "plt.plot(test_y[:100])\n",
    "plt.plot(predicted[:100])"
   ]
  },
  {
   "cell_type": "code",
   "execution_count": 25,
   "id": "e22dacbe-c4b6-4568-993b-dfae311586d2",
   "metadata": {},
   "outputs": [],
   "source": [
    "performance = model.evaluate(test_x,test_y, verbose=0)"
   ]
  },
  {
   "cell_type": "code",
   "execution_count": 26,
   "id": "dab14341-4709-44f7-92de-056ae5970b8f",
   "metadata": {},
   "outputs": [
    {
     "data": {
      "text/plain": [
       "0.1760721206665039"
      ]
     },
     "execution_count": 26,
     "metadata": {},
     "output_type": "execute_result"
    }
   ],
   "source": [
    "performance"
   ]
  },
  {
   "cell_type": "code",
   "execution_count": null,
   "id": "660c2d73-d78e-4bfe-a69e-550cafabd7ba",
   "metadata": {},
   "outputs": [],
   "source": []
  }
 ],
 "metadata": {
  "kernelspec": {
   "display_name": "Python 3 (ipykernel)",
   "language": "python",
   "name": "python3"
  },
  "language_info": {
   "codemirror_mode": {
    "name": "ipython",
    "version": 3
   },
   "file_extension": ".py",
   "mimetype": "text/x-python",
   "name": "python",
   "nbconvert_exporter": "python",
   "pygments_lexer": "ipython3",
   "version": "3.7.13"
  }
 },
 "nbformat": 4,
 "nbformat_minor": 5
}
