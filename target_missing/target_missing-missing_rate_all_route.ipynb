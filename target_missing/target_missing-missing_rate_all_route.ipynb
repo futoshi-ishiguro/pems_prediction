{
 "cells": [
  {
   "cell_type": "code",
   "execution_count": 1,
   "id": "b034e650-cb8c-462d-b78c-1fafd013bc0d",
   "metadata": {},
   "outputs": [],
   "source": [
    "import tensorflow as tf\n",
    "from tensorflow.keras.models import Sequential\n",
    "from tensorflow.keras.layers import Dense, Activation\n",
    "from tensorflow.keras.layers import LSTM\n",
    "from tensorflow.keras.optimizers import Adam\n",
    "from tensorflow.keras.callbacks import EarlyStopping\n",
    "import numpy as np\n",
    "import pandas as pd\n",
    "import matplotlib.pyplot as plt\n",
    "import seaborn as sns\n",
    "from sklearn.ensemble import RandomForestRegressor\n",
    "from sklearn.experimental import enable_iterative_imputer\n",
    "from sklearn.impute import IterativeImputer\n",
    "from IPython.display import clear_output\n",
    "import itertools\n",
    "import time\n",
    "import os"
   ]
  },
  {
   "cell_type": "code",
   "execution_count": 2,
   "id": "0c8b2a2f-f600-4133-8c9f-3f08a548f04c",
   "metadata": {},
   "outputs": [],
   "source": [
    "\"\"\"\n",
    "imputation_select = {\"rf\",\"mean\",\"mice\"}\n",
    "prevalence_rate = {0.001,0.005,0.01}\n",
    "\"\"\"\n",
    "\n",
    "imputation_select = \"mice\"\n",
    "prevalence_rate = 0.005"
   ]
  },
  {
   "cell_type": "code",
   "execution_count": 3,
   "id": "0e6076ac-e9d2-4cec-812b-9ffbfc272d86",
   "metadata": {},
   "outputs": [],
   "source": [
    "#csvのパスを設定\n",
    "csv_path = \"/Users/ishigurofutoshi/lab_materials/data/integrated_route.csv\"\n",
    "\n",
    "missing_rate_path = \"/Users/ishigurofutoshi/lab_materials/data/missing_rate_\"+str(prevalence_rate)+\".xlsx\"\n",
    "\n",
    "output_path = \"/Users/ishigurofutoshi/lab_materials/\"+imputation_select\n",
    "fig_output_path = output_path+\"/fig/\"+str(prevalence_rate)\n",
    "excel_output_path = output_path+\"/excel\""
   ]
  },
  {
   "cell_type": "code",
   "execution_count": 4,
   "id": "bcab7dc2",
   "metadata": {},
   "outputs": [],
   "source": [
    "df = pd.read_csv(csv_path,index_col=0)\n",
    "# Slice [start:stop:step], starting from index 5 take every 6th record.\n",
    "#df = df[5::6]\n",
    "df = df.dropna(axis=1)\n",
    "date_time = pd.to_datetime(df.pop('5 Minutes'), format='%Y.%m.%d %H:%M').reset_index(drop=True)"
   ]
  },
  {
   "cell_type": "code",
   "execution_count": 5,
   "id": "9031511e-563d-4c3d-a314-89ea1156f7e6",
   "metadata": {},
   "outputs": [],
   "source": [
    "n_input = 10\n",
    "n_min_ahead = 6\n",
    "window_len = 24\n",
    "\n",
    "plot_start = 900\n",
    "plot_range = 100"
   ]
  },
  {
   "cell_type": "code",
   "execution_count": 6,
   "id": "51601f93",
   "metadata": {
    "tags": []
   },
   "outputs": [],
   "source": [
    "df = df.reset_index(drop=True)"
   ]
  },
  {
   "cell_type": "code",
   "execution_count": 7,
   "id": "8f5e70b9-00e4-43f4-8114-c8ea99421318",
   "metadata": {},
   "outputs": [],
   "source": [
    "missing_rate_df = pd.read_excel(missing_rate_path)"
   ]
  },
  {
   "cell_type": "markdown",
   "id": "bbc17f1c-171a-49ac-9646-b9032dd59f4a",
   "metadata": {
    "tags": []
   },
   "source": [
    "### 標準化"
   ]
  },
  {
   "cell_type": "code",
   "execution_count": 8,
   "id": "63b8a459-70a5-408a-80a4-fe69e9b8a459",
   "metadata": {},
   "outputs": [],
   "source": [
    "column_indices = {name: i for i, name in enumerate(df.columns)}\n",
    "\n",
    "n = len(df)\n",
    "#train_df = df[0:int(n*0.9)]\n",
    "#val_df = df[int(n*0.7):int(n*0.9)]\n",
    "#test_df = df[int(n*0.9):]\n",
    "\n",
    "num_features = df.shape[1]"
   ]
  },
  {
   "cell_type": "code",
   "execution_count": 9,
   "id": "8cb02e04-8d61-4131-a633-7f454c8cc0db",
   "metadata": {},
   "outputs": [],
   "source": [
    "df_mean = df.mean()\n",
    "df_std = df.std()\n",
    "\n",
    "df = (df - df_mean) / df_std\n",
    "#val_df = (val_df - train_mean) / train_std\n",
    "#test_df = (test_df - train_mean) / train_std"
   ]
  },
  {
   "cell_type": "code",
   "execution_count": 10,
   "id": "d0c0d18b-e87d-4672-9d96-521efdac5344",
   "metadata": {},
   "outputs": [],
   "source": [
    "def select_index(df,target):\n",
    "\n",
    "    corrs = []\n",
    "    for c in df.columns:\n",
    "        corr = np.corrcoef(df[target],df[c])[0,1]\n",
    "        corrs.append(corr)\n",
    "    corrs = np.array(corrs)\n",
    "    \n",
    "    #重要度の上位を出力\n",
    "    idx_corrs = np.argsort(np.abs(corrs))[::-1]\n",
    "    top_cols_corrs,top_importances_corrs = df.columns.values[idx_corrs][:n_input],corrs[idx_corrs][:n_input]\n",
    "    print(top_cols_corrs,top_importances_corrs)\n",
    "    \n",
    "    #targetのインデックスを追加\n",
    "    if not target in top_cols_corrs:\n",
    "        top_cols_corrs = np.append(top_cols_corrs,[target])\n",
    "    \n",
    "    top_cols_select = top_cols_corrs\n",
    "    \n",
    "    return top_cols_select\n"
   ]
  },
  {
   "cell_type": "code",
   "execution_count": 11,
   "id": "c486dd22-56b8-48ae-a117-a15727fe9eac",
   "metadata": {},
   "outputs": [],
   "source": [
    "def init_df(target,imputation_select):\n",
    "    select_features = select_index(df,target)\n",
    "    \n",
    "    df_for_target = df.loc[:,select_features]\n",
    "    \n",
    "    labels_df_time = pd.concat((date_time,df_for_target.loc[:,target]),axis=1,sort=False)\n",
    "    inputs_df_time = pd.concat((date_time,df_for_target.loc[:,select_features]),axis=1,sort=False)\n",
    "    \n",
    "    for t in range(24):\n",
    "        for i in labels_df_time.iloc[:int(80100*0.9)].loc[labels_df_time[\"5 Minutes\"].dt.hour==t].sample(frac=missing_rate_df[target][t]).index:\n",
    "            labels_df_time.loc[i,target] = np.nan\n",
    "        for route in select_features:\n",
    "            for i in inputs_df_time.loc[inputs_df_time[\"5 Minutes\"].dt.hour==t].sample(frac=missing_rate_df[route][t]).index:\n",
    "                inputs_df_time.loc[i,route] = np.nan\n",
    "                \n",
    "    inputs_df = inputs_df_time.drop([\"5 Minutes\"],axis=1)\n",
    "    labels_df = labels_df_time.drop([\"5 Minutes\"],axis=1)\n",
    "\n",
    "    if imputation_select==\"rf\":\n",
    "        #RandomForest imputation\n",
    "        inputs_df,labels_df = random_forest_imputation(inputs_df,labels_df,select_features)\n",
    "    elif imputation_select==\"mean\":\n",
    "        #mean imputation\n",
    "        inputs_df,labels_df = mean_imputation(inputs_df,labels_df)\n",
    "        \n",
    "    elif imputation_select==\"mice\":\n",
    "        #MICE\n",
    "        inputs_df,labels_df = mice_imputation(inputs_df,labels_df,select_features)\n",
    "    \n",
    "    return inputs_df,labels_df,inputs_df_time,labels_df_time,select_features"
   ]
  },
  {
   "cell_type": "code",
   "execution_count": 12,
   "id": "98e90e7a-2884-497f-abbd-f277482e65d7",
   "metadata": {},
   "outputs": [],
   "source": [
    "def random_forest_imputation(inputs_df,labels_df,select_features):\n",
    "    rf = RandomForestRegressor(n_estimators=10, n_jobs=-1)\n",
    "    imp = IterativeImputer(random_state=0,estimator=rf)\n",
    "    inputs_df = pd.DataFrame(imp.fit_transform(inputs_df),columns=select_features)\n",
    "    labels_df = pd.DataFrame(imp.fit_transform(labels_df))\n",
    "    return inputs_df,labels_df"
   ]
  },
  {
   "cell_type": "code",
   "execution_count": 13,
   "id": "a6267b22-7b64-484a-b665-97583a6e7394",
   "metadata": {},
   "outputs": [],
   "source": [
    "def mean_imputation(inputs_df,labels_df):\n",
    "    inputs_df = inputs_df.fillna(inputs_df.mean())\n",
    "    labels_df = labels_df.fillna(labels_df.mean())\n",
    "    return inputs_df,labels_df"
   ]
  },
  {
   "cell_type": "code",
   "execution_count": 14,
   "id": "1623446d-dd4b-43f5-99bf-ab5eff834639",
   "metadata": {},
   "outputs": [],
   "source": [
    "from sklearn.experimental import enable_iterative_imputer\n",
    "from sklearn.impute import IterativeImputer\n",
    "\n",
    "def mice_imputation(inputs_df,labels_df,select_features):\n",
    "    imp = IterativeImputer(max_iter=10, random_state=0, sample_posterior=True,tol=0.0001)\n",
    "    inputs_df = pd.DataFrame(imp.fit_transform(inputs_df),columns=select_features)\n",
    "    labels_df = pd.DataFrame(imp.fit_transform(labels_df))\n",
    "    return inputs_df,labels_df"
   ]
  },
  {
   "cell_type": "code",
   "execution_count": 15,
   "id": "2ea9f41a-4b12-4829-90ac-ef1ff588228b",
   "metadata": {},
   "outputs": [],
   "source": [
    "def show_imputation(target,inputs_df,select_features):\n",
    "    original = df[target].values\n",
    "    imputation = inputs_df[target].values\n",
    "    \n",
    "    plt.figure(figsize=(15,10))\n",
    "\n",
    "    plt.scatter(range(30),original[:30],color=\"blue\")\n",
    "    plt.scatter(range(30),imputation[:30],color=\"red\")\n",
    "    \n",
    "    dirname = fig_output_path+\"/imputation/\"\n",
    "    os.makedirs(dirname, exist_ok=True)\n",
    "    plt.savefig(dirname+target+\".png\")\n",
    "\n",
    "    plt.show()"
   ]
  },
  {
   "cell_type": "code",
   "execution_count": 16,
   "id": "885524e5-0f2a-44c6-8051-51cb546b94d9",
   "metadata": {},
   "outputs": [],
   "source": [
    "def make_dataset(labels_df,inputs_df,window_len):\n",
    "    labels, inputs = [], []\n",
    "    for i in range(len(labels_df)-(window_len+n_min_ahead-1)):\n",
    "        labels.append(labels_df.iloc[i+window_len+n_min_ahead-1])\n",
    "        inputs.append(inputs_df.iloc[i:i+window_len])\n",
    "    re_labels = np.array(labels).reshape(len(labels),1)\n",
    "    re_inputs = np.array(inputs).reshape(len(inputs),window_len,n_input)\n",
    "    \n",
    "    return re_labels,re_inputs"
   ]
  },
  {
   "cell_type": "code",
   "execution_count": 17,
   "id": "0b1a997d-68c1-4f62-9e32-4deef6a9dbaa",
   "metadata": {},
   "outputs": [],
   "source": [
    "def show_prediction(test_y,predicted):\n",
    "    plt.figure(figsize=(15,10))\n",
    "\n",
    "    plt.plot(test_y[plot_start:plot_start+plot_range],color=\"blue\")\n",
    "    plt.plot(predicted[plot_start:plot_start+plot_range],color=\"orange\")\n",
    "    \n",
    "    dirname = fig_output_path+\"/prediction/\"\n",
    "    os.makedirs(dirname, exist_ok=True)\n",
    "    plt.savefig(dirname+target+\".png\")"
   ]
  },
  {
   "cell_type": "code",
   "execution_count": 18,
   "id": "41ce1d9b-34e1-43b7-aeae-03e13995ec68",
   "metadata": {},
   "outputs": [],
   "source": [
    "def show_missing_position(test_y,labels_df_time,select_features):\n",
    "    NaN_position = [np.nan for i in range(len(test_y))]\n",
    "    measured_position = [np.nan for i in range(len(test_y))]\n",
    "    tmp = list(itertools.chain.from_iterable(test_y))\n",
    "\n",
    "    for i in range(len(test_y)):\n",
    "        if np.isnan(labels_df_time.iloc[i,1]):\n",
    "            NaN_position[i] = tmp[i]\n",
    "        else:\n",
    "            measured_position[i] = tmp[i]\n",
    "    NaN_mask = [[0 for i in range(len(select_features))] for j in range(len(test_x[plot_start:plot_start+plot_range,:]))]\n",
    "\n",
    "    c_num = 0\n",
    "    for c in select_features:\n",
    "        for i in range(len(test_x[plot_start:plot_start+plot_range,:])):\n",
    "            if np.isnan(inputs_df_time[c].iloc[int(n*0.9)+plot_start+i,]):\n",
    "                NaN_mask[i][c_num] = 1\n",
    "        c_num += 1\n",
    "\n",
    "    NaN_mask = np.array(NaN_mask)\n",
    "    NaN_mask_df = pd.DataFrame(data=NaN_mask.T,index=select_features,columns=inputs_df_time[\"5 Minutes\"].iloc[int(n*0.9)+plot_start:int(n*0.9)+plot_start+plot_range,].dt.strftime(\"%Y/%m/%d-%H:%M\"))\n",
    "    \n",
    "    plt.figure(figsize=(15,10))\n",
    "    sns.set(rc={\"figure.figsize\":(15,3)})\n",
    "    sns.heatmap(NaN_mask_df,cmap=\"Reds\",cbar=False)\n",
    "    \n",
    "    dirname = fig_output_path+\"/missing_position/\"\n",
    "    os.makedirs(dirname, exist_ok=True)\n",
    "    plt.savefig(dirname+target+\".png\")"
   ]
  },
  {
   "cell_type": "code",
   "execution_count": 19,
   "id": "bfe60113-6bad-43e6-b06d-7dd9a4ac7867",
   "metadata": {},
   "outputs": [],
   "source": [
    "def evaluation(evaluation_list,training_time):\n",
    "    performance = model.evaluate(test_x,test_y, verbose=0)\n",
    "    evaluation_list.append([performance,training_time])\n",
    "    \n",
    "    return evaluation_list"
   ]
  },
  {
   "cell_type": "code",
   "execution_count": 20,
   "id": "63ae64a4-38e7-428b-adb2-e5d8d8eab8ef",
   "metadata": {},
   "outputs": [
    {
     "name": "stdout",
     "output_type": "stream",
     "text": [
      "['11750' '4649' '79' '6225' '18830' '81' '4651' '275' '78' '18828'] [1.         0.9902075  0.94140911 0.83968254 0.83840499 0.82003342\n",
      " 0.81898798 0.81518512 0.81346402 0.80680353]\n",
      "mice\n"
     ]
    },
    {
     "ename": "KeyboardInterrupt",
     "evalue": "",
     "output_type": "error",
     "traceback": [
      "\u001b[0;31m---------------------------------------------------------------------------\u001b[0m",
      "\u001b[0;31mKeyboardInterrupt\u001b[0m                         Traceback (most recent call last)",
      "\u001b[0;32m/var/folders/ns/m6xqd78d419c4bs1hmdmhkh00000gp/T/ipykernel_4189/889485851.py\u001b[0m in \u001b[0;36m<module>\u001b[0;34m\u001b[0m\n\u001b[1;32m      5\u001b[0m     \u001b[0;31m#DataFrameの作成（欠損作成＆補完）\u001b[0m\u001b[0;34m\u001b[0m\u001b[0;34m\u001b[0m\u001b[0;34m\u001b[0m\u001b[0m\n\u001b[1;32m      6\u001b[0m \u001b[0;34m\u001b[0m\u001b[0m\n\u001b[0;32m----> 7\u001b[0;31m     \u001b[0minputs_df\u001b[0m\u001b[0;34m,\u001b[0m\u001b[0mlabels_df\u001b[0m\u001b[0;34m,\u001b[0m\u001b[0minputs_df_time\u001b[0m\u001b[0;34m,\u001b[0m\u001b[0mlabels_df_time\u001b[0m\u001b[0;34m,\u001b[0m\u001b[0mselect_features\u001b[0m \u001b[0;34m=\u001b[0m \u001b[0minit_df\u001b[0m\u001b[0;34m(\u001b[0m\u001b[0mtarget\u001b[0m\u001b[0;34m,\u001b[0m\u001b[0mimputation_select\u001b[0m\u001b[0;34m)\u001b[0m\u001b[0;34m\u001b[0m\u001b[0;34m\u001b[0m\u001b[0m\n\u001b[0m\u001b[1;32m      8\u001b[0m \u001b[0;34m\u001b[0m\u001b[0m\n\u001b[1;32m      9\u001b[0m     \u001b[0;31m#単一値補完の描画\u001b[0m\u001b[0;34m\u001b[0m\u001b[0;34m\u001b[0m\u001b[0;34m\u001b[0m\u001b[0m\n",
      "\u001b[0;32m/var/folders/ns/m6xqd78d419c4bs1hmdmhkh00000gp/T/ipykernel_4189/247294893.py\u001b[0m in \u001b[0;36minit_df\u001b[0;34m(target, imputation_select)\u001b[0m\n\u001b[1;32m     26\u001b[0m     \u001b[0;32melif\u001b[0m \u001b[0mimputation_select\u001b[0m\u001b[0;34m==\u001b[0m\u001b[0;34m\"mice\"\u001b[0m\u001b[0;34m:\u001b[0m\u001b[0;34m\u001b[0m\u001b[0;34m\u001b[0m\u001b[0m\n\u001b[1;32m     27\u001b[0m         \u001b[0;31m#MICE\u001b[0m\u001b[0;34m\u001b[0m\u001b[0;34m\u001b[0m\u001b[0;34m\u001b[0m\u001b[0m\n\u001b[0;32m---> 28\u001b[0;31m         \u001b[0minputs_df\u001b[0m\u001b[0;34m,\u001b[0m\u001b[0mlabels_df\u001b[0m \u001b[0;34m=\u001b[0m \u001b[0mmice_imputation\u001b[0m\u001b[0;34m(\u001b[0m\u001b[0minputs_df\u001b[0m\u001b[0;34m,\u001b[0m\u001b[0mlabels_df\u001b[0m\u001b[0;34m,\u001b[0m\u001b[0mselect_features\u001b[0m\u001b[0;34m)\u001b[0m\u001b[0;34m\u001b[0m\u001b[0;34m\u001b[0m\u001b[0m\n\u001b[0m\u001b[1;32m     29\u001b[0m \u001b[0;34m\u001b[0m\u001b[0m\n\u001b[1;32m     30\u001b[0m     \u001b[0;32mreturn\u001b[0m \u001b[0minputs_df\u001b[0m\u001b[0;34m,\u001b[0m\u001b[0mlabels_df\u001b[0m\u001b[0;34m,\u001b[0m\u001b[0minputs_df_time\u001b[0m\u001b[0;34m,\u001b[0m\u001b[0mlabels_df_time\u001b[0m\u001b[0;34m,\u001b[0m\u001b[0mselect_features\u001b[0m\u001b[0;34m\u001b[0m\u001b[0;34m\u001b[0m\u001b[0m\n",
      "\u001b[0;32m/var/folders/ns/m6xqd78d419c4bs1hmdmhkh00000gp/T/ipykernel_4189/1510326869.py\u001b[0m in \u001b[0;36mmice_imputation\u001b[0;34m(inputs_df, labels_df, select_features)\u001b[0m\n\u001b[1;32m      5\u001b[0m     \u001b[0mprint\u001b[0m\u001b[0;34m(\u001b[0m\u001b[0;34m\"mice\"\u001b[0m\u001b[0;34m)\u001b[0m\u001b[0;34m\u001b[0m\u001b[0;34m\u001b[0m\u001b[0m\n\u001b[1;32m      6\u001b[0m     \u001b[0mimp\u001b[0m \u001b[0;34m=\u001b[0m \u001b[0mIterativeImputer\u001b[0m\u001b[0;34m(\u001b[0m\u001b[0mmax_iter\u001b[0m\u001b[0;34m=\u001b[0m\u001b[0;36m10\u001b[0m\u001b[0;34m,\u001b[0m \u001b[0mrandom_state\u001b[0m\u001b[0;34m=\u001b[0m\u001b[0;36m0\u001b[0m\u001b[0;34m,\u001b[0m \u001b[0msample_posterior\u001b[0m\u001b[0;34m=\u001b[0m\u001b[0;32mTrue\u001b[0m\u001b[0;34m,\u001b[0m\u001b[0mtol\u001b[0m\u001b[0;34m=\u001b[0m\u001b[0;36m0.0001\u001b[0m\u001b[0;34m)\u001b[0m\u001b[0;34m\u001b[0m\u001b[0;34m\u001b[0m\u001b[0m\n\u001b[0;32m----> 7\u001b[0;31m     \u001b[0minputs_df\u001b[0m \u001b[0;34m=\u001b[0m \u001b[0mpd\u001b[0m\u001b[0;34m.\u001b[0m\u001b[0mDataFrame\u001b[0m\u001b[0;34m(\u001b[0m\u001b[0mimp\u001b[0m\u001b[0;34m.\u001b[0m\u001b[0mfit_transform\u001b[0m\u001b[0;34m(\u001b[0m\u001b[0minputs_df\u001b[0m\u001b[0;34m)\u001b[0m\u001b[0;34m,\u001b[0m\u001b[0mcolumns\u001b[0m\u001b[0;34m=\u001b[0m\u001b[0mselect_features\u001b[0m\u001b[0;34m)\u001b[0m\u001b[0;34m\u001b[0m\u001b[0;34m\u001b[0m\u001b[0m\n\u001b[0m\u001b[1;32m      8\u001b[0m     \u001b[0mlabels_df\u001b[0m \u001b[0;34m=\u001b[0m \u001b[0mpd\u001b[0m\u001b[0;34m.\u001b[0m\u001b[0mDataFrame\u001b[0m\u001b[0;34m(\u001b[0m\u001b[0mimp\u001b[0m\u001b[0;34m.\u001b[0m\u001b[0mfit_transform\u001b[0m\u001b[0;34m(\u001b[0m\u001b[0mlabels_df\u001b[0m\u001b[0;34m)\u001b[0m\u001b[0;34m)\u001b[0m\u001b[0;34m\u001b[0m\u001b[0;34m\u001b[0m\u001b[0m\n\u001b[1;32m      9\u001b[0m     \u001b[0;32mreturn\u001b[0m \u001b[0minputs_df\u001b[0m\u001b[0;34m,\u001b[0m\u001b[0mlabels_df\u001b[0m\u001b[0;34m\u001b[0m\u001b[0;34m\u001b[0m\u001b[0m\n",
      "\u001b[0;32m~/opt/anaconda3/envs/pems/lib/python3.7/site-packages/sklearn/impute/_iterative.py\u001b[0m in \u001b[0;36mfit_transform\u001b[0;34m(self, X, y)\u001b[0m\n\u001b[1;32m    668\u001b[0m                     \u001b[0mneighbor_feat_idx\u001b[0m\u001b[0;34m,\u001b[0m\u001b[0;34m\u001b[0m\u001b[0;34m\u001b[0m\u001b[0m\n\u001b[1;32m    669\u001b[0m                     \u001b[0mestimator\u001b[0m\u001b[0;34m=\u001b[0m\u001b[0;32mNone\u001b[0m\u001b[0;34m,\u001b[0m\u001b[0;34m\u001b[0m\u001b[0;34m\u001b[0m\u001b[0m\n\u001b[0;32m--> 670\u001b[0;31m                     \u001b[0mfit_mode\u001b[0m\u001b[0;34m=\u001b[0m\u001b[0;32mTrue\u001b[0m\u001b[0;34m,\u001b[0m\u001b[0;34m\u001b[0m\u001b[0;34m\u001b[0m\u001b[0m\n\u001b[0m\u001b[1;32m    671\u001b[0m                 )\n\u001b[1;32m    672\u001b[0m                 estimator_triplet = _ImputerTriplet(\n",
      "\u001b[0;32m~/opt/anaconda3/envs/pems/lib/python3.7/site-packages/sklearn/impute/_iterative.py\u001b[0m in \u001b[0;36m_impute_one_feature\u001b[0;34m(self, X_filled, mask_missing_values, feat_idx, neighbor_feat_idx, estimator, fit_mode)\u001b[0m\n\u001b[1;32m    344\u001b[0m             \u001b[0mtruncated_normal\u001b[0m \u001b[0;34m=\u001b[0m \u001b[0mstats\u001b[0m\u001b[0;34m.\u001b[0m\u001b[0mtruncnorm\u001b[0m\u001b[0;34m(\u001b[0m\u001b[0ma\u001b[0m\u001b[0;34m=\u001b[0m\u001b[0ma\u001b[0m\u001b[0;34m,\u001b[0m \u001b[0mb\u001b[0m\u001b[0;34m=\u001b[0m\u001b[0mb\u001b[0m\u001b[0;34m,\u001b[0m \u001b[0mloc\u001b[0m\u001b[0;34m=\u001b[0m\u001b[0mmus\u001b[0m\u001b[0;34m,\u001b[0m \u001b[0mscale\u001b[0m\u001b[0;34m=\u001b[0m\u001b[0msigmas\u001b[0m\u001b[0;34m)\u001b[0m\u001b[0;34m\u001b[0m\u001b[0;34m\u001b[0m\u001b[0m\n\u001b[1;32m    345\u001b[0m             imputed_values[inrange_mask] = truncated_normal.rvs(\n\u001b[0;32m--> 346\u001b[0;31m                 \u001b[0mrandom_state\u001b[0m\u001b[0;34m=\u001b[0m\u001b[0mself\u001b[0m\u001b[0;34m.\u001b[0m\u001b[0mrandom_state_\u001b[0m\u001b[0;34m\u001b[0m\u001b[0;34m\u001b[0m\u001b[0m\n\u001b[0m\u001b[1;32m    347\u001b[0m             )\n\u001b[1;32m    348\u001b[0m         \u001b[0;32melse\u001b[0m\u001b[0;34m:\u001b[0m\u001b[0;34m\u001b[0m\u001b[0;34m\u001b[0m\u001b[0m\n",
      "\u001b[0;32m~/opt/anaconda3/envs/pems/lib/python3.7/site-packages/scipy/stats/_distn_infrastructure.py\u001b[0m in \u001b[0;36mrvs\u001b[0;34m(self, size, random_state)\u001b[0m\n\u001b[1;32m    471\u001b[0m         \u001b[0mkwds\u001b[0m \u001b[0;34m=\u001b[0m \u001b[0mself\u001b[0m\u001b[0;34m.\u001b[0m\u001b[0mkwds\u001b[0m\u001b[0;34m.\u001b[0m\u001b[0mcopy\u001b[0m\u001b[0;34m(\u001b[0m\u001b[0;34m)\u001b[0m\u001b[0;34m\u001b[0m\u001b[0;34m\u001b[0m\u001b[0m\n\u001b[1;32m    472\u001b[0m         \u001b[0mkwds\u001b[0m\u001b[0;34m.\u001b[0m\u001b[0mupdate\u001b[0m\u001b[0;34m(\u001b[0m\u001b[0;34m{\u001b[0m\u001b[0;34m'size'\u001b[0m\u001b[0;34m:\u001b[0m \u001b[0msize\u001b[0m\u001b[0;34m,\u001b[0m \u001b[0;34m'random_state'\u001b[0m\u001b[0;34m:\u001b[0m \u001b[0mrandom_state\u001b[0m\u001b[0;34m}\u001b[0m\u001b[0;34m)\u001b[0m\u001b[0;34m\u001b[0m\u001b[0;34m\u001b[0m\u001b[0m\n\u001b[0;32m--> 473\u001b[0;31m         \u001b[0;32mreturn\u001b[0m \u001b[0mself\u001b[0m\u001b[0;34m.\u001b[0m\u001b[0mdist\u001b[0m\u001b[0;34m.\u001b[0m\u001b[0mrvs\u001b[0m\u001b[0;34m(\u001b[0m\u001b[0;34m*\u001b[0m\u001b[0mself\u001b[0m\u001b[0;34m.\u001b[0m\u001b[0margs\u001b[0m\u001b[0;34m,\u001b[0m \u001b[0;34m**\u001b[0m\u001b[0mkwds\u001b[0m\u001b[0;34m)\u001b[0m\u001b[0;34m\u001b[0m\u001b[0;34m\u001b[0m\u001b[0m\n\u001b[0m\u001b[1;32m    474\u001b[0m \u001b[0;34m\u001b[0m\u001b[0m\n\u001b[1;32m    475\u001b[0m     \u001b[0;32mdef\u001b[0m \u001b[0msf\u001b[0m\u001b[0;34m(\u001b[0m\u001b[0mself\u001b[0m\u001b[0;34m,\u001b[0m \u001b[0mx\u001b[0m\u001b[0;34m)\u001b[0m\u001b[0;34m:\u001b[0m\u001b[0;34m\u001b[0m\u001b[0;34m\u001b[0m\u001b[0m\n",
      "\u001b[0;32m~/opt/anaconda3/envs/pems/lib/python3.7/site-packages/scipy/stats/_distn_infrastructure.py\u001b[0m in \u001b[0;36mrvs\u001b[0;34m(self, *args, **kwds)\u001b[0m\n\u001b[1;32m   1090\u001b[0m             \u001b[0mvals\u001b[0m \u001b[0;34m=\u001b[0m \u001b[0mself\u001b[0m\u001b[0;34m.\u001b[0m\u001b[0m_rvs\u001b[0m\u001b[0;34m(\u001b[0m\u001b[0;34m*\u001b[0m\u001b[0margs\u001b[0m\u001b[0;34m)\u001b[0m\u001b[0;34m\u001b[0m\u001b[0;34m\u001b[0m\u001b[0m\n\u001b[1;32m   1091\u001b[0m         \u001b[0;32melse\u001b[0m\u001b[0;34m:\u001b[0m\u001b[0;34m\u001b[0m\u001b[0;34m\u001b[0m\u001b[0m\n\u001b[0;32m-> 1092\u001b[0;31m             \u001b[0mvals\u001b[0m \u001b[0;34m=\u001b[0m \u001b[0mself\u001b[0m\u001b[0;34m.\u001b[0m\u001b[0m_rvs\u001b[0m\u001b[0;34m(\u001b[0m\u001b[0;34m*\u001b[0m\u001b[0margs\u001b[0m\u001b[0;34m,\u001b[0m \u001b[0msize\u001b[0m\u001b[0;34m=\u001b[0m\u001b[0msize\u001b[0m\u001b[0;34m,\u001b[0m \u001b[0mrandom_state\u001b[0m\u001b[0;34m=\u001b[0m\u001b[0mrandom_state\u001b[0m\u001b[0;34m)\u001b[0m\u001b[0;34m\u001b[0m\u001b[0;34m\u001b[0m\u001b[0m\n\u001b[0m\u001b[1;32m   1093\u001b[0m \u001b[0;34m\u001b[0m\u001b[0m\n\u001b[1;32m   1094\u001b[0m         \u001b[0mvals\u001b[0m \u001b[0;34m=\u001b[0m \u001b[0mvals\u001b[0m \u001b[0;34m*\u001b[0m \u001b[0mscale\u001b[0m \u001b[0;34m+\u001b[0m \u001b[0mloc\u001b[0m\u001b[0;34m\u001b[0m\u001b[0;34m\u001b[0m\u001b[0m\n",
      "\u001b[0;32m~/opt/anaconda3/envs/pems/lib/python3.7/site-packages/scipy/stats/_continuous_distns.py\u001b[0m in \u001b[0;36m_rvs\u001b[0;34m(self, a, b, size, random_state)\u001b[0m\n\u001b[1;32m   8298\u001b[0m                             for j in range(-len(size), 0))\n\u001b[1;32m   8299\u001b[0m                 out[idx] = self._rvs_scalar(it[0], it[1], numsamples,\n\u001b[0;32m-> 8300\u001b[0;31m                                             random_state).reshape(shp)\n\u001b[0m\u001b[1;32m   8301\u001b[0m                 \u001b[0mit\u001b[0m\u001b[0;34m.\u001b[0m\u001b[0miternext\u001b[0m\u001b[0;34m(\u001b[0m\u001b[0;34m)\u001b[0m\u001b[0;34m\u001b[0m\u001b[0;34m\u001b[0m\u001b[0m\n\u001b[1;32m   8302\u001b[0m \u001b[0;34m\u001b[0m\u001b[0m\n",
      "\u001b[0;32m~/opt/anaconda3/envs/pems/lib/python3.7/site-packages/scipy/stats/_continuous_distns.py\u001b[0m in \u001b[0;36m_rvs_scalar\u001b[0;34m(self, a, b, numsamples, random_state)\u001b[0m\n\u001b[1;32m   8311\u001b[0m         \u001b[0;31m# prepare sampling of rvs\u001b[0m\u001b[0;34m\u001b[0m\u001b[0;34m\u001b[0m\u001b[0;34m\u001b[0m\u001b[0m\n\u001b[1;32m   8312\u001b[0m         \u001b[0msize1d\u001b[0m \u001b[0;34m=\u001b[0m \u001b[0mtuple\u001b[0m\u001b[0;34m(\u001b[0m\u001b[0mnp\u001b[0m\u001b[0;34m.\u001b[0m\u001b[0matleast_1d\u001b[0m\u001b[0;34m(\u001b[0m\u001b[0mnumsamples\u001b[0m\u001b[0;34m)\u001b[0m\u001b[0;34m)\u001b[0m\u001b[0;34m\u001b[0m\u001b[0;34m\u001b[0m\u001b[0m\n\u001b[0;32m-> 8313\u001b[0;31m         \u001b[0mN\u001b[0m \u001b[0;34m=\u001b[0m \u001b[0mnp\u001b[0m\u001b[0;34m.\u001b[0m\u001b[0mprod\u001b[0m\u001b[0;34m(\u001b[0m\u001b[0msize1d\u001b[0m\u001b[0;34m)\u001b[0m  \u001b[0;31m# number of rvs needed, reshape upon return\u001b[0m\u001b[0;34m\u001b[0m\u001b[0;34m\u001b[0m\u001b[0m\n\u001b[0m\u001b[1;32m   8314\u001b[0m         \u001b[0;31m# Calculate some rvs\u001b[0m\u001b[0;34m\u001b[0m\u001b[0;34m\u001b[0m\u001b[0;34m\u001b[0m\u001b[0m\n\u001b[1;32m   8315\u001b[0m         \u001b[0mU\u001b[0m \u001b[0;34m=\u001b[0m \u001b[0mrandom_state\u001b[0m\u001b[0;34m.\u001b[0m\u001b[0muniform\u001b[0m\u001b[0;34m(\u001b[0m\u001b[0mlow\u001b[0m\u001b[0;34m=\u001b[0m\u001b[0;36m0\u001b[0m\u001b[0;34m,\u001b[0m \u001b[0mhigh\u001b[0m\u001b[0;34m=\u001b[0m\u001b[0;36m1\u001b[0m\u001b[0;34m,\u001b[0m \u001b[0msize\u001b[0m\u001b[0;34m=\u001b[0m\u001b[0mN\u001b[0m\u001b[0;34m)\u001b[0m\u001b[0;34m\u001b[0m\u001b[0;34m\u001b[0m\u001b[0m\n",
      "\u001b[0;32m<__array_function__ internals>\u001b[0m in \u001b[0;36mprod\u001b[0;34m(*args, **kwargs)\u001b[0m\n",
      "\u001b[0;32m~/opt/anaconda3/envs/pems/lib/python3.7/site-packages/numpy/core/fromnumeric.py\u001b[0m in \u001b[0;36mprod\u001b[0;34m(a, axis, dtype, out, keepdims, initial, where)\u001b[0m\n\u001b[1;32m   3050\u001b[0m     \"\"\"\n\u001b[1;32m   3051\u001b[0m     return _wrapreduction(a, np.multiply, 'prod', axis, dtype, out,\n\u001b[0;32m-> 3052\u001b[0;31m                           keepdims=keepdims, initial=initial, where=where)\n\u001b[0m\u001b[1;32m   3053\u001b[0m \u001b[0;34m\u001b[0m\u001b[0m\n\u001b[1;32m   3054\u001b[0m \u001b[0;34m\u001b[0m\u001b[0m\n",
      "\u001b[0;32m~/opt/anaconda3/envs/pems/lib/python3.7/site-packages/numpy/core/fromnumeric.py\u001b[0m in \u001b[0;36m_wrapreduction\u001b[0;34m(obj, ufunc, method, axis, dtype, out, **kwargs)\u001b[0m\n\u001b[1;32m     68\u001b[0m \u001b[0;34m\u001b[0m\u001b[0m\n\u001b[1;32m     69\u001b[0m \u001b[0;32mdef\u001b[0m \u001b[0m_wrapreduction\u001b[0m\u001b[0;34m(\u001b[0m\u001b[0mobj\u001b[0m\u001b[0;34m,\u001b[0m \u001b[0mufunc\u001b[0m\u001b[0;34m,\u001b[0m \u001b[0mmethod\u001b[0m\u001b[0;34m,\u001b[0m \u001b[0maxis\u001b[0m\u001b[0;34m,\u001b[0m \u001b[0mdtype\u001b[0m\u001b[0;34m,\u001b[0m \u001b[0mout\u001b[0m\u001b[0;34m,\u001b[0m \u001b[0;34m**\u001b[0m\u001b[0mkwargs\u001b[0m\u001b[0;34m)\u001b[0m\u001b[0;34m:\u001b[0m\u001b[0;34m\u001b[0m\u001b[0;34m\u001b[0m\u001b[0m\n\u001b[0;32m---> 70\u001b[0;31m     passkwargs = {k: v for k, v in kwargs.items()\n\u001b[0m\u001b[1;32m     71\u001b[0m                   if v is not np._NoValue}\n\u001b[1;32m     72\u001b[0m \u001b[0;34m\u001b[0m\u001b[0m\n",
      "\u001b[0;32m~/opt/anaconda3/envs/pems/lib/python3.7/site-packages/numpy/core/fromnumeric.py\u001b[0m in \u001b[0;36m<dictcomp>\u001b[0;34m(.0)\u001b[0m\n\u001b[1;32m     69\u001b[0m \u001b[0;32mdef\u001b[0m \u001b[0m_wrapreduction\u001b[0m\u001b[0;34m(\u001b[0m\u001b[0mobj\u001b[0m\u001b[0;34m,\u001b[0m \u001b[0mufunc\u001b[0m\u001b[0;34m,\u001b[0m \u001b[0mmethod\u001b[0m\u001b[0;34m,\u001b[0m \u001b[0maxis\u001b[0m\u001b[0;34m,\u001b[0m \u001b[0mdtype\u001b[0m\u001b[0;34m,\u001b[0m \u001b[0mout\u001b[0m\u001b[0;34m,\u001b[0m \u001b[0;34m**\u001b[0m\u001b[0mkwargs\u001b[0m\u001b[0;34m)\u001b[0m\u001b[0;34m:\u001b[0m\u001b[0;34m\u001b[0m\u001b[0;34m\u001b[0m\u001b[0m\n\u001b[1;32m     70\u001b[0m     passkwargs = {k: v for k, v in kwargs.items()\n\u001b[0;32m---> 71\u001b[0;31m                   if v is not np._NoValue}\n\u001b[0m\u001b[1;32m     72\u001b[0m \u001b[0;34m\u001b[0m\u001b[0m\n\u001b[1;32m     73\u001b[0m     \u001b[0;32mif\u001b[0m \u001b[0mtype\u001b[0m\u001b[0;34m(\u001b[0m\u001b[0mobj\u001b[0m\u001b[0;34m)\u001b[0m \u001b[0;32mis\u001b[0m \u001b[0;32mnot\u001b[0m \u001b[0mmu\u001b[0m\u001b[0;34m.\u001b[0m\u001b[0mndarray\u001b[0m\u001b[0;34m:\u001b[0m\u001b[0;34m\u001b[0m\u001b[0;34m\u001b[0m\u001b[0m\n",
      "\u001b[0;31mKeyboardInterrupt\u001b[0m: "
     ]
    }
   ],
   "source": [
    "evaluation_list = []\n",
    "for target in df.columns:\n",
    "    index_target = df.columns.get_loc(target)\n",
    "    \n",
    "    #DataFrameの作成（欠損作成＆補完）\n",
    "\n",
    "    inputs_df,labels_df,inputs_df_time,labels_df_time,select_features = init_df(target,imputation_select)\n",
    "    \n",
    "    #単一値補完の描画\n",
    "    show_imputation(target,inputs_df,select_features)\n",
    "    \n",
    "    labels_ds, inputs_ds = make_dataset(labels_df,inputs_df,window_len)\n",
    "    \n",
    "    n = len(inputs_ds)\n",
    "    train_x, test_x = inputs_ds[:int(n*0.9)],inputs_ds[int(n*0.9):] \n",
    "    train_y, test_y = labels_ds[:int(n*0.9)],labels_ds[int(n*0.9):]\n",
    "    \n",
    "    # モデル構築\n",
    "    # 1つの学習データのwindowサイズ\n",
    "    length_of_sequence = inputs_ds.shape[1] \n",
    "    in_out_neurons = 1\n",
    "    n_hidden = 300\n",
    "\n",
    "    model = Sequential()\n",
    "    model.add(LSTM(n_hidden, batch_input_shape=(None, length_of_sequence, n_input), return_sequences=False))\n",
    "    model.add(Dense(in_out_neurons))\n",
    "    #model.add(Activation(\"linear\"))\n",
    "    optimizer = Adam(learning_rate=0.001)\n",
    "    model.compile(loss=\"mean_squared_error\", optimizer=optimizer)\n",
    "    \n",
    "    early_stopping = EarlyStopping(monitor='val_loss', mode='auto', patience=5)\n",
    "    \n",
    "    start = time.time()\n",
    "    model.fit(train_x, train_y,\n",
    "          batch_size=300,\n",
    "          epochs=100,\n",
    "          validation_split=0.1,\n",
    "          callbacks=[early_stopping]\n",
    "          )\n",
    "    training_time = time.time()-start\n",
    "    \n",
    "    #モデルテスト\n",
    "    predicted = model.predict(test_x)\n",
    "    \n",
    "    #予測値と観測値の描画\n",
    "    show_prediction(test_y,predicted)\n",
    "    \n",
    "    #欠損値の描画\n",
    "    show_missing_position(test_y,labels_df_time,select_features)\n",
    "    \n",
    "    #評価結果の出力\n",
    "    evaluation_list = evaluation(evaluation_list,training_time)\n",
    "    print(evaluation_list)"
   ]
  },
  {
   "cell_type": "code",
   "execution_count": null,
   "id": "b57a459b-7e0f-4998-9910-e027632cb100",
   "metadata": {},
   "outputs": [],
   "source": [
    "evaluation_df = pd.DataFrame(evaluation_list,index=df.columns,columns=[\"RMSE\",\"training_time\"])\n",
    "\n",
    "dirname = excel_output_path\n",
    "os.makedirs(dirname, exist_ok=True)\n",
    "evaluation_df.to_excel(excel_output_path+\"/RMSE.xlsx\")"
   ]
  },
  {
   "cell_type": "code",
   "execution_count": null,
   "id": "eb792e99-a0ab-437f-8a55-deae975bb5e2",
   "metadata": {},
   "outputs": [],
   "source": []
  }
 ],
 "metadata": {
  "kernelspec": {
   "display_name": "Python 3 (ipykernel)",
   "language": "python",
   "name": "python3"
  },
  "language_info": {
   "codemirror_mode": {
    "name": "ipython",
    "version": 3
   },
   "file_extension": ".py",
   "mimetype": "text/x-python",
   "name": "python",
   "nbconvert_exporter": "python",
   "pygments_lexer": "ipython3",
   "version": "3.7.13"
  }
 },
 "nbformat": 4,
 "nbformat_minor": 5
}
