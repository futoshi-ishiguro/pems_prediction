{
 "cells": [
  {
   "cell_type": "code",
   "execution_count": 1,
   "id": "b034e650-cb8c-462d-b78c-1fafd013bc0d",
   "metadata": {},
   "outputs": [],
   "source": [
    "import tensorflow as tf\n",
    "from tensorflow.keras.models import Sequential\n",
    "from tensorflow.keras.layers import Dense, Activation\n",
    "from tensorflow.keras.layers import LSTM\n",
    "from tensorflow.keras.optimizers import Adam\n",
    "from tensorflow.keras.callbacks import EarlyStopping\n",
    "import numpy as np\n",
    "import pandas as pd\n",
    "import matplotlib.pyplot as plt\n",
    "import seaborn as sns\n",
    "from sklearn.ensemble import RandomForestRegressor\n",
    "from sklearn.experimental import enable_iterative_imputer\n",
    "from sklearn.impute import IterativeImputer\n",
    "from IPython.display import clear_output\n",
    "import itertools\n",
    "import time\n",
    "import os"
   ]
  },
  {
   "cell_type": "code",
   "execution_count": 2,
   "id": "0c8b2a2f-f600-4133-8c9f-3f08a548f04c",
   "metadata": {},
   "outputs": [],
   "source": [
    "\"\"\"\n",
    "imputation_select = {\"rf\",\"mean\"}\n",
    "prevalence_rate = {0.001,0.005,0.01}\n",
    "\"\"\"\n",
    "\n",
    "imputation_select = \"rf\"\n",
    "prevalence_rate = 0.005"
   ]
  },
  {
   "cell_type": "code",
   "execution_count": 3,
   "id": "0e6076ac-e9d2-4cec-812b-9ffbfc272d86",
   "metadata": {},
   "outputs": [],
   "source": [
    "#csvのパスを設定\n",
    "csv_path = \"/Users/ishigurofutoshi/lab_materials/data/integrated_route.csv\"\n",
    "\n",
    "missing_rate_path = \"/Users/ishigurofutoshi/lab_materials/data/missing_rate_\"+str(prevalence_rate)+\".xlsx\"\n",
    "\n",
    "output_path = \"/Users/ishigurofutoshi/lab_materials/\"+imputation_select\n",
    "fig_output_path = output_path+\"/fig/\"+str(prevalence_rate)\n",
    "excel_output_path = output_path+\"/excel\""
   ]
  },
  {
   "cell_type": "code",
   "execution_count": 4,
   "id": "bcab7dc2",
   "metadata": {},
   "outputs": [],
   "source": [
    "df = pd.read_csv(csv_path,index_col=0)\n",
    "# Slice [start:stop:step], starting from index 5 take every 6th record.\n",
    "#df = df[5::6]\n",
    "df = df.dropna(axis=1)\n",
    "date_time = pd.to_datetime(df.pop('5 Minutes'), format='%Y.%m.%d %H:%M').reset_index(drop=True)"
   ]
  },
  {
   "cell_type": "code",
   "execution_count": 5,
   "id": "9031511e-563d-4c3d-a314-89ea1156f7e6",
   "metadata": {},
   "outputs": [],
   "source": [
    "n_input = 10\n",
    "n_min_ahead = 6\n",
    "window_len = 24\n",
    "\n",
    "plot_start = 900\n",
    "plot_range = 100"
   ]
  },
  {
   "cell_type": "code",
   "execution_count": 6,
   "id": "51601f93",
   "metadata": {
    "tags": []
   },
   "outputs": [],
   "source": [
    "df = df.reset_index(drop=True)"
   ]
  },
  {
   "cell_type": "code",
   "execution_count": 7,
   "id": "8f5e70b9-00e4-43f4-8114-c8ea99421318",
   "metadata": {},
   "outputs": [],
   "source": [
    "missing_rate_df = pd.read_excel(missing_rate_path)"
   ]
  },
  {
   "cell_type": "markdown",
   "id": "bbc17f1c-171a-49ac-9646-b9032dd59f4a",
   "metadata": {
    "tags": []
   },
   "source": [
    "### 標準化"
   ]
  },
  {
   "cell_type": "code",
   "execution_count": 8,
   "id": "63b8a459-70a5-408a-80a4-fe69e9b8a459",
   "metadata": {},
   "outputs": [],
   "source": [
    "column_indices = {name: i for i, name in enumerate(df.columns)}\n",
    "\n",
    "n = len(df)\n",
    "#train_df = df[0:int(n*0.9)]\n",
    "#val_df = df[int(n*0.7):int(n*0.9)]\n",
    "#test_df = df[int(n*0.9):]\n",
    "\n",
    "num_features = df.shape[1]"
   ]
  },
  {
   "cell_type": "code",
   "execution_count": 9,
   "id": "8cb02e04-8d61-4131-a633-7f454c8cc0db",
   "metadata": {},
   "outputs": [],
   "source": [
    "df_mean = df.mean()\n",
    "df_std = df.std()\n",
    "\n",
    "df = (df - df_mean) / df_std\n",
    "#val_df = (val_df - train_mean) / train_std\n",
    "#test_df = (test_df - train_mean) / train_std"
   ]
  },
  {
   "cell_type": "code",
   "execution_count": 10,
   "id": "d0c0d18b-e87d-4672-9d96-521efdac5344",
   "metadata": {},
   "outputs": [],
   "source": [
    "def select_index(df,target):\n",
    "\n",
    "    corrs = []\n",
    "    for c in df.columns:\n",
    "        corr = np.corrcoef(df[target],df[c])[0,1]\n",
    "        corrs.append(corr)\n",
    "    corrs = np.array(corrs)\n",
    "    \n",
    "    #重要度の上位を出力\n",
    "    idx_corrs = np.argsort(np.abs(corrs))[::-1]\n",
    "    top_cols_corrs,top_importances_corrs = df.columns.values[idx_corrs][:n_input],corrs[idx_corrs][:n_input]\n",
    "    print(top_cols_corrs,top_importances_corrs)\n",
    "    \n",
    "    #targetのインデックスを追加\n",
    "    if not target in top_cols_corrs:\n",
    "        top_cols_corrs = np.append(top_cols_corrs,[target])\n",
    "    \n",
    "    top_cols_select = top_cols_corrs\n",
    "    \n",
    "    return top_cols_select\n"
   ]
  },
  {
   "cell_type": "code",
   "execution_count": 11,
   "id": "c486dd22-56b8-48ae-a117-a15727fe9eac",
   "metadata": {},
   "outputs": [],
   "source": [
    "def init_df(target,imputation_select):\n",
    "    select_features = select_index(df,target)\n",
    "    \n",
    "    df_for_target = df.loc[:,select_features]\n",
    "    \n",
    "    labels_df_time = pd.concat((date_time,df_for_target.loc[:,target]),axis=1,sort=False)\n",
    "    inputs_df_time = pd.concat((date_time,df_for_target.loc[:,select_features]),axis=1,sort=False)\n",
    "    \n",
    "    for t in range(24):\n",
    "        for i in labels_df_time.iloc[:int(80100*0.9)].loc[labels_df_time[\"5 Minutes\"].dt.hour==t].sample(frac=missing_rate_df[target][t]).index:\n",
    "            labels_df_time.loc[i,target] = np.nan\n",
    "        for route in select_features:\n",
    "            for i in inputs_df_time.loc[inputs_df_time[\"5 Minutes\"].dt.hour==t].sample(frac=missing_rate_df[route][t]).index:\n",
    "                inputs_df_time.loc[i,route] = np.nan\n",
    "                \n",
    "    inputs_df = inputs_df_time.drop([\"5 Minutes\"],axis=1)\n",
    "    labels_df = labels_df_time.drop([\"5 Minutes\"],axis=1)\n",
    "\n",
    "    if imputation_select==\"rf\":\n",
    "        #RandomForest imputation\n",
    "        inputs_df,labels_df = random_forest_imputation(inputs_df,labels_df,select_features)\n",
    "    elif imputation_select==\"mean\":\n",
    "        #mean imputation\n",
    "        inputs_df,labels_df = mean_imputation(inputs_df,labels_df)\n",
    "    \n",
    "    return inputs_df,labels_df,inputs_df_time,labels_df_time,select_features"
   ]
  },
  {
   "cell_type": "code",
   "execution_count": 12,
   "id": "98e90e7a-2884-497f-abbd-f277482e65d7",
   "metadata": {},
   "outputs": [],
   "source": [
    "def random_forest_imputation(inputs_df,labels_df,select_features):\n",
    "    rf = RandomForestRegressor(n_estimators=10, n_jobs=-1)\n",
    "    imp = IterativeImputer(random_state=0,estimator=rf)\n",
    "    inputs_df = pd.DataFrame(imp.fit_transform(inputs_df),columns=select_features)\n",
    "    labels_df = pd.DataFrame(imp.fit_transform(labels_df))\n",
    "    print(inputs_df)\n",
    "    return inputs_df,labels_df"
   ]
  },
  {
   "cell_type": "code",
   "execution_count": 13,
   "id": "a6267b22-7b64-484a-b665-97583a6e7394",
   "metadata": {},
   "outputs": [],
   "source": [
    "def mean_imputation(inputs_df,labels_df):\n",
    "    inputs_df = inputs_df.fillna(inputs_df.mean())\n",
    "    labels_df = labels_df.fillna(labels_df.mean())\n",
    "    print(inputs_df)\n",
    "    return inputs_df,labels_df"
   ]
  },
  {
   "cell_type": "code",
   "execution_count": 14,
   "id": "2ea9f41a-4b12-4829-90ac-ef1ff588228b",
   "metadata": {},
   "outputs": [],
   "source": [
    "def show_imputation(target,inputs_df,select_features):\n",
    "    original = df[target].values\n",
    "    imputation = inputs_df[target].values\n",
    "    \n",
    "    plt.figure(figsize=(15,10))\n",
    "\n",
    "    plt.scatter(range(30),original[:30],color=\"blue\")\n",
    "    plt.scatter(range(30),imputation[:30],color=\"red\")\n",
    "    \n",
    "    dirname = fig_output_path+\"/imputation/\"\n",
    "    os.makedirs(dirname, exist_ok=True)\n",
    "    plt.savefig(dirname+target+\".png\")\n",
    "\n",
    "    plt.show()"
   ]
  },
  {
   "cell_type": "code",
   "execution_count": 15,
   "id": "885524e5-0f2a-44c6-8051-51cb546b94d9",
   "metadata": {},
   "outputs": [],
   "source": [
    "def make_dataset(labels_df,inputs_df,window_len):\n",
    "    labels, inputs = [], []\n",
    "    for i in range(len(labels_df)-(window_len+n_min_ahead-1)):\n",
    "        labels.append(labels_df.iloc[i+window_len+n_min_ahead-1])\n",
    "        inputs.append(inputs_df.iloc[i:i+window_len])\n",
    "    re_labels = np.array(labels).reshape(len(labels),1)\n",
    "    re_inputs = np.array(inputs).reshape(len(inputs),window_len,n_input)\n",
    "    \n",
    "    return re_labels,re_inputs"
   ]
  },
  {
   "cell_type": "code",
   "execution_count": 16,
   "id": "0b1a997d-68c1-4f62-9e32-4deef6a9dbaa",
   "metadata": {},
   "outputs": [],
   "source": [
    "def show_prediction(test_y,predicted):\n",
    "    plt.figure(figsize=(15,10))\n",
    "\n",
    "    plt.plot(test_y[plot_start:plot_start+plot_range],color=\"blue\")\n",
    "    plt.plot(predicted[plot_start:plot_start+plot_range],color=\"orange\")\n",
    "    \n",
    "    dirname = fig_output_path+\"/prediction/\"\n",
    "    os.makedirs(dirname, exist_ok=True)\n",
    "    plt.savefig(dirname+target+\".png\")"
   ]
  },
  {
   "cell_type": "code",
   "execution_count": 17,
   "id": "41ce1d9b-34e1-43b7-aeae-03e13995ec68",
   "metadata": {},
   "outputs": [],
   "source": [
    "def show_missing_position(test_y,labels_df_time,select_features):\n",
    "    NaN_position = [np.nan for i in range(len(test_y))]\n",
    "    measured_position = [np.nan for i in range(len(test_y))]\n",
    "    tmp = list(itertools.chain.from_iterable(test_y))\n",
    "\n",
    "    for i in range(len(test_y)):\n",
    "        if np.isnan(labels_df_time.iloc[i,1]):\n",
    "            NaN_position[i] = tmp[i]\n",
    "        else:\n",
    "            measured_position[i] = tmp[i]\n",
    "    NaN_mask = [[0 for i in range(len(select_features))] for j in range(len(test_x[plot_start:plot_start+plot_range,:]))]\n",
    "\n",
    "    c_num = 0\n",
    "    for c in select_features:\n",
    "        for i in range(len(test_x[plot_start:plot_start+plot_range,:])):\n",
    "            if np.isnan(inputs_df_time[c].iloc[int(n*0.9)+plot_start+i,]):\n",
    "                NaN_mask[i][c_num] = 1\n",
    "        c_num += 1\n",
    "\n",
    "    NaN_mask = np.array(NaN_mask)\n",
    "    NaN_mask_df = pd.DataFrame(data=NaN_mask.T,index=select_features,columns=inputs_df_time[\"5 Minutes\"].iloc[int(n*0.9)+plot_start:int(n*0.9)+plot_start+plot_range,].dt.strftime(\"%Y/%m/%d-%H:%M\"))\n",
    "    \n",
    "    plt.figure(figsize=(15,10))\n",
    "    sns.set(rc={\"figure.figsize\":(15,3)})\n",
    "    sns.heatmap(NaN_mask_df,cmap=\"Reds\",cbar=False)\n",
    "    \n",
    "    dirname = fig_output_path+\"/missing_position/\"\n",
    "    os.makedirs(dirname, exist_ok=True)\n",
    "    plt.savefig(dirname+target+\".png\")"
   ]
  },
  {
   "cell_type": "code",
   "execution_count": 18,
   "id": "bfe60113-6bad-43e6-b06d-7dd9a4ac7867",
   "metadata": {},
   "outputs": [],
   "source": [
    "def evaluation(evaluation_list,training_time):\n",
    "    performance = model.evaluate(test_x,test_y, verbose=0)\n",
    "    evaluation_list.append([performance,training_time])\n",
    "    \n",
    "    return evaluation_list"
   ]
  },
  {
   "cell_type": "code",
   "execution_count": 19,
   "id": "63ae64a4-38e7-428b-adb2-e5d8d8eab8ef",
   "metadata": {},
   "outputs": [
    {
     "name": "stdout",
     "output_type": "stream",
     "text": [
      "['11750' '4649' '79' '6225' '18830' '81' '4651' '275' '78' '18828'] [1.         0.9902075  0.94140911 0.83968254 0.83840499 0.82003342\n",
      " 0.81898798 0.81518512 0.81346402 0.80680353]\n"
     ]
    },
    {
     "name": "stderr",
     "output_type": "stream",
     "text": [
      "/Users/ishigurofutoshi/opt/anaconda3/envs/pems/lib/python3.7/site-packages/sklearn/impute/_iterative.py:701: ConvergenceWarning: [IterativeImputer] Early stopping criterion not reached.\n",
      "  ConvergenceWarning,\n"
     ]
    },
    {
     "name": "stdout",
     "output_type": "stream",
     "text": [
      "          11750      4649        79      6225     18830        81      4651  \\\n",
      "0     -0.753556 -0.760150 -0.871514 -0.694456 -0.690034 -0.762632 -0.637472   \n",
      "1     -0.723951 -0.727308 -0.794279 -0.678210 -0.674737 -0.755430 -0.618082   \n",
      "2     -0.720662 -0.726752 -0.837829 -0.661272 -0.663264 -0.769833 -0.606027   \n",
      "3     -0.668362 -0.665800 -0.768775 -0.674361 -0.663264 -0.780223 -0.587943   \n",
      "4     -0.743030 -0.735101 -0.914823 -0.680520 -0.673207 -0.774154 -0.617982   \n",
      "...         ...       ...       ...       ...       ...       ...       ...   \n",
      "80095 -0.699610 -0.706991 -0.751211 -0.706698 -0.699212 -0.749361 -0.619589   \n",
      "80096 -0.627903 -0.638525 -0.703089 -0.693609 -0.696153 -0.731357 -0.621599   \n",
      "80097 -0.551590 -0.565328 -0.704533 -0.668971 -0.665559 -0.753270 -0.645208   \n",
      "80098 -0.620337 -0.615425 -0.706458 -0.643563 -0.645672 -0.722201 -0.613059   \n",
      "80099 -0.631192 -0.629341 -0.679029 -0.641946 -0.636494 -0.788351 -0.615068   \n",
      "\n",
      "            275        78     18828  \n",
      "0     -0.765240 -0.800567 -0.777622  \n",
      "1     -0.760267 -0.797123 -0.729137  \n",
      "2     -0.751978 -0.812253 -0.723318  \n",
      "3     -0.756951 -0.814713 -0.743682  \n",
      "4     -0.739379 -0.806103 -0.758228  \n",
      "...         ...       ...       ...  \n",
      "80095 -0.753636 -0.780271 -0.672894  \n",
      "80096 -0.731919 -0.763296 -0.670954  \n",
      "80097 -0.745347 -0.766249 -0.697136  \n",
      "80098 -0.699095 -0.720982 -0.668239  \n",
      "80099 -0.753636 -0.802412 -0.692288  \n",
      "\n",
      "[80100 rows x 10 columns]\n"
     ]
    },
    {
     "data": {
      "image/png": "[encoded data removed]",
      "text/plain": [
       "<Figure size 1080x720 with 1 Axes>"
      ]
     },
     "metadata": {
      "needs_background": "light"
     },
     "output_type": "display_data"
    },
    {
     "ename": "KeyboardInterrupt",
     "evalue": "",
     "output_type": "error",
     "traceback": [
      "\u001b[0;31m---------------------------------------------------------------------------\u001b[0m",
      "\u001b[0;31mKeyboardInterrupt\u001b[0m                         Traceback (most recent call last)",
      "\u001b[0;32m/var/folders/ns/m6xqd78d419c4bs1hmdmhkh00000gp/T/ipykernel_64252/889485851.py\u001b[0m in \u001b[0;36m<module>\u001b[0;34m\u001b[0m\n\u001b[1;32m     10\u001b[0m     \u001b[0mshow_imputation\u001b[0m\u001b[0;34m(\u001b[0m\u001b[0mtarget\u001b[0m\u001b[0;34m,\u001b[0m\u001b[0minputs_df\u001b[0m\u001b[0;34m,\u001b[0m\u001b[0mselect_features\u001b[0m\u001b[0;34m)\u001b[0m\u001b[0;34m\u001b[0m\u001b[0;34m\u001b[0m\u001b[0m\n\u001b[1;32m     11\u001b[0m \u001b[0;34m\u001b[0m\u001b[0m\n\u001b[0;32m---> 12\u001b[0;31m     \u001b[0mlabels_ds\u001b[0m\u001b[0;34m,\u001b[0m \u001b[0minputs_ds\u001b[0m \u001b[0;34m=\u001b[0m \u001b[0mmake_dataset\u001b[0m\u001b[0;34m(\u001b[0m\u001b[0mlabels_df\u001b[0m\u001b[0;34m,\u001b[0m\u001b[0minputs_df\u001b[0m\u001b[0;34m,\u001b[0m\u001b[0mwindow_len\u001b[0m\u001b[0;34m)\u001b[0m\u001b[0;34m\u001b[0m\u001b[0;34m\u001b[0m\u001b[0m\n\u001b[0m\u001b[1;32m     13\u001b[0m \u001b[0;34m\u001b[0m\u001b[0m\n\u001b[1;32m     14\u001b[0m     \u001b[0mn\u001b[0m \u001b[0;34m=\u001b[0m \u001b[0mlen\u001b[0m\u001b[0;34m(\u001b[0m\u001b[0minputs_ds\u001b[0m\u001b[0;34m)\u001b[0m\u001b[0;34m\u001b[0m\u001b[0;34m\u001b[0m\u001b[0m\n",
      "\u001b[0;32m/var/folders/ns/m6xqd78d419c4bs1hmdmhkh00000gp/T/ipykernel_64252/3828004767.py\u001b[0m in \u001b[0;36mmake_dataset\u001b[0;34m(labels_df, inputs_df, window_len)\u001b[0m\n\u001b[1;32m      5\u001b[0m         \u001b[0minputs\u001b[0m\u001b[0;34m.\u001b[0m\u001b[0mappend\u001b[0m\u001b[0;34m(\u001b[0m\u001b[0minputs_df\u001b[0m\u001b[0;34m.\u001b[0m\u001b[0miloc\u001b[0m\u001b[0;34m[\u001b[0m\u001b[0mi\u001b[0m\u001b[0;34m:\u001b[0m\u001b[0mi\u001b[0m\u001b[0;34m+\u001b[0m\u001b[0mwindow_len\u001b[0m\u001b[0;34m]\u001b[0m\u001b[0;34m)\u001b[0m\u001b[0;34m\u001b[0m\u001b[0;34m\u001b[0m\u001b[0m\n\u001b[1;32m      6\u001b[0m     \u001b[0mre_labels\u001b[0m \u001b[0;34m=\u001b[0m \u001b[0mnp\u001b[0m\u001b[0;34m.\u001b[0m\u001b[0marray\u001b[0m\u001b[0;34m(\u001b[0m\u001b[0mlabels\u001b[0m\u001b[0;34m)\u001b[0m\u001b[0;34m.\u001b[0m\u001b[0mreshape\u001b[0m\u001b[0;34m(\u001b[0m\u001b[0mlen\u001b[0m\u001b[0;34m(\u001b[0m\u001b[0mlabels\u001b[0m\u001b[0;34m)\u001b[0m\u001b[0;34m,\u001b[0m\u001b[0;36m1\u001b[0m\u001b[0;34m)\u001b[0m\u001b[0;34m\u001b[0m\u001b[0;34m\u001b[0m\u001b[0m\n\u001b[0;32m----> 7\u001b[0;31m     \u001b[0mre_inputs\u001b[0m \u001b[0;34m=\u001b[0m \u001b[0mnp\u001b[0m\u001b[0;34m.\u001b[0m\u001b[0marray\u001b[0m\u001b[0;34m(\u001b[0m\u001b[0minputs\u001b[0m\u001b[0;34m)\u001b[0m\u001b[0;34m.\u001b[0m\u001b[0mreshape\u001b[0m\u001b[0;34m(\u001b[0m\u001b[0mlen\u001b[0m\u001b[0;34m(\u001b[0m\u001b[0minputs\u001b[0m\u001b[0;34m)\u001b[0m\u001b[0;34m,\u001b[0m\u001b[0mwindow_len\u001b[0m\u001b[0;34m,\u001b[0m\u001b[0mn_input\u001b[0m\u001b[0;34m)\u001b[0m\u001b[0;34m\u001b[0m\u001b[0;34m\u001b[0m\u001b[0m\n\u001b[0m\u001b[1;32m      8\u001b[0m \u001b[0;34m\u001b[0m\u001b[0m\n\u001b[1;32m      9\u001b[0m     \u001b[0;32mreturn\u001b[0m \u001b[0mre_labels\u001b[0m\u001b[0;34m,\u001b[0m\u001b[0mre_inputs\u001b[0m\u001b[0;34m\u001b[0m\u001b[0;34m\u001b[0m\u001b[0m\n",
      "\u001b[0;32m~/opt/anaconda3/envs/pems/lib/python3.7/site-packages/pandas/core/generic.py\u001b[0m in \u001b[0;36m__array__\u001b[0;34m(self, dtype)\u001b[0m\n\u001b[1;32m   1991\u001b[0m \u001b[0;34m\u001b[0m\u001b[0m\n\u001b[1;32m   1992\u001b[0m     \u001b[0;32mdef\u001b[0m \u001b[0m__array__\u001b[0m\u001b[0;34m(\u001b[0m\u001b[0mself\u001b[0m\u001b[0;34m,\u001b[0m \u001b[0mdtype\u001b[0m\u001b[0;34m:\u001b[0m \u001b[0mNpDtype\u001b[0m \u001b[0;34m|\u001b[0m \u001b[0;32mNone\u001b[0m \u001b[0;34m=\u001b[0m \u001b[0;32mNone\u001b[0m\u001b[0;34m)\u001b[0m \u001b[0;34m->\u001b[0m \u001b[0mnp\u001b[0m\u001b[0;34m.\u001b[0m\u001b[0mndarray\u001b[0m\u001b[0;34m:\u001b[0m\u001b[0;34m\u001b[0m\u001b[0;34m\u001b[0m\u001b[0m\n\u001b[0;32m-> 1993\u001b[0;31m         \u001b[0;32mreturn\u001b[0m \u001b[0mnp\u001b[0m\u001b[0;34m.\u001b[0m\u001b[0masarray\u001b[0m\u001b[0;34m(\u001b[0m\u001b[0mself\u001b[0m\u001b[0;34m.\u001b[0m\u001b[0m_values\u001b[0m\u001b[0;34m,\u001b[0m \u001b[0mdtype\u001b[0m\u001b[0;34m=\u001b[0m\u001b[0mdtype\u001b[0m\u001b[0;34m)\u001b[0m\u001b[0;34m\u001b[0m\u001b[0;34m\u001b[0m\u001b[0m\n\u001b[0m\u001b[1;32m   1994\u001b[0m \u001b[0;34m\u001b[0m\u001b[0m\n\u001b[1;32m   1995\u001b[0m     def __array_wrap__(\n",
      "\u001b[0;32m~/opt/anaconda3/envs/pems/lib/python3.7/site-packages/pandas/core/frame.py\u001b[0m in \u001b[0;36m_values\u001b[0;34m(self)\u001b[0m\n\u001b[1;32m    879\u001b[0m         \u001b[0mAnalogue\u001b[0m \u001b[0mto\u001b[0m \u001b[0;34m.\u001b[0m\u001b[0m_values\u001b[0m \u001b[0mthat\u001b[0m \u001b[0mmay\u001b[0m \u001b[0;32mreturn\u001b[0m \u001b[0ma\u001b[0m \u001b[0;36m2\u001b[0m\u001b[0mD\u001b[0m \u001b[0mExtensionArray\u001b[0m\u001b[0;34m.\u001b[0m\u001b[0;34m\u001b[0m\u001b[0;34m\u001b[0m\u001b[0m\n\u001b[1;32m    880\u001b[0m         \"\"\"\n\u001b[0;32m--> 881\u001b[0;31m         \u001b[0mself\u001b[0m\u001b[0;34m.\u001b[0m\u001b[0m_consolidate_inplace\u001b[0m\u001b[0;34m(\u001b[0m\u001b[0;34m)\u001b[0m\u001b[0;34m\u001b[0m\u001b[0;34m\u001b[0m\u001b[0m\n\u001b[0m\u001b[1;32m    882\u001b[0m \u001b[0;34m\u001b[0m\u001b[0m\n\u001b[1;32m    883\u001b[0m         \u001b[0mmgr\u001b[0m \u001b[0;34m=\u001b[0m \u001b[0mself\u001b[0m\u001b[0;34m.\u001b[0m\u001b[0m_mgr\u001b[0m\u001b[0;34m\u001b[0m\u001b[0;34m\u001b[0m\u001b[0m\n",
      "\u001b[0;32m~/opt/anaconda3/envs/pems/lib/python3.7/site-packages/pandas/core/generic.py\u001b[0m in \u001b[0;36m_consolidate_inplace\u001b[0;34m(self)\u001b[0m\n\u001b[1;32m   5563\u001b[0m             \u001b[0mself\u001b[0m\u001b[0;34m.\u001b[0m\u001b[0m_mgr\u001b[0m \u001b[0;34m=\u001b[0m \u001b[0mself\u001b[0m\u001b[0;34m.\u001b[0m\u001b[0m_mgr\u001b[0m\u001b[0;34m.\u001b[0m\u001b[0mconsolidate\u001b[0m\u001b[0;34m(\u001b[0m\u001b[0;34m)\u001b[0m\u001b[0;34m\u001b[0m\u001b[0;34m\u001b[0m\u001b[0m\n\u001b[1;32m   5564\u001b[0m \u001b[0;34m\u001b[0m\u001b[0m\n\u001b[0;32m-> 5565\u001b[0;31m         \u001b[0mself\u001b[0m\u001b[0;34m.\u001b[0m\u001b[0m_protect_consolidate\u001b[0m\u001b[0;34m(\u001b[0m\u001b[0mf\u001b[0m\u001b[0;34m)\u001b[0m\u001b[0;34m\u001b[0m\u001b[0;34m\u001b[0m\u001b[0m\n\u001b[0m\u001b[1;32m   5566\u001b[0m \u001b[0;34m\u001b[0m\u001b[0m\n\u001b[1;32m   5567\u001b[0m     \u001b[0;34m@\u001b[0m\u001b[0mfinal\u001b[0m\u001b[0;34m\u001b[0m\u001b[0;34m\u001b[0m\u001b[0m\n",
      "\u001b[0;32m~/opt/anaconda3/envs/pems/lib/python3.7/site-packages/pandas/core/generic.py\u001b[0m in \u001b[0;36m_protect_consolidate\u001b[0;34m(self, f)\u001b[0m\n\u001b[1;32m   5551\u001b[0m             \u001b[0;32mreturn\u001b[0m \u001b[0mf\u001b[0m\u001b[0;34m(\u001b[0m\u001b[0;34m)\u001b[0m\u001b[0;34m\u001b[0m\u001b[0;34m\u001b[0m\u001b[0m\n\u001b[1;32m   5552\u001b[0m         \u001b[0mblocks_before\u001b[0m \u001b[0;34m=\u001b[0m \u001b[0mlen\u001b[0m\u001b[0;34m(\u001b[0m\u001b[0mself\u001b[0m\u001b[0;34m.\u001b[0m\u001b[0m_mgr\u001b[0m\u001b[0;34m.\u001b[0m\u001b[0mblocks\u001b[0m\u001b[0;34m)\u001b[0m\u001b[0;34m\u001b[0m\u001b[0;34m\u001b[0m\u001b[0m\n\u001b[0;32m-> 5553\u001b[0;31m         \u001b[0mresult\u001b[0m \u001b[0;34m=\u001b[0m \u001b[0mf\u001b[0m\u001b[0;34m(\u001b[0m\u001b[0;34m)\u001b[0m\u001b[0;34m\u001b[0m\u001b[0;34m\u001b[0m\u001b[0m\n\u001b[0m\u001b[1;32m   5554\u001b[0m         \u001b[0;32mif\u001b[0m \u001b[0mlen\u001b[0m\u001b[0;34m(\u001b[0m\u001b[0mself\u001b[0m\u001b[0;34m.\u001b[0m\u001b[0m_mgr\u001b[0m\u001b[0;34m.\u001b[0m\u001b[0mblocks\u001b[0m\u001b[0;34m)\u001b[0m \u001b[0;34m!=\u001b[0m \u001b[0mblocks_before\u001b[0m\u001b[0;34m:\u001b[0m\u001b[0;34m\u001b[0m\u001b[0;34m\u001b[0m\u001b[0m\n\u001b[1;32m   5555\u001b[0m             \u001b[0mself\u001b[0m\u001b[0;34m.\u001b[0m\u001b[0m_clear_item_cache\u001b[0m\u001b[0;34m(\u001b[0m\u001b[0;34m)\u001b[0m\u001b[0;34m\u001b[0m\u001b[0;34m\u001b[0m\u001b[0m\n",
      "\u001b[0;32m~/opt/anaconda3/envs/pems/lib/python3.7/site-packages/pandas/core/generic.py\u001b[0m in \u001b[0;36mf\u001b[0;34m()\u001b[0m\n\u001b[1;32m   5561\u001b[0m \u001b[0;34m\u001b[0m\u001b[0m\n\u001b[1;32m   5562\u001b[0m         \u001b[0;32mdef\u001b[0m \u001b[0mf\u001b[0m\u001b[0;34m(\u001b[0m\u001b[0;34m)\u001b[0m\u001b[0;34m:\u001b[0m\u001b[0;34m\u001b[0m\u001b[0;34m\u001b[0m\u001b[0m\n\u001b[0;32m-> 5563\u001b[0;31m             \u001b[0mself\u001b[0m\u001b[0;34m.\u001b[0m\u001b[0m_mgr\u001b[0m \u001b[0;34m=\u001b[0m \u001b[0mself\u001b[0m\u001b[0;34m.\u001b[0m\u001b[0m_mgr\u001b[0m\u001b[0;34m.\u001b[0m\u001b[0mconsolidate\u001b[0m\u001b[0;34m(\u001b[0m\u001b[0;34m)\u001b[0m\u001b[0;34m\u001b[0m\u001b[0;34m\u001b[0m\u001b[0m\n\u001b[0m\u001b[1;32m   5564\u001b[0m \u001b[0;34m\u001b[0m\u001b[0m\n\u001b[1;32m   5565\u001b[0m         \u001b[0mself\u001b[0m\u001b[0;34m.\u001b[0m\u001b[0m_protect_consolidate\u001b[0m\u001b[0;34m(\u001b[0m\u001b[0mf\u001b[0m\u001b[0;34m)\u001b[0m\u001b[0;34m\u001b[0m\u001b[0;34m\u001b[0m\u001b[0m\n",
      "\u001b[0;32m~/opt/anaconda3/envs/pems/lib/python3.7/site-packages/pandas/core/internals/managers.py\u001b[0m in \u001b[0;36mconsolidate\u001b[0;34m(self)\u001b[0m\n\u001b[1;32m    612\u001b[0m         \u001b[0my\u001b[0m \u001b[0;34m:\u001b[0m \u001b[0mBlockManager\u001b[0m\u001b[0;34m\u001b[0m\u001b[0;34m\u001b[0m\u001b[0m\n\u001b[1;32m    613\u001b[0m         \"\"\"\n\u001b[0;32m--> 614\u001b[0;31m         \u001b[0;32mif\u001b[0m \u001b[0mself\u001b[0m\u001b[0;34m.\u001b[0m\u001b[0mis_consolidated\u001b[0m\u001b[0;34m(\u001b[0m\u001b[0;34m)\u001b[0m\u001b[0;34m:\u001b[0m\u001b[0;34m\u001b[0m\u001b[0;34m\u001b[0m\u001b[0m\n\u001b[0m\u001b[1;32m    615\u001b[0m             \u001b[0;32mreturn\u001b[0m \u001b[0mself\u001b[0m\u001b[0;34m\u001b[0m\u001b[0;34m\u001b[0m\u001b[0m\n\u001b[1;32m    616\u001b[0m \u001b[0;34m\u001b[0m\u001b[0m\n",
      "\u001b[0;32m~/opt/anaconda3/envs/pems/lib/python3.7/site-packages/pandas/core/internals/managers.py\u001b[0m in \u001b[0;36mis_consolidated\u001b[0;34m(self)\u001b[0m\n\u001b[1;32m    471\u001b[0m         \"\"\"\n\u001b[1;32m    472\u001b[0m         \u001b[0;32mif\u001b[0m \u001b[0;32mnot\u001b[0m \u001b[0mself\u001b[0m\u001b[0;34m.\u001b[0m\u001b[0m_known_consolidated\u001b[0m\u001b[0;34m:\u001b[0m\u001b[0;34m\u001b[0m\u001b[0;34m\u001b[0m\u001b[0m\n\u001b[0;32m--> 473\u001b[0;31m             \u001b[0mself\u001b[0m\u001b[0;34m.\u001b[0m\u001b[0m_consolidate_check\u001b[0m\u001b[0;34m(\u001b[0m\u001b[0;34m)\u001b[0m\u001b[0;34m\u001b[0m\u001b[0;34m\u001b[0m\u001b[0m\n\u001b[0m\u001b[1;32m    474\u001b[0m         \u001b[0;32mreturn\u001b[0m \u001b[0mself\u001b[0m\u001b[0;34m.\u001b[0m\u001b[0m_is_consolidated\u001b[0m\u001b[0;34m\u001b[0m\u001b[0;34m\u001b[0m\u001b[0m\n\u001b[1;32m    475\u001b[0m \u001b[0;34m\u001b[0m\u001b[0m\n",
      "\u001b[0;32m~/opt/anaconda3/envs/pems/lib/python3.7/site-packages/pandas/core/internals/managers.py\u001b[0m in \u001b[0;36m_consolidate_check\u001b[0;34m(self)\u001b[0m\n\u001b[1;32m    476\u001b[0m     \u001b[0;32mdef\u001b[0m \u001b[0m_consolidate_check\u001b[0m\u001b[0;34m(\u001b[0m\u001b[0mself\u001b[0m\u001b[0;34m)\u001b[0m \u001b[0;34m->\u001b[0m \u001b[0;32mNone\u001b[0m\u001b[0;34m:\u001b[0m\u001b[0;34m\u001b[0m\u001b[0;34m\u001b[0m\u001b[0m\n\u001b[1;32m    477\u001b[0m         \u001b[0mdtypes\u001b[0m \u001b[0;34m=\u001b[0m \u001b[0;34m[\u001b[0m\u001b[0mblk\u001b[0m\u001b[0;34m.\u001b[0m\u001b[0mdtype\u001b[0m \u001b[0;32mfor\u001b[0m \u001b[0mblk\u001b[0m \u001b[0;32min\u001b[0m \u001b[0mself\u001b[0m\u001b[0;34m.\u001b[0m\u001b[0mblocks\u001b[0m \u001b[0;32mif\u001b[0m \u001b[0mblk\u001b[0m\u001b[0;34m.\u001b[0m\u001b[0m_can_consolidate\u001b[0m\u001b[0;34m]\u001b[0m\u001b[0;34m\u001b[0m\u001b[0;34m\u001b[0m\u001b[0m\n\u001b[0;32m--> 478\u001b[0;31m         \u001b[0mself\u001b[0m\u001b[0;34m.\u001b[0m\u001b[0m_is_consolidated\u001b[0m \u001b[0;34m=\u001b[0m \u001b[0mlen\u001b[0m\u001b[0;34m(\u001b[0m\u001b[0mdtypes\u001b[0m\u001b[0;34m)\u001b[0m \u001b[0;34m==\u001b[0m \u001b[0mlen\u001b[0m\u001b[0;34m(\u001b[0m\u001b[0mset\u001b[0m\u001b[0;34m(\u001b[0m\u001b[0mdtypes\u001b[0m\u001b[0;34m)\u001b[0m\u001b[0;34m)\u001b[0m\u001b[0;34m\u001b[0m\u001b[0;34m\u001b[0m\u001b[0m\n\u001b[0m\u001b[1;32m    479\u001b[0m         \u001b[0mself\u001b[0m\u001b[0;34m.\u001b[0m\u001b[0m_known_consolidated\u001b[0m \u001b[0;34m=\u001b[0m \u001b[0;32mTrue\u001b[0m\u001b[0;34m\u001b[0m\u001b[0;34m\u001b[0m\u001b[0m\n\u001b[1;32m    480\u001b[0m \u001b[0;34m\u001b[0m\u001b[0m\n",
      "\u001b[0;31mKeyboardInterrupt\u001b[0m: "
     ]
    }
   ],
   "source": [
    "evaluation_list = []\n",
    "for target in df.columns:\n",
    "    index_target = df.columns.get_loc(target)\n",
    "    \n",
    "    #DataFrameの作成（欠損作成＆補完）\n",
    "\n",
    "    inputs_df,labels_df,inputs_df_time,labels_df_time,select_features = init_df(target,imputation_select)\n",
    "    \n",
    "    #単一値補完の描画\n",
    "    show_imputation(target,inputs_df,select_features)\n",
    "    \n",
    "    labels_ds, inputs_ds = make_dataset(labels_df,inputs_df,window_len)\n",
    "    \n",
    "    n = len(inputs_ds)\n",
    "    train_x, test_x = inputs_ds[:int(n*0.9)],inputs_ds[int(n*0.9):] \n",
    "    train_y, test_y = labels_ds[:int(n*0.9)],labels_ds[int(n*0.9):]\n",
    "    \n",
    "    # モデル構築\n",
    "    # 1つの学習データのwindowサイズ\n",
    "    length_of_sequence = inputs_ds.shape[1] \n",
    "    in_out_neurons = 1\n",
    "    n_hidden = 300\n",
    "\n",
    "    model = Sequential()\n",
    "    model.add(LSTM(n_hidden, batch_input_shape=(None, length_of_sequence, n_input), return_sequences=False))\n",
    "    model.add(Dense(in_out_neurons))\n",
    "    #model.add(Activation(\"linear\"))\n",
    "    optimizer = Adam(learning_rate=0.001)\n",
    "    model.compile(loss=\"mean_squared_error\", optimizer=optimizer)\n",
    "    \n",
    "    early_stopping = EarlyStopping(monitor='val_loss', mode='auto', patience=5)\n",
    "    \n",
    "    start = time.time()\n",
    "    model.fit(train_x, train_y,\n",
    "          batch_size=300,\n",
    "          epochs=100,\n",
    "          validation_split=0.1,\n",
    "          callbacks=[early_stopping]\n",
    "          )\n",
    "    training_time = time.time()-start\n",
    "    \n",
    "    #モデルテスト\n",
    "    predicted = model.predict(test_x)\n",
    "    \n",
    "    #予測値と観測値の描画\n",
    "    show_prediction(test_y,predicted)\n",
    "    \n",
    "    #欠損値の描画\n",
    "    show_missing_position(test_y,labels_df_time,select_features)\n",
    "    \n",
    "    #評価結果の出力\n",
    "    evaluation_list = evaluation(evaluation_list,training_time)\n",
    "    print(evaluation_list)"
   ]
  },
  {
   "cell_type": "code",
   "execution_count": null,
   "id": "b57a459b-7e0f-4998-9910-e027632cb100",
   "metadata": {},
   "outputs": [],
   "source": [
    "evaluation_df = pd.DataFrame(evaluation_list,index=df.columns,columns=[\"RMSE\",\"training_time\"])\n",
    "\n",
    "dirname = excel_output_path\n",
    "os.makedirs(dirname, exist_ok=True)\n",
    "evaluation_df.to_excel(excel_output_path+\"/RMSE.xlsx\")"
   ]
  },
  {
   "cell_type": "code",
   "execution_count": null,
   "id": "eb792e99-a0ab-437f-8a55-deae975bb5e2",
   "metadata": {},
   "outputs": [],
   "source": []
  }
 ],
 "metadata": {
  "kernelspec": {
   "display_name": "Python 3 (ipykernel)",
   "language": "python",
   "name": "python3"
  },
  "language_info": {
   "codemirror_mode": {
    "name": "ipython",
    "version": 3
   },
   "file_extension": ".py",
   "mimetype": "text/x-python",
   "name": "python",
   "nbconvert_exporter": "python",
   "pygments_lexer": "ipython3",
   "version": "3.7.13"
  }
 },
 "nbformat": 4,
 "nbformat_minor": 5
}
