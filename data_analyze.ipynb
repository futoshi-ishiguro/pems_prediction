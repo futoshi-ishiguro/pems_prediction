{
 "cells": [
  {
   "cell_type": "markdown",
   "id": "ad454589-1f10-4d00-894e-1f70f45d3904",
   "metadata": {},
   "source": [
    "# PeMSデータの分析"
   ]
  },
  {
   "cell_type": "markdown",
   "id": "6bbcb847-5d58-4ad5-8e9a-75a98b08e7d5",
   "metadata": {},
   "source": [
    "## 読み込み"
   ]
  },
  {
   "cell_type": "code",
   "execution_count": 1,
   "id": "acde9fd5-2af2-4198-bd8b-f7a8b695b02b",
   "metadata": {},
   "outputs": [],
   "source": [
    "import numpy as np\n",
    "import pandas as pd"
   ]
  },
  {
   "cell_type": "code",
   "execution_count": 2,
   "id": "8183dbcb-8f15-4142-b998-b0d841d748b5",
   "metadata": {},
   "outputs": [],
   "source": [
    "#csvのパスを設定\n",
    "csv_path = \"/Users/ishigurofutoshi/lab_materials/data/integrated_route.csv\""
   ]
  },
  {
   "cell_type": "code",
   "execution_count": 3,
   "id": "e414472f-559e-495c-ab38-254c6aa5c823",
   "metadata": {},
   "outputs": [],
   "source": [
    "df = pd.read_csv(csv_path,index_col=0)"
   ]
  },
  {
   "cell_type": "markdown",
   "id": "a2c14bb1-2bc3-4e1a-bc3a-cc1cad1ccbb0",
   "metadata": {},
   "source": [
    "## 欠損値確認"
   ]
  },
  {
   "cell_type": "code",
   "execution_count": 4,
   "id": "13d1e835-263b-4218-8be9-0c03a1992513",
   "metadata": {},
   "outputs": [
    {
     "data": {
      "text/plain": [
       "5 Minutes    0\n",
       "11750        0\n",
       "13147        0\n",
       "13867        0\n",
       "14467        0\n",
       "            ..\n",
       "84           0\n",
       "85           0\n",
       "86           0\n",
       "87           0\n",
       "88           0\n",
       "Length: 279, dtype: int64"
      ]
     },
     "execution_count": 4,
     "metadata": {},
     "output_type": "execute_result"
    }
   ],
   "source": [
    "df.isnull().sum()"
   ]
  },
  {
   "cell_type": "code",
   "execution_count": 6,
   "id": "c69eeb64-5204-4c32-bd2e-939780a64bd3",
   "metadata": {},
   "outputs": [
    {
     "data": {
      "text/plain": [
       "Index(['5 Minutes', '11750', '13147', '13867', '14467', '14987', '16207',\n",
       "       '16507', '16509', '16510'],\n",
       "      dtype='object')"
      ]
     },
     "execution_count": 6,
     "metadata": {},
     "output_type": "execute_result"
    }
   ],
   "source": [
    "df.columns[:10]"
   ]
  },
  {
   "cell_type": "code",
   "execution_count": null,
   "id": "fe40b77c-34ff-42f5-b9aa-becf70fe8dbf",
   "metadata": {},
   "outputs": [],
   "source": []
  }
 ],
 "metadata": {
  "kernelspec": {
   "display_name": "Python 3 (ipykernel)",
   "language": "python",
   "name": "python3"
  },
  "language_info": {
   "codemirror_mode": {
    "name": "ipython",
    "version": 3
   },
   "file_extension": ".py",
   "mimetype": "text/x-python",
   "name": "python",
   "nbconvert_exporter": "python",
   "pygments_lexer": "ipython3",
   "version": "3.7.13"
  }
 },
 "nbformat": 4,
 "nbformat_minor": 5
}
