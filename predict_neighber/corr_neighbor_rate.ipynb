{
 "cells": [
  {
   "cell_type": "code",
   "execution_count": 1,
   "id": "2ce89fbf-758a-4cf7-a667-97249d9a36da",
   "metadata": {},
   "outputs": [],
   "source": [
    "import pandas as pd"
   ]
  },
  {
   "cell_type": "code",
   "execution_count": 13,
   "id": "0f5d20ab-9f8c-4612-a084-a4bce5c2b7e1",
   "metadata": {},
   "outputs": [],
   "source": [
    "df_neighbor = pd.read_excel(\"/Users/ishigurofutoshi/lab_materials/data/neighber_link.xlsx\",index_col=0,header=None)"
   ]
  },
  {
   "cell_type": "code",
   "execution_count": 228,
   "id": "c4e0ed16-32c6-4107-85cd-8fa5352cae6a",
   "metadata": {},
   "outputs": [],
   "source": [
    "df_corr_top = pd.read_csv(\"/Users/ishigurofutoshi/lab_materials/output/lstm_top_10.csv\",index_col=0)"
   ]
  },
  {
   "cell_type": "code",
   "execution_count": 229,
   "id": "fb2339e1-2885-437a-bfa3-c1400791c37c",
   "metadata": {},
   "outputs": [],
   "source": [
    "df_corr_top = df_corr_top[\"input\"]"
   ]
  },
  {
   "cell_type": "code",
   "execution_count": 230,
   "id": "747ed792-c3b8-4721-8396-36fd0c66c469",
   "metadata": {},
   "outputs": [],
   "source": [
    "list = df_corr_top.index.to_list()"
   ]
  },
  {
   "cell_type": "code",
   "execution_count": 231,
   "id": "6e225ff8-d389-4557-8f01-a9b6678a0588",
   "metadata": {},
   "outputs": [],
   "source": [
    "df_neighbor = df_neighbor.loc[list,:].fillna(0).astype(\"int\")"
   ]
  },
  {
   "cell_type": "code",
   "execution_count": 232,
   "id": "f4fec7a7-e4a5-4df4-9129-db9b0d31fd07",
   "metadata": {},
   "outputs": [
    {
     "data": {
      "text/plain": [
       "1       1771\n",
       "2      11349\n",
       "3       4713\n",
       "4       4649\n",
       "5      11748\n",
       "       ...  \n",
       "102        0\n",
       "103        0\n",
       "104        0\n",
       "105        0\n",
       "106        0\n",
       "Name: 11750, Length: 106, dtype: int64"
      ]
     },
     "execution_count": 232,
     "metadata": {},
     "output_type": "execute_result"
    }
   ],
   "source": [
    "df_neighbor.loc[11750,:]"
   ]
  },
  {
   "cell_type": "code",
   "execution_count": 233,
   "id": "887be6bf-a740-4d29-a6d0-04076549efb1",
   "metadata": {},
   "outputs": [],
   "source": [
    "import re\n",
    "\n",
    "for i in list:\n",
    "    l = df_corr_top[i].split(\" \")\n",
    "    for j in range(len(l)):\n",
    "        l[j] = re.sub(r\"\\D\", \"\", l[j])\n",
    "        l[j] = int(l[j])\n",
    "    df_corr_top[i] = l"
   ]
  },
  {
   "cell_type": "code",
   "execution_count": 234,
   "id": "e10c563c-cac5-4559-9037-ccec2cdeb225",
   "metadata": {},
   "outputs": [
    {
     "data": {
      "text/plain": [
       "[11750, 4649, 79, 6225, 18830, 81, 4651, 275, 78, 18828]"
      ]
     },
     "execution_count": 234,
     "metadata": {},
     "output_type": "execute_result"
    }
   ],
   "source": [
    "df_corr_top[11750]"
   ]
  },
  {
   "cell_type": "code",
   "execution_count": 245,
   "id": "fbb384d1-8d87-4c71-8ac4-41aaba4f9a6a",
   "metadata": {},
   "outputs": [],
   "source": [
    "intersection = []\n",
    "for i in list:\n",
    "    y = set(list) & set(df_neighbor.loc[i,:].to_list())\n",
    "    x = set(df_corr_top[i]) & y\n",
    "    intersection.append([i,len(y),len(x)])"
   ]
  },
  {
   "cell_type": "code",
   "execution_count": 247,
   "id": "af1ba264-5d3e-41f5-844c-6c136538a554",
   "metadata": {},
   "outputs": [],
   "source": [
    "p_list = []\n",
    "for i in range(len(intersection)):\n",
    "    p = intersection[i][2] / intersection[i][1]\n",
    "    p_list.append(p)"
   ]
  },
  {
   "cell_type": "code",
   "execution_count": 249,
   "id": "0d711b6f-bedf-40f5-9118-934c2cf3f866",
   "metadata": {},
   "outputs": [
    {
     "data": {
      "text/plain": [
       "0.5789789303347003"
      ]
     },
     "execution_count": 249,
     "metadata": {},
     "output_type": "execute_result"
    }
   ],
   "source": [
    "sum(p_list)/len(p_list)"
   ]
  },
  {
   "cell_type": "code",
   "execution_count": null,
   "id": "99332ec0-d73d-45fb-afdd-8442acd87c6b",
   "metadata": {},
   "outputs": [],
   "source": []
  }
 ],
 "metadata": {
  "kernelspec": {
   "display_name": "Python 3 (ipykernel)",
   "language": "python",
   "name": "python3"
  },
  "language_info": {
   "codemirror_mode": {
    "name": "ipython",
    "version": 3
   },
   "file_extension": ".py",
   "mimetype": "text/x-python",
   "name": "python",
   "nbconvert_exporter": "python",
   "pygments_lexer": "ipython3",
   "version": "3.7.13"
  }
 },
 "nbformat": 4,
 "nbformat_minor": 5
}
