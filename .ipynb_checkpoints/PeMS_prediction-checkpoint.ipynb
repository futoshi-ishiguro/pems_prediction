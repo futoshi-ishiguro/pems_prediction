{
 "cells": [
  {
   "cell_type": "markdown",
   "id": "6253574e-ab0d-4ae6-a544-abda06261bea",
   "metadata": {},
   "source": [
    "# PeMS_prediction"
   ]
  },
  {
   "cell_type": "markdown",
   "id": "ff9cc417-93d3-4155-9669-c815d14ad77f",
   "metadata": {
    "tags": []
   },
   "source": [
    "## 読み込み"
   ]
  },
  {
   "cell_type": "code",
   "execution_count": 1,
   "id": "6fb17515",
   "metadata": {},
   "outputs": [],
   "source": [
    "import os\n",
    "#os.environ[\"CUDA_VISIBLE_DEVICES\"] = \"-1\"\n",
    "import datetime\n",
    "import time\n",
    "\n",
    "import IPython\n",
    "import IPython.display\n",
    "import matplotlib as mpl\n",
    "import matplotlib.pyplot as plt\n",
    "import numpy as np\n",
    "import pandas as pd\n",
    "import seaborn as sns\n",
    "import tensorflow as tf\n",
    "\n",
    "mpl.rcParams['figure.figsize'] = (8, 6)\n",
    "mpl.rcParams['axes.grid'] = False"
   ]
  },
  {
   "cell_type": "code",
   "execution_count": 2,
   "id": "631f4388",
   "metadata": {},
   "outputs": [],
   "source": [
    "#csvのパスを設定\n",
    "csv_path = \"/Users/ishigurofutoshi/lab_materials/data/integrated_route.csv\""
   ]
  },
  {
   "cell_type": "code",
   "execution_count": 3,
   "id": "bcab7dc2",
   "metadata": {},
   "outputs": [],
   "source": [
    "df = pd.read_csv(csv_path,index_col=0)\n",
    "# Slice [start:stop:step], starting from index 5 take every 6th record.\n",
    "#df = df[5::6]\n",
    "df = df.dropna(axis=1)\n",
    "date_time = pd.to_datetime(df.pop('5 Minutes'), format='%Y.%m.%d %H:%M:%S')"
   ]
  },
  {
   "cell_type": "code",
   "execution_count": 4,
   "id": "33010c9c",
   "metadata": {},
   "outputs": [],
   "source": [
    "target = \"11750\"\n",
    "index_target = df.columns.get_loc(target)"
   ]
  },
  {
   "cell_type": "code",
   "execution_count": 5,
   "id": "51601f93",
   "metadata": {},
   "outputs": [
    {
     "data": {
      "text/html": [
       "<div>\n",
       "<style scoped>\n",
       "    .dataframe tbody tr th:only-of-type {\n",
       "        vertical-align: middle;\n",
       "    }\n",
       "\n",
       "    .dataframe tbody tr th {\n",
       "        vertical-align: top;\n",
       "    }\n",
       "\n",
       "    .dataframe thead th {\n",
       "        text-align: right;\n",
       "    }\n",
       "</style>\n",
       "<table border=\"1\" class=\"dataframe\">\n",
       "  <thead>\n",
       "    <tr style=\"text-align: right;\">\n",
       "      <th></th>\n",
       "      <th>11750</th>\n",
       "      <th>13147</th>\n",
       "      <th>13867</th>\n",
       "      <th>14467</th>\n",
       "      <th>14987</th>\n",
       "      <th>16207</th>\n",
       "      <th>16507</th>\n",
       "      <th>16509</th>\n",
       "      <th>16510</th>\n",
       "      <th>16511</th>\n",
       "      <th>...</th>\n",
       "      <th>79</th>\n",
       "      <th>80</th>\n",
       "      <th>81</th>\n",
       "      <th>82</th>\n",
       "      <th>83</th>\n",
       "      <th>84</th>\n",
       "      <th>85</th>\n",
       "      <th>86</th>\n",
       "      <th>87</th>\n",
       "      <th>88</th>\n",
       "    </tr>\n",
       "  </thead>\n",
       "  <tbody>\n",
       "    <tr>\n",
       "      <th>0</th>\n",
       "      <td>16.88</td>\n",
       "      <td>34.90</td>\n",
       "      <td>8.62</td>\n",
       "      <td>19.35</td>\n",
       "      <td>7.00</td>\n",
       "      <td>21.43</td>\n",
       "      <td>30.88</td>\n",
       "      <td>30.22</td>\n",
       "      <td>35.87</td>\n",
       "      <td>40.30</td>\n",
       "      <td>...</td>\n",
       "      <td>30.15</td>\n",
       "      <td>29.38</td>\n",
       "      <td>36.30</td>\n",
       "      <td>35.93</td>\n",
       "      <td>11.78</td>\n",
       "      <td>11.87</td>\n",
       "      <td>16.80</td>\n",
       "      <td>16.73</td>\n",
       "      <td>15.92</td>\n",
       "      <td>12.12</td>\n",
       "    </tr>\n",
       "    <tr>\n",
       "      <th>1</th>\n",
       "      <td>16.97</td>\n",
       "      <td>34.87</td>\n",
       "      <td>8.65</td>\n",
       "      <td>19.35</td>\n",
       "      <td>7.00</td>\n",
       "      <td>21.42</td>\n",
       "      <td>30.87</td>\n",
       "      <td>29.98</td>\n",
       "      <td>35.92</td>\n",
       "      <td>40.37</td>\n",
       "      <td>...</td>\n",
       "      <td>30.15</td>\n",
       "      <td>29.37</td>\n",
       "      <td>36.37</td>\n",
       "      <td>35.88</td>\n",
       "      <td>11.82</td>\n",
       "      <td>11.88</td>\n",
       "      <td>16.80</td>\n",
       "      <td>16.78</td>\n",
       "      <td>15.87</td>\n",
       "      <td>12.12</td>\n",
       "    </tr>\n",
       "    <tr>\n",
       "      <th>2</th>\n",
       "      <td>16.98</td>\n",
       "      <td>34.95</td>\n",
       "      <td>8.67</td>\n",
       "      <td>19.38</td>\n",
       "      <td>7.00</td>\n",
       "      <td>21.43</td>\n",
       "      <td>30.82</td>\n",
       "      <td>30.07</td>\n",
       "      <td>36.02</td>\n",
       "      <td>40.43</td>\n",
       "      <td>...</td>\n",
       "      <td>30.17</td>\n",
       "      <td>29.27</td>\n",
       "      <td>36.23</td>\n",
       "      <td>35.88</td>\n",
       "      <td>11.82</td>\n",
       "      <td>12.07</td>\n",
       "      <td>16.83</td>\n",
       "      <td>16.77</td>\n",
       "      <td>15.85</td>\n",
       "      <td>12.15</td>\n",
       "    </tr>\n",
       "    <tr>\n",
       "      <th>3</th>\n",
       "      <td>16.98</td>\n",
       "      <td>35.05</td>\n",
       "      <td>8.67</td>\n",
       "      <td>19.43</td>\n",
       "      <td>7.02</td>\n",
       "      <td>21.37</td>\n",
       "      <td>30.85</td>\n",
       "      <td>30.15</td>\n",
       "      <td>36.13</td>\n",
       "      <td>40.55</td>\n",
       "      <td>...</td>\n",
       "      <td>30.15</td>\n",
       "      <td>29.13</td>\n",
       "      <td>36.27</td>\n",
       "      <td>35.98</td>\n",
       "      <td>11.82</td>\n",
       "      <td>11.92</td>\n",
       "      <td>16.82</td>\n",
       "      <td>16.70</td>\n",
       "      <td>15.83</td>\n",
       "      <td>12.18</td>\n",
       "    </tr>\n",
       "    <tr>\n",
       "      <th>4</th>\n",
       "      <td>16.90</td>\n",
       "      <td>35.03</td>\n",
       "      <td>8.68</td>\n",
       "      <td>19.53</td>\n",
       "      <td>7.03</td>\n",
       "      <td>21.40</td>\n",
       "      <td>30.88</td>\n",
       "      <td>30.28</td>\n",
       "      <td>36.27</td>\n",
       "      <td>40.68</td>\n",
       "      <td>...</td>\n",
       "      <td>29.97</td>\n",
       "      <td>29.02</td>\n",
       "      <td>36.37</td>\n",
       "      <td>36.08</td>\n",
       "      <td>11.85</td>\n",
       "      <td>11.92</td>\n",
       "      <td>16.83</td>\n",
       "      <td>16.73</td>\n",
       "      <td>15.88</td>\n",
       "      <td>12.17</td>\n",
       "    </tr>\n",
       "    <tr>\n",
       "      <th>...</th>\n",
       "      <td>...</td>\n",
       "      <td>...</td>\n",
       "      <td>...</td>\n",
       "      <td>...</td>\n",
       "      <td>...</td>\n",
       "      <td>...</td>\n",
       "      <td>...</td>\n",
       "      <td>...</td>\n",
       "      <td>...</td>\n",
       "      <td>...</td>\n",
       "      <td>...</td>\n",
       "      <td>...</td>\n",
       "      <td>...</td>\n",
       "      <td>...</td>\n",
       "      <td>...</td>\n",
       "      <td>...</td>\n",
       "      <td>...</td>\n",
       "      <td>...</td>\n",
       "      <td>...</td>\n",
       "      <td>...</td>\n",
       "      <td>...</td>\n",
       "    </tr>\n",
       "    <tr>\n",
       "      <th>25567</th>\n",
       "      <td>17.15</td>\n",
       "      <td>35.30</td>\n",
       "      <td>8.60</td>\n",
       "      <td>19.42</td>\n",
       "      <td>7.22</td>\n",
       "      <td>21.57</td>\n",
       "      <td>30.62</td>\n",
       "      <td>30.30</td>\n",
       "      <td>36.15</td>\n",
       "      <td>40.72</td>\n",
       "      <td>...</td>\n",
       "      <td>30.65</td>\n",
       "      <td>30.08</td>\n",
       "      <td>36.03</td>\n",
       "      <td>36.00</td>\n",
       "      <td>11.78</td>\n",
       "      <td>12.03</td>\n",
       "      <td>16.82</td>\n",
       "      <td>17.02</td>\n",
       "      <td>15.52</td>\n",
       "      <td>12.78</td>\n",
       "    </tr>\n",
       "    <tr>\n",
       "      <th>25568</th>\n",
       "      <td>17.10</td>\n",
       "      <td>35.30</td>\n",
       "      <td>8.58</td>\n",
       "      <td>19.47</td>\n",
       "      <td>7.23</td>\n",
       "      <td>21.57</td>\n",
       "      <td>30.87</td>\n",
       "      <td>30.37</td>\n",
       "      <td>36.02</td>\n",
       "      <td>40.62</td>\n",
       "      <td>...</td>\n",
       "      <td>30.68</td>\n",
       "      <td>30.13</td>\n",
       "      <td>35.95</td>\n",
       "      <td>36.07</td>\n",
       "      <td>11.78</td>\n",
       "      <td>12.05</td>\n",
       "      <td>16.90</td>\n",
       "      <td>17.10</td>\n",
       "      <td>15.73</td>\n",
       "      <td>12.87</td>\n",
       "    </tr>\n",
       "    <tr>\n",
       "      <th>25569</th>\n",
       "      <td>17.32</td>\n",
       "      <td>35.28</td>\n",
       "      <td>8.60</td>\n",
       "      <td>19.43</td>\n",
       "      <td>7.22</td>\n",
       "      <td>21.82</td>\n",
       "      <td>31.45</td>\n",
       "      <td>31.00</td>\n",
       "      <td>36.17</td>\n",
       "      <td>40.82</td>\n",
       "      <td>...</td>\n",
       "      <td>30.52</td>\n",
       "      <td>30.03</td>\n",
       "      <td>36.02</td>\n",
       "      <td>35.98</td>\n",
       "      <td>11.82</td>\n",
       "      <td>12.00</td>\n",
       "      <td>16.87</td>\n",
       "      <td>17.17</td>\n",
       "      <td>15.63</td>\n",
       "      <td>12.78</td>\n",
       "    </tr>\n",
       "    <tr>\n",
       "      <th>25570</th>\n",
       "      <td>17.25</td>\n",
       "      <td>35.32</td>\n",
       "      <td>8.65</td>\n",
       "      <td>19.48</td>\n",
       "      <td>7.23</td>\n",
       "      <td>21.73</td>\n",
       "      <td>31.73</td>\n",
       "      <td>31.43</td>\n",
       "      <td>36.13</td>\n",
       "      <td>40.70</td>\n",
       "      <td>...</td>\n",
       "      <td>30.67</td>\n",
       "      <td>29.90</td>\n",
       "      <td>35.97</td>\n",
       "      <td>36.03</td>\n",
       "      <td>11.82</td>\n",
       "      <td>12.07</td>\n",
       "      <td>16.90</td>\n",
       "      <td>17.65</td>\n",
       "      <td>15.82</td>\n",
       "      <td>12.83</td>\n",
       "    </tr>\n",
       "    <tr>\n",
       "      <th>25571</th>\n",
       "      <td>17.20</td>\n",
       "      <td>35.32</td>\n",
       "      <td>8.63</td>\n",
       "      <td>19.50</td>\n",
       "      <td>7.23</td>\n",
       "      <td>21.83</td>\n",
       "      <td>31.63</td>\n",
       "      <td>31.40</td>\n",
       "      <td>36.15</td>\n",
       "      <td>40.75</td>\n",
       "      <td>...</td>\n",
       "      <td>30.95</td>\n",
       "      <td>29.83</td>\n",
       "      <td>36.05</td>\n",
       "      <td>36.10</td>\n",
       "      <td>11.82</td>\n",
       "      <td>12.07</td>\n",
       "      <td>17.18</td>\n",
       "      <td>17.30</td>\n",
       "      <td>15.80</td>\n",
       "      <td>12.85</td>\n",
       "    </tr>\n",
       "  </tbody>\n",
       "</table>\n",
       "<p>80100 rows × 272 columns</p>\n",
       "</div>"
      ],
      "text/plain": [
       "       11750  13147  13867  14467  14987  16207  16507  16509  16510  16511  \\\n",
       "0      16.88  34.90   8.62  19.35   7.00  21.43  30.88  30.22  35.87  40.30   \n",
       "1      16.97  34.87   8.65  19.35   7.00  21.42  30.87  29.98  35.92  40.37   \n",
       "2      16.98  34.95   8.67  19.38   7.00  21.43  30.82  30.07  36.02  40.43   \n",
       "3      16.98  35.05   8.67  19.43   7.02  21.37  30.85  30.15  36.13  40.55   \n",
       "4      16.90  35.03   8.68  19.53   7.03  21.40  30.88  30.28  36.27  40.68   \n",
       "...      ...    ...    ...    ...    ...    ...    ...    ...    ...    ...   \n",
       "25567  17.15  35.30   8.60  19.42   7.22  21.57  30.62  30.30  36.15  40.72   \n",
       "25568  17.10  35.30   8.58  19.47   7.23  21.57  30.87  30.37  36.02  40.62   \n",
       "25569  17.32  35.28   8.60  19.43   7.22  21.82  31.45  31.00  36.17  40.82   \n",
       "25570  17.25  35.32   8.65  19.48   7.23  21.73  31.73  31.43  36.13  40.70   \n",
       "25571  17.20  35.32   8.63  19.50   7.23  21.83  31.63  31.40  36.15  40.75   \n",
       "\n",
       "       ...     79     80     81     82     83     84     85     86     87  \\\n",
       "0      ...  30.15  29.38  36.30  35.93  11.78  11.87  16.80  16.73  15.92   \n",
       "1      ...  30.15  29.37  36.37  35.88  11.82  11.88  16.80  16.78  15.87   \n",
       "2      ...  30.17  29.27  36.23  35.88  11.82  12.07  16.83  16.77  15.85   \n",
       "3      ...  30.15  29.13  36.27  35.98  11.82  11.92  16.82  16.70  15.83   \n",
       "4      ...  29.97  29.02  36.37  36.08  11.85  11.92  16.83  16.73  15.88   \n",
       "...    ...    ...    ...    ...    ...    ...    ...    ...    ...    ...   \n",
       "25567  ...  30.65  30.08  36.03  36.00  11.78  12.03  16.82  17.02  15.52   \n",
       "25568  ...  30.68  30.13  35.95  36.07  11.78  12.05  16.90  17.10  15.73   \n",
       "25569  ...  30.52  30.03  36.02  35.98  11.82  12.00  16.87  17.17  15.63   \n",
       "25570  ...  30.67  29.90  35.97  36.03  11.82  12.07  16.90  17.65  15.82   \n",
       "25571  ...  30.95  29.83  36.05  36.10  11.82  12.07  17.18  17.30  15.80   \n",
       "\n",
       "          88  \n",
       "0      12.12  \n",
       "1      12.12  \n",
       "2      12.15  \n",
       "3      12.18  \n",
       "4      12.17  \n",
       "...      ...  \n",
       "25567  12.78  \n",
       "25568  12.87  \n",
       "25569  12.78  \n",
       "25570  12.83  \n",
       "25571  12.85  \n",
       "\n",
       "[80100 rows x 272 columns]"
      ]
     },
     "execution_count": 5,
     "metadata": {},
     "output_type": "execute_result"
    }
   ],
   "source": [
    "df"
   ]
  },
  {
   "cell_type": "code",
   "execution_count": 6,
   "id": "026cffd3",
   "metadata": {},
   "outputs": [],
   "source": [
    "test_labels = df[int(len(df)*0.9):].loc[:,[target]]"
   ]
  },
  {
   "cell_type": "code",
   "execution_count": 7,
   "id": "ff3c83ba",
   "metadata": {},
   "outputs": [
    {
     "data": {
      "text/html": [
       "<div>\n",
       "<style scoped>\n",
       "    .dataframe tbody tr th:only-of-type {\n",
       "        vertical-align: middle;\n",
       "    }\n",
       "\n",
       "    .dataframe tbody tr th {\n",
       "        vertical-align: top;\n",
       "    }\n",
       "\n",
       "    .dataframe thead th {\n",
       "        text-align: right;\n",
       "    }\n",
       "</style>\n",
       "<table border=\"1\" class=\"dataframe\">\n",
       "  <thead>\n",
       "    <tr style=\"text-align: right;\">\n",
       "      <th></th>\n",
       "      <th>11750</th>\n",
       "      <th>13147</th>\n",
       "      <th>13867</th>\n",
       "      <th>14467</th>\n",
       "      <th>14987</th>\n",
       "      <th>16207</th>\n",
       "      <th>16507</th>\n",
       "      <th>16509</th>\n",
       "      <th>16510</th>\n",
       "      <th>16511</th>\n",
       "      <th>...</th>\n",
       "      <th>79</th>\n",
       "      <th>80</th>\n",
       "      <th>81</th>\n",
       "      <th>82</th>\n",
       "      <th>83</th>\n",
       "      <th>84</th>\n",
       "      <th>85</th>\n",
       "      <th>86</th>\n",
       "      <th>87</th>\n",
       "      <th>88</th>\n",
       "    </tr>\n",
       "  </thead>\n",
       "  <tbody>\n",
       "    <tr>\n",
       "      <th>0</th>\n",
       "      <td>16.88</td>\n",
       "      <td>34.90</td>\n",
       "      <td>8.62</td>\n",
       "      <td>19.35</td>\n",
       "      <td>7.00</td>\n",
       "      <td>21.43</td>\n",
       "      <td>30.88</td>\n",
       "      <td>30.22</td>\n",
       "      <td>35.87</td>\n",
       "      <td>40.30</td>\n",
       "      <td>...</td>\n",
       "      <td>30.15</td>\n",
       "      <td>29.38</td>\n",
       "      <td>36.30</td>\n",
       "      <td>35.93</td>\n",
       "      <td>11.78</td>\n",
       "      <td>11.87</td>\n",
       "      <td>16.80</td>\n",
       "      <td>16.73</td>\n",
       "      <td>15.92</td>\n",
       "      <td>12.12</td>\n",
       "    </tr>\n",
       "    <tr>\n",
       "      <th>1</th>\n",
       "      <td>16.97</td>\n",
       "      <td>34.87</td>\n",
       "      <td>8.65</td>\n",
       "      <td>19.35</td>\n",
       "      <td>7.00</td>\n",
       "      <td>21.42</td>\n",
       "      <td>30.87</td>\n",
       "      <td>29.98</td>\n",
       "      <td>35.92</td>\n",
       "      <td>40.37</td>\n",
       "      <td>...</td>\n",
       "      <td>30.15</td>\n",
       "      <td>29.37</td>\n",
       "      <td>36.37</td>\n",
       "      <td>35.88</td>\n",
       "      <td>11.82</td>\n",
       "      <td>11.88</td>\n",
       "      <td>16.80</td>\n",
       "      <td>16.78</td>\n",
       "      <td>15.87</td>\n",
       "      <td>12.12</td>\n",
       "    </tr>\n",
       "    <tr>\n",
       "      <th>2</th>\n",
       "      <td>16.98</td>\n",
       "      <td>34.95</td>\n",
       "      <td>8.67</td>\n",
       "      <td>19.38</td>\n",
       "      <td>7.00</td>\n",
       "      <td>21.43</td>\n",
       "      <td>30.82</td>\n",
       "      <td>30.07</td>\n",
       "      <td>36.02</td>\n",
       "      <td>40.43</td>\n",
       "      <td>...</td>\n",
       "      <td>30.17</td>\n",
       "      <td>29.27</td>\n",
       "      <td>36.23</td>\n",
       "      <td>35.88</td>\n",
       "      <td>11.82</td>\n",
       "      <td>12.07</td>\n",
       "      <td>16.83</td>\n",
       "      <td>16.77</td>\n",
       "      <td>15.85</td>\n",
       "      <td>12.15</td>\n",
       "    </tr>\n",
       "    <tr>\n",
       "      <th>3</th>\n",
       "      <td>16.98</td>\n",
       "      <td>35.05</td>\n",
       "      <td>8.67</td>\n",
       "      <td>19.43</td>\n",
       "      <td>7.02</td>\n",
       "      <td>21.37</td>\n",
       "      <td>30.85</td>\n",
       "      <td>30.15</td>\n",
       "      <td>36.13</td>\n",
       "      <td>40.55</td>\n",
       "      <td>...</td>\n",
       "      <td>30.15</td>\n",
       "      <td>29.13</td>\n",
       "      <td>36.27</td>\n",
       "      <td>35.98</td>\n",
       "      <td>11.82</td>\n",
       "      <td>11.92</td>\n",
       "      <td>16.82</td>\n",
       "      <td>16.70</td>\n",
       "      <td>15.83</td>\n",
       "      <td>12.18</td>\n",
       "    </tr>\n",
       "    <tr>\n",
       "      <th>4</th>\n",
       "      <td>16.90</td>\n",
       "      <td>35.03</td>\n",
       "      <td>8.68</td>\n",
       "      <td>19.53</td>\n",
       "      <td>7.03</td>\n",
       "      <td>21.40</td>\n",
       "      <td>30.88</td>\n",
       "      <td>30.28</td>\n",
       "      <td>36.27</td>\n",
       "      <td>40.68</td>\n",
       "      <td>...</td>\n",
       "      <td>29.97</td>\n",
       "      <td>29.02</td>\n",
       "      <td>36.37</td>\n",
       "      <td>36.08</td>\n",
       "      <td>11.85</td>\n",
       "      <td>11.92</td>\n",
       "      <td>16.83</td>\n",
       "      <td>16.73</td>\n",
       "      <td>15.88</td>\n",
       "      <td>12.17</td>\n",
       "    </tr>\n",
       "  </tbody>\n",
       "</table>\n",
       "<p>5 rows × 272 columns</p>\n",
       "</div>"
      ],
      "text/plain": [
       "   11750  13147  13867  14467  14987  16207  16507  16509  16510  16511  ...  \\\n",
       "0  16.88  34.90   8.62  19.35   7.00  21.43  30.88  30.22  35.87  40.30  ...   \n",
       "1  16.97  34.87   8.65  19.35   7.00  21.42  30.87  29.98  35.92  40.37  ...   \n",
       "2  16.98  34.95   8.67  19.38   7.00  21.43  30.82  30.07  36.02  40.43  ...   \n",
       "3  16.98  35.05   8.67  19.43   7.02  21.37  30.85  30.15  36.13  40.55  ...   \n",
       "4  16.90  35.03   8.68  19.53   7.03  21.40  30.88  30.28  36.27  40.68  ...   \n",
       "\n",
       "      79     80     81     82     83     84     85     86     87     88  \n",
       "0  30.15  29.38  36.30  35.93  11.78  11.87  16.80  16.73  15.92  12.12  \n",
       "1  30.15  29.37  36.37  35.88  11.82  11.88  16.80  16.78  15.87  12.12  \n",
       "2  30.17  29.27  36.23  35.88  11.82  12.07  16.83  16.77  15.85  12.15  \n",
       "3  30.15  29.13  36.27  35.98  11.82  11.92  16.82  16.70  15.83  12.18  \n",
       "4  29.97  29.02  36.37  36.08  11.85  11.92  16.83  16.73  15.88  12.17  \n",
       "\n",
       "[5 rows x 272 columns]"
      ]
     },
     "execution_count": 7,
     "metadata": {},
     "output_type": "execute_result"
    }
   ],
   "source": [
    "df.head()"
   ]
  },
  {
   "cell_type": "markdown",
   "id": "2a8828ab-955c-434e-a82f-4c3d80e9f937",
   "metadata": {
    "tags": []
   },
   "source": [
    "## 相互相関係数で特徴選択"
   ]
  },
  {
   "cell_type": "code",
   "execution_count": 8,
   "id": "ce089cd4-b567-4b97-b1fd-2b0f6c9d1260",
   "metadata": {},
   "outputs": [],
   "source": [
    "def select_index(target):\n",
    "\n",
    "    #相互相関関数\n",
    "    corrs = []\n",
    "    lags = []\n",
    "    for c in df.columns:\n",
    "        xcorr_list = xcorr(df[target],df[c])\n",
    "        lag = np.argmax(np.abs(xcorr_list))\n",
    "        lags.append(lag)\n",
    "        corr = corr_lag(df[target],df[c],lag)\n",
    "        corrs.append(corr)\n",
    "    corrs = np.array(corrs)\n",
    "    lags = np.array(lags) #targetと各routeでのラグを格納\n",
    "    \n",
    "    #重要度の上位を出力\n",
    "    idx_corrs = np.argsort(np.abs(corrs))[::-1]\n",
    "    top_cols_corrs,top_importances_corrs,lags = df.columns.values[idx_corrs][:n_input],corrs[idx_corrs][:n_input],lags[idx_corrs][:n_input]\n",
    "    print(top_cols_corrs,top_importances_corrs,lags)\n",
    "    \n",
    "    #targetのインデックスを追加\n",
    "    if not target in top_cols_corrs:\n",
    "        top_cols_corrs = np.append(top_cols_corrs,target)\n",
    "    \n",
    "    top_cols_select = top_cols_corrs\n",
    "    \n",
    "    return top_cols_select\n",
    "    #return [str(target)]\n",
    "    \n",
    "def xcorr(target,c):\n",
    "    xcorr_list = []\n",
    "    #margin = np.zeros(24)\n",
    "    #target = np.block([target,margin])\n",
    "    #c = np.block([margin,c])\n",
    "    \n",
    "    for t in range(24):\n",
    "        score = np.dot(target[t:],c[:len(c)-t])/(len(target)-t)\n",
    "        xcorr_list.append(score)\n",
    "        \n",
    "    return xcorr_list\n",
    "\n",
    "def corr_lag(target,c,lag):\n",
    "    return np.corrcoef(target[lag:],c[:len(c)-lag])[0,1]"
   ]
  },
  {
   "cell_type": "markdown",
   "id": "f0cd0f20-00db-4781-8efd-0e5c243de3cc",
   "metadata": {
    "tags": []
   },
   "source": [
    "## 標準化"
   ]
  },
  {
   "cell_type": "markdown",
   "id": "011ca67b-86ad-4eda-b18c-d5d8eadcbd11",
   "metadata": {
    "tags": []
   },
   "source": [
    "### 標準化前"
   ]
  },
  {
   "cell_type": "code",
   "execution_count": 9,
   "id": "ad762b78",
   "metadata": {},
   "outputs": [
    {
     "data": {
      "text/html": [
       "<div>\n",
       "<style scoped>\n",
       "    .dataframe tbody tr th:only-of-type {\n",
       "        vertical-align: middle;\n",
       "    }\n",
       "\n",
       "    .dataframe tbody tr th {\n",
       "        vertical-align: top;\n",
       "    }\n",
       "\n",
       "    .dataframe thead th {\n",
       "        text-align: right;\n",
       "    }\n",
       "</style>\n",
       "<table border=\"1\" class=\"dataframe\">\n",
       "  <thead>\n",
       "    <tr style=\"text-align: right;\">\n",
       "      <th></th>\n",
       "      <th>11750</th>\n",
       "      <th>13147</th>\n",
       "      <th>13867</th>\n",
       "      <th>14467</th>\n",
       "      <th>14987</th>\n",
       "      <th>16207</th>\n",
       "      <th>16507</th>\n",
       "      <th>16509</th>\n",
       "      <th>16510</th>\n",
       "      <th>16511</th>\n",
       "      <th>...</th>\n",
       "      <th>79</th>\n",
       "      <th>80</th>\n",
       "      <th>81</th>\n",
       "      <th>82</th>\n",
       "      <th>83</th>\n",
       "      <th>84</th>\n",
       "      <th>85</th>\n",
       "      <th>86</th>\n",
       "      <th>87</th>\n",
       "      <th>88</th>\n",
       "    </tr>\n",
       "  </thead>\n",
       "  <tbody>\n",
       "    <tr>\n",
       "      <th>count</th>\n",
       "      <td>80100.000000</td>\n",
       "      <td>80100.000000</td>\n",
       "      <td>80100.000000</td>\n",
       "      <td>80100.000000</td>\n",
       "      <td>80100.000000</td>\n",
       "      <td>80100.00000</td>\n",
       "      <td>80100.000000</td>\n",
       "      <td>80100.000000</td>\n",
       "      <td>80100.000000</td>\n",
       "      <td>80100.000000</td>\n",
       "      <td>...</td>\n",
       "      <td>80100.000000</td>\n",
       "      <td>80100.000000</td>\n",
       "      <td>80100.000000</td>\n",
       "      <td>80100.000000</td>\n",
       "      <td>80100.000000</td>\n",
       "      <td>80100.000000</td>\n",
       "      <td>80100.000000</td>\n",
       "      <td>80100.000000</td>\n",
       "      <td>80100.000000</td>\n",
       "      <td>80100.000000</td>\n",
       "    </tr>\n",
       "    <tr>\n",
       "      <th>mean</th>\n",
       "      <td>19.170902</td>\n",
       "      <td>39.101017</td>\n",
       "      <td>12.192407</td>\n",
       "      <td>23.518934</td>\n",
       "      <td>8.058261</td>\n",
       "      <td>24.52464</td>\n",
       "      <td>35.859563</td>\n",
       "      <td>35.072517</td>\n",
       "      <td>40.535897</td>\n",
       "      <td>45.218016</td>\n",
       "      <td>...</td>\n",
       "      <td>33.772151</td>\n",
       "      <td>33.001722</td>\n",
       "      <td>43.713114</td>\n",
       "      <td>40.960143</td>\n",
       "      <td>15.940215</td>\n",
       "      <td>14.125292</td>\n",
       "      <td>20.698876</td>\n",
       "      <td>21.033284</td>\n",
       "      <td>17.723159</td>\n",
       "      <td>14.774022</td>\n",
       "    </tr>\n",
       "    <tr>\n",
       "      <th>std</th>\n",
       "      <td>3.040124</td>\n",
       "      <td>5.006690</td>\n",
       "      <td>5.371723</td>\n",
       "      <td>4.789279</td>\n",
       "      <td>1.710866</td>\n",
       "      <td>3.92402</td>\n",
       "      <td>6.242558</td>\n",
       "      <td>5.497627</td>\n",
       "      <td>6.962691</td>\n",
       "      <td>7.069311</td>\n",
       "      <td>...</td>\n",
       "      <td>4.156159</td>\n",
       "      <td>4.339530</td>\n",
       "      <td>9.720439</td>\n",
       "      <td>6.230415</td>\n",
       "      <td>6.191741</td>\n",
       "      <td>2.696299</td>\n",
       "      <td>4.576538</td>\n",
       "      <td>4.895500</td>\n",
       "      <td>3.176840</td>\n",
       "      <td>4.458063</td>\n",
       "    </tr>\n",
       "    <tr>\n",
       "      <th>min</th>\n",
       "      <td>15.880000</td>\n",
       "      <td>33.600000</td>\n",
       "      <td>8.280000</td>\n",
       "      <td>18.550000</td>\n",
       "      <td>6.700000</td>\n",
       "      <td>20.45000</td>\n",
       "      <td>29.330000</td>\n",
       "      <td>28.520000</td>\n",
       "      <td>34.600000</td>\n",
       "      <td>38.880000</td>\n",
       "      <td>...</td>\n",
       "      <td>28.680000</td>\n",
       "      <td>27.630000</td>\n",
       "      <td>34.620000</td>\n",
       "      <td>34.420000</td>\n",
       "      <td>11.370000</td>\n",
       "      <td>11.430000</td>\n",
       "      <td>15.900000</td>\n",
       "      <td>15.770000</td>\n",
       "      <td>14.120000</td>\n",
       "      <td>11.420000</td>\n",
       "    </tr>\n",
       "    <tr>\n",
       "      <th>25%</th>\n",
       "      <td>17.120000</td>\n",
       "      <td>35.420000</td>\n",
       "      <td>8.650000</td>\n",
       "      <td>19.650000</td>\n",
       "      <td>7.130000</td>\n",
       "      <td>21.75000</td>\n",
       "      <td>31.500000</td>\n",
       "      <td>30.770000</td>\n",
       "      <td>36.320000</td>\n",
       "      <td>40.820000</td>\n",
       "      <td>...</td>\n",
       "      <td>30.620000</td>\n",
       "      <td>29.780000</td>\n",
       "      <td>36.630000</td>\n",
       "      <td>36.300000</td>\n",
       "      <td>11.830000</td>\n",
       "      <td>12.050000</td>\n",
       "      <td>17.150000</td>\n",
       "      <td>17.150000</td>\n",
       "      <td>15.850000</td>\n",
       "      <td>12.400000</td>\n",
       "    </tr>\n",
       "    <tr>\n",
       "      <th>50%</th>\n",
       "      <td>17.970000</td>\n",
       "      <td>36.770000</td>\n",
       "      <td>9.770000</td>\n",
       "      <td>21.630000</td>\n",
       "      <td>7.450000</td>\n",
       "      <td>22.67000</td>\n",
       "      <td>33.200000</td>\n",
       "      <td>32.930000</td>\n",
       "      <td>37.870000</td>\n",
       "      <td>42.500000</td>\n",
       "      <td>...</td>\n",
       "      <td>32.230000</td>\n",
       "      <td>31.500000</td>\n",
       "      <td>38.830000</td>\n",
       "      <td>38.330000</td>\n",
       "      <td>13.420000</td>\n",
       "      <td>12.900000</td>\n",
       "      <td>18.730000</td>\n",
       "      <td>18.820000</td>\n",
       "      <td>16.530000</td>\n",
       "      <td>13.070000</td>\n",
       "    </tr>\n",
       "    <tr>\n",
       "      <th>75%</th>\n",
       "      <td>20.230000</td>\n",
       "      <td>41.580000</td>\n",
       "      <td>13.000000</td>\n",
       "      <td>26.070000</td>\n",
       "      <td>8.020000</td>\n",
       "      <td>26.38000</td>\n",
       "      <td>38.130000</td>\n",
       "      <td>37.650000</td>\n",
       "      <td>41.520000</td>\n",
       "      <td>46.430000</td>\n",
       "      <td>...</td>\n",
       "      <td>35.950000</td>\n",
       "      <td>34.750000</td>\n",
       "      <td>48.420000</td>\n",
       "      <td>44.080000</td>\n",
       "      <td>16.880000</td>\n",
       "      <td>15.630000</td>\n",
       "      <td>23.070000</td>\n",
       "      <td>23.770000</td>\n",
       "      <td>18.200000</td>\n",
       "      <td>14.500000</td>\n",
       "    </tr>\n",
       "    <tr>\n",
       "      <th>max</th>\n",
       "      <td>51.480000</td>\n",
       "      <td>79.430000</td>\n",
       "      <td>34.630000</td>\n",
       "      <td>52.800000</td>\n",
       "      <td>33.400000</td>\n",
       "      <td>55.18000</td>\n",
       "      <td>77.100000</td>\n",
       "      <td>70.670000</td>\n",
       "      <td>86.000000</td>\n",
       "      <td>92.120000</td>\n",
       "      <td>...</td>\n",
       "      <td>72.930000</td>\n",
       "      <td>62.520000</td>\n",
       "      <td>94.100000</td>\n",
       "      <td>84.730000</td>\n",
       "      <td>44.630000</td>\n",
       "      <td>27.850000</td>\n",
       "      <td>57.880000</td>\n",
       "      <td>72.030000</td>\n",
       "      <td>62.080000</td>\n",
       "      <td>79.950000</td>\n",
       "    </tr>\n",
       "  </tbody>\n",
       "</table>\n",
       "<p>8 rows × 272 columns</p>\n",
       "</div>"
      ],
      "text/plain": [
       "              11750         13147         13867         14467         14987  \\\n",
       "count  80100.000000  80100.000000  80100.000000  80100.000000  80100.000000   \n",
       "mean      19.170902     39.101017     12.192407     23.518934      8.058261   \n",
       "std        3.040124      5.006690      5.371723      4.789279      1.710866   \n",
       "min       15.880000     33.600000      8.280000     18.550000      6.700000   \n",
       "25%       17.120000     35.420000      8.650000     19.650000      7.130000   \n",
       "50%       17.970000     36.770000      9.770000     21.630000      7.450000   \n",
       "75%       20.230000     41.580000     13.000000     26.070000      8.020000   \n",
       "max       51.480000     79.430000     34.630000     52.800000     33.400000   \n",
       "\n",
       "             16207         16507         16509         16510         16511  \\\n",
       "count  80100.00000  80100.000000  80100.000000  80100.000000  80100.000000   \n",
       "mean      24.52464     35.859563     35.072517     40.535897     45.218016   \n",
       "std        3.92402      6.242558      5.497627      6.962691      7.069311   \n",
       "min       20.45000     29.330000     28.520000     34.600000     38.880000   \n",
       "25%       21.75000     31.500000     30.770000     36.320000     40.820000   \n",
       "50%       22.67000     33.200000     32.930000     37.870000     42.500000   \n",
       "75%       26.38000     38.130000     37.650000     41.520000     46.430000   \n",
       "max       55.18000     77.100000     70.670000     86.000000     92.120000   \n",
       "\n",
       "       ...            79            80            81            82  \\\n",
       "count  ...  80100.000000  80100.000000  80100.000000  80100.000000   \n",
       "mean   ...     33.772151     33.001722     43.713114     40.960143   \n",
       "std    ...      4.156159      4.339530      9.720439      6.230415   \n",
       "min    ...     28.680000     27.630000     34.620000     34.420000   \n",
       "25%    ...     30.620000     29.780000     36.630000     36.300000   \n",
       "50%    ...     32.230000     31.500000     38.830000     38.330000   \n",
       "75%    ...     35.950000     34.750000     48.420000     44.080000   \n",
       "max    ...     72.930000     62.520000     94.100000     84.730000   \n",
       "\n",
       "                 83            84            85            86            87  \\\n",
       "count  80100.000000  80100.000000  80100.000000  80100.000000  80100.000000   \n",
       "mean      15.940215     14.125292     20.698876     21.033284     17.723159   \n",
       "std        6.191741      2.696299      4.576538      4.895500      3.176840   \n",
       "min       11.370000     11.430000     15.900000     15.770000     14.120000   \n",
       "25%       11.830000     12.050000     17.150000     17.150000     15.850000   \n",
       "50%       13.420000     12.900000     18.730000     18.820000     16.530000   \n",
       "75%       16.880000     15.630000     23.070000     23.770000     18.200000   \n",
       "max       44.630000     27.850000     57.880000     72.030000     62.080000   \n",
       "\n",
       "                 88  \n",
       "count  80100.000000  \n",
       "mean      14.774022  \n",
       "std        4.458063  \n",
       "min       11.420000  \n",
       "25%       12.400000  \n",
       "50%       13.070000  \n",
       "75%       14.500000  \n",
       "max       79.950000  \n",
       "\n",
       "[8 rows x 272 columns]"
      ]
     },
     "execution_count": 9,
     "metadata": {},
     "output_type": "execute_result"
    }
   ],
   "source": [
    "df.describe()"
   ]
  },
  {
   "cell_type": "code",
   "execution_count": 10,
   "id": "000756fc",
   "metadata": {
    "scrolled": true
   },
   "outputs": [
    {
     "name": "stderr",
     "output_type": "stream",
     "text": [
      "/Users/ishigurofutoshi/opt/anaconda3/envs/pems/lib/python3.7/site-packages/seaborn/distributions.py:2619: FutureWarning: `distplot` is a deprecated function and will be removed in a future version. Please adapt your code to use either `displot` (a figure-level function with similar flexibility) or `histplot` (an axes-level function for histograms).\n",
      "  warnings.warn(msg, FutureWarning)\n"
     ]
    },
    {
     "data": {
      "image/png": "[encoded data removed]",
      "text/plain": [
       "<Figure size 576x432 with 1 Axes>"
      ]
     },
     "metadata": {
      "needs_background": "light"
     },
     "output_type": "display_data"
    }
   ],
   "source": [
    "sns.distplot(df[target])\n",
    "sns.set()"
   ]
  },
  {
   "cell_type": "markdown",
   "id": "e680a756-fd4d-4c99-b348-39c3a87736d6",
   "metadata": {
    "tags": []
   },
   "source": [
    "### 標準化"
   ]
  },
  {
   "cell_type": "code",
   "execution_count": 11,
   "id": "560d2882",
   "metadata": {},
   "outputs": [],
   "source": [
    "column_indices = {name: i for i, name in enumerate(df.columns)}\n",
    "\n",
    "n = len(df)\n",
    "train_df = df[0:int(n*0.7)]\n",
    "val_df = df[int(n*0.7):int(n*0.9)]\n",
    "test_df = df[int(n*0.9):]\n",
    "\n",
    "num_features = df.shape[1]"
   ]
  },
  {
   "cell_type": "code",
   "execution_count": 12,
   "id": "2de6c604",
   "metadata": {},
   "outputs": [],
   "source": [
    "train_mean = train_df.mean()\n",
    "train_std = train_df.std()\n",
    "\n",
    "train_df = (train_df - train_mean) / train_std\n",
    "val_df = (val_df - train_mean) / train_std\n",
    "test_df = (test_df - train_mean) / train_std"
   ]
  },
  {
   "cell_type": "code",
   "execution_count": 13,
   "id": "f565dea4",
   "metadata": {},
   "outputs": [
    {
     "name": "stderr",
     "output_type": "stream",
     "text": [
      "/Users/ishigurofutoshi/opt/anaconda3/envs/pems/lib/python3.7/site-packages/seaborn/distributions.py:2619: FutureWarning: `distplot` is a deprecated function and will be removed in a future version. Please adapt your code to use either `displot` (a figure-level function with similar flexibility) or `histplot` (an axes-level function for histograms).\n",
      "  warnings.warn(msg, FutureWarning)\n"
     ]
    },
    {
     "data": {
      "image/png": "[encoded data removed]",
      "text/plain": [
       "<Figure size 576x432 with 1 Axes>"
      ]
     },
     "metadata": {},
     "output_type": "display_data"
    }
   ],
   "source": [
    "sns.distplot(test_df[target])\n",
    "sns.set()"
   ]
  },
  {
   "cell_type": "code",
   "execution_count": 14,
   "id": "0be0bbc0",
   "metadata": {},
   "outputs": [],
   "source": [
    "df_std = (df - train_mean) / train_std\n",
    "df_std = df_std.melt(var_name='Column', value_name='Normalized')\n",
    "#plt.figure(figsize=(12, 6))\n",
    "#ax = sns.violinplot(x='Column', y='Normalized', data=df_std)\n",
    "#_ = ax.set_xticklabels(df.keys(), rotation=90)"
   ]
  },
  {
   "cell_type": "markdown",
   "id": "cc6c9094-da20-4ef4-93e4-e1223c8e7baa",
   "metadata": {
    "tags": []
   },
   "source": [
    "## windowに分割"
   ]
  },
  {
   "cell_type": "code",
   "execution_count": 15,
   "id": "aa717d40",
   "metadata": {},
   "outputs": [],
   "source": [
    "class WindowGenerator():\n",
    "  def __init__(self, input_width, label_width, shift,\n",
    "               train_df=train_df, val_df=val_df, test_df=test_df,\n",
    "               label_columns=None):\n",
    "    # Store the raw data.\n",
    "    self.train_df = train_df\n",
    "    self.val_df = val_df\n",
    "    self.test_df = test_df\n",
    "\n",
    "    # Work out the label column indices.\n",
    "    self.label_columns = label_columns\n",
    "    if label_columns is not None:\n",
    "      self.label_columns_indices = {name: i for i, name in\n",
    "                                    enumerate(label_columns)}\n",
    "    self.column_indices = {name: i for i, name in\n",
    "                           enumerate(train_df.columns)}\n",
    "\n",
    "    # Work out the window parameters.\n",
    "    self.input_width = input_width\n",
    "    self.label_width = label_width\n",
    "    self.shift = shift\n",
    "\n",
    "    self.total_window_size = input_width + shift\n",
    "\n",
    "    self.input_slice = slice(0, input_width)\n",
    "    self.input_indices = np.arange(self.total_window_size)[self.input_slice]\n",
    "\n",
    "    self.label_start = self.total_window_size - self.label_width\n",
    "    self.labels_slice = slice(self.label_start, None)\n",
    "    self.label_indices = np.arange(self.total_window_size)[self.labels_slice]\n",
    "\n",
    "  def __repr__(self):\n",
    "    return '\\n'.join([\n",
    "        f'Total window size: {self.total_window_size}',\n",
    "        f'Input indices: {self.input_indices}',\n",
    "        f'Label indices: {self.label_indices}',\n",
    "        f'Label column name(s): {self.label_columns}'])"
   ]
  },
  {
   "cell_type": "code",
   "execution_count": 16,
   "id": "be4dcaa7",
   "metadata": {},
   "outputs": [
    {
     "data": {
      "text/plain": [
       "Total window size: 48\n",
       "Input indices: [ 0  1  2  3  4  5  6  7  8  9 10 11 12 13 14 15 16 17 18 19 20 21 22 23]\n",
       "Label indices: [47]\n",
       "Label column name(s): ['11750']"
      ]
     },
     "execution_count": 16,
     "metadata": {},
     "output_type": "execute_result"
    }
   ],
   "source": [
    "w1 = WindowGenerator(input_width=24, label_width=1, shift=24,\n",
    "                     label_columns=[target])\n",
    "w1"
   ]
  },
  {
   "cell_type": "code",
   "execution_count": 17,
   "id": "568a075d",
   "metadata": {},
   "outputs": [
    {
     "data": {
      "text/plain": [
       "Total window size: 7\n",
       "Input indices: [0 1 2 3 4 5]\n",
       "Label indices: [6]\n",
       "Label column name(s): ['11750']"
      ]
     },
     "execution_count": 17,
     "metadata": {},
     "output_type": "execute_result"
    }
   ],
   "source": [
    "w2 = WindowGenerator(input_width=6, label_width=1, shift=1,\n",
    "                     label_columns=[target])\n",
    "w2"
   ]
  },
  {
   "cell_type": "code",
   "execution_count": 72,
   "id": "033a676f",
   "metadata": {},
   "outputs": [],
   "source": [
    "def split_window(self, features):\n",
    "  \n",
    "  inputs1 = features[:, self.input_slice, :index_target]\n",
    "  inputs2 = features[:, self.input_slice, index_target+1:]\n",
    "  inputs = tf.concat([inputs1,inputs2],2)\n",
    "  labels = features[:, self.labels_slice, :]\n",
    "  if self.label_columns is not None:\n",
    "    labels = tf.stack(\n",
    "        [labels[:, :, self.column_indices[name]] for name in self.label_columns],\n",
    "        axis=-1)\n",
    "\n",
    "  # Slicing doesn't preserve static shape information, so set the shapes\n",
    "  # manually. This way the `tf.data.Datasets` are easier to inspect.\n",
    "  inputs.set_shape([None, self.input_width, None])\n",
    "  labels.set_shape([None, self.label_width, None])\n",
    "\n",
    "  return inputs, labels\n",
    "\n",
    "WindowGenerator.split_window = split_window"
   ]
  },
  {
   "cell_type": "code",
   "execution_count": 73,
   "id": "fa25d215",
   "metadata": {},
   "outputs": [
    {
     "name": "stdout",
     "output_type": "stream",
     "text": [
      "tf.Tensor(\n",
      "[[[-0.83163379 -0.65890393 -0.85757895 ... -0.87528917 -0.58669488\n",
      "   -0.56799037]\n",
      "  [-0.8388127  -0.65314397 -0.85757895 ... -0.86434729 -0.6091488\n",
      "   -0.56799037]\n",
      "  [-0.81966894 -0.649304   -0.8509963  ... -0.86653567 -0.61813037\n",
      "   -0.56098702]\n",
      "  [-0.79573925 -0.649304   -0.84002521 ... -0.8818543  -0.62711194\n",
      "   -0.55398368]\n",
      "  [-0.80052519 -0.64738401 -0.81808303 ... -0.87528917 -0.60465802\n",
      "   -0.55631812]\n",
      "  [-0.77898846 -0.64738401 -0.82466568 ... -0.86434729 -0.58669488\n",
      "   -0.55631812]]\n",
      "\n",
      " [[-0.7119853   0.13021061 -0.48456185 ... -0.54265599 -0.42951746\n",
      "   -0.46294019]\n",
      "  [-0.6880556   0.13405058 -0.48456185 ... -0.54703274 -0.36215571\n",
      "   -0.47227799]\n",
      "  [-0.68326966  0.13021061 -0.4779792  ... -0.52514898 -0.37113727\n",
      "   -0.49795692]\n",
      "  [-0.71916421  0.08221094 -0.50650403 ... -0.51639547 -0.46993451\n",
      "   -0.47461244]\n",
      "  [-0.70480639  0.06301107 -0.50650403 ... -0.52077223 -0.42502668\n",
      "   -0.46294019]\n",
      "  [-0.75266579  0.05149115 -0.51089247 ... -0.52733735 -0.43849903\n",
      "   -0.47928133]]\n",
      "\n",
      " [[-0.41286405  1.06908412 -0.05230086 ...  0.19045005 -0.13312574\n",
      "   -0.26217765]\n",
      "  [-0.42961484  1.04028432 -0.03913555 ...  0.1948268  -0.11516261\n",
      "   -0.25283985]\n",
      "  [-0.46072345  1.00380457 -0.03035867 ...  0.17513141 -0.04331007\n",
      "   -0.26217765]\n",
      "  [-0.50140394  0.97884474 -0.01719337 ...  0.16856628 -0.06576399\n",
      "   -0.33221109]\n",
      "  [-0.47986721  0.93084507 -0.01938758 ...  0.17513141 -0.06576399\n",
      "   -0.29952882]\n",
      "  [-0.46790236  0.88284541  0.05302162 ...  0.16200116 -0.07025477\n",
      "   -0.26217765]]], shape=(3, 6, 271), dtype=float64)\n",
      "tf.Tensor(\n",
      "[[[-0.75713759]]\n",
      "\n",
      " [[-0.59177855]]\n",
      "\n",
      " [[ 0.15041438]]], shape=(3, 1, 1), dtype=float64)\n",
      "All shapes are: (batch, time, features)\n",
      "Window shape: (3, 7, 272)\n",
      "Inputs shape: (3, 6, 271)\n",
      "Labels shape: (3, 1, 1)\n"
     ]
    }
   ],
   "source": [
    "# Stack three slices, the length of the total window.\n",
    "example_window = tf.stack([np.array(train_df[:w2.total_window_size]),\n",
    "                           np.array(train_df[100:100+w2.total_window_size]),\n",
    "                           np.array(train_df[200:200+w2.total_window_size])])\n",
    "\n",
    "example_inputs, example_labels = w2.split_window(example_window)\n",
    "print(example_inputs)\n",
    "print(example_labels)\n",
    "\n",
    "print('All shapes are: (batch, time, features)')\n",
    "print(f'Window shape: {example_window.shape}')\n",
    "print(f'Inputs shape: {example_inputs.shape}')\n",
    "print(f'Labels shape: {example_labels.shape}')"
   ]
  },
  {
   "cell_type": "code",
   "execution_count": 74,
   "id": "314ee80b",
   "metadata": {},
   "outputs": [
    {
     "ename": "AttributeError",
     "evalue": "can't set attribute",
     "output_type": "error",
     "traceback": [
      "\u001b[0;31m---------------------------------------------------------------------------\u001b[0m",
      "\u001b[0;31mAttributeError\u001b[0m                            Traceback (most recent call last)",
      "\u001b[0;32m/var/folders/ns/m6xqd78d419c4bs1hmdmhkh00000gp/T/ipykernel_98809/1189466449.py\u001b[0m in \u001b[0;36m<module>\u001b[0;34m\u001b[0m\n\u001b[0;32m----> 1\u001b[0;31m \u001b[0mw2\u001b[0m\u001b[0;34m.\u001b[0m\u001b[0mexample\u001b[0m \u001b[0;34m=\u001b[0m \u001b[0mexample_inputs\u001b[0m\u001b[0;34m,\u001b[0m \u001b[0mexample_labels\u001b[0m\u001b[0;34m\u001b[0m\u001b[0;34m\u001b[0m\u001b[0m\n\u001b[0m",
      "\u001b[0;31mAttributeError\u001b[0m: can't set attribute"
     ]
    }
   ],
   "source": [
    "w2.example = example_inputs, example_labels"
   ]
  },
  {
   "cell_type": "markdown",
   "id": "35b14402-06df-491c-9a9d-2813ec02c50b",
   "metadata": {
    "tags": []
   },
   "source": [
    "## プロット"
   ]
  },
  {
   "cell_type": "code",
   "execution_count": 75,
   "id": "94b0e625",
   "metadata": {},
   "outputs": [],
   "source": [
    "def plot(self, model=None, plot_col=target, max_subplots=3):\n",
    "  inputs, labels = self.example\n",
    "  plt.figure(figsize=(12, 8))\n",
    "  plot_col_index = self.column_indices[plot_col]\n",
    "  max_n = min(max_subplots, len(inputs))\n",
    "  for n in range(max_n):\n",
    "    plt.subplot(max_n, 1, n+1)\n",
    "    plt.ylabel(f'{plot_col} [normed]')\n",
    "    plt.plot(self.input_indices, inputs[n, :, plot_col_index],\n",
    "             label='Inputs', marker='.', zorder=-10)\n",
    "\n",
    "    if self.label_columns:\n",
    "      label_col_index = self.label_columns_indices.get(plot_col, None)\n",
    "    else:\n",
    "      label_col_index = plot_col_index\n",
    "\n",
    "    if label_col_index is None:\n",
    "      continue\n",
    "\n",
    "    plt.scatter(self.label_indices, labels[n, :, label_col_index],\n",
    "                edgecolors='k', label='Labels', c='#2ca02c', s=64)\n",
    "    if model is not None:\n",
    "      predictions = model(inputs)\n",
    "      plt.scatter(self.label_indices, predictions[n, :, label_col_index],\n",
    "                  marker='X', edgecolors='k', label='Predictions',\n",
    "                  c='#ff7f0e', s=64)\n",
    "\n",
    "    if n == 0:\n",
    "      plt.legend()\n",
    "\n",
    "  plt.xlabel('5 Minutes')\n",
    "\n",
    "WindowGenerator.plot = plot"
   ]
  },
  {
   "cell_type": "code",
   "execution_count": 76,
   "id": "e5ddb4fa",
   "metadata": {},
   "outputs": [
    {
     "data": {
      "image/png": "[encoded data removed]",
      "text/plain": [
       "<Figure size 864x576 with 3 Axes>"
      ]
     },
     "metadata": {},
     "output_type": "display_data"
    }
   ],
   "source": [
    "w2.plot()"
   ]
  },
  {
   "cell_type": "markdown",
   "id": "a3ee4c46-71fd-4228-8881-d0e0daffe777",
   "metadata": {
    "tags": []
   },
   "source": [
    "## データセット作成"
   ]
  },
  {
   "cell_type": "code",
   "execution_count": 77,
   "id": "88eac53e",
   "metadata": {},
   "outputs": [],
   "source": [
    "def make_dataset(self, data):\n",
    "  data = np.array(data, dtype=np.float32)\n",
    "  ds = tf.keras.preprocessing.timeseries_dataset_from_array(\n",
    "      data=data,\n",
    "      targets=None,\n",
    "      sequence_length=self.total_window_size,\n",
    "      sequence_stride=1,\n",
    "      shuffle=False,\n",
    "      batch_size=32,)\n",
    "\n",
    "  ds = ds.map(self.split_window)\n",
    "\n",
    "  return ds\n",
    "\n",
    "WindowGenerator.make_dataset = make_dataset"
   ]
  },
  {
   "cell_type": "code",
   "execution_count": 78,
   "id": "17c7612d",
   "metadata": {},
   "outputs": [],
   "source": [
    "@property\n",
    "def train(self):\n",
    "  return self.make_dataset(self.train_df)\n",
    "\n",
    "@property\n",
    "def val(self):\n",
    "  return self.make_dataset(self.val_df)\n",
    "\n",
    "@property\n",
    "def test(self):\n",
    "  return self.make_dataset(self.test_df)\n",
    "\n",
    "@property\n",
    "def example(self):\n",
    "  \"\"\"Get and cache an example batch of `inputs, labels` for plotting.\"\"\"\n",
    "  result = getattr(self, '_example', None)\n",
    "  if result is None:\n",
    "    # No example batch was found, so get one from the `.train` dataset\n",
    "    result = next(iter(self.train))\n",
    "    # And cache it for next time\n",
    "    self._example = result\n",
    "  return result\n",
    "\n",
    "WindowGenerator.train = train\n",
    "WindowGenerator.val = val\n",
    "WindowGenerator.test = test\n",
    "WindowGenerator.example = example"
   ]
  },
  {
   "cell_type": "code",
   "execution_count": 79,
   "id": "4bfb741d",
   "metadata": {},
   "outputs": [
    {
     "name": "stdout",
     "output_type": "stream",
     "text": [
      "WARNING:tensorflow:AutoGraph could not transform <bound method split_window of Total window size: 7\n",
      "Input indices: [0 1 2 3 4 5]\n",
      "Label indices: [6]\n",
      "Label column name(s): ['11750']> and will run it as-is.\n",
      "Please report this to the TensorFlow team. When filing the bug, set the verbosity to 10 (on Linux, `export AUTOGRAPH_VERBOSITY=10`) and attach the full output.\n",
      "Cause: module 'gast' has no attribute 'Constant'\n",
      "To silence this warning, decorate the function with @tf.autograph.experimental.do_not_convert\n",
      "WARNING: AutoGraph could not transform <bound method split_window of Total window size: 7\n",
      "Input indices: [0 1 2 3 4 5]\n",
      "Label indices: [6]\n",
      "Label column name(s): ['11750']> and will run it as-is.\n",
      "Please report this to the TensorFlow team. When filing the bug, set the verbosity to 10 (on Linux, `export AUTOGRAPH_VERBOSITY=10`) and attach the full output.\n",
      "Cause: module 'gast' has no attribute 'Constant'\n",
      "To silence this warning, decorate the function with @tf.autograph.experimental.do_not_convert\n"
     ]
    },
    {
     "data": {
      "text/plain": [
       "(TensorSpec(shape=(None, 6, 271), dtype=tf.float32, name=None),\n",
       " TensorSpec(shape=(None, 1, 1), dtype=tf.float32, name=None))"
      ]
     },
     "execution_count": 79,
     "metadata": {},
     "output_type": "execute_result"
    }
   ],
   "source": [
    "# Each element is an (inputs, label) pair.\n",
    "w2.train.element_spec"
   ]
  },
  {
   "cell_type": "code",
   "execution_count": 80,
   "id": "c05bc6e8",
   "metadata": {},
   "outputs": [
    {
     "name": "stdout",
     "output_type": "stream",
     "text": [
      "Inputs shape (batch, time, features): (32, 6, 271)\n",
      "Labels shape (batch, time, features): (32, 1, 1)\n"
     ]
    }
   ],
   "source": [
    "for example_inputs, example_labels in w2.train.take(1):\n",
    "    print(f'Inputs shape (batch, time, features): {example_inputs.shape}')\n",
    "    print(f'Labels shape (batch, time, features): {example_labels.shape}')"
   ]
  },
  {
   "cell_type": "code",
   "execution_count": 81,
   "id": "7a0aaa5b",
   "metadata": {},
   "outputs": [
    {
     "data": {
      "text/plain": [
       "Total window size: 2\n",
       "Input indices: [0]\n",
       "Label indices: [1]\n",
       "Label column name(s): ['11750']"
      ]
     },
     "execution_count": 81,
     "metadata": {},
     "output_type": "execute_result"
    }
   ],
   "source": [
    "single_step_window = WindowGenerator(\n",
    "    input_width=1, label_width=1, shift=1,\n",
    "    label_columns=[target])\n",
    "single_step_window"
   ]
  },
  {
   "cell_type": "code",
   "execution_count": 82,
   "id": "890ab82c",
   "metadata": {},
   "outputs": [
    {
     "name": "stdout",
     "output_type": "stream",
     "text": [
      "Inputs shape (batch, time, features): (32, 1, 271)\n",
      "Labels shape (batch, time, features): (32, 1, 1)\n"
     ]
    }
   ],
   "source": [
    "for example_inputs, example_labels in single_step_window.train.take(1):\n",
    "    print(f'Inputs shape (batch, time, features): {example_inputs.shape}')\n",
    "    print(f'Labels shape (batch, time, features): {example_labels.shape}')"
   ]
  },
  {
   "cell_type": "markdown",
   "id": "2f3a502c-d358-413a-b49d-9065dc446614",
   "metadata": {
    "tags": []
   },
   "source": [
    "## ベースライン"
   ]
  },
  {
   "cell_type": "code",
   "execution_count": 83,
   "id": "875a36c1",
   "metadata": {},
   "outputs": [],
   "source": [
    "class Baseline(tf.keras.Model):\n",
    "  def __init__(self, label_index=None):\n",
    "    super().__init__()\n",
    "    self.label_index = label_index\n",
    "\n",
    "  def call(self, inputs):\n",
    "    if self.label_index is None:\n",
    "      return inputs\n",
    "    result = inputs[:, :, self.label_index]\n",
    "    return result[:, :, tf.newaxis]"
   ]
  },
  {
   "cell_type": "code",
   "execution_count": 84,
   "id": "1c80d9d3",
   "metadata": {},
   "outputs": [
    {
     "name": "stdout",
     "output_type": "stream",
     "text": [
      "WARNING:tensorflow:AutoGraph could not transform <function Model.make_test_function.<locals>.test_function at 0x7ff5973e6710> and will run it as-is.\n",
      "Please report this to the TensorFlow team. When filing the bug, set the verbosity to 10 (on Linux, `export AUTOGRAPH_VERBOSITY=10`) and attach the full output.\n",
      "Cause: 'arguments' object has no attribute 'posonlyargs'\n",
      "To silence this warning, decorate the function with @tf.autograph.experimental.do_not_convert\n",
      "WARNING: AutoGraph could not transform <function Model.make_test_function.<locals>.test_function at 0x7ff5973e6710> and will run it as-is.\n",
      "Please report this to the TensorFlow team. When filing the bug, set the verbosity to 10 (on Linux, `export AUTOGRAPH_VERBOSITY=10`) and attach the full output.\n",
      "Cause: 'arguments' object has no attribute 'posonlyargs'\n",
      "To silence this warning, decorate the function with @tf.autograph.experimental.do_not_convert\n",
      "WARNING:tensorflow:AutoGraph could not transform <bound method Baseline.call of <__main__.Baseline object at 0x7ff599af5350>> and will run it as-is.\n",
      "Please report this to the TensorFlow team. When filing the bug, set the verbosity to 10 (on Linux, `export AUTOGRAPH_VERBOSITY=10`) and attach the full output.\n",
      "Cause: module 'gast' has no attribute 'Constant'\n",
      "To silence this warning, decorate the function with @tf.autograph.experimental.do_not_convert\n",
      "WARNING: AutoGraph could not transform <bound method Baseline.call of <__main__.Baseline object at 0x7ff599af5350>> and will run it as-is.\n",
      "Please report this to the TensorFlow team. When filing the bug, set the verbosity to 10 (on Linux, `export AUTOGRAPH_VERBOSITY=10`) and attach the full output.\n",
      "Cause: module 'gast' has no attribute 'Constant'\n",
      "To silence this warning, decorate the function with @tf.autograph.experimental.do_not_convert\n",
      "501/501 [==============================] - 1s 967us/step - loss: 0.8845 - root_mean_squared_error: 0.9405\n"
     ]
    }
   ],
   "source": [
    "baseline = Baseline(label_index=column_indices[target])\n",
    "\n",
    "baseline.compile(loss=tf.losses.MeanSquaredError(),\n",
    "                 metrics=[tf.keras.metrics.RootMeanSquaredError()])\n",
    "\n",
    "val_performance = {}\n",
    "performance = {}\n",
    "val_performance['Baseline'] = baseline.evaluate(single_step_window.val)\n",
    "performance['Baseline'] = baseline.evaluate(single_step_window.test, verbose=0)"
   ]
  },
  {
   "cell_type": "code",
   "execution_count": 85,
   "id": "82a9739b",
   "metadata": {},
   "outputs": [
    {
     "data": {
      "text/plain": [
       "Total window size: 13\n",
       "Input indices: [ 0  1  2  3  4  5  6  7  8  9 10 11]\n",
       "Label indices: [ 1  2  3  4  5  6  7  8  9 10 11 12]\n",
       "Label column name(s): ['11750']"
      ]
     },
     "execution_count": 85,
     "metadata": {},
     "output_type": "execute_result"
    }
   ],
   "source": [
    "wide_window = WindowGenerator(\n",
    "    input_width=12, label_width=12, shift=1,\n",
    "    label_columns=[target])\n",
    "\n",
    "wide_window"
   ]
  },
  {
   "cell_type": "code",
   "execution_count": 86,
   "id": "b3bab93e",
   "metadata": {},
   "outputs": [
    {
     "name": "stdout",
     "output_type": "stream",
     "text": [
      "Input shape: (32, 12, 271)\n",
      "Output shape: (32, 12, 1)\n"
     ]
    }
   ],
   "source": [
    "print('Input shape:', wide_window.example[0].shape)\n",
    "print('Output shape:', baseline(wide_window.example[0]).shape)"
   ]
  },
  {
   "cell_type": "code",
   "execution_count": 87,
   "id": "eedab45b",
   "metadata": {},
   "outputs": [
    {
     "data": {
      "image/png": "[encoded data removed]",
      "text/plain": [
       "<Figure size 864x576 with 3 Axes>"
      ]
     },
     "metadata": {},
     "output_type": "display_data"
    }
   ],
   "source": [
    "wide_window.plot(baseline)"
   ]
  },
  {
   "cell_type": "markdown",
   "id": "b0635c88-6299-4846-a1bd-e8ae44ddf3d0",
   "metadata": {
    "tags": []
   },
   "source": [
    "## Linearモデル"
   ]
  },
  {
   "cell_type": "code",
   "execution_count": 88,
   "id": "576b5ced",
   "metadata": {},
   "outputs": [],
   "source": [
    "linear = tf.keras.Sequential([\n",
    "    tf.keras.layers.Dense(units=1)\n",
    "])"
   ]
  },
  {
   "cell_type": "code",
   "execution_count": 89,
   "id": "d35ce3fb",
   "metadata": {},
   "outputs": [
    {
     "name": "stdout",
     "output_type": "stream",
     "text": [
      "Input shape: (32, 1, 271)\n",
      "Output shape: (32, 1, 1)\n"
     ]
    }
   ],
   "source": [
    "print('Input shape:', single_step_window.example[0].shape)\n",
    "print('Output shape:', linear(single_step_window.example[0]).shape)"
   ]
  },
  {
   "cell_type": "code",
   "execution_count": 90,
   "id": "a1970730",
   "metadata": {},
   "outputs": [],
   "source": [
    "MAX_EPOCHS = 40\n",
    "\n",
    "def compile_and_fit(model, window, patience=2):\n",
    "  early_stopping = tf.keras.callbacks.EarlyStopping(monitor='val_loss',\n",
    "                                                    patience=patience,\n",
    "                                                    mode='min')\n",
    "  model.compile(loss=tf.losses.MeanSquaredError(),\n",
    "                optimizer=tf.optimizers.Adam(),\n",
    "                metrics=[tf.keras.metrics.RootMeanSquaredError(),tf.metrics.MeanSquaredError(),tf.metrics.MeanAbsoluteError()])\n",
    "                #metrics=[tf.metrics.MeanAbsoluteError()])\n",
    "\n",
    "  start = time.time()\n",
    "  history = model.fit(window.train, epochs=MAX_EPOCHS,\n",
    "                      validation_data=window.val,\n",
    "                      callbacks=[early_stopping]\n",
    "                     )\n",
    "  run_time = time.time() - start\n",
    "  return history,run_time"
   ]
  },
  {
   "cell_type": "code",
   "execution_count": 91,
   "id": "7ca63794",
   "metadata": {},
   "outputs": [
    {
     "name": "stdout",
     "output_type": "stream",
     "text": [
      "Epoch 1/40\n",
      "WARNING:tensorflow:AutoGraph could not transform <function Model.make_train_function.<locals>.train_function at 0x7ff532a74170> and will run it as-is.\n",
      "Please report this to the TensorFlow team. When filing the bug, set the verbosity to 10 (on Linux, `export AUTOGRAPH_VERBOSITY=10`) and attach the full output.\n",
      "Cause: 'arguments' object has no attribute 'posonlyargs'\n",
      "To silence this warning, decorate the function with @tf.autograph.experimental.do_not_convert\n",
      "WARNING: AutoGraph could not transform <function Model.make_train_function.<locals>.train_function at 0x7ff532a74170> and will run it as-is.\n",
      "Please report this to the TensorFlow team. When filing the bug, set the verbosity to 10 (on Linux, `export AUTOGRAPH_VERBOSITY=10`) and attach the full output.\n",
      "Cause: 'arguments' object has no attribute 'posonlyargs'\n",
      "To silence this warning, decorate the function with @tf.autograph.experimental.do_not_convert\n",
      "1718/1753 [============================>.] - ETA: 0s - loss: 0.6289 - root_mean_squared_error: 0.7930 - mean_squared_error: 0.6289 - mean_absolute_error: 0.4860WARNING:tensorflow:AutoGraph could not transform <function Model.make_test_function.<locals>.test_function at 0x7ff53296bb00> and will run it as-is.\n",
      "Please report this to the TensorFlow team. When filing the bug, set the verbosity to 10 (on Linux, `export AUTOGRAPH_VERBOSITY=10`) and attach the full output.\n",
      "Cause: 'arguments' object has no attribute 'posonlyargs'\n",
      "To silence this warning, decorate the function with @tf.autograph.experimental.do_not_convert\n",
      "WARNING: AutoGraph could not transform <function Model.make_test_function.<locals>.test_function at 0x7ff53296bb00> and will run it as-is.\n",
      "Please report this to the TensorFlow team. When filing the bug, set the verbosity to 10 (on Linux, `export AUTOGRAPH_VERBOSITY=10`) and attach the full output.\n",
      "Cause: 'arguments' object has no attribute 'posonlyargs'\n",
      "To silence this warning, decorate the function with @tf.autograph.experimental.do_not_convert\n",
      "1753/1753 [==============================] - 3s 2ms/step - loss: 0.6246 - root_mean_squared_error: 0.7903 - mean_squared_error: 0.6246 - mean_absolute_error: 0.4854 - val_loss: 0.4576 - val_root_mean_squared_error: 0.6765 - val_mean_squared_error: 0.4576 - val_mean_absolute_error: 0.4414\n",
      "Epoch 2/40\n",
      "1753/1753 [==============================] - 3s 2ms/step - loss: 0.2091 - root_mean_squared_error: 0.4573 - mean_squared_error: 0.2091 - mean_absolute_error: 0.2799 - val_loss: 0.2198 - val_root_mean_squared_error: 0.4688 - val_mean_squared_error: 0.2198 - val_mean_absolute_error: 0.2981\n",
      "Epoch 3/40\n",
      "1753/1753 [==============================] - 3s 2ms/step - loss: 0.1244 - root_mean_squared_error: 0.3527 - mean_squared_error: 0.1244 - mean_absolute_error: 0.2257 - val_loss: 0.2325 - val_root_mean_squared_error: 0.4822 - val_mean_squared_error: 0.2325 - val_mean_absolute_error: 0.3187\n",
      "Epoch 4/40\n",
      "1753/1753 [==============================] - 3s 2ms/step - loss: 0.1101 - root_mean_squared_error: 0.3318 - mean_squared_error: 0.1101 - mean_absolute_error: 0.2045 - val_loss: 0.1527 - val_root_mean_squared_error: 0.3908 - val_mean_squared_error: 0.1527 - val_mean_absolute_error: 0.2547\n",
      "Epoch 5/40\n",
      "1753/1753 [==============================] - 3s 2ms/step - loss: 0.0841 - root_mean_squared_error: 0.2900 - mean_squared_error: 0.0841 - mean_absolute_error: 0.1821 - val_loss: 0.0995 - val_root_mean_squared_error: 0.3155 - val_mean_squared_error: 0.0995 - val_mean_absolute_error: 0.2031\n",
      "Epoch 6/40\n",
      "1753/1753 [==============================] - 3s 2ms/step - loss: 0.0896 - root_mean_squared_error: 0.2994 - mean_squared_error: 0.0896 - mean_absolute_error: 0.1814 - val_loss: 0.0859 - val_root_mean_squared_error: 0.2932 - val_mean_squared_error: 0.0859 - val_mean_absolute_error: 0.1902\n",
      "Epoch 7/40\n",
      "1753/1753 [==============================] - 3s 2ms/step - loss: 0.0762 - root_mean_squared_error: 0.2760 - mean_squared_error: 0.0762 - mean_absolute_error: 0.1692 - val_loss: 0.0747 - val_root_mean_squared_error: 0.2733 - val_mean_squared_error: 0.0747 - val_mean_absolute_error: 0.1767\n",
      "Epoch 8/40\n",
      "1753/1753 [==============================] - 3s 2ms/step - loss: 0.0807 - root_mean_squared_error: 0.2841 - mean_squared_error: 0.0807 - mean_absolute_error: 0.1711 - val_loss: 0.0755 - val_root_mean_squared_error: 0.2749 - val_mean_squared_error: 0.0755 - val_mean_absolute_error: 0.1783\n",
      "Epoch 9/40\n",
      "1753/1753 [==============================] - 3s 2ms/step - loss: 0.0773 - root_mean_squared_error: 0.2781 - mean_squared_error: 0.0773 - mean_absolute_error: 0.1674 - val_loss: 0.0764 - val_root_mean_squared_error: 0.2764 - val_mean_squared_error: 0.0764 - val_mean_absolute_error: 0.1781\n",
      "501/501 [==============================] - 1s 1ms/step - loss: 0.0764 - root_mean_squared_error: 0.2764 - mean_squared_error: 0.0764 - mean_absolute_error: 0.1781\n"
     ]
    }
   ],
   "source": [
    "history,run_time= compile_and_fit(linear, single_step_window)\n",
    "val_performance['Linear'] = linear.evaluate(single_step_window.val)\n",
    "performance['Linear'] = linear.evaluate(single_step_window.test, verbose=0)"
   ]
  },
  {
   "cell_type": "code",
   "execution_count": 92,
   "id": "e98c1244",
   "metadata": {},
   "outputs": [
    {
     "name": "stdout",
     "output_type": "stream",
     "text": [
      "Input shape: (32, 12, 271)\n",
      "Output shape: (32, 12, 1)\n"
     ]
    }
   ],
   "source": [
    "print('Input shape:', wide_window.example[0].shape)\n",
    "print('Output shape:', baseline(wide_window.example[0]).shape)"
   ]
  },
  {
   "cell_type": "code",
   "execution_count": 93,
   "id": "8b736096",
   "metadata": {},
   "outputs": [
    {
     "data": {
      "image/png": "[encoded data removed]",
      "text/plain": [
       "<Figure size 864x576 with 3 Axes>"
      ]
     },
     "metadata": {},
     "output_type": "display_data"
    }
   ],
   "source": [
    "wide_window.plot(linear)"
   ]
  },
  {
   "cell_type": "code",
   "execution_count": 94,
   "id": "e6dd1f7d",
   "metadata": {},
   "outputs": [
    {
     "ename": "ValueError",
     "evalue": "shape mismatch: objects cannot be broadcast to a single shape",
     "output_type": "error",
     "traceback": [
      "\u001b[0;31m---------------------------------------------------------------------------\u001b[0m",
      "\u001b[0;31mValueError\u001b[0m                                Traceback (most recent call last)",
      "\u001b[0;32m/var/folders/ns/m6xqd78d419c4bs1hmdmhkh00000gp/T/ipykernel_98809/2849060276.py\u001b[0m in \u001b[0;36m<module>\u001b[0;34m\u001b[0m\n\u001b[1;32m      1\u001b[0m plt.bar(x = range(len(train_df.columns)),\n\u001b[0;32m----> 2\u001b[0;31m         height=linear.layers[0].kernel[:,0].numpy())\n\u001b[0m\u001b[1;32m      3\u001b[0m \u001b[0maxis\u001b[0m \u001b[0;34m=\u001b[0m \u001b[0mplt\u001b[0m\u001b[0;34m.\u001b[0m\u001b[0mgca\u001b[0m\u001b[0;34m(\u001b[0m\u001b[0;34m)\u001b[0m\u001b[0;34m\u001b[0m\u001b[0;34m\u001b[0m\u001b[0m\n\u001b[1;32m      4\u001b[0m \u001b[0maxis\u001b[0m\u001b[0;34m.\u001b[0m\u001b[0mset_xticks\u001b[0m\u001b[0;34m(\u001b[0m\u001b[0mrange\u001b[0m\u001b[0;34m(\u001b[0m\u001b[0mlen\u001b[0m\u001b[0;34m(\u001b[0m\u001b[0mtrain_df\u001b[0m\u001b[0;34m.\u001b[0m\u001b[0mcolumns\u001b[0m\u001b[0;34m)\u001b[0m\u001b[0;34m)\u001b[0m\u001b[0;34m)\u001b[0m\u001b[0;34m\u001b[0m\u001b[0;34m\u001b[0m\u001b[0m\n\u001b[1;32m      5\u001b[0m \u001b[0m_\u001b[0m \u001b[0;34m=\u001b[0m \u001b[0maxis\u001b[0m\u001b[0;34m.\u001b[0m\u001b[0mset_xticklabels\u001b[0m\u001b[0;34m(\u001b[0m\u001b[0mtrain_df\u001b[0m\u001b[0;34m.\u001b[0m\u001b[0mcolumns\u001b[0m\u001b[0;34m,\u001b[0m \u001b[0mrotation\u001b[0m\u001b[0;34m=\u001b[0m\u001b[0;36m90\u001b[0m\u001b[0;34m)\u001b[0m\u001b[0;34m\u001b[0m\u001b[0;34m\u001b[0m\u001b[0m\n",
      "\u001b[0;32m~/opt/anaconda3/envs/pems/lib/python3.7/site-packages/matplotlib/pyplot.py\u001b[0m in \u001b[0;36mbar\u001b[0;34m(x, height, width, bottom, align, data, **kwargs)\u001b[0m\n\u001b[1;32m   2387\u001b[0m     return gca().bar(\n\u001b[1;32m   2388\u001b[0m         \u001b[0mx\u001b[0m\u001b[0;34m,\u001b[0m \u001b[0mheight\u001b[0m\u001b[0;34m,\u001b[0m \u001b[0mwidth\u001b[0m\u001b[0;34m=\u001b[0m\u001b[0mwidth\u001b[0m\u001b[0;34m,\u001b[0m \u001b[0mbottom\u001b[0m\u001b[0;34m=\u001b[0m\u001b[0mbottom\u001b[0m\u001b[0;34m,\u001b[0m \u001b[0malign\u001b[0m\u001b[0;34m=\u001b[0m\u001b[0malign\u001b[0m\u001b[0;34m,\u001b[0m\u001b[0;34m\u001b[0m\u001b[0;34m\u001b[0m\u001b[0m\n\u001b[0;32m-> 2389\u001b[0;31m         **({\"data\": data} if data is not None else {}), **kwargs)\n\u001b[0m\u001b[1;32m   2390\u001b[0m \u001b[0;34m\u001b[0m\u001b[0m\n\u001b[1;32m   2391\u001b[0m \u001b[0;34m\u001b[0m\u001b[0m\n",
      "\u001b[0;32m~/opt/anaconda3/envs/pems/lib/python3.7/site-packages/matplotlib/__init__.py\u001b[0m in \u001b[0;36minner\u001b[0;34m(ax, data, *args, **kwargs)\u001b[0m\n\u001b[1;32m   1410\u001b[0m     \u001b[0;32mdef\u001b[0m \u001b[0minner\u001b[0m\u001b[0;34m(\u001b[0m\u001b[0max\u001b[0m\u001b[0;34m,\u001b[0m \u001b[0;34m*\u001b[0m\u001b[0margs\u001b[0m\u001b[0;34m,\u001b[0m \u001b[0mdata\u001b[0m\u001b[0;34m=\u001b[0m\u001b[0;32mNone\u001b[0m\u001b[0;34m,\u001b[0m \u001b[0;34m**\u001b[0m\u001b[0mkwargs\u001b[0m\u001b[0;34m)\u001b[0m\u001b[0;34m:\u001b[0m\u001b[0;34m\u001b[0m\u001b[0;34m\u001b[0m\u001b[0m\n\u001b[1;32m   1411\u001b[0m         \u001b[0;32mif\u001b[0m \u001b[0mdata\u001b[0m \u001b[0;32mis\u001b[0m \u001b[0;32mNone\u001b[0m\u001b[0;34m:\u001b[0m\u001b[0;34m\u001b[0m\u001b[0;34m\u001b[0m\u001b[0m\n\u001b[0;32m-> 1412\u001b[0;31m             \u001b[0;32mreturn\u001b[0m \u001b[0mfunc\u001b[0m\u001b[0;34m(\u001b[0m\u001b[0max\u001b[0m\u001b[0;34m,\u001b[0m \u001b[0;34m*\u001b[0m\u001b[0mmap\u001b[0m\u001b[0;34m(\u001b[0m\u001b[0msanitize_sequence\u001b[0m\u001b[0;34m,\u001b[0m \u001b[0margs\u001b[0m\u001b[0;34m)\u001b[0m\u001b[0;34m,\u001b[0m \u001b[0;34m**\u001b[0m\u001b[0mkwargs\u001b[0m\u001b[0;34m)\u001b[0m\u001b[0;34m\u001b[0m\u001b[0;34m\u001b[0m\u001b[0m\n\u001b[0m\u001b[1;32m   1413\u001b[0m \u001b[0;34m\u001b[0m\u001b[0m\n\u001b[1;32m   1414\u001b[0m         \u001b[0mbound\u001b[0m \u001b[0;34m=\u001b[0m \u001b[0mnew_sig\u001b[0m\u001b[0;34m.\u001b[0m\u001b[0mbind\u001b[0m\u001b[0;34m(\u001b[0m\u001b[0max\u001b[0m\u001b[0;34m,\u001b[0m \u001b[0;34m*\u001b[0m\u001b[0margs\u001b[0m\u001b[0;34m,\u001b[0m \u001b[0;34m**\u001b[0m\u001b[0mkwargs\u001b[0m\u001b[0;34m)\u001b[0m\u001b[0;34m\u001b[0m\u001b[0;34m\u001b[0m\u001b[0m\n",
      "\u001b[0;32m~/opt/anaconda3/envs/pems/lib/python3.7/site-packages/matplotlib/axes/_axes.py\u001b[0m in \u001b[0;36mbar\u001b[0;34m(self, x, height, width, bottom, align, **kwargs)\u001b[0m\n\u001b[1;32m   2342\u001b[0m         x, height, width, y, linewidth, hatch = np.broadcast_arrays(\n\u001b[1;32m   2343\u001b[0m             \u001b[0;31m# Make args iterable too.\u001b[0m\u001b[0;34m\u001b[0m\u001b[0;34m\u001b[0m\u001b[0;34m\u001b[0m\u001b[0m\n\u001b[0;32m-> 2344\u001b[0;31m             np.atleast_1d(x), height, width, y, linewidth, hatch)\n\u001b[0m\u001b[1;32m   2345\u001b[0m \u001b[0;34m\u001b[0m\u001b[0m\n\u001b[1;32m   2346\u001b[0m         \u001b[0;31m# Now that units have been converted, set the tick locations.\u001b[0m\u001b[0;34m\u001b[0m\u001b[0;34m\u001b[0m\u001b[0;34m\u001b[0m\u001b[0m\n",
      "\u001b[0;32m<__array_function__ internals>\u001b[0m in \u001b[0;36mbroadcast_arrays\u001b[0;34m(*args, **kwargs)\u001b[0m\n",
      "\u001b[0;32m~/opt/anaconda3/envs/pems/lib/python3.7/site-packages/numpy/lib/stride_tricks.py\u001b[0m in \u001b[0;36mbroadcast_arrays\u001b[0;34m(subok, *args)\u001b[0m\n\u001b[1;32m    536\u001b[0m     \u001b[0margs\u001b[0m \u001b[0;34m=\u001b[0m \u001b[0;34m[\u001b[0m\u001b[0mnp\u001b[0m\u001b[0;34m.\u001b[0m\u001b[0marray\u001b[0m\u001b[0;34m(\u001b[0m\u001b[0m_m\u001b[0m\u001b[0;34m,\u001b[0m \u001b[0mcopy\u001b[0m\u001b[0;34m=\u001b[0m\u001b[0;32mFalse\u001b[0m\u001b[0;34m,\u001b[0m \u001b[0msubok\u001b[0m\u001b[0;34m=\u001b[0m\u001b[0msubok\u001b[0m\u001b[0;34m)\u001b[0m \u001b[0;32mfor\u001b[0m \u001b[0m_m\u001b[0m \u001b[0;32min\u001b[0m \u001b[0margs\u001b[0m\u001b[0;34m]\u001b[0m\u001b[0;34m\u001b[0m\u001b[0;34m\u001b[0m\u001b[0m\n\u001b[1;32m    537\u001b[0m \u001b[0;34m\u001b[0m\u001b[0m\n\u001b[0;32m--> 538\u001b[0;31m     \u001b[0mshape\u001b[0m \u001b[0;34m=\u001b[0m \u001b[0m_broadcast_shape\u001b[0m\u001b[0;34m(\u001b[0m\u001b[0;34m*\u001b[0m\u001b[0margs\u001b[0m\u001b[0;34m)\u001b[0m\u001b[0;34m\u001b[0m\u001b[0;34m\u001b[0m\u001b[0m\n\u001b[0m\u001b[1;32m    539\u001b[0m \u001b[0;34m\u001b[0m\u001b[0m\n\u001b[1;32m    540\u001b[0m     \u001b[0;32mif\u001b[0m \u001b[0mall\u001b[0m\u001b[0;34m(\u001b[0m\u001b[0marray\u001b[0m\u001b[0;34m.\u001b[0m\u001b[0mshape\u001b[0m \u001b[0;34m==\u001b[0m \u001b[0mshape\u001b[0m \u001b[0;32mfor\u001b[0m \u001b[0marray\u001b[0m \u001b[0;32min\u001b[0m \u001b[0margs\u001b[0m\u001b[0;34m)\u001b[0m\u001b[0;34m:\u001b[0m\u001b[0;34m\u001b[0m\u001b[0;34m\u001b[0m\u001b[0m\n",
      "\u001b[0;32m~/opt/anaconda3/envs/pems/lib/python3.7/site-packages/numpy/lib/stride_tricks.py\u001b[0m in \u001b[0;36m_broadcast_shape\u001b[0;34m(*args)\u001b[0m\n\u001b[1;32m    418\u001b[0m     \u001b[0;31m# use the old-iterator because np.nditer does not handle size 0 arrays\u001b[0m\u001b[0;34m\u001b[0m\u001b[0;34m\u001b[0m\u001b[0;34m\u001b[0m\u001b[0m\n\u001b[1;32m    419\u001b[0m     \u001b[0;31m# consistently\u001b[0m\u001b[0;34m\u001b[0m\u001b[0;34m\u001b[0m\u001b[0;34m\u001b[0m\u001b[0m\n\u001b[0;32m--> 420\u001b[0;31m     \u001b[0mb\u001b[0m \u001b[0;34m=\u001b[0m \u001b[0mnp\u001b[0m\u001b[0;34m.\u001b[0m\u001b[0mbroadcast\u001b[0m\u001b[0;34m(\u001b[0m\u001b[0;34m*\u001b[0m\u001b[0margs\u001b[0m\u001b[0;34m[\u001b[0m\u001b[0;34m:\u001b[0m\u001b[0;36m32\u001b[0m\u001b[0;34m]\u001b[0m\u001b[0;34m)\u001b[0m\u001b[0;34m\u001b[0m\u001b[0;34m\u001b[0m\u001b[0m\n\u001b[0m\u001b[1;32m    421\u001b[0m     \u001b[0;31m# unfortunately, it cannot handle 32 or more arguments directly\u001b[0m\u001b[0;34m\u001b[0m\u001b[0;34m\u001b[0m\u001b[0;34m\u001b[0m\u001b[0m\n\u001b[1;32m    422\u001b[0m     \u001b[0;32mfor\u001b[0m \u001b[0mpos\u001b[0m \u001b[0;32min\u001b[0m \u001b[0mrange\u001b[0m\u001b[0;34m(\u001b[0m\u001b[0;36m32\u001b[0m\u001b[0;34m,\u001b[0m \u001b[0mlen\u001b[0m\u001b[0;34m(\u001b[0m\u001b[0margs\u001b[0m\u001b[0;34m)\u001b[0m\u001b[0;34m,\u001b[0m \u001b[0;36m31\u001b[0m\u001b[0;34m)\u001b[0m\u001b[0;34m:\u001b[0m\u001b[0;34m\u001b[0m\u001b[0;34m\u001b[0m\u001b[0m\n",
      "\u001b[0;31mValueError\u001b[0m: shape mismatch: objects cannot be broadcast to a single shape"
     ]
    },
    {
     "data": {
      "image/png": "[encoded data removed]",
      "text/plain": [
       "<Figure size 576x432 with 1 Axes>"
      ]
     },
     "metadata": {},
     "output_type": "display_data"
    }
   ],
   "source": [
    "plt.bar(x = range(len(train_df.columns)),\n",
    "        height=linear.layers[0].kernel[:,0].numpy())\n",
    "axis = plt.gca()\n",
    "axis.set_xticks(range(len(train_df.columns)))\n",
    "_ = axis.set_xticklabels(train_df.columns, rotation=90)"
   ]
  },
  {
   "cell_type": "markdown",
   "id": "f3956469",
   "metadata": {
    "tags": []
   },
   "source": [
    "## LSTM"
   ]
  },
  {
   "cell_type": "code",
   "execution_count": 95,
   "id": "702cfd3e",
   "metadata": {},
   "outputs": [],
   "source": [
    "lstm_model = tf.keras.models.Sequential([\n",
    "    # Shape [batch, time, features] => [batch, time, lstm_units]\n",
    "    #tf.keras.layers.LSTM(128, return_sequences=True),\n",
    "    tf.keras.layers.LSTM(64, return_sequences=False,kernel_regularizer=tf.keras.regularizers.l2(0.0005)),\n",
    "    #tf.keras.layers.Dense(units=64, activation='relu'),\n",
    "    #tf.keras.layers.Dense(units=32, activation='relu'),\n",
    "    #tf.keras.layers.Dense(units=32, activation='relu'),\n",
    "    #tf.keras.layers.Dense(units=1, activation='relu'),\n",
    "    # Shape => [batch, time, features]\n",
    "    tf.keras.layers.Dense(units=1)\n",
    "])"
   ]
  },
  {
   "cell_type": "code",
   "execution_count": 96,
   "id": "816855ec",
   "metadata": {},
   "outputs": [
    {
     "name": "stdout",
     "output_type": "stream",
     "text": [
      "Input shape: (32, 12, 271)\n",
      "Output shape: (32, 1)\n"
     ]
    }
   ],
   "source": [
    "print('Input shape:', wide_window.example[0].shape)\n",
    "print('Output shape:', lstm_model(wide_window.example[0]).shape)"
   ]
  },
  {
   "cell_type": "code",
   "execution_count": 97,
   "id": "c7c5c1c4",
   "metadata": {},
   "outputs": [
    {
     "name": "stdout",
     "output_type": "stream",
     "text": [
      "501/501 [==============================] - 2s 4ms/step - loss: 0.4290 - root_mean_squared_error: 0.6233 - mean_squared_error: 0.3885 - mean_absolute_error: 0.3543\n",
      "109.9221670627594\n"
     ]
    }
   ],
   "source": [
    "history,run_time = compile_and_fit(lstm_model, wide_window)\n",
    "IPython.display.clear_output()\n",
    "val_performance['LSTM'] = lstm_model.evaluate(wide_window.val)\n",
    "performance['LSTM'] = lstm_model.evaluate(wide_window.test, verbose=0)\n",
    "print(run_time)"
   ]
  },
  {
   "cell_type": "markdown",
   "id": "24d215dd",
   "metadata": {},
   "source": [
    "return_sequences=Trueにするとプロットできる"
   ]
  },
  {
   "cell_type": "markdown",
   "id": "151dc25a",
   "metadata": {},
   "source": [
    "wide_window.plot(lstm_model)"
   ]
  },
  {
   "cell_type": "code",
   "execution_count": 98,
   "id": "1be06acb",
   "metadata": {},
   "outputs": [
    {
     "data": {
      "image/png": "[encoded data removed]",
      "text/plain": [
       "<Figure size 576x432 with 1 Axes>"
      ]
     },
     "metadata": {},
     "output_type": "display_data"
    }
   ],
   "source": [
    "x = np.arange(len(performance))\n",
    "width = 0.3\n",
    "metric_name = 'root_mean_squared_error'\n",
    "metric_index = lstm_model.metrics_names.index('root_mean_squared_error')\n",
    "#metric_name = 'mean_absolute_error'\n",
    "#metric_index = lstm_model.metrics_names.index('mean_absolute_error')\n",
    "\n",
    "val_mae = [v[metric_index] for v in val_performance.values()]\n",
    "test_mae = [v[metric_index] for v in performance.values()]\n",
    "\n",
    "plt.ylabel('root_mean_squared_error [T (degC), normalized]')\n",
    "#plt.ylabel('mean_absolute_error [T (degC), normalized]')\n",
    "\n",
    "plt.bar(x - 0.17, val_mae, width, label='Validation')\n",
    "plt.bar(x + 0.17, test_mae, width, label='Test')\n",
    "plt.xticks(ticks=x, labels=performance.keys(),\n",
    "           rotation=45)\n",
    "_ = plt.legend()"
   ]
  },
  {
   "cell_type": "code",
   "execution_count": 99,
   "id": "8f514a31",
   "metadata": {},
   "outputs": [
    {
     "name": "stdout",
     "output_type": "stream",
     "text": [
      "Baseline    : 1.3336\n",
      "Linear      : 0.4484\n",
      "LSTM        : 0.8092\n"
     ]
    }
   ],
   "source": [
    "for name, value in performance.items():\n",
    "  print(f'{name:12s}: {value[1]:0.4f}')"
   ]
  },
  {
   "cell_type": "code",
   "execution_count": 100,
   "id": "545cacbf",
   "metadata": {},
   "outputs": [
    {
     "name": "stdout",
     "output_type": "stream",
     "text": [
      "Model: \"sequential_1\"\n",
      "_________________________________________________________________\n",
      " Layer (type)                Output Shape              Param #   \n",
      "=================================================================\n",
      " lstm (LSTM)                 (None, 64)                86016     \n",
      "                                                                 \n",
      " dense_1 (Dense)             (None, 1)                 65        \n",
      "                                                                 \n",
      "=================================================================\n",
      "Total params: 86,081\n",
      "Trainable params: 86,081\n",
      "Non-trainable params: 0\n",
      "_________________________________________________________________\n"
     ]
    }
   ],
   "source": [
    "lstm_model.summary()"
   ]
  },
  {
   "cell_type": "code",
   "execution_count": 101,
   "id": "fe2c1b50",
   "metadata": {},
   "outputs": [
    {
     "name": "stdout",
     "output_type": "stream",
     "text": [
      "WARNING:tensorflow:AutoGraph could not transform <function Model.make_predict_function.<locals>.predict_function at 0x7ff5318ccc20> and will run it as-is.\n",
      "Please report this to the TensorFlow team. When filing the bug, set the verbosity to 10 (on Linux, `export AUTOGRAPH_VERBOSITY=10`) and attach the full output.\n",
      "Cause: 'arguments' object has no attribute 'posonlyargs'\n",
      "To silence this warning, decorate the function with @tf.autograph.experimental.do_not_convert\n",
      "WARNING: AutoGraph could not transform <function Model.make_predict_function.<locals>.predict_function at 0x7ff5318ccc20> and will run it as-is.\n",
      "Please report this to the TensorFlow team. When filing the bug, set the verbosity to 10 (on Linux, `export AUTOGRAPH_VERBOSITY=10`) and attach the full output.\n",
      "Cause: 'arguments' object has no attribute 'posonlyargs'\n",
      "To silence this warning, decorate the function with @tf.autograph.experimental.do_not_convert\n"
     ]
    },
    {
     "data": {
      "text/plain": [
       "(7998, 1)"
      ]
     },
     "execution_count": 101,
     "metadata": {},
     "output_type": "execute_result"
    }
   ],
   "source": [
    "lstm_model.predict(wide_window.test).shape"
   ]
  },
  {
   "cell_type": "markdown",
   "id": "b044c6c5",
   "metadata": {
    "tags": []
   },
   "source": [
    "## 逆変換"
   ]
  },
  {
   "cell_type": "markdown",
   "id": "f1a681e5",
   "metadata": {},
   "source": [
    "test_df[:] = pt.inverse_transform(test_df)\n",
    "#test_df[:] = mm.inverse_transform(test_df)"
   ]
  },
  {
   "cell_type": "code",
   "execution_count": null,
   "id": "049d60c7",
   "metadata": {},
   "outputs": [],
   "source": [
    "normed_prediction = lstm_model.predict(wide_window.test).flatten()\n",
    "test_df[target][12:] = normed_prediction\n",
    "test_df[target] = test_df[target]*train_std[target]+train_mean[target]"
   ]
  },
  {
   "cell_type": "code",
   "execution_count": null,
   "id": "3019115c-07d0-4dc7-b805-c2641aa07788",
   "metadata": {},
   "outputs": [],
   "source": [
    "test_df"
   ]
  },
  {
   "cell_type": "markdown",
   "id": "30a4f8c0",
   "metadata": {},
   "source": [
    "## baseline"
   ]
  },
  {
   "cell_type": "markdown",
   "id": "de23bb3f",
   "metadata": {},
   "source": [
    "normed_prediction = baseline.predict(single_step_window.test).flatten()\n",
    "test_df[target][1:] = normed_prediction\n",
    "#test_df[:] = test_pt.inverse_transform(test_df)\n",
    "test_df[target] = test_df[target]*train_std[target]+train_mean[target]"
   ]
  },
  {
   "cell_type": "code",
   "execution_count": null,
   "id": "00d8d35d",
   "metadata": {},
   "outputs": [],
   "source": [
    "test_df"
   ]
  },
  {
   "cell_type": "code",
   "execution_count": null,
   "id": "c7da15ae",
   "metadata": {},
   "outputs": [],
   "source": [
    "test_labels"
   ]
  },
  {
   "cell_type": "code",
   "execution_count": null,
   "id": "4870b54d",
   "metadata": {},
   "outputs": [],
   "source": [
    "test_predictions = test_df.loc[:,target]"
   ]
  },
  {
   "cell_type": "code",
   "execution_count": null,
   "id": "d0bc2b76",
   "metadata": {},
   "outputs": [],
   "source": [
    "plt.scatter(test_labels, test_predictions,s=1)\n",
    "plt.xlabel('True Values')\n",
    "plt.ylabel('Predictions')\n",
    "#plt.axis('equal')\n",
    "#plt.axis('square')\n",
    "plt.xlim([0,plt.xlim()[1]])\n",
    "plt.ylim([0,plt.ylim()[1]])\n",
    "_ = plt.plot([-100, 100], [-100, 100])"
   ]
  },
  {
   "cell_type": "code",
   "execution_count": null,
   "id": "18fbaa80",
   "metadata": {},
   "outputs": [],
   "source": [
    "plt.plot([i for i in range(200)],test_labels[1500:1700],color=\"red\")\n",
    "plt.plot([i for i in range(200)],test_predictions[1500:1700],color=\"blue\")\n",
    "plt.show()"
   ]
  },
  {
   "cell_type": "code",
   "execution_count": null,
   "id": "b007661c",
   "metadata": {},
   "outputs": [],
   "source": [
    "plt.plot([i for i in range(200)],test_labels[3500:3700],color=\"red\")\n",
    "plt.plot([i for i in range(200)],test_predictions[3500:3700],color=\"blue\")\n",
    "plt.show()"
   ]
  },
  {
   "cell_type": "code",
   "execution_count": null,
   "id": "4814663f",
   "metadata": {
    "scrolled": true
   },
   "outputs": [],
   "source": [
    "plt.plot([i for i in range(200)],test_labels[5500:5700],color=\"red\")\n",
    "plt.plot([i for i in range(200)],test_predictions[5500:5700],color=\"blue\")\n",
    "plt.show()"
   ]
  },
  {
   "cell_type": "code",
   "execution_count": null,
   "id": "2e5d3d67",
   "metadata": {},
   "outputs": [],
   "source": [
    "def plot_history(histories, key='mean_squared_error'):\n",
    "  plt.figure(figsize=(16,10))\n",
    "\n",
    "  for name, history in histories:\n",
    "    val = plt.plot(history.epoch, history.history['val_'+key],\n",
    "                   '--', label=name.title()+' Val')\n",
    "    plt.plot(history.epoch, history.history[key], color=val[0].get_color(),\n",
    "             label=name.title()+' Train')\n",
    "\n",
    "  plt.xlabel('Epochs')\n",
    "  plt.ylabel(key.replace('_',' ').title())\n",
    "  plt.legend()\n",
    "\n",
    "  plt.xlim([0,max(history.epoch)])\n",
    "\n",
    "\n",
    "plot_history([(\"LSTM\", history)])"
   ]
  }
 ],
 "metadata": {
  "kernelspec": {
   "display_name": "Python 3 (ipykernel)",
   "language": "python",
   "name": "python3"
  },
  "language_info": {
   "codemirror_mode": {
    "name": "ipython",
    "version": 3
   },
   "file_extension": ".py",
   "mimetype": "text/x-python",
   "name": "python",
   "nbconvert_exporter": "python",
   "pygments_lexer": "ipython3",
   "version": "3.7.13"
  }
 },
 "nbformat": 4,
 "nbformat_minor": 5
}
