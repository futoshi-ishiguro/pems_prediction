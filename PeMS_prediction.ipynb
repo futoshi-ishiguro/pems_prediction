{
 "cells": [
  {
   "cell_type": "code",
   "execution_count": 1,
   "id": "6fb17515",
   "metadata": {},
   "outputs": [],
   "source": [
    "import os\n",
    "#os.environ[\"CUDA_VISIBLE_DEVICES\"] = \"-1\"\n",
    "import datetime\n",
    "import time\n",
    "\n",
    "import IPython\n",
    "import IPython.display\n",
    "import matplotlib as mpl\n",
    "import matplotlib.pyplot as plt\n",
    "import numpy as np\n",
    "import pandas as pd\n",
    "import seaborn as sns\n",
    "import tensorflow as tf\n",
    "\n",
    "mpl.rcParams['figure.figsize'] = (8, 6)\n",
    "mpl.rcParams['axes.grid'] = False"
   ]
  },
  {
   "cell_type": "code",
   "execution_count": 2,
   "id": "631f4388",
   "metadata": {},
   "outputs": [],
   "source": [
    "#csvのパスを設定\n",
    "csv_path = \"C:\\\\Users\\\\meida\\\\lab_materials\\\\M1\\\\pems\\\\data\\\\integrated_route.csv\""
   ]
  },
  {
   "cell_type": "code",
   "execution_count": 3,
   "id": "bcab7dc2",
   "metadata": {},
   "outputs": [],
   "source": [
    "df = pd.read_csv(csv_path,index_col=0)\n",
    "# Slice [start:stop:step], starting from index 5 take every 6th record.\n",
    "#df = df[5::6]\n",
    "df = df.dropna(axis=1)\n",
    "date_time = pd.to_datetime(df.pop('5 Minutes'), format='%Y.%m.%d %H:%M:%S')"
   ]
  },
  {
   "cell_type": "code",
   "execution_count": 4,
   "id": "33010c9c",
   "metadata": {},
   "outputs": [],
   "source": [
    "target = \"6640\""
   ]
  },
  {
   "cell_type": "code",
   "execution_count": 5,
   "id": "51601f93",
   "metadata": {},
   "outputs": [
    {
     "data": {
      "text/html": [
       "<div>\n",
       "<style scoped>\n",
       "    .dataframe tbody tr th:only-of-type {\n",
       "        vertical-align: middle;\n",
       "    }\n",
       "\n",
       "    .dataframe tbody tr th {\n",
       "        vertical-align: top;\n",
       "    }\n",
       "\n",
       "    .dataframe thead th {\n",
       "        text-align: right;\n",
       "    }\n",
       "</style>\n",
       "<table border=\"1\" class=\"dataframe\">\n",
       "  <thead>\n",
       "    <tr style=\"text-align: right;\">\n",
       "      <th></th>\n",
       "      <th>11750</th>\n",
       "      <th>13147</th>\n",
       "      <th>13867</th>\n",
       "      <th>14467</th>\n",
       "      <th>14987</th>\n",
       "      <th>16207</th>\n",
       "      <th>16507</th>\n",
       "      <th>16509</th>\n",
       "      <th>16510</th>\n",
       "      <th>16511</th>\n",
       "      <th>...</th>\n",
       "      <th>79</th>\n",
       "      <th>80</th>\n",
       "      <th>81</th>\n",
       "      <th>82</th>\n",
       "      <th>83</th>\n",
       "      <th>84</th>\n",
       "      <th>85</th>\n",
       "      <th>86</th>\n",
       "      <th>87</th>\n",
       "      <th>88</th>\n",
       "    </tr>\n",
       "  </thead>\n",
       "  <tbody>\n",
       "    <tr>\n",
       "      <th>0</th>\n",
       "      <td>17.12</td>\n",
       "      <td>35.00</td>\n",
       "      <td>8.68</td>\n",
       "      <td>20.38</td>\n",
       "      <td>7.20</td>\n",
       "      <td>21.45</td>\n",
       "      <td>31.12</td>\n",
       "      <td>30.18</td>\n",
       "      <td>36.07</td>\n",
       "      <td>40.50</td>\n",
       "      <td>...</td>\n",
       "      <td>30.03</td>\n",
       "      <td>29.03</td>\n",
       "      <td>36.18</td>\n",
       "      <td>36.57</td>\n",
       "      <td>11.90</td>\n",
       "      <td>11.88</td>\n",
       "      <td>16.75</td>\n",
       "      <td>16.68</td>\n",
       "      <td>15.48</td>\n",
       "      <td>12.27</td>\n",
       "    </tr>\n",
       "    <tr>\n",
       "      <th>1</th>\n",
       "      <td>17.05</td>\n",
       "      <td>35.05</td>\n",
       "      <td>8.73</td>\n",
       "      <td>20.73</td>\n",
       "      <td>7.20</td>\n",
       "      <td>21.63</td>\n",
       "      <td>31.23</td>\n",
       "      <td>30.33</td>\n",
       "      <td>35.88</td>\n",
       "      <td>40.30</td>\n",
       "      <td>...</td>\n",
       "      <td>30.00</td>\n",
       "      <td>29.30</td>\n",
       "      <td>35.83</td>\n",
       "      <td>36.82</td>\n",
       "      <td>11.88</td>\n",
       "      <td>11.92</td>\n",
       "      <td>16.70</td>\n",
       "      <td>16.85</td>\n",
       "      <td>15.85</td>\n",
       "      <td>12.22</td>\n",
       "    </tr>\n",
       "    <tr>\n",
       "      <th>2</th>\n",
       "      <td>16.87</td>\n",
       "      <td>35.03</td>\n",
       "      <td>8.68</td>\n",
       "      <td>20.23</td>\n",
       "      <td>7.22</td>\n",
       "      <td>21.42</td>\n",
       "      <td>31.05</td>\n",
       "      <td>30.27</td>\n",
       "      <td>35.92</td>\n",
       "      <td>40.35</td>\n",
       "      <td>...</td>\n",
       "      <td>30.07</td>\n",
       "      <td>29.22</td>\n",
       "      <td>35.78</td>\n",
       "      <td>37.38</td>\n",
       "      <td>11.83</td>\n",
       "      <td>12.03</td>\n",
       "      <td>16.68</td>\n",
       "      <td>16.88</td>\n",
       "      <td>15.93</td>\n",
       "      <td>12.22</td>\n",
       "    </tr>\n",
       "    <tr>\n",
       "      <th>3</th>\n",
       "      <td>16.88</td>\n",
       "      <td>34.93</td>\n",
       "      <td>8.65</td>\n",
       "      <td>20.00</td>\n",
       "      <td>7.23</td>\n",
       "      <td>21.37</td>\n",
       "      <td>31.13</td>\n",
       "      <td>30.32</td>\n",
       "      <td>35.92</td>\n",
       "      <td>40.35</td>\n",
       "      <td>...</td>\n",
       "      <td>30.23</td>\n",
       "      <td>29.10</td>\n",
       "      <td>35.90</td>\n",
       "      <td>37.47</td>\n",
       "      <td>11.80</td>\n",
       "      <td>11.98</td>\n",
       "      <td>16.68</td>\n",
       "      <td>16.83</td>\n",
       "      <td>15.85</td>\n",
       "      <td>12.17</td>\n",
       "    </tr>\n",
       "    <tr>\n",
       "      <th>4</th>\n",
       "      <td>16.93</td>\n",
       "      <td>34.77</td>\n",
       "      <td>8.63</td>\n",
       "      <td>20.08</td>\n",
       "      <td>7.27</td>\n",
       "      <td>21.27</td>\n",
       "      <td>30.93</td>\n",
       "      <td>30.17</td>\n",
       "      <td>36.03</td>\n",
       "      <td>40.58</td>\n",
       "      <td>...</td>\n",
       "      <td>30.35</td>\n",
       "      <td>29.18</td>\n",
       "      <td>36.07</td>\n",
       "      <td>36.65</td>\n",
       "      <td>11.78</td>\n",
       "      <td>12.02</td>\n",
       "      <td>16.67</td>\n",
       "      <td>16.90</td>\n",
       "      <td>15.65</td>\n",
       "      <td>12.22</td>\n",
       "    </tr>\n",
       "    <tr>\n",
       "      <th>...</th>\n",
       "      <td>...</td>\n",
       "      <td>...</td>\n",
       "      <td>...</td>\n",
       "      <td>...</td>\n",
       "      <td>...</td>\n",
       "      <td>...</td>\n",
       "      <td>...</td>\n",
       "      <td>...</td>\n",
       "      <td>...</td>\n",
       "      <td>...</td>\n",
       "      <td>...</td>\n",
       "      <td>...</td>\n",
       "      <td>...</td>\n",
       "      <td>...</td>\n",
       "      <td>...</td>\n",
       "      <td>...</td>\n",
       "      <td>...</td>\n",
       "      <td>...</td>\n",
       "      <td>...</td>\n",
       "      <td>...</td>\n",
       "      <td>...</td>\n",
       "    </tr>\n",
       "    <tr>\n",
       "      <th>25567</th>\n",
       "      <td>17.15</td>\n",
       "      <td>35.30</td>\n",
       "      <td>8.60</td>\n",
       "      <td>19.42</td>\n",
       "      <td>7.22</td>\n",
       "      <td>21.57</td>\n",
       "      <td>30.62</td>\n",
       "      <td>30.30</td>\n",
       "      <td>36.15</td>\n",
       "      <td>40.72</td>\n",
       "      <td>...</td>\n",
       "      <td>30.65</td>\n",
       "      <td>30.08</td>\n",
       "      <td>36.03</td>\n",
       "      <td>36.00</td>\n",
       "      <td>11.78</td>\n",
       "      <td>12.03</td>\n",
       "      <td>16.82</td>\n",
       "      <td>17.02</td>\n",
       "      <td>15.52</td>\n",
       "      <td>12.78</td>\n",
       "    </tr>\n",
       "    <tr>\n",
       "      <th>25568</th>\n",
       "      <td>17.10</td>\n",
       "      <td>35.30</td>\n",
       "      <td>8.58</td>\n",
       "      <td>19.47</td>\n",
       "      <td>7.23</td>\n",
       "      <td>21.57</td>\n",
       "      <td>30.87</td>\n",
       "      <td>30.37</td>\n",
       "      <td>36.02</td>\n",
       "      <td>40.62</td>\n",
       "      <td>...</td>\n",
       "      <td>30.68</td>\n",
       "      <td>30.13</td>\n",
       "      <td>35.95</td>\n",
       "      <td>36.07</td>\n",
       "      <td>11.78</td>\n",
       "      <td>12.05</td>\n",
       "      <td>16.90</td>\n",
       "      <td>17.10</td>\n",
       "      <td>15.73</td>\n",
       "      <td>12.87</td>\n",
       "    </tr>\n",
       "    <tr>\n",
       "      <th>25569</th>\n",
       "      <td>17.32</td>\n",
       "      <td>35.28</td>\n",
       "      <td>8.60</td>\n",
       "      <td>19.43</td>\n",
       "      <td>7.22</td>\n",
       "      <td>21.82</td>\n",
       "      <td>31.45</td>\n",
       "      <td>31.00</td>\n",
       "      <td>36.17</td>\n",
       "      <td>40.82</td>\n",
       "      <td>...</td>\n",
       "      <td>30.52</td>\n",
       "      <td>30.03</td>\n",
       "      <td>36.02</td>\n",
       "      <td>35.98</td>\n",
       "      <td>11.82</td>\n",
       "      <td>12.00</td>\n",
       "      <td>16.87</td>\n",
       "      <td>17.17</td>\n",
       "      <td>15.63</td>\n",
       "      <td>12.78</td>\n",
       "    </tr>\n",
       "    <tr>\n",
       "      <th>25570</th>\n",
       "      <td>17.25</td>\n",
       "      <td>35.32</td>\n",
       "      <td>8.65</td>\n",
       "      <td>19.48</td>\n",
       "      <td>7.23</td>\n",
       "      <td>21.73</td>\n",
       "      <td>31.73</td>\n",
       "      <td>31.43</td>\n",
       "      <td>36.13</td>\n",
       "      <td>40.70</td>\n",
       "      <td>...</td>\n",
       "      <td>30.67</td>\n",
       "      <td>29.90</td>\n",
       "      <td>35.97</td>\n",
       "      <td>36.03</td>\n",
       "      <td>11.82</td>\n",
       "      <td>12.07</td>\n",
       "      <td>16.90</td>\n",
       "      <td>17.65</td>\n",
       "      <td>15.82</td>\n",
       "      <td>12.83</td>\n",
       "    </tr>\n",
       "    <tr>\n",
       "      <th>25571</th>\n",
       "      <td>17.20</td>\n",
       "      <td>35.32</td>\n",
       "      <td>8.63</td>\n",
       "      <td>19.50</td>\n",
       "      <td>7.23</td>\n",
       "      <td>21.83</td>\n",
       "      <td>31.63</td>\n",
       "      <td>31.40</td>\n",
       "      <td>36.15</td>\n",
       "      <td>40.75</td>\n",
       "      <td>...</td>\n",
       "      <td>30.95</td>\n",
       "      <td>29.83</td>\n",
       "      <td>36.05</td>\n",
       "      <td>36.10</td>\n",
       "      <td>11.82</td>\n",
       "      <td>12.07</td>\n",
       "      <td>17.18</td>\n",
       "      <td>17.30</td>\n",
       "      <td>15.80</td>\n",
       "      <td>12.85</td>\n",
       "    </tr>\n",
       "  </tbody>\n",
       "</table>\n",
       "<p>80100 rows × 272 columns</p>\n",
       "</div>"
      ],
      "text/plain": [
       "       11750  13147  13867  14467  14987  16207  16507  16509  16510  16511  \\\n",
       "0      17.12  35.00   8.68  20.38   7.20  21.45  31.12  30.18  36.07  40.50   \n",
       "1      17.05  35.05   8.73  20.73   7.20  21.63  31.23  30.33  35.88  40.30   \n",
       "2      16.87  35.03   8.68  20.23   7.22  21.42  31.05  30.27  35.92  40.35   \n",
       "3      16.88  34.93   8.65  20.00   7.23  21.37  31.13  30.32  35.92  40.35   \n",
       "4      16.93  34.77   8.63  20.08   7.27  21.27  30.93  30.17  36.03  40.58   \n",
       "...      ...    ...    ...    ...    ...    ...    ...    ...    ...    ...   \n",
       "25567  17.15  35.30   8.60  19.42   7.22  21.57  30.62  30.30  36.15  40.72   \n",
       "25568  17.10  35.30   8.58  19.47   7.23  21.57  30.87  30.37  36.02  40.62   \n",
       "25569  17.32  35.28   8.60  19.43   7.22  21.82  31.45  31.00  36.17  40.82   \n",
       "25570  17.25  35.32   8.65  19.48   7.23  21.73  31.73  31.43  36.13  40.70   \n",
       "25571  17.20  35.32   8.63  19.50   7.23  21.83  31.63  31.40  36.15  40.75   \n",
       "\n",
       "       ...     79     80     81     82     83     84     85     86     87  \\\n",
       "0      ...  30.03  29.03  36.18  36.57  11.90  11.88  16.75  16.68  15.48   \n",
       "1      ...  30.00  29.30  35.83  36.82  11.88  11.92  16.70  16.85  15.85   \n",
       "2      ...  30.07  29.22  35.78  37.38  11.83  12.03  16.68  16.88  15.93   \n",
       "3      ...  30.23  29.10  35.90  37.47  11.80  11.98  16.68  16.83  15.85   \n",
       "4      ...  30.35  29.18  36.07  36.65  11.78  12.02  16.67  16.90  15.65   \n",
       "...    ...    ...    ...    ...    ...    ...    ...    ...    ...    ...   \n",
       "25567  ...  30.65  30.08  36.03  36.00  11.78  12.03  16.82  17.02  15.52   \n",
       "25568  ...  30.68  30.13  35.95  36.07  11.78  12.05  16.90  17.10  15.73   \n",
       "25569  ...  30.52  30.03  36.02  35.98  11.82  12.00  16.87  17.17  15.63   \n",
       "25570  ...  30.67  29.90  35.97  36.03  11.82  12.07  16.90  17.65  15.82   \n",
       "25571  ...  30.95  29.83  36.05  36.10  11.82  12.07  17.18  17.30  15.80   \n",
       "\n",
       "          88  \n",
       "0      12.27  \n",
       "1      12.22  \n",
       "2      12.22  \n",
       "3      12.17  \n",
       "4      12.22  \n",
       "...      ...  \n",
       "25567  12.78  \n",
       "25568  12.87  \n",
       "25569  12.78  \n",
       "25570  12.83  \n",
       "25571  12.85  \n",
       "\n",
       "[80100 rows x 272 columns]"
      ]
     },
     "execution_count": 5,
     "metadata": {},
     "output_type": "execute_result"
    }
   ],
   "source": [
    "df"
   ]
  },
  {
   "cell_type": "code",
   "execution_count": 6,
   "id": "026cffd3",
   "metadata": {},
   "outputs": [],
   "source": [
    "test_labels = df[int(len(df)*0.9):].loc[:,[target]]"
   ]
  },
  {
   "cell_type": "code",
   "execution_count": 7,
   "id": "ff3c83ba",
   "metadata": {},
   "outputs": [
    {
     "data": {
      "text/html": [
       "<div>\n",
       "<style scoped>\n",
       "    .dataframe tbody tr th:only-of-type {\n",
       "        vertical-align: middle;\n",
       "    }\n",
       "\n",
       "    .dataframe tbody tr th {\n",
       "        vertical-align: top;\n",
       "    }\n",
       "\n",
       "    .dataframe thead th {\n",
       "        text-align: right;\n",
       "    }\n",
       "</style>\n",
       "<table border=\"1\" class=\"dataframe\">\n",
       "  <thead>\n",
       "    <tr style=\"text-align: right;\">\n",
       "      <th></th>\n",
       "      <th>11750</th>\n",
       "      <th>13147</th>\n",
       "      <th>13867</th>\n",
       "      <th>14467</th>\n",
       "      <th>14987</th>\n",
       "      <th>16207</th>\n",
       "      <th>16507</th>\n",
       "      <th>16509</th>\n",
       "      <th>16510</th>\n",
       "      <th>16511</th>\n",
       "      <th>...</th>\n",
       "      <th>79</th>\n",
       "      <th>80</th>\n",
       "      <th>81</th>\n",
       "      <th>82</th>\n",
       "      <th>83</th>\n",
       "      <th>84</th>\n",
       "      <th>85</th>\n",
       "      <th>86</th>\n",
       "      <th>87</th>\n",
       "      <th>88</th>\n",
       "    </tr>\n",
       "  </thead>\n",
       "  <tbody>\n",
       "    <tr>\n",
       "      <th>0</th>\n",
       "      <td>17.12</td>\n",
       "      <td>35.00</td>\n",
       "      <td>8.68</td>\n",
       "      <td>20.38</td>\n",
       "      <td>7.20</td>\n",
       "      <td>21.45</td>\n",
       "      <td>31.12</td>\n",
       "      <td>30.18</td>\n",
       "      <td>36.07</td>\n",
       "      <td>40.50</td>\n",
       "      <td>...</td>\n",
       "      <td>30.03</td>\n",
       "      <td>29.03</td>\n",
       "      <td>36.18</td>\n",
       "      <td>36.57</td>\n",
       "      <td>11.90</td>\n",
       "      <td>11.88</td>\n",
       "      <td>16.75</td>\n",
       "      <td>16.68</td>\n",
       "      <td>15.48</td>\n",
       "      <td>12.27</td>\n",
       "    </tr>\n",
       "    <tr>\n",
       "      <th>1</th>\n",
       "      <td>17.05</td>\n",
       "      <td>35.05</td>\n",
       "      <td>8.73</td>\n",
       "      <td>20.73</td>\n",
       "      <td>7.20</td>\n",
       "      <td>21.63</td>\n",
       "      <td>31.23</td>\n",
       "      <td>30.33</td>\n",
       "      <td>35.88</td>\n",
       "      <td>40.30</td>\n",
       "      <td>...</td>\n",
       "      <td>30.00</td>\n",
       "      <td>29.30</td>\n",
       "      <td>35.83</td>\n",
       "      <td>36.82</td>\n",
       "      <td>11.88</td>\n",
       "      <td>11.92</td>\n",
       "      <td>16.70</td>\n",
       "      <td>16.85</td>\n",
       "      <td>15.85</td>\n",
       "      <td>12.22</td>\n",
       "    </tr>\n",
       "    <tr>\n",
       "      <th>2</th>\n",
       "      <td>16.87</td>\n",
       "      <td>35.03</td>\n",
       "      <td>8.68</td>\n",
       "      <td>20.23</td>\n",
       "      <td>7.22</td>\n",
       "      <td>21.42</td>\n",
       "      <td>31.05</td>\n",
       "      <td>30.27</td>\n",
       "      <td>35.92</td>\n",
       "      <td>40.35</td>\n",
       "      <td>...</td>\n",
       "      <td>30.07</td>\n",
       "      <td>29.22</td>\n",
       "      <td>35.78</td>\n",
       "      <td>37.38</td>\n",
       "      <td>11.83</td>\n",
       "      <td>12.03</td>\n",
       "      <td>16.68</td>\n",
       "      <td>16.88</td>\n",
       "      <td>15.93</td>\n",
       "      <td>12.22</td>\n",
       "    </tr>\n",
       "    <tr>\n",
       "      <th>3</th>\n",
       "      <td>16.88</td>\n",
       "      <td>34.93</td>\n",
       "      <td>8.65</td>\n",
       "      <td>20.00</td>\n",
       "      <td>7.23</td>\n",
       "      <td>21.37</td>\n",
       "      <td>31.13</td>\n",
       "      <td>30.32</td>\n",
       "      <td>35.92</td>\n",
       "      <td>40.35</td>\n",
       "      <td>...</td>\n",
       "      <td>30.23</td>\n",
       "      <td>29.10</td>\n",
       "      <td>35.90</td>\n",
       "      <td>37.47</td>\n",
       "      <td>11.80</td>\n",
       "      <td>11.98</td>\n",
       "      <td>16.68</td>\n",
       "      <td>16.83</td>\n",
       "      <td>15.85</td>\n",
       "      <td>12.17</td>\n",
       "    </tr>\n",
       "    <tr>\n",
       "      <th>4</th>\n",
       "      <td>16.93</td>\n",
       "      <td>34.77</td>\n",
       "      <td>8.63</td>\n",
       "      <td>20.08</td>\n",
       "      <td>7.27</td>\n",
       "      <td>21.27</td>\n",
       "      <td>30.93</td>\n",
       "      <td>30.17</td>\n",
       "      <td>36.03</td>\n",
       "      <td>40.58</td>\n",
       "      <td>...</td>\n",
       "      <td>30.35</td>\n",
       "      <td>29.18</td>\n",
       "      <td>36.07</td>\n",
       "      <td>36.65</td>\n",
       "      <td>11.78</td>\n",
       "      <td>12.02</td>\n",
       "      <td>16.67</td>\n",
       "      <td>16.90</td>\n",
       "      <td>15.65</td>\n",
       "      <td>12.22</td>\n",
       "    </tr>\n",
       "  </tbody>\n",
       "</table>\n",
       "<p>5 rows × 272 columns</p>\n",
       "</div>"
      ],
      "text/plain": [
       "   11750  13147  13867  14467  14987  16207  16507  16509  16510  16511  ...  \\\n",
       "0  17.12  35.00   8.68  20.38   7.20  21.45  31.12  30.18  36.07  40.50  ...   \n",
       "1  17.05  35.05   8.73  20.73   7.20  21.63  31.23  30.33  35.88  40.30  ...   \n",
       "2  16.87  35.03   8.68  20.23   7.22  21.42  31.05  30.27  35.92  40.35  ...   \n",
       "3  16.88  34.93   8.65  20.00   7.23  21.37  31.13  30.32  35.92  40.35  ...   \n",
       "4  16.93  34.77   8.63  20.08   7.27  21.27  30.93  30.17  36.03  40.58  ...   \n",
       "\n",
       "      79     80     81     82     83     84     85     86     87     88  \n",
       "0  30.03  29.03  36.18  36.57  11.90  11.88  16.75  16.68  15.48  12.27  \n",
       "1  30.00  29.30  35.83  36.82  11.88  11.92  16.70  16.85  15.85  12.22  \n",
       "2  30.07  29.22  35.78  37.38  11.83  12.03  16.68  16.88  15.93  12.22  \n",
       "3  30.23  29.10  35.90  37.47  11.80  11.98  16.68  16.83  15.85  12.17  \n",
       "4  30.35  29.18  36.07  36.65  11.78  12.02  16.67  16.90  15.65  12.22  \n",
       "\n",
       "[5 rows x 272 columns]"
      ]
     },
     "execution_count": 7,
     "metadata": {},
     "output_type": "execute_result"
    }
   ],
   "source": [
    "df.head()"
   ]
  },
  {
   "cell_type": "code",
   "execution_count": 8,
   "id": "04656b08",
   "metadata": {},
   "outputs": [],
   "source": [
    "#相関係数0.8以上（11個）\n",
    "#df = df.loc[:,['11750', '18828', '18830', '275', '4649', '4651', '6224', '6225', '78','79', '81']]\n",
    "\n",
    "#近くの経路（96個）\n",
    "#df = df.loc[:,['11750', \"4649\",\"79\",\"6225\",\"18830\",\"81\",\"275\",\"78\",\"18828\",\"6224\",\"19835\",\"2132\",\"14467\",\"4648\",\"77\",\"82\",\"80\",\"372\",\"19837\",\"6670\",\"86\",\"6218\",\"6221\",\"271\",\"6679\",\"18862\",\"18846\",\"85\",\"6680\",\"18860\",\"6215\",\"274\",\"13867\",\"18852\",\"276\",\"2135\",\"6220\",\"6202\",\"365\",\"6678\",\"366\",\"413\",\"359\",\"18820\",\"88\",\"379\",\"16207\",\"360\",\"6701\",\"6669\",\"6203\",\"19979\",\"367\",\"6216\",\"6616\",\"6700\",\"6662\",\"6214\",\"272\",\"361\",\"6606\",\"2131\",\"2134\",\"363\",\"18822\",\"87\",\"6665\",\"22622\",\"6200\",\"6666\",\"18850\",\"6217\",\"18832\",\"6671\",\"6604\",\"6605\",\"6219\",\"6663\",\"3394\",\"19981\",\"6201\",\"6601\",\"6675\",\"362\",\"18854\",\"18856\",\"18834\",\"6600\",\"6603\",\"6602\",\"6705\",\"6664\",\"6615\",\"6674\",\"6673\",\"18858\"]]\n",
    "\n",
    "#相関係数0.7以上（77個）\n",
    "#df = df.loc[:,['11750', '13147', '13867', '14467', '16507', '16509', '16510', '16511','18174', '18824', '18828', '18830', '18836', '18838', '18840', '18846','18852', '18860', '18862', '18868', '18872', '19835', '19837', '19839','19955', '20274', '2132', '2133', '2135', '271', '274', '275', '276','358', '365', '366', '369', '372', '373', '412', '425', '434', '4647','4648', '4649', '4650', '4651', '471', '571', '6202', '6210', '6212', '6215', '6218', '6220', '6221', '6222', '6224', '6225', '6226', '6227','6641', '6670', '6677', '6678', '6679', '6680', '6723', '77', '78','79', '80', '81', '82', '83', '85', '86']]\n",
    "\n",
    "#ＤＴＷで11個選ぶ\n",
    "#df = df.loc[:,['11750','4649','79','6225','18830','6224','18828','81','18174','4651','16507']]\n",
    "\n",
    "#df = df.loc[:,[\"11750\"]]"
   ]
  },
  {
   "cell_type": "code",
   "execution_count": 9,
   "id": "ad762b78",
   "metadata": {},
   "outputs": [
    {
     "data": {
      "text/html": [
       "<div>\n",
       "<style scoped>\n",
       "    .dataframe tbody tr th:only-of-type {\n",
       "        vertical-align: middle;\n",
       "    }\n",
       "\n",
       "    .dataframe tbody tr th {\n",
       "        vertical-align: top;\n",
       "    }\n",
       "\n",
       "    .dataframe thead th {\n",
       "        text-align: right;\n",
       "    }\n",
       "</style>\n",
       "<table border=\"1\" class=\"dataframe\">\n",
       "  <thead>\n",
       "    <tr style=\"text-align: right;\">\n",
       "      <th></th>\n",
       "      <th>11750</th>\n",
       "      <th>13147</th>\n",
       "      <th>13867</th>\n",
       "      <th>14467</th>\n",
       "      <th>14987</th>\n",
       "      <th>16207</th>\n",
       "      <th>16507</th>\n",
       "      <th>16509</th>\n",
       "      <th>16510</th>\n",
       "      <th>16511</th>\n",
       "      <th>...</th>\n",
       "      <th>79</th>\n",
       "      <th>80</th>\n",
       "      <th>81</th>\n",
       "      <th>82</th>\n",
       "      <th>83</th>\n",
       "      <th>84</th>\n",
       "      <th>85</th>\n",
       "      <th>86</th>\n",
       "      <th>87</th>\n",
       "      <th>88</th>\n",
       "    </tr>\n",
       "  </thead>\n",
       "  <tbody>\n",
       "    <tr>\n",
       "      <th>count</th>\n",
       "      <td>80100.000000</td>\n",
       "      <td>80100.000000</td>\n",
       "      <td>80100.000000</td>\n",
       "      <td>80100.000000</td>\n",
       "      <td>80100.000000</td>\n",
       "      <td>80100.00000</td>\n",
       "      <td>80100.000000</td>\n",
       "      <td>80100.000000</td>\n",
       "      <td>80100.000000</td>\n",
       "      <td>80100.000000</td>\n",
       "      <td>...</td>\n",
       "      <td>80100.000000</td>\n",
       "      <td>80100.000000</td>\n",
       "      <td>80100.000000</td>\n",
       "      <td>80100.000000</td>\n",
       "      <td>80100.000000</td>\n",
       "      <td>80100.000000</td>\n",
       "      <td>80100.000000</td>\n",
       "      <td>80100.000000</td>\n",
       "      <td>80100.000000</td>\n",
       "      <td>80100.000000</td>\n",
       "    </tr>\n",
       "    <tr>\n",
       "      <th>mean</th>\n",
       "      <td>19.170902</td>\n",
       "      <td>39.101017</td>\n",
       "      <td>12.192407</td>\n",
       "      <td>23.518934</td>\n",
       "      <td>8.058261</td>\n",
       "      <td>24.52464</td>\n",
       "      <td>35.859563</td>\n",
       "      <td>35.072517</td>\n",
       "      <td>40.535897</td>\n",
       "      <td>45.218016</td>\n",
       "      <td>...</td>\n",
       "      <td>33.772151</td>\n",
       "      <td>33.001722</td>\n",
       "      <td>43.713114</td>\n",
       "      <td>40.960143</td>\n",
       "      <td>15.940215</td>\n",
       "      <td>14.125292</td>\n",
       "      <td>20.698876</td>\n",
       "      <td>21.033284</td>\n",
       "      <td>17.723159</td>\n",
       "      <td>14.774022</td>\n",
       "    </tr>\n",
       "    <tr>\n",
       "      <th>std</th>\n",
       "      <td>3.040124</td>\n",
       "      <td>5.006690</td>\n",
       "      <td>5.371723</td>\n",
       "      <td>4.789279</td>\n",
       "      <td>1.710866</td>\n",
       "      <td>3.92402</td>\n",
       "      <td>6.242558</td>\n",
       "      <td>5.497627</td>\n",
       "      <td>6.962691</td>\n",
       "      <td>7.069311</td>\n",
       "      <td>...</td>\n",
       "      <td>4.156159</td>\n",
       "      <td>4.339530</td>\n",
       "      <td>9.720439</td>\n",
       "      <td>6.230415</td>\n",
       "      <td>6.191741</td>\n",
       "      <td>2.696299</td>\n",
       "      <td>4.576538</td>\n",
       "      <td>4.895500</td>\n",
       "      <td>3.176840</td>\n",
       "      <td>4.458063</td>\n",
       "    </tr>\n",
       "    <tr>\n",
       "      <th>min</th>\n",
       "      <td>15.880000</td>\n",
       "      <td>33.600000</td>\n",
       "      <td>8.280000</td>\n",
       "      <td>18.550000</td>\n",
       "      <td>6.700000</td>\n",
       "      <td>20.45000</td>\n",
       "      <td>29.330000</td>\n",
       "      <td>28.520000</td>\n",
       "      <td>34.600000</td>\n",
       "      <td>38.880000</td>\n",
       "      <td>...</td>\n",
       "      <td>28.680000</td>\n",
       "      <td>27.630000</td>\n",
       "      <td>34.620000</td>\n",
       "      <td>34.420000</td>\n",
       "      <td>11.370000</td>\n",
       "      <td>11.430000</td>\n",
       "      <td>15.900000</td>\n",
       "      <td>15.770000</td>\n",
       "      <td>14.120000</td>\n",
       "      <td>11.420000</td>\n",
       "    </tr>\n",
       "    <tr>\n",
       "      <th>25%</th>\n",
       "      <td>17.120000</td>\n",
       "      <td>35.420000</td>\n",
       "      <td>8.650000</td>\n",
       "      <td>19.650000</td>\n",
       "      <td>7.130000</td>\n",
       "      <td>21.75000</td>\n",
       "      <td>31.500000</td>\n",
       "      <td>30.770000</td>\n",
       "      <td>36.320000</td>\n",
       "      <td>40.820000</td>\n",
       "      <td>...</td>\n",
       "      <td>30.620000</td>\n",
       "      <td>29.780000</td>\n",
       "      <td>36.630000</td>\n",
       "      <td>36.300000</td>\n",
       "      <td>11.830000</td>\n",
       "      <td>12.050000</td>\n",
       "      <td>17.150000</td>\n",
       "      <td>17.150000</td>\n",
       "      <td>15.850000</td>\n",
       "      <td>12.400000</td>\n",
       "    </tr>\n",
       "    <tr>\n",
       "      <th>50%</th>\n",
       "      <td>17.970000</td>\n",
       "      <td>36.770000</td>\n",
       "      <td>9.770000</td>\n",
       "      <td>21.630000</td>\n",
       "      <td>7.450000</td>\n",
       "      <td>22.67000</td>\n",
       "      <td>33.200000</td>\n",
       "      <td>32.930000</td>\n",
       "      <td>37.870000</td>\n",
       "      <td>42.500000</td>\n",
       "      <td>...</td>\n",
       "      <td>32.230000</td>\n",
       "      <td>31.500000</td>\n",
       "      <td>38.830000</td>\n",
       "      <td>38.330000</td>\n",
       "      <td>13.420000</td>\n",
       "      <td>12.900000</td>\n",
       "      <td>18.730000</td>\n",
       "      <td>18.820000</td>\n",
       "      <td>16.530000</td>\n",
       "      <td>13.070000</td>\n",
       "    </tr>\n",
       "    <tr>\n",
       "      <th>75%</th>\n",
       "      <td>20.230000</td>\n",
       "      <td>41.580000</td>\n",
       "      <td>13.000000</td>\n",
       "      <td>26.070000</td>\n",
       "      <td>8.020000</td>\n",
       "      <td>26.38000</td>\n",
       "      <td>38.130000</td>\n",
       "      <td>37.650000</td>\n",
       "      <td>41.520000</td>\n",
       "      <td>46.430000</td>\n",
       "      <td>...</td>\n",
       "      <td>35.950000</td>\n",
       "      <td>34.750000</td>\n",
       "      <td>48.420000</td>\n",
       "      <td>44.080000</td>\n",
       "      <td>16.880000</td>\n",
       "      <td>15.630000</td>\n",
       "      <td>23.070000</td>\n",
       "      <td>23.770000</td>\n",
       "      <td>18.200000</td>\n",
       "      <td>14.500000</td>\n",
       "    </tr>\n",
       "    <tr>\n",
       "      <th>max</th>\n",
       "      <td>51.480000</td>\n",
       "      <td>79.430000</td>\n",
       "      <td>34.630000</td>\n",
       "      <td>52.800000</td>\n",
       "      <td>33.400000</td>\n",
       "      <td>55.18000</td>\n",
       "      <td>77.100000</td>\n",
       "      <td>70.670000</td>\n",
       "      <td>86.000000</td>\n",
       "      <td>92.120000</td>\n",
       "      <td>...</td>\n",
       "      <td>72.930000</td>\n",
       "      <td>62.520000</td>\n",
       "      <td>94.100000</td>\n",
       "      <td>84.730000</td>\n",
       "      <td>44.630000</td>\n",
       "      <td>27.850000</td>\n",
       "      <td>57.880000</td>\n",
       "      <td>72.030000</td>\n",
       "      <td>62.080000</td>\n",
       "      <td>79.950000</td>\n",
       "    </tr>\n",
       "  </tbody>\n",
       "</table>\n",
       "<p>8 rows × 272 columns</p>\n",
       "</div>"
      ],
      "text/plain": [
       "              11750         13147         13867         14467         14987  \\\n",
       "count  80100.000000  80100.000000  80100.000000  80100.000000  80100.000000   \n",
       "mean      19.170902     39.101017     12.192407     23.518934      8.058261   \n",
       "std        3.040124      5.006690      5.371723      4.789279      1.710866   \n",
       "min       15.880000     33.600000      8.280000     18.550000      6.700000   \n",
       "25%       17.120000     35.420000      8.650000     19.650000      7.130000   \n",
       "50%       17.970000     36.770000      9.770000     21.630000      7.450000   \n",
       "75%       20.230000     41.580000     13.000000     26.070000      8.020000   \n",
       "max       51.480000     79.430000     34.630000     52.800000     33.400000   \n",
       "\n",
       "             16207         16507         16509         16510         16511  \\\n",
       "count  80100.00000  80100.000000  80100.000000  80100.000000  80100.000000   \n",
       "mean      24.52464     35.859563     35.072517     40.535897     45.218016   \n",
       "std        3.92402      6.242558      5.497627      6.962691      7.069311   \n",
       "min       20.45000     29.330000     28.520000     34.600000     38.880000   \n",
       "25%       21.75000     31.500000     30.770000     36.320000     40.820000   \n",
       "50%       22.67000     33.200000     32.930000     37.870000     42.500000   \n",
       "75%       26.38000     38.130000     37.650000     41.520000     46.430000   \n",
       "max       55.18000     77.100000     70.670000     86.000000     92.120000   \n",
       "\n",
       "       ...            79            80            81            82  \\\n",
       "count  ...  80100.000000  80100.000000  80100.000000  80100.000000   \n",
       "mean   ...     33.772151     33.001722     43.713114     40.960143   \n",
       "std    ...      4.156159      4.339530      9.720439      6.230415   \n",
       "min    ...     28.680000     27.630000     34.620000     34.420000   \n",
       "25%    ...     30.620000     29.780000     36.630000     36.300000   \n",
       "50%    ...     32.230000     31.500000     38.830000     38.330000   \n",
       "75%    ...     35.950000     34.750000     48.420000     44.080000   \n",
       "max    ...     72.930000     62.520000     94.100000     84.730000   \n",
       "\n",
       "                 83            84            85            86            87  \\\n",
       "count  80100.000000  80100.000000  80100.000000  80100.000000  80100.000000   \n",
       "mean      15.940215     14.125292     20.698876     21.033284     17.723159   \n",
       "std        6.191741      2.696299      4.576538      4.895500      3.176840   \n",
       "min       11.370000     11.430000     15.900000     15.770000     14.120000   \n",
       "25%       11.830000     12.050000     17.150000     17.150000     15.850000   \n",
       "50%       13.420000     12.900000     18.730000     18.820000     16.530000   \n",
       "75%       16.880000     15.630000     23.070000     23.770000     18.200000   \n",
       "max       44.630000     27.850000     57.880000     72.030000     62.080000   \n",
       "\n",
       "                 88  \n",
       "count  80100.000000  \n",
       "mean      14.774022  \n",
       "std        4.458063  \n",
       "min       11.420000  \n",
       "25%       12.400000  \n",
       "50%       13.070000  \n",
       "75%       14.500000  \n",
       "max       79.950000  \n",
       "\n",
       "[8 rows x 272 columns]"
      ]
     },
     "execution_count": 9,
     "metadata": {},
     "output_type": "execute_result"
    }
   ],
   "source": [
    "df.describe()"
   ]
  },
  {
   "cell_type": "code",
   "execution_count": 10,
   "id": "000756fc",
   "metadata": {
    "scrolled": true
   },
   "outputs": [
    {
     "name": "stderr",
     "output_type": "stream",
     "text": [
      "C:\\Users\\meida\\anaconda3\\envs\\tensorflow-gpu\\lib\\site-packages\\seaborn\\distributions.py:2619: FutureWarning: `distplot` is a deprecated function and will be removed in a future version. Please adapt your code to use either `displot` (a figure-level function with similar flexibility) or `histplot` (an axes-level function for histograms).\n",
      "  warnings.warn(msg, FutureWarning)\n"
     ]
    },
    {
     "data": {
      "image/png": "[encoded data removed]",
      "text/plain": [
       "<Figure size 576x432 with 1 Axes>"
      ]
     },
     "metadata": {
      "needs_background": "light"
     },
     "output_type": "display_data"
    }
   ],
   "source": [
    "sns.distplot(df[target])\n",
    "sns.set()"
   ]
  },
  {
   "cell_type": "markdown",
   "id": "3ff5384b",
   "metadata": {},
   "source": [
    "from sklearn.preprocessing import MinMaxScaler, PowerTransformer\n",
    "#mm = MinMaxScaler()\n",
    "pt = PowerTransformer(standardize=False)\n",
    "#df[:] = mm.fit_transform(df)\n",
    "df[:] = pt.fit_transform(df)"
   ]
  },
  {
   "cell_type": "markdown",
   "id": "a0d68cc8",
   "metadata": {},
   "source": [
    "df"
   ]
  },
  {
   "cell_type": "markdown",
   "id": "bc4ca972",
   "metadata": {},
   "source": [
    "sns.distplot(df['11750'])\n",
    "sns.set()"
   ]
  },
  {
   "cell_type": "markdown",
   "id": "baaf5345",
   "metadata": {},
   "source": [
    "plot_cols = ['11750', '18828', '18830', '275', '4649', '4651', '6224', '6225', '78','79', '81']\n",
    "plot_features = df[plot_cols]\n",
    "plot_features.index = date_time\n",
    "_ = plot_features.plot(subplots=True)\n",
    "\n",
    "plot_features = df[plot_cols][:480]\n",
    "plot_features.index = date_time[:480]\n",
    "_ = plot_features.plot(subplots=True)"
   ]
  },
  {
   "cell_type": "markdown",
   "id": "583cf330",
   "metadata": {},
   "source": [
    "df.describe().transpose()"
   ]
  },
  {
   "cell_type": "markdown",
   "id": "642f7351",
   "metadata": {},
   "source": [
    "timestamp_s = date_time.map(pd.Timestamp.timestamp)"
   ]
  },
  {
   "cell_type": "markdown",
   "id": "f9320126",
   "metadata": {},
   "source": [
    "day = 24*60*60\n",
    "year = (365.2425)*day\n",
    "\n",
    "df['Day sin'] = np.sin(timestamp_s * (2 * np.pi / day))\n",
    "df['Day cos'] = np.cos(timestamp_s * (2 * np.pi / day))\n",
    "df['Year sin'] = np.sin(timestamp_s * (2 * np.pi / year))\n",
    "df['Year cos'] = np.cos(timestamp_s * (2 * np.pi / year))"
   ]
  },
  {
   "cell_type": "markdown",
   "id": "ae63354d",
   "metadata": {},
   "source": [
    "plt.plot(np.array(df['Day sin'])[:25])\n",
    "plt.plot(np.array(df['Day cos'])[:25])\n",
    "plt.xlabel('Time [h]')\n",
    "plt.title('Time of day signal')"
   ]
  },
  {
   "cell_type": "markdown",
   "id": "5736f30c",
   "metadata": {},
   "source": [
    "fft = tf.signal.rfft(df['11750'])\n",
    "f_per_dataset = np.arange(0, len(fft))\n",
    "\n",
    "n_samples_h = len(df['11750'])\n",
    "hours_per_year = 24*365.2524\n",
    "years_per_dataset = n_samples_h/(hours_per_year)\n",
    "\n",
    "f_per_year = f_per_dataset/years_per_dataset\n",
    "plt.step(f_per_year, np.abs(fft))\n",
    "plt.xscale('log')\n",
    "plt.ylim(0, 50000)\n",
    "plt.xlim([0.1, max(plt.xlim())])\n",
    "plt.xticks([1, 365.2524], labels=['1/Year', '1/day'])\n",
    "_ = plt.xlabel('Frequency (log scale)')"
   ]
  },
  {
   "cell_type": "code",
   "execution_count": 11,
   "id": "560d2882",
   "metadata": {},
   "outputs": [],
   "source": [
    "column_indices = {name: i for i, name in enumerate(df.columns)}\n",
    "\n",
    "n = len(df)\n",
    "train_df = df[0:int(n*0.7)]\n",
    "val_df = df[int(n*0.7):int(n*0.9)]\n",
    "test_df = df[int(n*0.9):]\n",
    "\n",
    "num_features = df.shape[1]"
   ]
  },
  {
   "cell_type": "code",
   "execution_count": 12,
   "id": "2de6c604",
   "metadata": {},
   "outputs": [],
   "source": [
    "train_mean = train_df.mean()\n",
    "train_std = train_df.std()\n",
    "\n",
    "train_df = (train_df - train_mean) / train_std\n",
    "val_df = (val_df - train_mean) / train_std\n",
    "test_df = (test_df - train_mean) / train_std"
   ]
  },
  {
   "cell_type": "code",
   "execution_count": 13,
   "id": "f565dea4",
   "metadata": {},
   "outputs": [
    {
     "name": "stderr",
     "output_type": "stream",
     "text": [
      "C:\\Users\\meida\\anaconda3\\envs\\tensorflow-gpu\\lib\\site-packages\\seaborn\\distributions.py:2619: FutureWarning: `distplot` is a deprecated function and will be removed in a future version. Please adapt your code to use either `displot` (a figure-level function with similar flexibility) or `histplot` (an axes-level function for histograms).\n",
      "  warnings.warn(msg, FutureWarning)\n"
     ]
    },
    {
     "data": {
      "image/png": "[encoded data removed]",
      "text/plain": [
       "<Figure size 576x432 with 1 Axes>"
      ]
     },
     "metadata": {},
     "output_type": "display_data"
    }
   ],
   "source": [
    "sns.distplot(test_df[target])\n",
    "sns.set()"
   ]
  },
  {
   "cell_type": "markdown",
   "id": "2eba48a7",
   "metadata": {},
   "source": [
    "## yeojonson変換"
   ]
  },
  {
   "cell_type": "code",
   "execution_count": 15,
   "id": "e9a56c41",
   "metadata": {},
   "outputs": [],
   "source": [
    "from sklearn.preprocessing import MinMaxScaler, PowerTransformer\n",
    "#mm = MinMaxScaler()\n",
    "train_pt = PowerTransformer(standardize=False)\n",
    "val_pt = PowerTransformer(standardize=False)\n",
    "test_pt = PowerTransformer(standardize=False)\n",
    "\n",
    "#df[:] = mm.fit_transform(df)\n",
    "train_df[:] = train_pt.fit_transform(train_df)\n",
    "val_df[:] = val_pt.fit_transform(val_df)\n",
    "test_df[:] = test_pt.fit_transform(test_df)"
   ]
  },
  {
   "cell_type": "code",
   "execution_count": 16,
   "id": "6710e7dd",
   "metadata": {},
   "outputs": [
    {
     "name": "stderr",
     "output_type": "stream",
     "text": [
      "C:\\Users\\meida\\anaconda3\\envs\\tensorflow-gpu\\lib\\site-packages\\seaborn\\distributions.py:2619: FutureWarning: `distplot` is a deprecated function and will be removed in a future version. Please adapt your code to use either `displot` (a figure-level function with similar flexibility) or `histplot` (an axes-level function for histograms).\n",
      "  warnings.warn(msg, FutureWarning)\n"
     ]
    },
    {
     "data": {
      "image/png": "[encoded data removed]",
      "text/plain": [
       "<Figure size 576x432 with 1 Axes>"
      ]
     },
     "metadata": {},
     "output_type": "display_data"
    }
   ],
   "source": [
    "sns.distplot(test_df[target])\n",
    "sns.set()"
   ]
  },
  {
   "cell_type": "code",
   "execution_count": 17,
   "id": "0be0bbc0",
   "metadata": {},
   "outputs": [],
   "source": [
    "df_std = (df - train_mean) / train_std\n",
    "df_std = df_std.melt(var_name='Column', value_name='Normalized')\n",
    "#plt.figure(figsize=(12, 6))\n",
    "#ax = sns.violinplot(x='Column', y='Normalized', data=df_std)\n",
    "#_ = ax.set_xticklabels(df.keys(), rotation=90)"
   ]
  },
  {
   "cell_type": "code",
   "execution_count": 18,
   "id": "aa717d40",
   "metadata": {},
   "outputs": [],
   "source": [
    "class WindowGenerator():\n",
    "  def __init__(self, input_width, label_width, shift,\n",
    "               train_df=train_df, val_df=val_df, test_df=test_df,\n",
    "               label_columns=None):\n",
    "    # Store the raw data.\n",
    "    self.train_df = train_df\n",
    "    self.val_df = val_df\n",
    "    self.test_df = test_df\n",
    "\n",
    "    # Work out the label column indices.\n",
    "    self.label_columns = label_columns\n",
    "    if label_columns is not None:\n",
    "      self.label_columns_indices = {name: i for i, name in\n",
    "                                    enumerate(label_columns)}\n",
    "    self.column_indices = {name: i for i, name in\n",
    "                           enumerate(train_df.columns)}\n",
    "\n",
    "    # Work out the window parameters.\n",
    "    self.input_width = input_width\n",
    "    self.label_width = label_width\n",
    "    self.shift = shift\n",
    "\n",
    "    self.total_window_size = input_width + shift\n",
    "\n",
    "    self.input_slice = slice(0, input_width)\n",
    "    self.input_indices = np.arange(self.total_window_size)[self.input_slice]\n",
    "\n",
    "    self.label_start = self.total_window_size - self.label_width\n",
    "    self.labels_slice = slice(self.label_start, None)\n",
    "    self.label_indices = np.arange(self.total_window_size)[self.labels_slice]\n",
    "\n",
    "  def __repr__(self):\n",
    "    return '\\n'.join([\n",
    "        f'Total window size: {self.total_window_size}',\n",
    "        f'Input indices: {self.input_indices}',\n",
    "        f'Label indices: {self.label_indices}',\n",
    "        f'Label column name(s): {self.label_columns}'])"
   ]
  },
  {
   "cell_type": "code",
   "execution_count": 19,
   "id": "be4dcaa7",
   "metadata": {},
   "outputs": [
    {
     "data": {
      "text/plain": [
       "Total window size: 48\n",
       "Input indices: [ 0  1  2  3  4  5  6  7  8  9 10 11 12 13 14 15 16 17 18 19 20 21 22 23]\n",
       "Label indices: [47]\n",
       "Label column name(s): ['6640']"
      ]
     },
     "execution_count": 19,
     "metadata": {},
     "output_type": "execute_result"
    }
   ],
   "source": [
    "w1 = WindowGenerator(input_width=24, label_width=1, shift=24,\n",
    "                     label_columns=[target])\n",
    "w1"
   ]
  },
  {
   "cell_type": "code",
   "execution_count": 20,
   "id": "568a075d",
   "metadata": {},
   "outputs": [
    {
     "data": {
      "text/plain": [
       "Total window size: 7\n",
       "Input indices: [0 1 2 3 4 5]\n",
       "Label indices: [6]\n",
       "Label column name(s): ['6640']"
      ]
     },
     "execution_count": 20,
     "metadata": {},
     "output_type": "execute_result"
    }
   ],
   "source": [
    "w2 = WindowGenerator(input_width=6, label_width=1, shift=1,\n",
    "                     label_columns=[target])\n",
    "w2"
   ]
  },
  {
   "cell_type": "code",
   "execution_count": 21,
   "id": "033a676f",
   "metadata": {},
   "outputs": [],
   "source": [
    "def split_window(self, features):\n",
    "  inputs = features[:, self.input_slice, :]\n",
    "  labels = features[:, self.labels_slice, :]\n",
    "  if self.label_columns is not None:\n",
    "    labels = tf.stack(\n",
    "        [labels[:, :, self.column_indices[name]] for name in self.label_columns],\n",
    "        axis=-1)\n",
    "\n",
    "  # Slicing doesn't preserve static shape information, so set the shapes\n",
    "  # manually. This way the `tf.data.Datasets` are easier to inspect.\n",
    "  inputs.set_shape([None, self.input_width, None])\n",
    "  labels.set_shape([None, self.label_width, None])\n",
    "\n",
    "  return inputs, labels\n",
    "\n",
    "WindowGenerator.split_window = split_window"
   ]
  },
  {
   "cell_type": "code",
   "execution_count": 22,
   "id": "fa25d215",
   "metadata": {},
   "outputs": [
    {
     "name": "stdout",
     "output_type": "stream",
     "text": [
      "All shapes are: (batch, time, features)\n",
      "Window shape: (3, 7, 272)\n",
      "Inputs shape: (3, 6, 272)\n",
      "Labels shape: (3, 1, 1)\n"
     ]
    }
   ],
   "source": [
    "# Stack three slices, the length of the total window.\n",
    "example_window = tf.stack([np.array(train_df[:w2.total_window_size]),\n",
    "                           np.array(train_df[100:100+w2.total_window_size]),\n",
    "                           np.array(train_df[200:200+w2.total_window_size])])\n",
    "\n",
    "example_inputs, example_labels = w2.split_window(example_window)\n",
    "\n",
    "print('All shapes are: (batch, time, features)')\n",
    "print(f'Window shape: {example_window.shape}')\n",
    "print(f'Inputs shape: {example_inputs.shape}')\n",
    "print(f'Labels shape: {example_labels.shape}')"
   ]
  },
  {
   "cell_type": "code",
   "execution_count": 23,
   "id": "314ee80b",
   "metadata": {},
   "outputs": [],
   "source": [
    "w2.example = example_inputs, example_labels"
   ]
  },
  {
   "cell_type": "code",
   "execution_count": 24,
   "id": "94b0e625",
   "metadata": {},
   "outputs": [],
   "source": [
    "def plot(self, model=None, plot_col=target, max_subplots=3):\n",
    "  inputs, labels = self.example\n",
    "  plt.figure(figsize=(12, 8))\n",
    "  plot_col_index = self.column_indices[plot_col]\n",
    "  max_n = min(max_subplots, len(inputs))\n",
    "  for n in range(max_n):\n",
    "    plt.subplot(max_n, 1, n+1)\n",
    "    plt.ylabel(f'{plot_col} [normed]')\n",
    "    plt.plot(self.input_indices, inputs[n, :, plot_col_index],\n",
    "             label='Inputs', marker='.', zorder=-10)\n",
    "\n",
    "    if self.label_columns:\n",
    "      label_col_index = self.label_columns_indices.get(plot_col, None)\n",
    "    else:\n",
    "      label_col_index = plot_col_index\n",
    "\n",
    "    if label_col_index is None:\n",
    "      continue\n",
    "\n",
    "    plt.scatter(self.label_indices, labels[n, :, label_col_index],\n",
    "                edgecolors='k', label='Labels', c='#2ca02c', s=64)\n",
    "    if model is not None:\n",
    "      predictions = model(inputs)\n",
    "      plt.scatter(self.label_indices, predictions[n, :, label_col_index],\n",
    "                  marker='X', edgecolors='k', label='Predictions',\n",
    "                  c='#ff7f0e', s=64)\n",
    "\n",
    "    if n == 0:\n",
    "      plt.legend()\n",
    "\n",
    "  plt.xlabel('5 Minutes')\n",
    "\n",
    "WindowGenerator.plot = plot"
   ]
  },
  {
   "cell_type": "code",
   "execution_count": 25,
   "id": "e5ddb4fa",
   "metadata": {},
   "outputs": [
    {
     "data": {
      "image/png": "[encoded data removed]",
      "text/plain": [
       "<Figure size 864x576 with 3 Axes>"
      ]
     },
     "metadata": {},
     "output_type": "display_data"
    }
   ],
   "source": [
    "w2.plot()"
   ]
  },
  {
   "cell_type": "code",
   "execution_count": 26,
   "id": "88eac53e",
   "metadata": {},
   "outputs": [],
   "source": [
    "def make_dataset(self, data):\n",
    "  data = np.array(data, dtype=np.float32)\n",
    "  ds = tf.keras.preprocessing.timeseries_dataset_from_array(\n",
    "      data=data,\n",
    "      targets=None,\n",
    "      sequence_length=self.total_window_size,\n",
    "      sequence_stride=1,\n",
    "      shuffle=True,\n",
    "      batch_size=32,)\n",
    "\n",
    "  ds = ds.map(self.split_window)\n",
    "\n",
    "  return ds\n",
    "\n",
    "WindowGenerator.make_dataset = make_dataset"
   ]
  },
  {
   "cell_type": "code",
   "execution_count": 27,
   "id": "17c7612d",
   "metadata": {},
   "outputs": [],
   "source": [
    "@property\n",
    "def train(self):\n",
    "  return self.make_dataset(self.train_df)\n",
    "\n",
    "@property\n",
    "def val(self):\n",
    "  return self.make_dataset(self.val_df)\n",
    "\n",
    "@property\n",
    "def test(self):\n",
    "  return self.make_dataset(self.test_df)\n",
    "\n",
    "@property\n",
    "def example(self):\n",
    "  \"\"\"Get and cache an example batch of `inputs, labels` for plotting.\"\"\"\n",
    "  result = getattr(self, '_example', None)\n",
    "  if result is None:\n",
    "    # No example batch was found, so get one from the `.train` dataset\n",
    "    result = next(iter(self.train))\n",
    "    # And cache it for next time\n",
    "    self._example = result\n",
    "  return result\n",
    "\n",
    "WindowGenerator.train = train\n",
    "WindowGenerator.val = val\n",
    "WindowGenerator.test = test\n",
    "WindowGenerator.example = example"
   ]
  },
  {
   "cell_type": "code",
   "execution_count": 28,
   "id": "4bfb741d",
   "metadata": {},
   "outputs": [
    {
     "data": {
      "text/plain": [
       "(TensorSpec(shape=(None, 6, 272), dtype=tf.float32, name=None),\n",
       " TensorSpec(shape=(None, 1, 1), dtype=tf.float32, name=None))"
      ]
     },
     "execution_count": 28,
     "metadata": {},
     "output_type": "execute_result"
    }
   ],
   "source": [
    "# Each element is an (inputs, label) pair.\n",
    "w2.train.element_spec"
   ]
  },
  {
   "cell_type": "code",
   "execution_count": 29,
   "id": "c05bc6e8",
   "metadata": {},
   "outputs": [
    {
     "name": "stdout",
     "output_type": "stream",
     "text": [
      "Inputs shape (batch, time, features): (32, 6, 272)\n",
      "Labels shape (batch, time, features): (32, 1, 1)\n"
     ]
    }
   ],
   "source": [
    "for example_inputs, example_labels in w2.train.take(1):\n",
    "    print(f'Inputs shape (batch, time, features): {example_inputs.shape}')\n",
    "    print(f'Labels shape (batch, time, features): {example_labels.shape}')"
   ]
  },
  {
   "cell_type": "code",
   "execution_count": 30,
   "id": "7a0aaa5b",
   "metadata": {},
   "outputs": [
    {
     "data": {
      "text/plain": [
       "Total window size: 2\n",
       "Input indices: [0]\n",
       "Label indices: [1]\n",
       "Label column name(s): ['6640']"
      ]
     },
     "execution_count": 30,
     "metadata": {},
     "output_type": "execute_result"
    }
   ],
   "source": [
    "single_step_window = WindowGenerator(\n",
    "    input_width=1, label_width=1, shift=1,\n",
    "    label_columns=[target])\n",
    "single_step_window"
   ]
  },
  {
   "cell_type": "code",
   "execution_count": 31,
   "id": "890ab82c",
   "metadata": {},
   "outputs": [
    {
     "name": "stdout",
     "output_type": "stream",
     "text": [
      "Inputs shape (batch, time, features): (32, 1, 272)\n",
      "Labels shape (batch, time, features): (32, 1, 1)\n"
     ]
    }
   ],
   "source": [
    "for example_inputs, example_labels in single_step_window.train.take(1):\n",
    "    print(f'Inputs shape (batch, time, features): {example_inputs.shape}')\n",
    "    print(f'Labels shape (batch, time, features): {example_labels.shape}')"
   ]
  },
  {
   "cell_type": "code",
   "execution_count": 32,
   "id": "875a36c1",
   "metadata": {},
   "outputs": [],
   "source": [
    "class Baseline(tf.keras.Model):\n",
    "  def __init__(self, label_index=None):\n",
    "    super().__init__()\n",
    "    self.label_index = label_index\n",
    "\n",
    "  def call(self, inputs):\n",
    "    if self.label_index is None:\n",
    "      return inputs\n",
    "    result = inputs[:, :, self.label_index]\n",
    "    return result[:, :, tf.newaxis]"
   ]
  },
  {
   "cell_type": "code",
   "execution_count": 33,
   "id": "1c80d9d3",
   "metadata": {},
   "outputs": [
    {
     "name": "stdout",
     "output_type": "stream",
     "text": [
      "501/501 [==============================] - 1s 1ms/step - loss: 0.0071 - root_mean_squared_error: 0.0842\n"
     ]
    }
   ],
   "source": [
    "baseline = Baseline(label_index=column_indices[target])\n",
    "\n",
    "baseline.compile(loss=tf.losses.MeanSquaredError(),\n",
    "                 metrics=[tf.keras.metrics.RootMeanSquaredError()])\n",
    "\n",
    "val_performance = {}\n",
    "performance = {}\n",
    "val_performance['Baseline'] = baseline.evaluate(single_step_window.val)\n",
    "performance['Baseline'] = baseline.evaluate(single_step_window.test, verbose=0)"
   ]
  },
  {
   "cell_type": "code",
   "execution_count": 34,
   "id": "82a9739b",
   "metadata": {},
   "outputs": [
    {
     "data": {
      "text/plain": [
       "Total window size: 13\n",
       "Input indices: [ 0  1  2  3  4  5  6  7  8  9 10 11]\n",
       "Label indices: [ 1  2  3  4  5  6  7  8  9 10 11 12]\n",
       "Label column name(s): ['6640']"
      ]
     },
     "execution_count": 34,
     "metadata": {},
     "output_type": "execute_result"
    }
   ],
   "source": [
    "wide_window = WindowGenerator(\n",
    "    input_width=12, label_width=12, shift=1,\n",
    "    label_columns=[target])\n",
    "\n",
    "wide_window"
   ]
  },
  {
   "cell_type": "code",
   "execution_count": 35,
   "id": "b3bab93e",
   "metadata": {},
   "outputs": [
    {
     "name": "stdout",
     "output_type": "stream",
     "text": [
      "Input shape: (32, 12, 272)\n",
      "Output shape: (32, 12, 1)\n"
     ]
    }
   ],
   "source": [
    "print('Input shape:', wide_window.example[0].shape)\n",
    "print('Output shape:', baseline(wide_window.example[0]).shape)"
   ]
  },
  {
   "cell_type": "code",
   "execution_count": 36,
   "id": "eedab45b",
   "metadata": {},
   "outputs": [
    {
     "data": {
      "image/png": "[encoded data removed]",
      "text/plain": [
       "<Figure size 864x576 with 3 Axes>"
      ]
     },
     "metadata": {},
     "output_type": "display_data"
    }
   ],
   "source": [
    "wide_window.plot(baseline)"
   ]
  },
  {
   "cell_type": "code",
   "execution_count": 37,
   "id": "576b5ced",
   "metadata": {},
   "outputs": [],
   "source": [
    "linear = tf.keras.Sequential([\n",
    "    tf.keras.layers.Dense(units=1)\n",
    "])"
   ]
  },
  {
   "cell_type": "code",
   "execution_count": 38,
   "id": "d35ce3fb",
   "metadata": {},
   "outputs": [
    {
     "name": "stdout",
     "output_type": "stream",
     "text": [
      "Input shape: (32, 1, 272)\n",
      "Output shape: (32, 1, 1)\n"
     ]
    }
   ],
   "source": [
    "print('Input shape:', single_step_window.example[0].shape)\n",
    "print('Output shape:', linear(single_step_window.example[0]).shape)"
   ]
  },
  {
   "cell_type": "code",
   "execution_count": 39,
   "id": "a1970730",
   "metadata": {},
   "outputs": [],
   "source": [
    "MAX_EPOCHS = 40\n",
    "\n",
    "def compile_and_fit(model, window, patience=2):\n",
    "  early_stopping = tf.keras.callbacks.EarlyStopping(monitor='val_loss',\n",
    "                                                    patience=patience,\n",
    "                                                    mode='min')\n",
    "  model.compile(loss=tf.losses.MeanSquaredError(),\n",
    "                optimizer=tf.optimizers.Adam(),\n",
    "                metrics=[tf.keras.metrics.RootMeanSquaredError(),tf.metrics.MeanSquaredError(),tf.metrics.MeanAbsoluteError()])\n",
    "                #metrics=[tf.metrics.MeanAbsoluteError()])\n",
    "\n",
    "  start = time.time()\n",
    "  history = model.fit(window.train, epochs=MAX_EPOCHS,\n",
    "                      validation_data=window.val,\n",
    "                      callbacks=[early_stopping]\n",
    "                     )\n",
    "  run_time = time.time() - start\n",
    "  return history,run_time"
   ]
  },
  {
   "cell_type": "code",
   "execution_count": 40,
   "id": "7ca63794",
   "metadata": {},
   "outputs": [
    {
     "name": "stdout",
     "output_type": "stream",
     "text": [
      "Epoch 1/40\n",
      "1753/1753 [==============================] - 6s 3ms/step - loss: 0.1056 - root_mean_squared_error: 0.3250 - mean_squared_error: 0.1056 - mean_absolute_error: 0.2086 - val_loss: 0.0293 - val_root_mean_squared_error: 0.1713 - val_mean_squared_error: 0.0293 - val_mean_absolute_error: 0.1328\n",
      "Epoch 2/40\n",
      "1753/1753 [==============================] - 5s 3ms/step - loss: 0.0116 - root_mean_squared_error: 0.1078 - mean_squared_error: 0.0116 - mean_absolute_error: 0.0814 - val_loss: 0.0120 - val_root_mean_squared_error: 0.1097 - val_mean_squared_error: 0.0120 - val_mean_absolute_error: 0.0838\n",
      "Epoch 3/40\n",
      "1753/1753 [==============================] - 5s 3ms/step - loss: 0.0075 - root_mean_squared_error: 0.0868 - mean_squared_error: 0.0075 - mean_absolute_error: 0.0638 - val_loss: 0.0093 - val_root_mean_squared_error: 0.0966 - val_mean_squared_error: 0.0093 - val_mean_absolute_error: 0.0722\n",
      "Epoch 4/40\n",
      "1753/1753 [==============================] - 6s 3ms/step - loss: 0.0065 - root_mean_squared_error: 0.0806 - mean_squared_error: 0.0065 - mean_absolute_error: 0.0584 - val_loss: 0.0094 - val_root_mean_squared_error: 0.0970 - val_mean_squared_error: 0.0094 - val_mean_absolute_error: 0.0755\n",
      "Epoch 5/40\n",
      "1753/1753 [==============================] - 5s 3ms/step - loss: 0.0062 - root_mean_squared_error: 0.0787 - mean_squared_error: 0.0062 - mean_absolute_error: 0.0566 - val_loss: 0.0075 - val_root_mean_squared_error: 0.0865 - val_mean_squared_error: 0.0075 - val_mean_absolute_error: 0.0647\n",
      "Epoch 6/40\n",
      "1753/1753 [==============================] - 5s 3ms/step - loss: 0.0059 - root_mean_squared_error: 0.0766 - mean_squared_error: 0.0059 - mean_absolute_error: 0.0548 - val_loss: 0.0097 - val_root_mean_squared_error: 0.0985 - val_mean_squared_error: 0.0097 - val_mean_absolute_error: 0.0733\n",
      "Epoch 7/40\n",
      "1753/1753 [==============================] - 5s 3ms/step - loss: 0.0059 - root_mean_squared_error: 0.0769 - mean_squared_error: 0.0059 - mean_absolute_error: 0.0550 - val_loss: 0.0075 - val_root_mean_squared_error: 0.0868 - val_mean_squared_error: 0.0075 - val_mean_absolute_error: 0.0668\n",
      "501/501 [==============================] - 1s 2ms/step - loss: 0.0075 - root_mean_squared_error: 0.0868 - mean_squared_error: 0.0075 - mean_absolute_error: 0.0668\n"
     ]
    }
   ],
   "source": [
    "history,run_time= compile_and_fit(linear, single_step_window)\n",
    "val_performance['Linear'] = linear.evaluate(single_step_window.val)\n",
    "performance['Linear'] = linear.evaluate(single_step_window.test, verbose=0)"
   ]
  },
  {
   "cell_type": "code",
   "execution_count": 41,
   "id": "e98c1244",
   "metadata": {},
   "outputs": [
    {
     "name": "stdout",
     "output_type": "stream",
     "text": [
      "Input shape: (32, 12, 272)\n",
      "Output shape: (32, 12, 1)\n"
     ]
    }
   ],
   "source": [
    "print('Input shape:', wide_window.example[0].shape)\n",
    "print('Output shape:', baseline(wide_window.example[0]).shape)"
   ]
  },
  {
   "cell_type": "code",
   "execution_count": 42,
   "id": "8b736096",
   "metadata": {},
   "outputs": [
    {
     "data": {
      "image/png": "[encoded data removed]",
      "text/plain": [
       "<Figure size 864x576 with 3 Axes>"
      ]
     },
     "metadata": {},
     "output_type": "display_data"
    }
   ],
   "source": [
    "wide_window.plot(linear)"
   ]
  },
  {
   "cell_type": "code",
   "execution_count": 43,
   "id": "e6dd1f7d",
   "metadata": {},
   "outputs": [
    {
     "data": {
      "image/png": "[encoded data removed]",
      "text/plain": [
       "<Figure size 576x432 with 1 Axes>"
      ]
     },
     "metadata": {},
     "output_type": "display_data"
    }
   ],
   "source": [
    "plt.bar(x = range(len(train_df.columns)),\n",
    "        height=linear.layers[0].kernel[:,0].numpy())\n",
    "axis = plt.gca()\n",
    "axis.set_xticks(range(len(train_df.columns)))\n",
    "_ = axis.set_xticklabels(train_df.columns, rotation=90)"
   ]
  },
  {
   "cell_type": "markdown",
   "id": "5e916c30",
   "metadata": {},
   "source": [
    "dense = tf.keras.Sequential([\n",
    "    tf.keras.layers.Dense(units=64, activation='relu'),\n",
    "    tf.keras.layers.Dense(units=64, activation='relu'),\n",
    "    tf.keras.layers.Dense(units=1)\n",
    "])\n",
    "\n",
    "history,run_time = compile_and_fit(dense, single_step_window)\n",
    "\n",
    "val_performance['Dense'] = dense.evaluate(single_step_window.val)\n",
    "performance['Dense'] = dense.evaluate(single_step_window.test, verbose=0)"
   ]
  },
  {
   "cell_type": "markdown",
   "id": "362e1c21",
   "metadata": {},
   "source": [
    "CONV_WIDTH = 3\n",
    "conv_window = WindowGenerator(\n",
    "    input_width=CONV_WIDTH,\n",
    "    label_width=1,\n",
    "    shift=1,\n",
    "    label_columns=[target])\n",
    "\n",
    "conv_window"
   ]
  },
  {
   "cell_type": "markdown",
   "id": "5ec99ac1",
   "metadata": {},
   "source": [
    "conv_window.plot()\n",
    "plt.title(\"Given 3 hours of inputs, predict 1 hour into the future.\")"
   ]
  },
  {
   "cell_type": "markdown",
   "id": "e72b6b0c",
   "metadata": {},
   "source": [
    "multi_step_dense = tf.keras.Sequential([\n",
    "    # Shape: (time, features) => (time*features)\n",
    "    tf.keras.layers.Flatten(),\n",
    "    tf.keras.layers.Dense(units=32, activation='relu'),\n",
    "    tf.keras.layers.Dense(units=32, activation='relu'),\n",
    "    tf.keras.layers.Dense(units=1),\n",
    "    # Add back the time dimension.\n",
    "    # Shape: (outputs) => (1, outputs)\n",
    "    tf.keras.layers.Reshape([1, -1]),\n",
    "])"
   ]
  },
  {
   "cell_type": "markdown",
   "id": "44bab91c",
   "metadata": {},
   "source": [
    "print('Input shape:', conv_window.example[0].shape)\n",
    "print('Output shape:', multi_step_dense(conv_window.example[0]).shape)"
   ]
  },
  {
   "cell_type": "markdown",
   "id": "00bcbc6b",
   "metadata": {},
   "source": [
    "history,run_time = compile_and_fit(multi_step_dense, conv_window)\n",
    "\n",
    "IPython.display.clear_output()\n",
    "val_performance['Multi step dense'] = multi_step_dense.evaluate(conv_window.val)\n",
    "performance['Multi step dense'] = multi_step_dense.evaluate(conv_window.test, verbose=0)"
   ]
  },
  {
   "cell_type": "markdown",
   "id": "c7726e80",
   "metadata": {},
   "source": [
    "conv_window.plot(multi_step_dense)"
   ]
  },
  {
   "cell_type": "markdown",
   "id": "da89845e",
   "metadata": {},
   "source": [
    "print('Input shape:', wide_window.example[0].shape)\n",
    "try:\n",
    "  print('Output shape:', multi_step_dense(wide_window.example[0]).shape)\n",
    "except Exception as e:\n",
    "  print(f'\\n{type(e).__name__}:{e}')"
   ]
  },
  {
   "cell_type": "markdown",
   "id": "f3956469",
   "metadata": {},
   "source": [
    "LSTM"
   ]
  },
  {
   "cell_type": "code",
   "execution_count": 44,
   "id": "702cfd3e",
   "metadata": {},
   "outputs": [],
   "source": [
    "lstm_model = tf.keras.models.Sequential([\n",
    "    # Shape [batch, time, features] => [batch, time, lstm_units]\n",
    "    #tf.keras.layers.LSTM(128, return_sequences=True),\n",
    "    tf.keras.layers.LSTM(64, return_sequences=False,kernel_regularizer=tf.keras.regularizers.l2(0.0005)),\n",
    "    #tf.keras.layers.Dense(units=64, activation='relu'),\n",
    "    #tf.keras.layers.Dense(units=32, activation='relu'),\n",
    "    #tf.keras.layers.Dense(units=32, activation='relu'),\n",
    "    #tf.keras.layers.Dense(units=1, activation='relu'),\n",
    "    # Shape => [batch, time, features]\n",
    "    tf.keras.layers.Dense(units=1)\n",
    "])"
   ]
  },
  {
   "cell_type": "code",
   "execution_count": 45,
   "id": "816855ec",
   "metadata": {},
   "outputs": [
    {
     "name": "stdout",
     "output_type": "stream",
     "text": [
      "Input shape: (32, 12, 272)\n",
      "Output shape: (32, 1)\n"
     ]
    }
   ],
   "source": [
    "print('Input shape:', wide_window.example[0].shape)\n",
    "print('Output shape:', lstm_model(wide_window.example[0]).shape)"
   ]
  },
  {
   "cell_type": "code",
   "execution_count": 46,
   "id": "c7c5c1c4",
   "metadata": {},
   "outputs": [
    {
     "name": "stdout",
     "output_type": "stream",
     "text": [
      "501/501 [==============================] - 1s 3ms/step - loss: 0.0150 - root_mean_squared_error: 0.1211 - mean_squared_error: 0.0147 - mean_absolute_error: 0.0834\n",
      "74.67839527130127\n"
     ]
    }
   ],
   "source": [
    "history,run_time = compile_and_fit(lstm_model, wide_window)\n",
    "IPython.display.clear_output()\n",
    "val_performance['LSTM'] = lstm_model.evaluate(wide_window.val)\n",
    "performance['LSTM'] = lstm_model.evaluate(wide_window.test, verbose=0)\n",
    "print(run_time)"
   ]
  },
  {
   "cell_type": "markdown",
   "id": "24d215dd",
   "metadata": {},
   "source": [
    "### return_sequences=Trueにするとプロットできる"
   ]
  },
  {
   "cell_type": "markdown",
   "id": "151dc25a",
   "metadata": {},
   "source": [
    "wide_window.plot(lstm_model)"
   ]
  },
  {
   "cell_type": "code",
   "execution_count": 47,
   "id": "1be06acb",
   "metadata": {},
   "outputs": [
    {
     "data": {
      "image/png": "[encoded data removed]",
      "text/plain": [
       "<Figure size 576x432 with 1 Axes>"
      ]
     },
     "metadata": {},
     "output_type": "display_data"
    }
   ],
   "source": [
    "x = np.arange(len(performance))\n",
    "width = 0.3\n",
    "metric_name = 'root_mean_squared_error'\n",
    "metric_index = lstm_model.metrics_names.index('root_mean_squared_error')\n",
    "#metric_name = 'mean_absolute_error'\n",
    "#metric_index = lstm_model.metrics_names.index('mean_absolute_error')\n",
    "\n",
    "val_mae = [v[metric_index] for v in val_performance.values()]\n",
    "test_mae = [v[metric_index] for v in performance.values()]\n",
    "\n",
    "plt.ylabel('root_mean_squared_error [T (degC), normalized]')\n",
    "#plt.ylabel('mean_absolute_error [T (degC), normalized]')\n",
    "\n",
    "plt.bar(x - 0.17, val_mae, width, label='Validation')\n",
    "plt.bar(x + 0.17, test_mae, width, label='Test')\n",
    "plt.xticks(ticks=x, labels=performance.keys(),\n",
    "           rotation=45)\n",
    "_ = plt.legend()"
   ]
  },
  {
   "cell_type": "code",
   "execution_count": 48,
   "id": "8f514a31",
   "metadata": {},
   "outputs": [
    {
     "name": "stdout",
     "output_type": "stream",
     "text": [
      "Baseline    : 0.0896\n",
      "Linear      : 0.0898\n",
      "LSTM        : 0.1266\n"
     ]
    }
   ],
   "source": [
    "for name, value in performance.items():\n",
    "  print(f'{name:12s}: {value[1]:0.4f}')"
   ]
  },
  {
   "cell_type": "code",
   "execution_count": 49,
   "id": "545cacbf",
   "metadata": {},
   "outputs": [
    {
     "name": "stdout",
     "output_type": "stream",
     "text": [
      "Model: \"sequential_1\"\n",
      "_________________________________________________________________\n",
      "Layer (type)                 Output Shape              Param #   \n",
      "=================================================================\n",
      "lstm (LSTM)                  (None, 64)                86272     \n",
      "_________________________________________________________________\n",
      "dense_1 (Dense)              (None, 1)                 65        \n",
      "=================================================================\n",
      "Total params: 86,337\n",
      "Trainable params: 86,337\n",
      "Non-trainable params: 0\n",
      "_________________________________________________________________\n"
     ]
    }
   ],
   "source": [
    "lstm_model.summary()"
   ]
  },
  {
   "cell_type": "code",
   "execution_count": 50,
   "id": "fe2c1b50",
   "metadata": {},
   "outputs": [
    {
     "data": {
      "text/plain": [
       "(7998, 1)"
      ]
     },
     "execution_count": 50,
     "metadata": {},
     "output_type": "execute_result"
    }
   ],
   "source": [
    "lstm_model.predict(wide_window.test).shape"
   ]
  },
  {
   "cell_type": "markdown",
   "id": "b044c6c5",
   "metadata": {},
   "source": [
    "## 逆変換"
   ]
  },
  {
   "cell_type": "markdown",
   "id": "f1a681e5",
   "metadata": {},
   "source": [
    "test_df[:] = pt.inverse_transform(test_df)\n",
    "#test_df[:] = mm.inverse_transform(test_df)"
   ]
  },
  {
   "cell_type": "code",
   "execution_count": 51,
   "id": "049d60c7",
   "metadata": {},
   "outputs": [],
   "source": [
    "normed_prediction = lstm_model.predict(wide_window.test).flatten()\n",
    "test_df[target][12:] = normed_prediction\n",
    "test_df[:] = test_pt.inverse_transform(test_df)\n",
    "test_df[target] = test_df[target]*train_std[target]+train_mean[target]"
   ]
  },
  {
   "cell_type": "markdown",
   "id": "30a4f8c0",
   "metadata": {},
   "source": [
    "## baseline"
   ]
  },
  {
   "cell_type": "markdown",
   "id": "de23bb3f",
   "metadata": {},
   "source": [
    "normed_prediction = baseline.predict(single_step_window.test).flatten()\n",
    "test_df[target][1:] = normed_prediction\n",
    "#test_df[:] = test_pt.inverse_transform(test_df)\n",
    "test_df[target] = test_df[target]*train_std[target]+train_mean[target]"
   ]
  },
  {
   "cell_type": "code",
   "execution_count": 52,
   "id": "00d8d35d",
   "metadata": {},
   "outputs": [
    {
     "data": {
      "text/html": [
       "<div>\n",
       "<style scoped>\n",
       "    .dataframe tbody tr th:only-of-type {\n",
       "        vertical-align: middle;\n",
       "    }\n",
       "\n",
       "    .dataframe tbody tr th {\n",
       "        vertical-align: top;\n",
       "    }\n",
       "\n",
       "    .dataframe thead th {\n",
       "        text-align: right;\n",
       "    }\n",
       "</style>\n",
       "<table border=\"1\" class=\"dataframe\">\n",
       "  <thead>\n",
       "    <tr style=\"text-align: right;\">\n",
       "      <th></th>\n",
       "      <th>11750</th>\n",
       "      <th>13147</th>\n",
       "      <th>13867</th>\n",
       "      <th>14467</th>\n",
       "      <th>14987</th>\n",
       "      <th>16207</th>\n",
       "      <th>16507</th>\n",
       "      <th>16509</th>\n",
       "      <th>16510</th>\n",
       "      <th>16511</th>\n",
       "      <th>...</th>\n",
       "      <th>79</th>\n",
       "      <th>80</th>\n",
       "      <th>81</th>\n",
       "      <th>82</th>\n",
       "      <th>83</th>\n",
       "      <th>84</th>\n",
       "      <th>85</th>\n",
       "      <th>86</th>\n",
       "      <th>87</th>\n",
       "      <th>88</th>\n",
       "    </tr>\n",
       "  </thead>\n",
       "  <tbody>\n",
       "    <tr>\n",
       "      <th>17562</th>\n",
       "      <td>-0.468721</td>\n",
       "      <td>0.010692</td>\n",
       "      <td>-0.582104</td>\n",
       "      <td>-0.567942</td>\n",
       "      <td>-0.277880</td>\n",
       "      <td>-0.229562</td>\n",
       "      <td>-0.254817</td>\n",
       "      <td>-0.394674</td>\n",
       "      <td>-0.394706</td>\n",
       "      <td>-0.387202</td>\n",
       "      <td>...</td>\n",
       "      <td>-0.328284</td>\n",
       "      <td>-0.463159</td>\n",
       "      <td>-0.162018</td>\n",
       "      <td>0.377462</td>\n",
       "      <td>-0.579549</td>\n",
       "      <td>-0.464733</td>\n",
       "      <td>0.507254</td>\n",
       "      <td>-0.400412</td>\n",
       "      <td>-0.146598</td>\n",
       "      <td>-0.362559</td>\n",
       "    </tr>\n",
       "    <tr>\n",
       "      <th>17563</th>\n",
       "      <td>-0.457184</td>\n",
       "      <td>0.013085</td>\n",
       "      <td>-0.576345</td>\n",
       "      <td>-0.535029</td>\n",
       "      <td>-0.237978</td>\n",
       "      <td>-0.303910</td>\n",
       "      <td>-0.200314</td>\n",
       "      <td>-0.317138</td>\n",
       "      <td>-0.403157</td>\n",
       "      <td>-0.387202</td>\n",
       "      <td>...</td>\n",
       "      <td>-0.347400</td>\n",
       "      <td>-0.436025</td>\n",
       "      <td>-0.096950</td>\n",
       "      <td>0.261364</td>\n",
       "      <td>-0.582983</td>\n",
       "      <td>-0.425989</td>\n",
       "      <td>0.310965</td>\n",
       "      <td>-0.426672</td>\n",
       "      <td>-0.034329</td>\n",
       "      <td>-0.308867</td>\n",
       "    </tr>\n",
       "    <tr>\n",
       "      <th>17564</th>\n",
       "      <td>-0.418728</td>\n",
       "      <td>0.037014</td>\n",
       "      <td>-0.576345</td>\n",
       "      <td>-0.506504</td>\n",
       "      <td>-0.224677</td>\n",
       "      <td>-0.318779</td>\n",
       "      <td>-0.256634</td>\n",
       "      <td>-0.330707</td>\n",
       "      <td>-0.364284</td>\n",
       "      <td>-0.370557</td>\n",
       "      <td>...</td>\n",
       "      <td>-0.306439</td>\n",
       "      <td>-0.349197</td>\n",
       "      <td>-0.052075</td>\n",
       "      <td>0.256005</td>\n",
       "      <td>-0.582983</td>\n",
       "      <td>-0.398867</td>\n",
       "      <td>0.016531</td>\n",
       "      <td>-0.415730</td>\n",
       "      <td>-0.002893</td>\n",
       "      <td>-0.322873</td>\n",
       "    </tr>\n",
       "    <tr>\n",
       "      <th>17565</th>\n",
       "      <td>-0.407192</td>\n",
       "      <td>-0.018024</td>\n",
       "      <td>-0.576345</td>\n",
       "      <td>-0.473591</td>\n",
       "      <td>-0.271230</td>\n",
       "      <td>-0.330675</td>\n",
       "      <td>-0.242100</td>\n",
       "      <td>-0.353967</td>\n",
       "      <td>-0.350763</td>\n",
       "      <td>-0.367228</td>\n",
       "      <td>...</td>\n",
       "      <td>-0.284593</td>\n",
       "      <td>-0.286790</td>\n",
       "      <td>-0.083487</td>\n",
       "      <td>0.184561</td>\n",
       "      <td>-0.570965</td>\n",
       "      <td>-0.398867</td>\n",
       "      <td>-0.157675</td>\n",
       "      <td>-0.406977</td>\n",
       "      <td>-0.079236</td>\n",
       "      <td>-0.343883</td>\n",
       "    </tr>\n",
       "    <tr>\n",
       "      <th>17566</th>\n",
       "      <td>-0.399501</td>\n",
       "      <td>-0.065883</td>\n",
       "      <td>-0.576345</td>\n",
       "      <td>-0.451649</td>\n",
       "      <td>-0.244628</td>\n",
       "      <td>-0.274171</td>\n",
       "      <td>-0.209398</td>\n",
       "      <td>-0.311323</td>\n",
       "      <td>-0.359213</td>\n",
       "      <td>-0.367228</td>\n",
       "      <td>...</td>\n",
       "      <td>-0.216324</td>\n",
       "      <td>0.006254</td>\n",
       "      <td>-0.153043</td>\n",
       "      <td>0.063105</td>\n",
       "      <td>-0.570965</td>\n",
       "      <td>-0.379495</td>\n",
       "      <td>-0.182211</td>\n",
       "      <td>-0.393846</td>\n",
       "      <td>-0.088218</td>\n",
       "      <td>-0.285522</td>\n",
       "    </tr>\n",
       "    <tr>\n",
       "      <th>...</th>\n",
       "      <td>...</td>\n",
       "      <td>...</td>\n",
       "      <td>...</td>\n",
       "      <td>...</td>\n",
       "      <td>...</td>\n",
       "      <td>...</td>\n",
       "      <td>...</td>\n",
       "      <td>...</td>\n",
       "      <td>...</td>\n",
       "      <td>...</td>\n",
       "      <td>...</td>\n",
       "      <td>...</td>\n",
       "      <td>...</td>\n",
       "      <td>...</td>\n",
       "      <td>...</td>\n",
       "      <td>...</td>\n",
       "      <td>...</td>\n",
       "      <td>...</td>\n",
       "      <td>...</td>\n",
       "      <td>...</td>\n",
       "      <td>...</td>\n",
       "    </tr>\n",
       "    <tr>\n",
       "      <th>25567</th>\n",
       "      <td>-0.649462</td>\n",
       "      <td>-0.735915</td>\n",
       "      <td>-0.662744</td>\n",
       "      <td>-0.842219</td>\n",
       "      <td>-0.477391</td>\n",
       "      <td>-0.720255</td>\n",
       "      <td>-0.874331</td>\n",
       "      <td>-0.873454</td>\n",
       "      <td>-0.634707</td>\n",
       "      <td>-0.641870</td>\n",
       "      <td>...</td>\n",
       "      <td>-0.729703</td>\n",
       "      <td>-0.658521</td>\n",
       "      <td>-0.755488</td>\n",
       "      <td>-0.762082</td>\n",
       "      <td>-0.668827</td>\n",
       "      <td>-0.774693</td>\n",
       "      <td>-0.820150</td>\n",
       "      <td>-0.811826</td>\n",
       "      <td>-0.766326</td>\n",
       "      <td>-0.413917</td>\n",
       "    </tr>\n",
       "    <tr>\n",
       "      <th>25568</th>\n",
       "      <td>-0.668690</td>\n",
       "      <td>-0.735915</td>\n",
       "      <td>-0.666584</td>\n",
       "      <td>-0.831248</td>\n",
       "      <td>-0.470741</td>\n",
       "      <td>-0.720255</td>\n",
       "      <td>-0.828912</td>\n",
       "      <td>-0.859886</td>\n",
       "      <td>-0.656679</td>\n",
       "      <td>-0.658515</td>\n",
       "      <td>...</td>\n",
       "      <td>-0.721511</td>\n",
       "      <td>-0.644954</td>\n",
       "      <td>-0.764463</td>\n",
       "      <td>-0.749579</td>\n",
       "      <td>-0.668827</td>\n",
       "      <td>-0.766944</td>\n",
       "      <td>-0.800521</td>\n",
       "      <td>-0.794319</td>\n",
       "      <td>-0.672020</td>\n",
       "      <td>-0.392907</td>\n",
       "    </tr>\n",
       "    <tr>\n",
       "      <th>25569</th>\n",
       "      <td>-0.584087</td>\n",
       "      <td>-0.740701</td>\n",
       "      <td>-0.662744</td>\n",
       "      <td>-0.840025</td>\n",
       "      <td>-0.477391</td>\n",
       "      <td>-0.645907</td>\n",
       "      <td>-0.723540</td>\n",
       "      <td>-0.737768</td>\n",
       "      <td>-0.631327</td>\n",
       "      <td>-0.625225</td>\n",
       "      <td>...</td>\n",
       "      <td>-0.765203</td>\n",
       "      <td>-0.672088</td>\n",
       "      <td>-0.756610</td>\n",
       "      <td>-0.765654</td>\n",
       "      <td>-0.661960</td>\n",
       "      <td>-0.786316</td>\n",
       "      <td>-0.807882</td>\n",
       "      <td>-0.779001</td>\n",
       "      <td>-0.716928</td>\n",
       "      <td>-0.413917</td>\n",
       "    </tr>\n",
       "    <tr>\n",
       "      <th>25570</th>\n",
       "      <td>-0.611006</td>\n",
       "      <td>-0.731129</td>\n",
       "      <td>-0.653144</td>\n",
       "      <td>-0.829054</td>\n",
       "      <td>-0.470741</td>\n",
       "      <td>-0.672672</td>\n",
       "      <td>-0.672671</td>\n",
       "      <td>-0.654417</td>\n",
       "      <td>-0.638087</td>\n",
       "      <td>-0.645199</td>\n",
       "      <td>...</td>\n",
       "      <td>-0.724242</td>\n",
       "      <td>-0.707362</td>\n",
       "      <td>-0.762219</td>\n",
       "      <td>-0.756723</td>\n",
       "      <td>-0.661960</td>\n",
       "      <td>-0.759195</td>\n",
       "      <td>-0.800521</td>\n",
       "      <td>-0.673959</td>\n",
       "      <td>-0.631603</td>\n",
       "      <td>-0.402245</td>\n",
       "    </tr>\n",
       "    <tr>\n",
       "      <th>25571</th>\n",
       "      <td>-0.630234</td>\n",
       "      <td>-0.731129</td>\n",
       "      <td>-0.656984</td>\n",
       "      <td>-0.824666</td>\n",
       "      <td>-0.470741</td>\n",
       "      <td>-0.642934</td>\n",
       "      <td>-0.690839</td>\n",
       "      <td>-0.660232</td>\n",
       "      <td>-0.634707</td>\n",
       "      <td>-0.636876</td>\n",
       "      <td>...</td>\n",
       "      <td>-0.647781</td>\n",
       "      <td>-0.726355</td>\n",
       "      <td>-0.753244</td>\n",
       "      <td>-0.744221</td>\n",
       "      <td>-0.661960</td>\n",
       "      <td>-0.759195</td>\n",
       "      <td>-0.731820</td>\n",
       "      <td>-0.750552</td>\n",
       "      <td>-0.640584</td>\n",
       "      <td>-0.397576</td>\n",
       "    </tr>\n",
       "  </tbody>\n",
       "</table>\n",
       "<p>8010 rows × 272 columns</p>\n",
       "</div>"
      ],
      "text/plain": [
       "          11750     13147     13867     14467     14987     16207     16507  \\\n",
       "17562 -0.468721  0.010692 -0.582104 -0.567942 -0.277880 -0.229562 -0.254817   \n",
       "17563 -0.457184  0.013085 -0.576345 -0.535029 -0.237978 -0.303910 -0.200314   \n",
       "17564 -0.418728  0.037014 -0.576345 -0.506504 -0.224677 -0.318779 -0.256634   \n",
       "17565 -0.407192 -0.018024 -0.576345 -0.473591 -0.271230 -0.330675 -0.242100   \n",
       "17566 -0.399501 -0.065883 -0.576345 -0.451649 -0.244628 -0.274171 -0.209398   \n",
       "...         ...       ...       ...       ...       ...       ...       ...   \n",
       "25567 -0.649462 -0.735915 -0.662744 -0.842219 -0.477391 -0.720255 -0.874331   \n",
       "25568 -0.668690 -0.735915 -0.666584 -0.831248 -0.470741 -0.720255 -0.828912   \n",
       "25569 -0.584087 -0.740701 -0.662744 -0.840025 -0.477391 -0.645907 -0.723540   \n",
       "25570 -0.611006 -0.731129 -0.653144 -0.829054 -0.470741 -0.672672 -0.672671   \n",
       "25571 -0.630234 -0.731129 -0.656984 -0.824666 -0.470741 -0.642934 -0.690839   \n",
       "\n",
       "          16509     16510     16511  ...        79        80        81  \\\n",
       "17562 -0.394674 -0.394706 -0.387202  ... -0.328284 -0.463159 -0.162018   \n",
       "17563 -0.317138 -0.403157 -0.387202  ... -0.347400 -0.436025 -0.096950   \n",
       "17564 -0.330707 -0.364284 -0.370557  ... -0.306439 -0.349197 -0.052075   \n",
       "17565 -0.353967 -0.350763 -0.367228  ... -0.284593 -0.286790 -0.083487   \n",
       "17566 -0.311323 -0.359213 -0.367228  ... -0.216324  0.006254 -0.153043   \n",
       "...         ...       ...       ...  ...       ...       ...       ...   \n",
       "25567 -0.873454 -0.634707 -0.641870  ... -0.729703 -0.658521 -0.755488   \n",
       "25568 -0.859886 -0.656679 -0.658515  ... -0.721511 -0.644954 -0.764463   \n",
       "25569 -0.737768 -0.631327 -0.625225  ... -0.765203 -0.672088 -0.756610   \n",
       "25570 -0.654417 -0.638087 -0.645199  ... -0.724242 -0.707362 -0.762219   \n",
       "25571 -0.660232 -0.634707 -0.636876  ... -0.647781 -0.726355 -0.753244   \n",
       "\n",
       "             82        83        84        85        86        87        88  \n",
       "17562  0.377462 -0.579549 -0.464733  0.507254 -0.400412 -0.146598 -0.362559  \n",
       "17563  0.261364 -0.582983 -0.425989  0.310965 -0.426672 -0.034329 -0.308867  \n",
       "17564  0.256005 -0.582983 -0.398867  0.016531 -0.415730 -0.002893 -0.322873  \n",
       "17565  0.184561 -0.570965 -0.398867 -0.157675 -0.406977 -0.079236 -0.343883  \n",
       "17566  0.063105 -0.570965 -0.379495 -0.182211 -0.393846 -0.088218 -0.285522  \n",
       "...         ...       ...       ...       ...       ...       ...       ...  \n",
       "25567 -0.762082 -0.668827 -0.774693 -0.820150 -0.811826 -0.766326 -0.413917  \n",
       "25568 -0.749579 -0.668827 -0.766944 -0.800521 -0.794319 -0.672020 -0.392907  \n",
       "25569 -0.765654 -0.661960 -0.786316 -0.807882 -0.779001 -0.716928 -0.413917  \n",
       "25570 -0.756723 -0.661960 -0.759195 -0.800521 -0.673959 -0.631603 -0.402245  \n",
       "25571 -0.744221 -0.661960 -0.759195 -0.731820 -0.750552 -0.640584 -0.397576  \n",
       "\n",
       "[8010 rows x 272 columns]"
      ]
     },
     "execution_count": 52,
     "metadata": {},
     "output_type": "execute_result"
    }
   ],
   "source": [
    "test_df"
   ]
  },
  {
   "cell_type": "code",
   "execution_count": 53,
   "id": "c7da15ae",
   "metadata": {},
   "outputs": [
    {
     "data": {
      "text/html": [
       "<div>\n",
       "<style scoped>\n",
       "    .dataframe tbody tr th:only-of-type {\n",
       "        vertical-align: middle;\n",
       "    }\n",
       "\n",
       "    .dataframe tbody tr th {\n",
       "        vertical-align: top;\n",
       "    }\n",
       "\n",
       "    .dataframe thead th {\n",
       "        text-align: right;\n",
       "    }\n",
       "</style>\n",
       "<table border=\"1\" class=\"dataframe\">\n",
       "  <thead>\n",
       "    <tr style=\"text-align: right;\">\n",
       "      <th></th>\n",
       "      <th>6640</th>\n",
       "    </tr>\n",
       "  </thead>\n",
       "  <tbody>\n",
       "    <tr>\n",
       "      <th>17562</th>\n",
       "      <td>4.72</td>\n",
       "    </tr>\n",
       "    <tr>\n",
       "      <th>17563</th>\n",
       "      <td>4.70</td>\n",
       "    </tr>\n",
       "    <tr>\n",
       "      <th>17564</th>\n",
       "      <td>4.92</td>\n",
       "    </tr>\n",
       "    <tr>\n",
       "      <th>17565</th>\n",
       "      <td>5.03</td>\n",
       "    </tr>\n",
       "    <tr>\n",
       "      <th>17566</th>\n",
       "      <td>4.98</td>\n",
       "    </tr>\n",
       "    <tr>\n",
       "      <th>...</th>\n",
       "      <td>...</td>\n",
       "    </tr>\n",
       "    <tr>\n",
       "      <th>25567</th>\n",
       "      <td>4.15</td>\n",
       "    </tr>\n",
       "    <tr>\n",
       "      <th>25568</th>\n",
       "      <td>4.23</td>\n",
       "    </tr>\n",
       "    <tr>\n",
       "      <th>25569</th>\n",
       "      <td>4.13</td>\n",
       "    </tr>\n",
       "    <tr>\n",
       "      <th>25570</th>\n",
       "      <td>4.15</td>\n",
       "    </tr>\n",
       "    <tr>\n",
       "      <th>25571</th>\n",
       "      <td>4.17</td>\n",
       "    </tr>\n",
       "  </tbody>\n",
       "</table>\n",
       "<p>8010 rows × 1 columns</p>\n",
       "</div>"
      ],
      "text/plain": [
       "       6640\n",
       "17562  4.72\n",
       "17563  4.70\n",
       "17564  4.92\n",
       "17565  5.03\n",
       "17566  4.98\n",
       "...     ...\n",
       "25567  4.15\n",
       "25568  4.23\n",
       "25569  4.13\n",
       "25570  4.15\n",
       "25571  4.17\n",
       "\n",
       "[8010 rows x 1 columns]"
      ]
     },
     "execution_count": 53,
     "metadata": {},
     "output_type": "execute_result"
    }
   ],
   "source": [
    "test_labels"
   ]
  },
  {
   "cell_type": "code",
   "execution_count": 54,
   "id": "4870b54d",
   "metadata": {},
   "outputs": [],
   "source": [
    "test_predictions = test_df.loc[:,target]"
   ]
  },
  {
   "cell_type": "code",
   "execution_count": 55,
   "id": "d0bc2b76",
   "metadata": {},
   "outputs": [
    {
     "data": {
      "image/png": "[encoded data removed]",
      "text/plain": [
       "<Figure size 576x432 with 1 Axes>"
      ]
     },
     "metadata": {},
     "output_type": "display_data"
    }
   ],
   "source": [
    "plt.scatter(test_labels, test_predictions,s=1)\n",
    "plt.xlabel('True Values')\n",
    "plt.ylabel('Predictions')\n",
    "#plt.axis('equal')\n",
    "#plt.axis('square')\n",
    "plt.xlim([0,plt.xlim()[1]])\n",
    "plt.ylim([0,plt.ylim()[1]])\n",
    "_ = plt.plot([-100, 100], [-100, 100])"
   ]
  },
  {
   "cell_type": "code",
   "execution_count": 56,
   "id": "18fbaa80",
   "metadata": {},
   "outputs": [
    {
     "ename": "InvalidIndexError",
     "evalue": "(slice(None, None, None), None)",
     "output_type": "error",
     "traceback": [
      "\u001b[1;31m---------------------------------------------------------------------------\u001b[0m",
      "\u001b[1;31mTypeError\u001b[0m                                 Traceback (most recent call last)",
      "File \u001b[1;32m~\\anaconda3\\envs\\tensorflow-gpu\\lib\\site-packages\\pandas\\core\\indexes\\base.py:3621\u001b[0m, in \u001b[0;36mIndex.get_loc\u001b[1;34m(self, key, method, tolerance)\u001b[0m\n\u001b[0;32m   3620\u001b[0m \u001b[38;5;28;01mtry\u001b[39;00m:\n\u001b[1;32m-> 3621\u001b[0m     \u001b[38;5;28;01mreturn\u001b[39;00m \u001b[38;5;28;43mself\u001b[39;49m\u001b[38;5;241;43m.\u001b[39;49m\u001b[43m_engine\u001b[49m\u001b[38;5;241;43m.\u001b[39;49m\u001b[43mget_loc\u001b[49m\u001b[43m(\u001b[49m\u001b[43mcasted_key\u001b[49m\u001b[43m)\u001b[49m\n\u001b[0;32m   3622\u001b[0m \u001b[38;5;28;01mexcept\u001b[39;00m \u001b[38;5;167;01mKeyError\u001b[39;00m \u001b[38;5;28;01mas\u001b[39;00m err:\n",
      "File \u001b[1;32m~\\anaconda3\\envs\\tensorflow-gpu\\lib\\site-packages\\pandas\\_libs\\index.pyx:136\u001b[0m, in \u001b[0;36mpandas._libs.index.IndexEngine.get_loc\u001b[1;34m()\u001b[0m\n",
      "File \u001b[1;32m~\\anaconda3\\envs\\tensorflow-gpu\\lib\\site-packages\\pandas\\_libs\\index.pyx:142\u001b[0m, in \u001b[0;36mpandas._libs.index.IndexEngine.get_loc\u001b[1;34m()\u001b[0m\n",
      "\u001b[1;31mTypeError\u001b[0m: '(slice(None, None, None), None)' is an invalid key",
      "\nDuring handling of the above exception, another exception occurred:\n",
      "\u001b[1;31mInvalidIndexError\u001b[0m                         Traceback (most recent call last)",
      "Input \u001b[1;32mIn [56]\u001b[0m, in \u001b[0;36m<cell line: 1>\u001b[1;34m()\u001b[0m\n\u001b[1;32m----> 1\u001b[0m \u001b[43mplt\u001b[49m\u001b[38;5;241;43m.\u001b[39;49m\u001b[43mplot\u001b[49m\u001b[43m(\u001b[49m\u001b[43m[\u001b[49m\u001b[43mi\u001b[49m\u001b[43m \u001b[49m\u001b[38;5;28;43;01mfor\u001b[39;49;00m\u001b[43m \u001b[49m\u001b[43mi\u001b[49m\u001b[43m \u001b[49m\u001b[38;5;129;43;01min\u001b[39;49;00m\u001b[43m \u001b[49m\u001b[38;5;28;43mrange\u001b[39;49m\u001b[43m(\u001b[49m\u001b[38;5;241;43m200\u001b[39;49m\u001b[43m)\u001b[49m\u001b[43m]\u001b[49m\u001b[43m,\u001b[49m\u001b[43mtest_labels\u001b[49m\u001b[43m[\u001b[49m\u001b[38;5;241;43m1500\u001b[39;49m\u001b[43m:\u001b[49m\u001b[38;5;241;43m1700\u001b[39;49m\u001b[43m]\u001b[49m\u001b[43m,\u001b[49m\u001b[43mcolor\u001b[49m\u001b[38;5;241;43m=\u001b[39;49m\u001b[38;5;124;43m\"\u001b[39;49m\u001b[38;5;124;43mred\u001b[39;49m\u001b[38;5;124;43m\"\u001b[39;49m\u001b[43m)\u001b[49m\n\u001b[0;32m      2\u001b[0m plt\u001b[38;5;241m.\u001b[39mplot([i \u001b[38;5;28;01mfor\u001b[39;00m i \u001b[38;5;129;01min\u001b[39;00m \u001b[38;5;28mrange\u001b[39m(\u001b[38;5;241m200\u001b[39m)],test_predictions[\u001b[38;5;241m1500\u001b[39m:\u001b[38;5;241m1700\u001b[39m],color\u001b[38;5;241m=\u001b[39m\u001b[38;5;124m\"\u001b[39m\u001b[38;5;124mblue\u001b[39m\u001b[38;5;124m\"\u001b[39m)\n\u001b[0;32m      3\u001b[0m plt\u001b[38;5;241m.\u001b[39mshow()\n",
      "File \u001b[1;32m~\\anaconda3\\envs\\tensorflow-gpu\\lib\\site-packages\\matplotlib\\pyplot.py:2757\u001b[0m, in \u001b[0;36mplot\u001b[1;34m(scalex, scaley, data, *args, **kwargs)\u001b[0m\n\u001b[0;32m   2755\u001b[0m \u001b[38;5;129m@_copy_docstring_and_deprecators\u001b[39m(Axes\u001b[38;5;241m.\u001b[39mplot)\n\u001b[0;32m   2756\u001b[0m \u001b[38;5;28;01mdef\u001b[39;00m \u001b[38;5;21mplot\u001b[39m(\u001b[38;5;241m*\u001b[39margs, scalex\u001b[38;5;241m=\u001b[39m\u001b[38;5;28;01mTrue\u001b[39;00m, scaley\u001b[38;5;241m=\u001b[39m\u001b[38;5;28;01mTrue\u001b[39;00m, data\u001b[38;5;241m=\u001b[39m\u001b[38;5;28;01mNone\u001b[39;00m, \u001b[38;5;241m*\u001b[39m\u001b[38;5;241m*\u001b[39mkwargs):\n\u001b[1;32m-> 2757\u001b[0m     \u001b[38;5;28;01mreturn\u001b[39;00m gca()\u001b[38;5;241m.\u001b[39mplot(\n\u001b[0;32m   2758\u001b[0m         \u001b[38;5;241m*\u001b[39margs, scalex\u001b[38;5;241m=\u001b[39mscalex, scaley\u001b[38;5;241m=\u001b[39mscaley,\n\u001b[0;32m   2759\u001b[0m         \u001b[38;5;241m*\u001b[39m\u001b[38;5;241m*\u001b[39m({\u001b[38;5;124m\"\u001b[39m\u001b[38;5;124mdata\u001b[39m\u001b[38;5;124m\"\u001b[39m: data} \u001b[38;5;28;01mif\u001b[39;00m data \u001b[38;5;129;01mis\u001b[39;00m \u001b[38;5;129;01mnot\u001b[39;00m \u001b[38;5;28;01mNone\u001b[39;00m \u001b[38;5;28;01melse\u001b[39;00m {}), \u001b[38;5;241m*\u001b[39m\u001b[38;5;241m*\u001b[39mkwargs)\n",
      "File \u001b[1;32m~\\anaconda3\\envs\\tensorflow-gpu\\lib\\site-packages\\matplotlib\\axes\\_axes.py:1632\u001b[0m, in \u001b[0;36mAxes.plot\u001b[1;34m(self, scalex, scaley, data, *args, **kwargs)\u001b[0m\n\u001b[0;32m   1390\u001b[0m \u001b[38;5;124;03m\"\"\"\u001b[39;00m\n\u001b[0;32m   1391\u001b[0m \u001b[38;5;124;03mPlot y versus x as lines and/or markers.\u001b[39;00m\n\u001b[0;32m   1392\u001b[0m \n\u001b[1;32m   (...)\u001b[0m\n\u001b[0;32m   1629\u001b[0m \u001b[38;5;124;03m(``'green'``) or hex strings (``'#008000'``).\u001b[39;00m\n\u001b[0;32m   1630\u001b[0m \u001b[38;5;124;03m\"\"\"\u001b[39;00m\n\u001b[0;32m   1631\u001b[0m kwargs \u001b[38;5;241m=\u001b[39m cbook\u001b[38;5;241m.\u001b[39mnormalize_kwargs(kwargs, mlines\u001b[38;5;241m.\u001b[39mLine2D)\n\u001b[1;32m-> 1632\u001b[0m lines \u001b[38;5;241m=\u001b[39m [\u001b[38;5;241m*\u001b[39m\u001b[38;5;28mself\u001b[39m\u001b[38;5;241m.\u001b[39m_get_lines(\u001b[38;5;241m*\u001b[39margs, data\u001b[38;5;241m=\u001b[39mdata, \u001b[38;5;241m*\u001b[39m\u001b[38;5;241m*\u001b[39mkwargs)]\n\u001b[0;32m   1633\u001b[0m \u001b[38;5;28;01mfor\u001b[39;00m line \u001b[38;5;129;01min\u001b[39;00m lines:\n\u001b[0;32m   1634\u001b[0m     \u001b[38;5;28mself\u001b[39m\u001b[38;5;241m.\u001b[39madd_line(line)\n",
      "File \u001b[1;32m~\\anaconda3\\envs\\tensorflow-gpu\\lib\\site-packages\\matplotlib\\axes\\_base.py:312\u001b[0m, in \u001b[0;36m_process_plot_var_args.__call__\u001b[1;34m(self, data, *args, **kwargs)\u001b[0m\n\u001b[0;32m    310\u001b[0m     this \u001b[38;5;241m+\u001b[39m\u001b[38;5;241m=\u001b[39m args[\u001b[38;5;241m0\u001b[39m],\n\u001b[0;32m    311\u001b[0m     args \u001b[38;5;241m=\u001b[39m args[\u001b[38;5;241m1\u001b[39m:]\n\u001b[1;32m--> 312\u001b[0m \u001b[38;5;28;01myield from\u001b[39;00m \u001b[38;5;28;43mself\u001b[39;49m\u001b[38;5;241;43m.\u001b[39;49m\u001b[43m_plot_args\u001b[49m\u001b[43m(\u001b[49m\u001b[43mthis\u001b[49m\u001b[43m,\u001b[49m\u001b[43m \u001b[49m\u001b[43mkwargs\u001b[49m\u001b[43m)\u001b[49m\n",
      "File \u001b[1;32m~\\anaconda3\\envs\\tensorflow-gpu\\lib\\site-packages\\matplotlib\\axes\\_base.py:488\u001b[0m, in \u001b[0;36m_process_plot_var_args._plot_args\u001b[1;34m(self, tup, kwargs, return_kwargs)\u001b[0m\n\u001b[0;32m    486\u001b[0m \u001b[38;5;28;01mif\u001b[39;00m \u001b[38;5;28mlen\u001b[39m(xy) \u001b[38;5;241m==\u001b[39m \u001b[38;5;241m2\u001b[39m:\n\u001b[0;32m    487\u001b[0m     x \u001b[38;5;241m=\u001b[39m _check_1d(xy[\u001b[38;5;241m0\u001b[39m])\n\u001b[1;32m--> 488\u001b[0m     y \u001b[38;5;241m=\u001b[39m \u001b[43m_check_1d\u001b[49m\u001b[43m(\u001b[49m\u001b[43mxy\u001b[49m\u001b[43m[\u001b[49m\u001b[38;5;241;43m1\u001b[39;49m\u001b[43m]\u001b[49m\u001b[43m)\u001b[49m\n\u001b[0;32m    489\u001b[0m \u001b[38;5;28;01melse\u001b[39;00m:\n\u001b[0;32m    490\u001b[0m     x, y \u001b[38;5;241m=\u001b[39m index_of(xy[\u001b[38;5;241m-\u001b[39m\u001b[38;5;241m1\u001b[39m])\n",
      "File \u001b[1;32m~\\anaconda3\\envs\\tensorflow-gpu\\lib\\site-packages\\matplotlib\\cbook\\__init__.py:1327\u001b[0m, in \u001b[0;36m_check_1d\u001b[1;34m(x)\u001b[0m\n\u001b[0;32m   1321\u001b[0m \u001b[38;5;28;01mwith\u001b[39;00m warnings\u001b[38;5;241m.\u001b[39mcatch_warnings(record\u001b[38;5;241m=\u001b[39m\u001b[38;5;28;01mTrue\u001b[39;00m) \u001b[38;5;28;01mas\u001b[39;00m w:\n\u001b[0;32m   1322\u001b[0m     warnings\u001b[38;5;241m.\u001b[39mfilterwarnings(\n\u001b[0;32m   1323\u001b[0m         \u001b[38;5;124m\"\u001b[39m\u001b[38;5;124malways\u001b[39m\u001b[38;5;124m\"\u001b[39m,\n\u001b[0;32m   1324\u001b[0m         category\u001b[38;5;241m=\u001b[39m\u001b[38;5;167;01mWarning\u001b[39;00m,\n\u001b[0;32m   1325\u001b[0m         message\u001b[38;5;241m=\u001b[39m\u001b[38;5;124m'\u001b[39m\u001b[38;5;124mSupport for multi-dimensional indexing\u001b[39m\u001b[38;5;124m'\u001b[39m)\n\u001b[1;32m-> 1327\u001b[0m     ndim \u001b[38;5;241m=\u001b[39m \u001b[43mx\u001b[49m\u001b[43m[\u001b[49m\u001b[43m:\u001b[49m\u001b[43m,\u001b[49m\u001b[43m \u001b[49m\u001b[38;5;28;43;01mNone\u001b[39;49;00m\u001b[43m]\u001b[49m\u001b[38;5;241m.\u001b[39mndim\n\u001b[0;32m   1328\u001b[0m     \u001b[38;5;66;03m# we have definitely hit a pandas index or series object\u001b[39;00m\n\u001b[0;32m   1329\u001b[0m     \u001b[38;5;66;03m# cast to a numpy array.\u001b[39;00m\n\u001b[0;32m   1330\u001b[0m     \u001b[38;5;28;01mif\u001b[39;00m \u001b[38;5;28mlen\u001b[39m(w) \u001b[38;5;241m>\u001b[39m \u001b[38;5;241m0\u001b[39m:\n",
      "File \u001b[1;32m~\\anaconda3\\envs\\tensorflow-gpu\\lib\\site-packages\\pandas\\core\\frame.py:3505\u001b[0m, in \u001b[0;36mDataFrame.__getitem__\u001b[1;34m(self, key)\u001b[0m\n\u001b[0;32m   3503\u001b[0m \u001b[38;5;28;01mif\u001b[39;00m \u001b[38;5;28mself\u001b[39m\u001b[38;5;241m.\u001b[39mcolumns\u001b[38;5;241m.\u001b[39mnlevels \u001b[38;5;241m>\u001b[39m \u001b[38;5;241m1\u001b[39m:\n\u001b[0;32m   3504\u001b[0m     \u001b[38;5;28;01mreturn\u001b[39;00m \u001b[38;5;28mself\u001b[39m\u001b[38;5;241m.\u001b[39m_getitem_multilevel(key)\n\u001b[1;32m-> 3505\u001b[0m indexer \u001b[38;5;241m=\u001b[39m \u001b[38;5;28;43mself\u001b[39;49m\u001b[38;5;241;43m.\u001b[39;49m\u001b[43mcolumns\u001b[49m\u001b[38;5;241;43m.\u001b[39;49m\u001b[43mget_loc\u001b[49m\u001b[43m(\u001b[49m\u001b[43mkey\u001b[49m\u001b[43m)\u001b[49m\n\u001b[0;32m   3506\u001b[0m \u001b[38;5;28;01mif\u001b[39;00m is_integer(indexer):\n\u001b[0;32m   3507\u001b[0m     indexer \u001b[38;5;241m=\u001b[39m [indexer]\n",
      "File \u001b[1;32m~\\anaconda3\\envs\\tensorflow-gpu\\lib\\site-packages\\pandas\\core\\indexes\\base.py:3628\u001b[0m, in \u001b[0;36mIndex.get_loc\u001b[1;34m(self, key, method, tolerance)\u001b[0m\n\u001b[0;32m   3623\u001b[0m         \u001b[38;5;28;01mraise\u001b[39;00m \u001b[38;5;167;01mKeyError\u001b[39;00m(key) \u001b[38;5;28;01mfrom\u001b[39;00m \u001b[38;5;21;01merr\u001b[39;00m\n\u001b[0;32m   3624\u001b[0m     \u001b[38;5;28;01mexcept\u001b[39;00m \u001b[38;5;167;01mTypeError\u001b[39;00m:\n\u001b[0;32m   3625\u001b[0m         \u001b[38;5;66;03m# If we have a listlike key, _check_indexing_error will raise\u001b[39;00m\n\u001b[0;32m   3626\u001b[0m         \u001b[38;5;66;03m#  InvalidIndexError. Otherwise we fall through and re-raise\u001b[39;00m\n\u001b[0;32m   3627\u001b[0m         \u001b[38;5;66;03m#  the TypeError.\u001b[39;00m\n\u001b[1;32m-> 3628\u001b[0m         \u001b[38;5;28;43mself\u001b[39;49m\u001b[38;5;241;43m.\u001b[39;49m\u001b[43m_check_indexing_error\u001b[49m\u001b[43m(\u001b[49m\u001b[43mkey\u001b[49m\u001b[43m)\u001b[49m\n\u001b[0;32m   3629\u001b[0m         \u001b[38;5;28;01mraise\u001b[39;00m\n\u001b[0;32m   3631\u001b[0m \u001b[38;5;66;03m# GH#42269\u001b[39;00m\n",
      "File \u001b[1;32m~\\anaconda3\\envs\\tensorflow-gpu\\lib\\site-packages\\pandas\\core\\indexes\\base.py:5637\u001b[0m, in \u001b[0;36mIndex._check_indexing_error\u001b[1;34m(self, key)\u001b[0m\n\u001b[0;32m   5633\u001b[0m \u001b[38;5;28;01mdef\u001b[39;00m \u001b[38;5;21m_check_indexing_error\u001b[39m(\u001b[38;5;28mself\u001b[39m, key):\n\u001b[0;32m   5634\u001b[0m     \u001b[38;5;28;01mif\u001b[39;00m \u001b[38;5;129;01mnot\u001b[39;00m is_scalar(key):\n\u001b[0;32m   5635\u001b[0m         \u001b[38;5;66;03m# if key is not a scalar, directly raise an error (the code below\u001b[39;00m\n\u001b[0;32m   5636\u001b[0m         \u001b[38;5;66;03m# would convert to numpy arrays and raise later any way) - GH29926\u001b[39;00m\n\u001b[1;32m-> 5637\u001b[0m         \u001b[38;5;28;01mraise\u001b[39;00m InvalidIndexError(key)\n",
      "\u001b[1;31mInvalidIndexError\u001b[0m: (slice(None, None, None), None)"
     ]
    },
    {
     "data": {
      "image/png": "[encoded data removed]",
      "text/plain": [
       "<Figure size 576x432 with 1 Axes>"
      ]
     },
     "metadata": {},
     "output_type": "display_data"
    }
   ],
   "source": [
    "plt.plot([i for i in range(200)],test_labels[1500:1700],color=\"red\")\n",
    "plt.plot([i for i in range(200)],test_predictions[1500:1700],color=\"blue\")\n",
    "plt.show()"
   ]
  },
  {
   "cell_type": "code",
   "execution_count": null,
   "id": "b007661c",
   "metadata": {},
   "outputs": [],
   "source": [
    "plt.plot([i for i in range(200)],test_labels[3500:3700],color=\"red\")\n",
    "plt.plot([i for i in range(200)],test_predictions[3500:3700],color=\"blue\")\n",
    "plt.show()"
   ]
  },
  {
   "cell_type": "code",
   "execution_count": null,
   "id": "4814663f",
   "metadata": {
    "scrolled": true
   },
   "outputs": [],
   "source": [
    "plt.plot([i for i in range(200)],test_labels[5500:5700],color=\"red\")\n",
    "plt.plot([i for i in range(200)],test_predictions[5500:5700],color=\"blue\")\n",
    "plt.show()"
   ]
  },
  {
   "cell_type": "code",
   "execution_count": null,
   "id": "2e5d3d67",
   "metadata": {},
   "outputs": [],
   "source": [
    "def plot_history(histories, key='mean_squared_error'):\n",
    "  plt.figure(figsize=(16,10))\n",
    "\n",
    "  for name, history in histories:\n",
    "    val = plt.plot(history.epoch, history.history['val_'+key],\n",
    "                   '--', label=name.title()+' Val')\n",
    "    plt.plot(history.epoch, history.history[key], color=val[0].get_color(),\n",
    "             label=name.title()+' Train')\n",
    "\n",
    "  plt.xlabel('Epochs')\n",
    "  plt.ylabel(key.replace('_',' ').title())\n",
    "  plt.legend()\n",
    "\n",
    "  plt.xlim([0,max(history.epoch)])\n",
    "\n",
    "\n",
    "plot_history([(\"LSTM\", history)])"
   ]
  },
  {
   "cell_type": "markdown",
   "id": "d65a0b13",
   "metadata": {},
   "source": [
    "single_step_window = WindowGenerator(\n",
    "    # `WindowGenerator` returns all features as labels if you \n",
    "    # don't set the `label_columns` argument.\n",
    "    input_width=1, label_width=1, shift=1)\n",
    "\n",
    "wide_window = WindowGenerator(\n",
    "    input_width=24, label_width=24, shift=1)\n",
    "\n",
    "for example_inputs, example_labels in wide_window.train.take(1):\n",
    "  print(f'Inputs shape (batch, time, features): {example_inputs.shape}')\n",
    "  print(f'Labels shape (batch, time, features): {example_labels.shape}')"
   ]
  },
  {
   "cell_type": "markdown",
   "id": "2a6507f3",
   "metadata": {},
   "source": [
    "baseline = Baseline()\n",
    "baseline.compile(loss=tf.losses.MeanSquaredError(),\n",
    "                 metrics=[tf.metrics.MeanAbsoluteError()])"
   ]
  },
  {
   "cell_type": "markdown",
   "id": "6ed1c123",
   "metadata": {},
   "source": [
    "val_performance = {}\n",
    "performance = {}\n",
    "val_performance['Baseline'] = baseline.evaluate(wide_window.val)\n",
    "performance['Baseline'] = baseline.evaluate(wide_window.test, verbose=0)"
   ]
  },
  {
   "cell_type": "markdown",
   "id": "11a0c0dd",
   "metadata": {},
   "source": [
    "dense = tf.keras.Sequential([\n",
    "    tf.keras.layers.Dense(units=64, activation='relu'),\n",
    "    tf.keras.layers.Dense(units=64, activation='relu'),\n",
    "    tf.keras.layers.Dense(units=num_features)\n",
    "])"
   ]
  },
  {
   "cell_type": "markdown",
   "id": "2d1ea60a",
   "metadata": {},
   "source": [
    "history = compile_and_fit(dense, single_step_window)\n",
    "\n",
    "IPython.display.clear_output()\n",
    "val_performance['Dense'] = dense.evaluate(single_step_window.val)\n",
    "performance['Dense'] = dense.evaluate(single_step_window.test, verbose=0)"
   ]
  },
  {
   "cell_type": "markdown",
   "id": "dde64451",
   "metadata": {},
   "source": [
    "%%time\n",
    "wide_window = WindowGenerator(\n",
    "    input_width=24, label_width=24, shift=1)\n",
    "\n",
    "lstm_model = tf.keras.models.Sequential([\n",
    "    # Shape [batch, time, features] => [batch, time, lstm_units]\n",
    "    tf.keras.layers.LSTM(32, return_sequences=True),\n",
    "    # Shape => [batch, time, features]\n",
    "    tf.keras.layers.Dense(units=num_features)\n",
    "])\n",
    "\n",
    "history = compile_and_fit(lstm_model, wide_window)\n",
    "\n",
    "IPython.display.clear_output()\n",
    "val_performance['LSTM'] = lstm_model.evaluate( wide_window.val)\n",
    "performance['LSTM'] = lstm_model.evaluate( wide_window.test, verbose=0)\n",
    "\n",
    "print()"
   ]
  },
  {
   "cell_type": "markdown",
   "id": "68765598",
   "metadata": {},
   "source": [
    "class ResidualWrapper(tf.keras.Model):\n",
    "  def __init__(self, model):\n",
    "    super().__init__()\n",
    "    self.model = model\n",
    "\n",
    "  def call(self, inputs, *args, **kwargs):\n",
    "    delta = self.model(inputs, *args, **kwargs)\n",
    "\n",
    "    # The prediction for each time step is the input\n",
    "    # from the previous time step plus the delta\n",
    "    # calculated by the model.\n",
    "    return inputs + delta"
   ]
  },
  {
   "cell_type": "markdown",
   "id": "b56f22b7",
   "metadata": {},
   "source": [
    "%%time\n",
    "residual_lstm = ResidualWrapper(\n",
    "    tf.keras.Sequential([\n",
    "    tf.keras.layers.LSTM(32, return_sequences=True),\n",
    "    tf.keras.layers.Dense(\n",
    "        num_features,\n",
    "        # The predicted deltas should start small.\n",
    "        # Therefore, initialize the output layer with zeros.\n",
    "        kernel_initializer=tf.initializers.zeros())\n",
    "]))\n",
    "\n",
    "history = compile_and_fit(residual_lstm, wide_window)\n",
    "\n",
    "IPython.display.clear_output()\n",
    "val_performance['Residual LSTM'] = residual_lstm.evaluate(wide_window.val)\n",
    "performance['Residual LSTM'] = residual_lstm.evaluate(wide_window.test, verbose=0)\n",
    "print()"
   ]
  },
  {
   "cell_type": "markdown",
   "id": "c1565cdb",
   "metadata": {},
   "source": [
    "x = np.arange(len(performance))\n",
    "width = 0.3\n",
    "\n",
    "metric_name = 'mean_absolute_error'\n",
    "metric_index = lstm_model.metrics_names.index('mean_absolute_error')\n",
    "val_mae = [v[metric_index] for v in val_performance.values()]\n",
    "test_mae = [v[metric_index] for v in performance.values()]\n",
    "\n",
    "plt.bar(x - 0.17, val_mae, width, label='Validation')\n",
    "plt.bar(x + 0.17, test_mae, width, label='Test')\n",
    "plt.xticks(ticks=x, labels=performance.keys(),\n",
    "           rotation=45)\n",
    "plt.ylabel('MAE (average over all outputs)')\n",
    "_ = plt.legend()"
   ]
  },
  {
   "cell_type": "markdown",
   "id": "7255b26f",
   "metadata": {},
   "source": [
    "for name, value in performance.items():\n",
    "  print(f'{name:15s}: {value[1]:0.4f}')"
   ]
  },
  {
   "cell_type": "markdown",
   "id": "a7606c0e",
   "metadata": {},
   "source": [
    "# ユークリッド距離"
   ]
  },
  {
   "cell_type": "code",
   "execution_count": null,
   "id": "b7f4437c",
   "metadata": {},
   "outputs": [],
   "source": [
    "df = pd.read_csv(csv_path,index_col=0)\n",
    "# Slice [start:stop:step], starting from index 5 take every 6th record.\n",
    "#df = df[5::6]\n",
    "df = df.dropna(axis=1)\n",
    "date_time = pd.to_datetime(df.pop('5 Minutes'), format='%Y.%m.%d %H:%M:%S')"
   ]
  },
  {
   "cell_type": "code",
   "execution_count": null,
   "id": "2aa83bc6",
   "metadata": {},
   "outputs": [],
   "source": [
    "column_indices = {name: i for i, name in enumerate(df.columns)}\n",
    "\n",
    "n = len(df)\n",
    "train_df = df[0:int(n*0.7)]\n",
    "val_df = df[int(n*0.7):int(n*0.9)]\n",
    "test_df = df[int(n*0.9):]\n",
    "\n",
    "num_features = df.shape[1]"
   ]
  },
  {
   "cell_type": "code",
   "execution_count": null,
   "id": "100cde08",
   "metadata": {},
   "outputs": [],
   "source": [
    "train_mean = train_df.mean()\n",
    "train_std = train_df.std()\n",
    "\n",
    "train_df = (train_df - train_mean) / train_std\n",
    "val_df = (val_df - train_mean) / train_std\n",
    "test_df = (test_df - train_mean) / train_std"
   ]
  },
  {
   "cell_type": "code",
   "execution_count": null,
   "id": "458ea47d",
   "metadata": {},
   "outputs": [],
   "source": [
    "plot_cols = ['11750', '18828', '18830', '275', '4649', '4651', '6224', '6225', '78','79', '81']\n",
    "plot_features = df[plot_cols]\n",
    "plot_features.index = date_time\n",
    "_ = plot_features.plot(subplots=True)\n",
    "\n",
    "plot_features = df[plot_cols][:480]\n",
    "plot_features.index = date_time[:480]\n",
    "_ = plot_features.plot(subplots=True)"
   ]
  },
  {
   "cell_type": "code",
   "execution_count": null,
   "id": "a98befbb",
   "metadata": {},
   "outputs": [],
   "source": [
    "df_std = (df - train_mean) / train_std"
   ]
  },
  {
   "cell_type": "code",
   "execution_count": null,
   "id": "629c3662",
   "metadata": {},
   "outputs": [],
   "source": [
    "df_std"
   ]
  },
  {
   "cell_type": "code",
   "execution_count": null,
   "id": "66c2f75b",
   "metadata": {},
   "outputs": [],
   "source": [
    "from scipy.spatial import distance\n",
    "dict_dist={}\n",
    "for i in df.columns:\n",
    "    dist = distance.euclidean(df_std.loc[:,[\"11750\"]], df_std.loc[:,[i]])\n",
    "    dict_dist[i]=dist\n",
    "dict_dist = sorted(dict_dist.items(), key=lambda x:x[1])[:11]\n",
    "dict_dist"
   ]
  },
  {
   "cell_type": "markdown",
   "id": "fcf4f450",
   "metadata": {},
   "source": [
    "# DTW"
   ]
  },
  {
   "cell_type": "code",
   "execution_count": null,
   "id": "e1d3990b",
   "metadata": {},
   "outputs": [],
   "source": [
    "##### import numpy as np\n",
    "from scipy.spatial.distance import euclidean\n",
    "from fastdtw import fastdtw\n",
    "from matplotlib import pyplot as plt\n",
    "dict_DTW = {}\n",
    "# 異なる2種類のデータを定義\n",
    "for i in df.columns:\n",
    "    x = np.array(df_std.loc[:,[\"11750\"]].values).reshape(-1, 1)\n",
    "    y = np.array(df_std.loc[:,[i]].values).reshape(-1, 1)\n",
    "    # DTWを計算\n",
    "    distance, path = fastdtw(x, y, dist=euclidean)\n",
    "    dict_DTW[i] = distance\n",
    "dict_DTW = sorted(dict_DTW.items(), key=lambda x:x[1])[:11]\n",
    "dict_DTW"
   ]
  },
  {
   "cell_type": "code",
   "execution_count": null,
   "id": "535d43c6-0fcc-40f9-94f8-1867eecf6bfb",
   "metadata": {},
   "outputs": [],
   "source": []
  },
  {
   "cell_type": "code",
   "execution_count": null,
   "id": "06289178-7aa5-4181-a237-6e4782427109",
   "metadata": {},
   "outputs": [],
   "source": []
  }
 ],
 "metadata": {
  "kernelspec": {
   "display_name": "Python 3 (ipykernel)",
   "language": "python",
   "name": "python3"
  },
  "language_info": {
   "codemirror_mode": {
    "name": "ipython",
    "version": 3
   },
   "file_extension": ".py",
   "mimetype": "text/x-python",
   "name": "python",
   "nbconvert_exporter": "python",
   "pygments_lexer": "ipython3",
   "version": "3.7.13"
  }
 },
 "nbformat": 4,
 "nbformat_minor": 5
}
